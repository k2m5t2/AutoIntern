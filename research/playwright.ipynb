{
 "cells": [
  {
   "cell_type": "markdown",
   "metadata": {},
   "source": [
    "Imports"
   ]
  },
  {
   "cell_type": "code",
   "execution_count": 1,
   "metadata": {},
   "outputs": [],
   "source": [
    "import asyncio\n",
    "import nest_asyncio\n",
    "nest_asyncio.apply()\n",
    "from playwright.async_api import async_playwright"
   ]
  },
  {
   "cell_type": "markdown",
   "metadata": {},
   "source": [
    "URL"
   ]
  },
  {
   "cell_type": "code",
   "execution_count": 2,
   "metadata": {},
   "outputs": [],
   "source": [
    "ashby_url = \"https://jobs.ashbyhq.com/eightsleep/70a2ba22-04be-45b0-823a-8fc348035e0f/application?utm_source=Simplify\""
   ]
  },
  {
   "cell_type": "code",
   "execution_count": 3,
   "metadata": {},
   "outputs": [],
   "source": [
    "url = ashby_url"
   ]
  },
  {
   "cell_type": "markdown",
   "metadata": {},
   "source": [
    "Helper"
   ]
  },
  {
   "cell_type": "code",
   "execution_count": 4,
   "metadata": {},
   "outputs": [],
   "source": [
    "# with async_playwright() as p:\n",
    "#     browser = p.firefox.launch(headless=False)\n",
    "\n",
    "#     # Create a new browser context\n",
    "#     context = browser.new_context()\n",
    "\n",
    "#     # Create a new page in the context\n",
    "#     page = context.new_page()\n",
    "\n",
    "#     # Navigate to the given URL\n",
    "#     page.goto(url)\n",
    "\n",
    "#     # Get the page content\n",
    "#     content = page.content()\n",
    "\n",
    "#     page.wait_for_selector(\"input\")\n",
    "\n",
    "#     elements = page.query_selector_all('textarea, input, form, button')\n",
    "\n",
    "#     print(elements)\n",
    "#     # # Print the outerHTML of each element\n",
    "#     # for element in elements:\n",
    "#     #     print(element.outer_html())\n",
    "\n",
    "#     # Wait for a few seconds\n",
    "#     page.wait_for_timeout(5000*2)\n",
    "\n",
    "#     # Close the browser\n",
    "#     # await browser.close()\n"
   ]
  },
  {
   "cell_type": "markdown",
   "metadata": {},
   "source": [
    "Explore"
   ]
  },
  {
   "cell_type": "code",
   "execution_count": 5,
   "metadata": {},
   "outputs": [],
   "source": [
    "p = await async_playwright().start()\n",
    "\n",
    "browser = await p.firefox.launch(headless=False)\n",
    "\n",
    "# Create a new browser context\n",
    "context = await browser.new_context()\n",
    "\n",
    "# Create a new page in the context\n",
    "page = await context.new_page()\n",
    "\n",
    "# Navigate to the given URL\n",
    "await page.goto(url)\n",
    "\n",
    "# Wait for a few seconds\n",
    "await page.wait_for_timeout(5000)"
   ]
  },
  {
   "cell_type": "code",
   "execution_count": 13,
   "metadata": {},
   "outputs": [
    {
     "name": "stdout",
     "output_type": "stream",
     "text": [
      "[<JSHandle preview=JSHandle@<input type=\"file\" tabindex=\"-1\" autocomplete=\"off\" acc…/>>, <JSHandle preview=JSHandle@node>, <JSHandle preview=JSHandle@node>, <JSHandle preview=JSHandle@node>, <JSHandle preview=JSHandle@node>, <JSHandle preview=JSHandle@node>, <JSHandle preview=JSHandle@node>, <JSHandle preview=JSHandle@node>, <JSHandle preview=JSHandle@node>, <JSHandle preview=JSHandle@node>, <JSHandle preview=JSHandle@node>, <JSHandle preview=JSHandle@node>, <JSHandle preview=JSHandle@node>, <JSHandle preview=JSHandle@node>, <JSHandle preview=JSHandle@node>, <JSHandle preview=JSHandle@node>, <JSHandle preview=JSHandle@node>, <JSHandle preview=JSHandle@node>, <JSHandle preview=JSHandle@node>, <JSHandle preview=JSHandle@node>, <JSHandle preview=JSHandle@node>, <JSHandle preview=JSHandle@node>, <JSHandle preview=JSHandle@node>, <JSHandle preview=JSHandle@node>, <JSHandle preview=JSHandle@node>, <JSHandle preview=JSHandle@node>, <JSHandle preview=JSHandle@node>, <JSHandle preview=JSHandle@node>, <JSHandle preview=JSHandle@node>, <JSHandle preview=JSHandle@node>]\n"
     ]
    }
   ],
   "source": [
    "# Get the page content\n",
    "content = await page.content()\n",
    "\n",
    "inputs = await page.query_selector_all('input')\n",
    "print(inputs)"
   ]
  },
  {
   "cell_type": "code",
   "execution_count": 14,
   "metadata": {},
   "outputs": [
    {
     "data": {
      "text/plain": [
       "[<JSHandle preview=JSHandle@<input type=\"file\" tabindex=\"-1\" autocomplete=\"off\" acc…/>>,\n",
       " <JSHandle preview=JSHandle@<input value=\"\" required=\"\" type=\"text\" id=\"_systemfiel…/>>,\n",
       " <JSHandle preview=JSHandle@<input value=\"\" required=\"\" type=\"email\" id=\"_systemfie…/>>,\n",
       " <JSHandle preview=JSHandle@<input type=\"file\" required=\"\" tabindex=\"-1\" autocomple…/>>,\n",
       " <JSHandle preview=JSHandle@<input tabindex=\"-1\" type=\"checkbox\" class=\"_input_y2cw…/>>,\n",
       " <JSHandle preview=JSHandle@<input type=\"radio\" name=\"41e00180-cb86-41f4-851e-77c73…/>>,\n",
       " <JSHandle preview=JSHandle@<input type=\"radio\" name=\"41e00180-cb86-41f4-851e-77c73…/>>,\n",
       " <JSHandle preview=JSHandle@<input type=\"radio\" name=\"41e00180-cb86-41f4-851e-77c73…/>>,\n",
       " <JSHandle preview=JSHandle@<input tabindex=\"-1\" type=\"checkbox\" class=\"_input_y2cw…/>>,\n",
       " <JSHandle preview=JSHandle@<input tabindex=\"-1\" type=\"checkbox\" class=\"_input_y2cw…/>>,\n",
       " <JSHandle preview=JSHandle@<input tabindex=\"-1\" type=\"checkbox\" class=\"_input_y2cw…/>>,\n",
       " <JSHandle preview=JSHandle@<input tabindex=\"-1\" type=\"checkbox\" class=\"_input_y2cw…/>>,\n",
       " <JSHandle preview=JSHandle@<input tabindex=\"-1\" type=\"checkbox\" class=\"_input_y2cw…/>>,\n",
       " <JSHandle preview=JSHandle@<input type=\"radio\" name=\"474b3d30-879f-49c5-baa1-5cd82…/>>,\n",
       " <JSHandle preview=JSHandle@<input type=\"radio\" name=\"474b3d30-879f-49c5-baa1-5cd82…/>>,\n",
       " <JSHandle preview=JSHandle@<input type=\"radio\" name=\"474b3d30-879f-49c5-baa1-5cd82…/>>,\n",
       " <JSHandle preview=JSHandle@<input type=\"radio\" name=\"b00c9999-6dc6-47dc-8ad8-79c78…/>>,\n",
       " <JSHandle preview=JSHandle@<input type=\"radio\" name=\"b00c9999-6dc6-47dc-8ad8-79c78…/>>,\n",
       " <JSHandle preview=JSHandle@<input type=\"radio\" name=\"b00c9999-6dc6-47dc-8ad8-79c78…/>>,\n",
       " <JSHandle preview=JSHandle@<input type=\"radio\" name=\"b41de1e2-b423-4612-b520-44738…/>>,\n",
       " <JSHandle preview=JSHandle@<input type=\"radio\" name=\"b41de1e2-b423-4612-b520-44738…/>>,\n",
       " <JSHandle preview=JSHandle@<input type=\"radio\" name=\"b41de1e2-b423-4612-b520-44738…/>>,\n",
       " <JSHandle preview=JSHandle@<input type=\"radio\" name=\"b41de1e2-b423-4612-b520-44738…/>>,\n",
       " <JSHandle preview=JSHandle@<input type=\"radio\" name=\"6a8158d9-de2c-4c4a-95f2-ffbf4…/>>,\n",
       " <JSHandle preview=JSHandle@<input type=\"radio\" name=\"6a8158d9-de2c-4c4a-95f2-ffbf4…/>>,\n",
       " <JSHandle preview=JSHandle@<input type=\"radio\" name=\"6a8158d9-de2c-4c4a-95f2-ffbf4…/>>,\n",
       " <JSHandle preview=JSHandle@<input type=\"radio\" name=\"553c6f4d-54ae-4915-93dc-bf5f8…/>>,\n",
       " <JSHandle preview=JSHandle@<input type=\"radio\" name=\"553c6f4d-54ae-4915-93dc-bf5f8…/>>,\n",
       " <JSHandle preview=JSHandle@<input type=\"radio\" name=\"553c6f4d-54ae-4915-93dc-bf5f8…/>>,\n",
       " <JSHandle preview=JSHandle@<input type=\"radio\" name=\"553c6f4d-54ae-4915-93dc-bf5f8…/>>]"
      ]
     },
     "execution_count": 14,
     "metadata": {},
     "output_type": "execute_result"
    }
   ],
   "source": [
    "inputs"
   ]
  },
  {
   "cell_type": "code",
   "execution_count": 8,
   "metadata": {},
   "outputs": [
    {
     "data": {
      "text/plain": [
       "''"
      ]
     },
     "execution_count": 8,
     "metadata": {},
     "output_type": "execute_result"
    }
   ],
   "source": [
    "await inputs[1].text_content()"
   ]
  },
  {
   "cell_type": "code",
   "execution_count": 9,
   "metadata": {},
   "outputs": [
    {
     "data": {
      "text/plain": [
       "['__class__',\n",
       " '__delattr__',\n",
       " '__dict__',\n",
       " '__dir__',\n",
       " '__doc__',\n",
       " '__eq__',\n",
       " '__format__',\n",
       " '__ge__',\n",
       " '__getattribute__',\n",
       " '__getstate__',\n",
       " '__gt__',\n",
       " '__hash__',\n",
       " '__init__',\n",
       " '__init_subclass__',\n",
       " '__le__',\n",
       " '__lt__',\n",
       " '__module__',\n",
       " '__ne__',\n",
       " '__new__',\n",
       " '__reduce__',\n",
       " '__reduce_ex__',\n",
       " '__repr__',\n",
       " '__setattr__',\n",
       " '__sizeof__',\n",
       " '__str__',\n",
       " '__subclasshook__',\n",
       " '__weakref__',\n",
       " '_impl_obj',\n",
       " '_loop',\n",
       " '_wrap_handler',\n",
       " 'as_element',\n",
       " 'bounding_box',\n",
       " 'check',\n",
       " 'click',\n",
       " 'content_frame',\n",
       " 'dblclick',\n",
       " 'dispatch_event',\n",
       " 'dispose',\n",
       " 'eval_on_selector',\n",
       " 'eval_on_selector_all',\n",
       " 'evaluate',\n",
       " 'evaluate_handle',\n",
       " 'fill',\n",
       " 'focus',\n",
       " 'get_attribute',\n",
       " 'get_properties',\n",
       " 'get_property',\n",
       " 'hover',\n",
       " 'inner_html',\n",
       " 'inner_text',\n",
       " 'input_value',\n",
       " 'is_checked',\n",
       " 'is_disabled',\n",
       " 'is_editable',\n",
       " 'is_enabled',\n",
       " 'is_hidden',\n",
       " 'is_visible',\n",
       " 'json_value',\n",
       " 'on',\n",
       " 'once',\n",
       " 'owner_frame',\n",
       " 'press',\n",
       " 'query_selector',\n",
       " 'query_selector_all',\n",
       " 'remove_listener',\n",
       " 'screenshot',\n",
       " 'scroll_into_view_if_needed',\n",
       " 'select_option',\n",
       " 'select_text',\n",
       " 'set_checked',\n",
       " 'set_input_files',\n",
       " 'tap',\n",
       " 'text_content',\n",
       " 'type',\n",
       " 'uncheck',\n",
       " 'wait_for_element_state',\n",
       " 'wait_for_selector']"
      ]
     },
     "execution_count": 9,
     "metadata": {},
     "output_type": "execute_result"
    }
   ],
   "source": [
    "dir(inputs[0])"
   ]
  },
  {
   "cell_type": "code",
   "execution_count": 10,
   "metadata": {},
   "outputs": [
    {
     "name": "stdout",
     "output_type": "stream",
     "text": [
      "\n",
      "\n",
      "\n",
      "\n",
      "\n",
      "\n",
      "\n",
      "\n",
      "\n",
      "\n",
      "\n",
      "\n",
      "\n",
      "\n",
      "\n",
      "\n",
      "\n",
      "\n",
      "\n",
      "\n",
      "\n",
      "\n",
      "\n",
      "\n",
      "\n",
      "\n",
      "\n",
      "\n",
      "\n",
      "\n"
     ]
    }
   ],
   "source": [
    "_ = [print(await input.text_content()) for input in inputs]"
   ]
  },
  {
   "cell_type": "code",
   "execution_count": 11,
   "metadata": {},
   "outputs": [
    {
     "name": "stdout",
     "output_type": "stream",
     "text": [
      "True\n",
      "True\n",
      "True\n",
      "True\n",
      "True\n",
      "True\n",
      "True\n",
      "True\n",
      "True\n",
      "True\n",
      "True\n",
      "True\n",
      "True\n",
      "True\n",
      "True\n",
      "True\n",
      "True\n",
      "True\n",
      "True\n",
      "True\n",
      "True\n",
      "True\n",
      "True\n",
      "True\n",
      "True\n",
      "True\n",
      "True\n",
      "True\n",
      "True\n",
      "True\n"
     ]
    }
   ],
   "source": [
    "for input in inputs:\n",
    "    try: \n",
    "        print(await input.is_editable())\n",
    "    except: pass"
   ]
  },
  {
   "cell_type": "code",
   "execution_count": 15,
   "metadata": {},
   "outputs": [],
   "source": [
    "# await inputs[0].click()"
   ]
  },
  {
   "cell_type": "code",
   "execution_count": null,
   "metadata": {},
   "outputs": [],
   "source": [
    "# for input in inputs:\n",
    "#     try: \n",
    "#         print(await input.screenshot())\n",
    "#     except: pass"
   ]
  },
  {
   "cell_type": "code",
   "execution_count": 18,
   "metadata": {},
   "outputs": [
    {
     "data": {
      "text/plain": [
       "'Type here...'"
      ]
     },
     "execution_count": 18,
     "metadata": {},
     "output_type": "execute_result"
    }
   ],
   "source": [
    "await inputs[1].get_attribute('placeholder')"
   ]
  },
  {
   "cell_type": "code",
   "execution_count": 17,
   "metadata": {},
   "outputs": [
    {
     "data": {
      "text/plain": [
       "'hello@example.com...'"
      ]
     },
     "execution_count": 17,
     "metadata": {},
     "output_type": "execute_result"
    }
   ],
   "source": [
    "await inputs[2].get_attribute('placeholder')"
   ]
  },
  {
   "cell_type": "code",
   "execution_count": 24,
   "metadata": {},
   "outputs": [],
   "source": [
    "inputs_l = page.locator('input')"
   ]
  },
  {
   "cell_type": "code",
   "execution_count": 26,
   "metadata": {},
   "outputs": [],
   "source": [
    "# await inputs_l.text_content()\n",
    "# strict mode violation (multiple selected)"
   ]
  },
  {
   "cell_type": "code",
   "execution_count": 28,
   "metadata": {},
   "outputs": [
    {
     "ename": "TypeError",
     "evalue": "'Locator' object is not iterable",
     "output_type": "error",
     "traceback": [
      "\u001b[0;31m---------------------------------------------------------------------------\u001b[0m",
      "\u001b[0;31mTypeError\u001b[0m                                 Traceback (most recent call last)",
      "\u001b[1;32m/Users/yunhocho/Documents/GitHub/AutoIntern/research/playwright.ipynb Cell 22\u001b[0m line \u001b[0;36m1\n\u001b[0;32m----> <a href='vscode-notebook-cell:/Users/yunhocho/Documents/GitHub/AutoIntern/research/playwright.ipynb#X52sZmlsZQ%3D%3D?line=0'>1</a>\u001b[0m \u001b[39mfor\u001b[39;00m locator \u001b[39min\u001b[39;00m inputs_l:\n\u001b[1;32m      <a href='vscode-notebook-cell:/Users/yunhocho/Documents/GitHub/AutoIntern/research/playwright.ipynb#X52sZmlsZQ%3D%3D?line=1'>2</a>\u001b[0m     text \u001b[39m=\u001b[39m \u001b[39mawait\u001b[39;00m locator\u001b[39m.\u001b[39mtext_content()\n\u001b[1;32m      <a href='vscode-notebook-cell:/Users/yunhocho/Documents/GitHub/AutoIntern/research/playwright.ipynb#X52sZmlsZQ%3D%3D?line=2'>3</a>\u001b[0m     \u001b[39mprint\u001b[39m(text)\n",
      "\u001b[0;31mTypeError\u001b[0m: 'Locator' object is not iterable"
     ]
    }
   ],
   "source": [
    "for i in inputs_l:\n",
    "    text = await locator.text_content()\n",
    "    print(text)"
   ]
  },
  {
   "cell_type": "code",
   "execution_count": 37,
   "metadata": {},
   "outputs": [],
   "source": [
    "name_input = inputs_l.nth(1) # this gets the second input element."
   ]
  },
  {
   "cell_type": "code",
   "execution_count": 38,
   "metadata": {},
   "outputs": [
    {
     "data": {
      "text/plain": [
       "<bound method Locator.locator of <Locator frame=<Frame name= url='https://jobs.ashbyhq.com/eightsleep/70a2ba22-04be-45b0-823a-8fc348035e0f/application?utm_source=Simplify'> selector='input >> nth=1'>>"
      ]
     },
     "execution_count": 38,
     "metadata": {},
     "output_type": "execute_result"
    }
   ],
   "source": [
    "name_input.locator"
   ]
  },
  {
   "cell_type": "code",
   "execution_count": null,
   "metadata": {},
   "outputs": [],
   "source": []
  },
  {
   "cell_type": "code",
   "execution_count": null,
   "metadata": {},
   "outputs": [
    {
     "ename": "AttributeError",
     "evalue": "'ElementHandle' object has no attribute 'locator'",
     "output_type": "error",
     "traceback": [
      "\u001b[0;31m---------------------------------------------------------------------------\u001b[0m",
      "\u001b[0;31mAttributeError\u001b[0m                            Traceback (most recent call last)",
      "\u001b[1;32m/Users/yunhocho/Documents/GitHub/AutoIntern/research/playwright.ipynb Cell 21\u001b[0m line \u001b[0;36m1\n\u001b[0;32m----> <a href='vscode-notebook-cell:/Users/yunhocho/Documents/GitHub/AutoIntern/research/playwright.ipynb#X43sZmlsZQ%3D%3D?line=0'>1</a>\u001b[0m \u001b[39mawait\u001b[39;00m inputs[\u001b[39m2\u001b[39;49m]\u001b[39m.\u001b[39;49mlocator\n",
      "\u001b[0;31mAttributeError\u001b[0m: 'ElementHandle' object has no attribute 'locator'"
     ]
    }
   ],
   "source": [
    "await inputs[2]"
   ]
  },
  {
   "cell_type": "code",
   "execution_count": null,
   "metadata": {},
   "outputs": [],
   "source": [
    "a = page.locator('text=Name').locator(\"..\")"
   ]
  },
  {
   "cell_type": "code",
   "execution_count": null,
   "metadata": {},
   "outputs": [
    {
     "ename": "Error",
     "evalue": "Error: strict mode violation: locator(\"text=Name\") resolved to 2 elements:\n    1) <label for=\"_systemfield_name\" class=\"_heading_elimo_53…>Name</label> aka get_by_text(\"Name\", exact=True)\n    2) <label class=\"_label_1v5e2_43 \" for=\"6a8158d9-de2c-4c4a…>Beginner: I have a basic understanding of object-…</label> aka get_by_text(\"Beginner: I have a basic understanding of object-oriented design in Python and I\")\n\n=========================== logs ===========================\nwaiting for locator(\"text=Name\")\n============================================================",
     "output_type": "error",
     "traceback": [
      "\u001b[0;31m---------------------------------------------------------------------------\u001b[0m",
      "\u001b[0;31mError\u001b[0m                                     Traceback (most recent call last)",
      "\u001b[1;32m/Users/yunhocho/Documents/GitHub/AutoIntern/research/playwright.ipynb Cell 23\u001b[0m line \u001b[0;36m1\n\u001b[0;32m----> <a href='vscode-notebook-cell:/Users/yunhocho/Documents/GitHub/AutoIntern/research/playwright.ipynb#X46sZmlsZQ%3D%3D?line=0'>1</a>\u001b[0m \u001b[39mawait\u001b[39;00m page\u001b[39m.\u001b[39mlocator(\u001b[39m'\u001b[39m\u001b[39mtext=Name\u001b[39m\u001b[39m'\u001b[39m)\u001b[39m.\u001b[39mget_attribute(\u001b[39m'\u001b[39m\u001b[39mtext\u001b[39m\u001b[39m'\u001b[39m)\n",
      "File \u001b[0;32m/opt/homebrew/lib/python3.11/site-packages/playwright/async_api/_generated.py:17051\u001b[0m, in \u001b[0;36mLocator.get_attribute\u001b[0;34m(self, name, timeout)\u001b[0m\n\u001b[1;32m  17030\u001b[0m \u001b[39masync\u001b[39;00m \u001b[39mdef\u001b[39;00m \u001b[39mget_attribute\u001b[39m(\n\u001b[1;32m  17031\u001b[0m     \u001b[39mself\u001b[39m, name: \u001b[39mstr\u001b[39m, \u001b[39m*\u001b[39m, timeout: typing\u001b[39m.\u001b[39mOptional[\u001b[39mfloat\u001b[39m] \u001b[39m=\u001b[39m \u001b[39mNone\u001b[39;00m\n\u001b[1;32m  17032\u001b[0m ) \u001b[39m-\u001b[39m\u001b[39m>\u001b[39m typing\u001b[39m.\u001b[39mOptional[\u001b[39mstr\u001b[39m]:\n\u001b[1;32m  17033\u001b[0m \u001b[39m    \u001b[39m\u001b[39m\"\"\"Locator.get_attribute\u001b[39;00m\n\u001b[1;32m  17034\u001b[0m \n\u001b[1;32m  17035\u001b[0m \u001b[39m    Returns the matching element's attribute value.\u001b[39;00m\n\u001b[0;32m   (...)\u001b[0m\n\u001b[1;32m  17047\u001b[0m \u001b[39m    Union[str, None]\u001b[39;00m\n\u001b[1;32m  17048\u001b[0m \u001b[39m    \"\"\"\u001b[39;00m\n\u001b[1;32m  17050\u001b[0m     \u001b[39mreturn\u001b[39;00m mapping\u001b[39m.\u001b[39mfrom_maybe_impl(\n\u001b[0;32m> 17051\u001b[0m         \u001b[39mawait\u001b[39;00m \u001b[39mself\u001b[39m\u001b[39m.\u001b[39m_impl_obj\u001b[39m.\u001b[39mget_attribute(name\u001b[39m=\u001b[39mname, timeout\u001b[39m=\u001b[39mtimeout)\n\u001b[1;32m  17052\u001b[0m     )\n",
      "File \u001b[0;32m/opt/homebrew/lib/python3.11/site-packages/playwright/_impl/_locator.py:411\u001b[0m, in \u001b[0;36mLocator.get_attribute\u001b[0;34m(self, name, timeout)\u001b[0m\n\u001b[1;32m    409\u001b[0m \u001b[39masync\u001b[39;00m \u001b[39mdef\u001b[39;00m \u001b[39mget_attribute\u001b[39m(\u001b[39mself\u001b[39m, name: \u001b[39mstr\u001b[39m, timeout: \u001b[39mfloat\u001b[39m \u001b[39m=\u001b[39m \u001b[39mNone\u001b[39;00m) \u001b[39m-\u001b[39m\u001b[39m>\u001b[39m Optional[\u001b[39mstr\u001b[39m]:\n\u001b[1;32m    410\u001b[0m     params \u001b[39m=\u001b[39m locals_to_params(\u001b[39mlocals\u001b[39m())\n\u001b[0;32m--> 411\u001b[0m     \u001b[39mreturn\u001b[39;00m \u001b[39mawait\u001b[39;00m \u001b[39mself\u001b[39m\u001b[39m.\u001b[39m_frame\u001b[39m.\u001b[39mget_attribute(\n\u001b[1;32m    412\u001b[0m         \u001b[39mself\u001b[39m\u001b[39m.\u001b[39m_selector,\n\u001b[1;32m    413\u001b[0m         strict\u001b[39m=\u001b[39m\u001b[39mTrue\u001b[39;00m,\n\u001b[1;32m    414\u001b[0m         \u001b[39m*\u001b[39m\u001b[39m*\u001b[39mparams,\n\u001b[1;32m    415\u001b[0m     )\n",
      "File \u001b[0;32m/opt/homebrew/lib/python3.11/site-packages/playwright/_impl/_frame.py:623\u001b[0m, in \u001b[0;36mFrame.get_attribute\u001b[0;34m(self, selector, name, strict, timeout)\u001b[0m\n\u001b[1;32m    620\u001b[0m \u001b[39masync\u001b[39;00m \u001b[39mdef\u001b[39;00m \u001b[39mget_attribute\u001b[39m(\n\u001b[1;32m    621\u001b[0m     \u001b[39mself\u001b[39m, selector: \u001b[39mstr\u001b[39m, name: \u001b[39mstr\u001b[39m, strict: \u001b[39mbool\u001b[39m \u001b[39m=\u001b[39m \u001b[39mNone\u001b[39;00m, timeout: \u001b[39mfloat\u001b[39m \u001b[39m=\u001b[39m \u001b[39mNone\u001b[39;00m\n\u001b[1;32m    622\u001b[0m ) \u001b[39m-\u001b[39m\u001b[39m>\u001b[39m Optional[\u001b[39mstr\u001b[39m]:\n\u001b[0;32m--> 623\u001b[0m     \u001b[39mreturn\u001b[39;00m \u001b[39mawait\u001b[39;00m \u001b[39mself\u001b[39m\u001b[39m.\u001b[39m_channel\u001b[39m.\u001b[39msend(\u001b[39m\"\u001b[39m\u001b[39mgetAttribute\u001b[39m\u001b[39m\"\u001b[39m, locals_to_params(\u001b[39mlocals\u001b[39m()))\n",
      "File \u001b[0;32m/opt/homebrew/lib/python3.11/site-packages/playwright/_impl/_connection.py:61\u001b[0m, in \u001b[0;36mChannel.send\u001b[0;34m(self, method, params)\u001b[0m\n\u001b[1;32m     60\u001b[0m \u001b[39masync\u001b[39;00m \u001b[39mdef\u001b[39;00m \u001b[39msend\u001b[39m(\u001b[39mself\u001b[39m, method: \u001b[39mstr\u001b[39m, params: Dict \u001b[39m=\u001b[39m \u001b[39mNone\u001b[39;00m) \u001b[39m-\u001b[39m\u001b[39m>\u001b[39m Any:\n\u001b[0;32m---> 61\u001b[0m     \u001b[39mreturn\u001b[39;00m \u001b[39mawait\u001b[39;00m \u001b[39mself\u001b[39m\u001b[39m.\u001b[39m_connection\u001b[39m.\u001b[39mwrap_api_call(\n\u001b[1;32m     62\u001b[0m         \u001b[39mlambda\u001b[39;00m: \u001b[39mself\u001b[39m\u001b[39m.\u001b[39minner_send(method, params, \u001b[39mFalse\u001b[39;00m)\n\u001b[1;32m     63\u001b[0m     )\n",
      "File \u001b[0;32m/opt/homebrew/lib/python3.11/site-packages/playwright/_impl/_connection.py:482\u001b[0m, in \u001b[0;36mConnection.wrap_api_call\u001b[0;34m(self, cb, is_internal)\u001b[0m\n\u001b[1;32m    480\u001b[0m \u001b[39mself\u001b[39m\u001b[39m.\u001b[39m_api_zone\u001b[39m.\u001b[39mset(_extract_stack_trace_information_from_stack(st, is_internal))\n\u001b[1;32m    481\u001b[0m \u001b[39mtry\u001b[39;00m:\n\u001b[0;32m--> 482\u001b[0m     \u001b[39mreturn\u001b[39;00m \u001b[39mawait\u001b[39;00m cb()\n\u001b[1;32m    483\u001b[0m \u001b[39mfinally\u001b[39;00m:\n\u001b[1;32m    484\u001b[0m     \u001b[39mself\u001b[39m\u001b[39m.\u001b[39m_api_zone\u001b[39m.\u001b[39mset(\u001b[39mNone\u001b[39;00m)\n",
      "File \u001b[0;32m/opt/homebrew/lib/python3.11/site-packages/playwright/_impl/_connection.py:97\u001b[0m, in \u001b[0;36mChannel.inner_send\u001b[0;34m(self, method, params, return_as_dict)\u001b[0m\n\u001b[1;32m     95\u001b[0m \u001b[39mif\u001b[39;00m \u001b[39mnot\u001b[39;00m callback\u001b[39m.\u001b[39mfuture\u001b[39m.\u001b[39mdone():\n\u001b[1;32m     96\u001b[0m     callback\u001b[39m.\u001b[39mfuture\u001b[39m.\u001b[39mcancel()\n\u001b[0;32m---> 97\u001b[0m result \u001b[39m=\u001b[39m \u001b[39mnext\u001b[39;49m(\u001b[39miter\u001b[39;49m(done))\u001b[39m.\u001b[39;49mresult()\n\u001b[1;32m     98\u001b[0m \u001b[39m# Protocol now has named return values, assume result is one level deeper unless\u001b[39;00m\n\u001b[1;32m     99\u001b[0m \u001b[39m# there is explicit ambiguity.\u001b[39;00m\n\u001b[1;32m    100\u001b[0m \u001b[39mif\u001b[39;00m \u001b[39mnot\u001b[39;00m result:\n",
      "File \u001b[0;32m/opt/homebrew/Cellar/python@3.11/3.11.5/Frameworks/Python.framework/Versions/3.11/lib/python3.11/asyncio/futures.py:203\u001b[0m, in \u001b[0;36mFuture.result\u001b[0;34m(self)\u001b[0m\n\u001b[1;32m    201\u001b[0m \u001b[39mself\u001b[39m\u001b[39m.\u001b[39m__log_traceback \u001b[39m=\u001b[39m \u001b[39mFalse\u001b[39;00m\n\u001b[1;32m    202\u001b[0m \u001b[39mif\u001b[39;00m \u001b[39mself\u001b[39m\u001b[39m.\u001b[39m_exception \u001b[39mis\u001b[39;00m \u001b[39mnot\u001b[39;00m \u001b[39mNone\u001b[39;00m:\n\u001b[0;32m--> 203\u001b[0m     \u001b[39mraise\u001b[39;00m \u001b[39mself\u001b[39m\u001b[39m.\u001b[39m_exception\u001b[39m.\u001b[39mwith_traceback(\u001b[39mself\u001b[39m\u001b[39m.\u001b[39m_exception_tb)\n\u001b[1;32m    204\u001b[0m \u001b[39mreturn\u001b[39;00m \u001b[39mself\u001b[39m\u001b[39m.\u001b[39m_result\n",
      "\u001b[0;31mError\u001b[0m: Error: strict mode violation: locator(\"text=Name\") resolved to 2 elements:\n    1) <label for=\"_systemfield_name\" class=\"_heading_elimo_53…>Name</label> aka get_by_text(\"Name\", exact=True)\n    2) <label class=\"_label_1v5e2_43 \" for=\"6a8158d9-de2c-4c4a…>Beginner: I have a basic understanding of object-…</label> aka get_by_text(\"Beginner: I have a basic understanding of object-oriented design in Python and I\")\n\n=========================== logs ===========================\nwaiting for locator(\"text=Name\")\n============================================================"
     ]
    }
   ],
   "source": [
    "await page.locator('text=Name').get_attribute('text')"
   ]
  },
  {
   "cell_type": "code",
   "execution_count": null,
   "metadata": {},
   "outputs": [
    {
     "name": "stderr",
     "output_type": "stream",
     "text": [
      "Future exception was never retrieved\n",
      "future: <Future finished exception=TimeoutError('Timeout 30000ms exceeded.\\n=========================== logs ===========================\\nattempting click action\\n  waiting for element to be visible, enabled and stable\\n    element is not visible - waiting...\\n============================================================')>\n",
      "playwright._impl._api_types.TimeoutError: Timeout 30000ms exceeded.\n",
      "=========================== logs ===========================\n",
      "attempting click action\n",
      "  waiting for element to be visible, enabled and stable\n",
      "    element is not visible - waiting...\n",
      "============================================================\n",
      "Future exception was never retrieved\n",
      "future: <Future finished exception=TimeoutError('Timeout 30000ms exceeded.\\n=========================== logs ===========================\\nattempting click action\\n  waiting for element to be visible, enabled and stable\\n    element is not visible - waiting...\\n============================================================')>\n",
      "playwright._impl._api_types.TimeoutError: Timeout 30000ms exceeded.\n",
      "=========================== logs ===========================\n",
      "attempting click action\n",
      "  waiting for element to be visible, enabled and stable\n",
      "    element is not visible - waiting...\n",
      "============================================================\n",
      "Future exception was never retrieved\n",
      "future: <Future finished exception=TimeoutError('Timeout 30000ms exceeded.\\n=========================== logs ===========================\\ntaking element screenshot\\n  waiting for element to be visible and stable\\n    element is not visible - waiting...\\n============================================================')>\n",
      "playwright._impl._api_types.TimeoutError: Timeout 30000ms exceeded.\n",
      "=========================== logs ===========================\n",
      "taking element screenshot\n",
      "  waiting for element to be visible and stable\n",
      "    element is not visible - waiting...\n",
      "============================================================\n"
     ]
    },
    {
     "ename": "Error",
     "evalue": "Error: strict mode violation: locator(\"text=Name\").locator(\"xpath=..\") resolved to 2 elements:\n    1) <div class=\"_fieldEntry_1dgff_29 ashby-application-fo…>…</div> aka locator(\"div\").filter(has_text=re.compile(r\"^Name$\"))\n    2) <div class=\"_option_1v5e2_35 false\">…</div> aka get_by_label(\"Application\").locator(\"div\").filter(has_text=\"Beginner: I have a basic understanding of object-oriented design in Python and I\").nth(2)\n\n=========================== logs ===========================\nwaiting for locator(\"text=Name\").locator(\"xpath=..\")\n============================================================",
     "output_type": "error",
     "traceback": [
      "\u001b[0;31m---------------------------------------------------------------------------\u001b[0m",
      "\u001b[0;31mError\u001b[0m                                     Traceback (most recent call last)",
      "\u001b[1;32m/Users/yunhocho/Documents/GitHub/AutoIntern/research/playwright.ipynb Cell 23\u001b[0m line \u001b[0;36m1\n\u001b[0;32m----> <a href='vscode-notebook-cell:/Users/yunhocho/Documents/GitHub/AutoIntern/research/playwright.ipynb#X45sZmlsZQ%3D%3D?line=0'>1</a>\u001b[0m \u001b[39mawait\u001b[39;00m a\u001b[39m.\u001b[39mget_attribute(\u001b[39m'\u001b[39m\u001b[39mtext\u001b[39m\u001b[39m'\u001b[39m)\n",
      "File \u001b[0;32m/opt/homebrew/lib/python3.11/site-packages/playwright/async_api/_generated.py:17051\u001b[0m, in \u001b[0;36mLocator.get_attribute\u001b[0;34m(self, name, timeout)\u001b[0m\n\u001b[1;32m  17030\u001b[0m \u001b[39masync\u001b[39;00m \u001b[39mdef\u001b[39;00m \u001b[39mget_attribute\u001b[39m(\n\u001b[1;32m  17031\u001b[0m     \u001b[39mself\u001b[39m, name: \u001b[39mstr\u001b[39m, \u001b[39m*\u001b[39m, timeout: typing\u001b[39m.\u001b[39mOptional[\u001b[39mfloat\u001b[39m] \u001b[39m=\u001b[39m \u001b[39mNone\u001b[39;00m\n\u001b[1;32m  17032\u001b[0m ) \u001b[39m-\u001b[39m\u001b[39m>\u001b[39m typing\u001b[39m.\u001b[39mOptional[\u001b[39mstr\u001b[39m]:\n\u001b[1;32m  17033\u001b[0m \u001b[39m    \u001b[39m\u001b[39m\"\"\"Locator.get_attribute\u001b[39;00m\n\u001b[1;32m  17034\u001b[0m \n\u001b[1;32m  17035\u001b[0m \u001b[39m    Returns the matching element's attribute value.\u001b[39;00m\n\u001b[0;32m   (...)\u001b[0m\n\u001b[1;32m  17047\u001b[0m \u001b[39m    Union[str, None]\u001b[39;00m\n\u001b[1;32m  17048\u001b[0m \u001b[39m    \"\"\"\u001b[39;00m\n\u001b[1;32m  17050\u001b[0m     \u001b[39mreturn\u001b[39;00m mapping\u001b[39m.\u001b[39mfrom_maybe_impl(\n\u001b[0;32m> 17051\u001b[0m         \u001b[39mawait\u001b[39;00m \u001b[39mself\u001b[39m\u001b[39m.\u001b[39m_impl_obj\u001b[39m.\u001b[39mget_attribute(name\u001b[39m=\u001b[39mname, timeout\u001b[39m=\u001b[39mtimeout)\n\u001b[1;32m  17052\u001b[0m     )\n",
      "File \u001b[0;32m/opt/homebrew/lib/python3.11/site-packages/playwright/_impl/_locator.py:411\u001b[0m, in \u001b[0;36mLocator.get_attribute\u001b[0;34m(self, name, timeout)\u001b[0m\n\u001b[1;32m    409\u001b[0m \u001b[39masync\u001b[39;00m \u001b[39mdef\u001b[39;00m \u001b[39mget_attribute\u001b[39m(\u001b[39mself\u001b[39m, name: \u001b[39mstr\u001b[39m, timeout: \u001b[39mfloat\u001b[39m \u001b[39m=\u001b[39m \u001b[39mNone\u001b[39;00m) \u001b[39m-\u001b[39m\u001b[39m>\u001b[39m Optional[\u001b[39mstr\u001b[39m]:\n\u001b[1;32m    410\u001b[0m     params \u001b[39m=\u001b[39m locals_to_params(\u001b[39mlocals\u001b[39m())\n\u001b[0;32m--> 411\u001b[0m     \u001b[39mreturn\u001b[39;00m \u001b[39mawait\u001b[39;00m \u001b[39mself\u001b[39m\u001b[39m.\u001b[39m_frame\u001b[39m.\u001b[39mget_attribute(\n\u001b[1;32m    412\u001b[0m         \u001b[39mself\u001b[39m\u001b[39m.\u001b[39m_selector,\n\u001b[1;32m    413\u001b[0m         strict\u001b[39m=\u001b[39m\u001b[39mTrue\u001b[39;00m,\n\u001b[1;32m    414\u001b[0m         \u001b[39m*\u001b[39m\u001b[39m*\u001b[39mparams,\n\u001b[1;32m    415\u001b[0m     )\n",
      "File \u001b[0;32m/opt/homebrew/lib/python3.11/site-packages/playwright/_impl/_frame.py:623\u001b[0m, in \u001b[0;36mFrame.get_attribute\u001b[0;34m(self, selector, name, strict, timeout)\u001b[0m\n\u001b[1;32m    620\u001b[0m \u001b[39masync\u001b[39;00m \u001b[39mdef\u001b[39;00m \u001b[39mget_attribute\u001b[39m(\n\u001b[1;32m    621\u001b[0m     \u001b[39mself\u001b[39m, selector: \u001b[39mstr\u001b[39m, name: \u001b[39mstr\u001b[39m, strict: \u001b[39mbool\u001b[39m \u001b[39m=\u001b[39m \u001b[39mNone\u001b[39;00m, timeout: \u001b[39mfloat\u001b[39m \u001b[39m=\u001b[39m \u001b[39mNone\u001b[39;00m\n\u001b[1;32m    622\u001b[0m ) \u001b[39m-\u001b[39m\u001b[39m>\u001b[39m Optional[\u001b[39mstr\u001b[39m]:\n\u001b[0;32m--> 623\u001b[0m     \u001b[39mreturn\u001b[39;00m \u001b[39mawait\u001b[39;00m \u001b[39mself\u001b[39m\u001b[39m.\u001b[39m_channel\u001b[39m.\u001b[39msend(\u001b[39m\"\u001b[39m\u001b[39mgetAttribute\u001b[39m\u001b[39m\"\u001b[39m, locals_to_params(\u001b[39mlocals\u001b[39m()))\n",
      "File \u001b[0;32m/opt/homebrew/lib/python3.11/site-packages/playwright/_impl/_connection.py:61\u001b[0m, in \u001b[0;36mChannel.send\u001b[0;34m(self, method, params)\u001b[0m\n\u001b[1;32m     60\u001b[0m \u001b[39masync\u001b[39;00m \u001b[39mdef\u001b[39;00m \u001b[39msend\u001b[39m(\u001b[39mself\u001b[39m, method: \u001b[39mstr\u001b[39m, params: Dict \u001b[39m=\u001b[39m \u001b[39mNone\u001b[39;00m) \u001b[39m-\u001b[39m\u001b[39m>\u001b[39m Any:\n\u001b[0;32m---> 61\u001b[0m     \u001b[39mreturn\u001b[39;00m \u001b[39mawait\u001b[39;00m \u001b[39mself\u001b[39m\u001b[39m.\u001b[39m_connection\u001b[39m.\u001b[39mwrap_api_call(\n\u001b[1;32m     62\u001b[0m         \u001b[39mlambda\u001b[39;00m: \u001b[39mself\u001b[39m\u001b[39m.\u001b[39minner_send(method, params, \u001b[39mFalse\u001b[39;00m)\n\u001b[1;32m     63\u001b[0m     )\n",
      "File \u001b[0;32m/opt/homebrew/lib/python3.11/site-packages/playwright/_impl/_connection.py:482\u001b[0m, in \u001b[0;36mConnection.wrap_api_call\u001b[0;34m(self, cb, is_internal)\u001b[0m\n\u001b[1;32m    480\u001b[0m \u001b[39mself\u001b[39m\u001b[39m.\u001b[39m_api_zone\u001b[39m.\u001b[39mset(_extract_stack_trace_information_from_stack(st, is_internal))\n\u001b[1;32m    481\u001b[0m \u001b[39mtry\u001b[39;00m:\n\u001b[0;32m--> 482\u001b[0m     \u001b[39mreturn\u001b[39;00m \u001b[39mawait\u001b[39;00m cb()\n\u001b[1;32m    483\u001b[0m \u001b[39mfinally\u001b[39;00m:\n\u001b[1;32m    484\u001b[0m     \u001b[39mself\u001b[39m\u001b[39m.\u001b[39m_api_zone\u001b[39m.\u001b[39mset(\u001b[39mNone\u001b[39;00m)\n",
      "File \u001b[0;32m/opt/homebrew/lib/python3.11/site-packages/playwright/_impl/_connection.py:97\u001b[0m, in \u001b[0;36mChannel.inner_send\u001b[0;34m(self, method, params, return_as_dict)\u001b[0m\n\u001b[1;32m     95\u001b[0m \u001b[39mif\u001b[39;00m \u001b[39mnot\u001b[39;00m callback\u001b[39m.\u001b[39mfuture\u001b[39m.\u001b[39mdone():\n\u001b[1;32m     96\u001b[0m     callback\u001b[39m.\u001b[39mfuture\u001b[39m.\u001b[39mcancel()\n\u001b[0;32m---> 97\u001b[0m result \u001b[39m=\u001b[39m \u001b[39mnext\u001b[39;49m(\u001b[39miter\u001b[39;49m(done))\u001b[39m.\u001b[39;49mresult()\n\u001b[1;32m     98\u001b[0m \u001b[39m# Protocol now has named return values, assume result is one level deeper unless\u001b[39;00m\n\u001b[1;32m     99\u001b[0m \u001b[39m# there is explicit ambiguity.\u001b[39;00m\n\u001b[1;32m    100\u001b[0m \u001b[39mif\u001b[39;00m \u001b[39mnot\u001b[39;00m result:\n",
      "File \u001b[0;32m/opt/homebrew/Cellar/python@3.11/3.11.5/Frameworks/Python.framework/Versions/3.11/lib/python3.11/asyncio/futures.py:203\u001b[0m, in \u001b[0;36mFuture.result\u001b[0;34m(self)\u001b[0m\n\u001b[1;32m    201\u001b[0m \u001b[39mself\u001b[39m\u001b[39m.\u001b[39m__log_traceback \u001b[39m=\u001b[39m \u001b[39mFalse\u001b[39;00m\n\u001b[1;32m    202\u001b[0m \u001b[39mif\u001b[39;00m \u001b[39mself\u001b[39m\u001b[39m.\u001b[39m_exception \u001b[39mis\u001b[39;00m \u001b[39mnot\u001b[39;00m \u001b[39mNone\u001b[39;00m:\n\u001b[0;32m--> 203\u001b[0m     \u001b[39mraise\u001b[39;00m \u001b[39mself\u001b[39m\u001b[39m.\u001b[39m_exception\u001b[39m.\u001b[39mwith_traceback(\u001b[39mself\u001b[39m\u001b[39m.\u001b[39m_exception_tb)\n\u001b[1;32m    204\u001b[0m \u001b[39mreturn\u001b[39;00m \u001b[39mself\u001b[39m\u001b[39m.\u001b[39m_result\n",
      "\u001b[0;31mError\u001b[0m: Error: strict mode violation: locator(\"text=Name\").locator(\"xpath=..\") resolved to 2 elements:\n    1) <div class=\"_fieldEntry_1dgff_29 ashby-application-fo…>…</div> aka locator(\"div\").filter(has_text=re.compile(r\"^Name$\"))\n    2) <div class=\"_option_1v5e2_35 false\">…</div> aka get_by_label(\"Application\").locator(\"div\").filter(has_text=\"Beginner: I have a basic understanding of object-oriented design in Python and I\").nth(2)\n\n=========================== logs ===========================\nwaiting for locator(\"text=Name\").locator(\"xpath=..\")\n============================================================"
     ]
    }
   ],
   "source": [
    "await a.get_attribute('text')"
   ]
  },
  {
   "cell_type": "code",
   "execution_count": null,
   "metadata": {},
   "outputs": [],
   "source": [
    "for input in inputs:\n",
    "    try:\n",
    "        answer = input()\n",
    "    except: pass"
   ]
  },
  {
   "cell_type": "markdown",
   "metadata": {},
   "source": [
    "Misc."
   ]
  },
  {
   "cell_type": "code",
   "execution_count": null,
   "metadata": {},
   "outputs": [],
   "source": [
    "# print(content)"
   ]
  },
  {
   "cell_type": "code",
   "execution_count": null,
   "metadata": {},
   "outputs": [],
   "source": [
    "\n",
    "\n",
    "# elements = await page.query_selector_all('textarea, input, form, button')\n",
    "\n",
    "# print(elements)\n",
    "# # # Print the outerHTML of each element\n",
    "# # for element in elements:\n",
    "# #     print(element.outer_html())\n",
    "\n",
    "# # Wait for a few seconds\n",
    "# await page.wait_for_timeout(5000*2)\n",
    "\n",
    "# # Close the browser\n",
    "# # await browser.close()\n",
    "\n",
    "# # return content\n"
   ]
  }
 ],
 "metadata": {
  "kernelspec": {
   "display_name": "Python 3",
   "language": "python",
   "name": "python3"
  },
  "language_info": {
   "codemirror_mode": {
    "name": "ipython",
    "version": 3
   },
   "file_extension": ".py",
   "mimetype": "text/x-python",
   "name": "python",
   "nbconvert_exporter": "python",
   "pygments_lexer": "ipython3",
   "version": "3.11.5"
  },
  "orig_nbformat": 4
 },
 "nbformat": 4,
 "nbformat_minor": 2
}
