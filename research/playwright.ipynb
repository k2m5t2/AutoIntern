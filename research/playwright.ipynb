{
 "cells": [
  {
   "cell_type": "markdown",
   "metadata": {},
   "source": [
    "### Imports"
   ]
  },
  {
   "cell_type": "code",
   "execution_count": 2,
   "metadata": {},
   "outputs": [],
   "source": [
    "import asyncio\n",
    "import nest_asyncio\n",
    "nest_asyncio.apply()\n",
    "from playwright.async_api import async_playwright"
   ]
  },
  {
   "cell_type": "markdown",
   "metadata": {},
   "source": [
    "### URL"
   ]
  },
  {
   "cell_type": "code",
   "execution_count": 3,
   "metadata": {},
   "outputs": [],
   "source": [
    "ashby_url = \"https://jobs.ashbyhq.com/eightsleep/70a2ba22-04be-45b0-823a-8fc348035e0f/application?utm_source=Simplify\""
   ]
  },
  {
   "cell_type": "code",
   "execution_count": 4,
   "metadata": {},
   "outputs": [],
   "source": [
    "url = ashby_url"
   ]
  },
  {
   "cell_type": "markdown",
   "metadata": {},
   "source": [
    "### Helper"
   ]
  },
  {
   "cell_type": "code",
   "execution_count": 5,
   "metadata": {},
   "outputs": [],
   "source": [
    "# with async_playwright() as p:\n",
    "#     browser = p.firefox.launch(headless=False)\n",
    "\n",
    "#     # Create a new browser context\n",
    "#     context = browser.new_context()\n",
    "\n",
    "#     # Create a new page in the context\n",
    "#     page = context.new_page()\n",
    "\n",
    "#     # Navigate to the given URL\n",
    "#     page.goto(url)\n",
    "\n",
    "#     # Get the page content\n",
    "#     content = page.content()\n",
    "\n",
    "#     page.wait_for_selector(\"input\")\n",
    "\n",
    "#     elements = page.query_selector_all('textarea, input, form, button')\n",
    "\n",
    "#     print(elements)\n",
    "#     # # Print the outerHTML of each element\n",
    "#     # for element in elements:\n",
    "#     #     print(element.outer_html())\n",
    "\n",
    "#     # Wait for a few seconds\n",
    "#     page.wait_for_timeout(5000*2)\n",
    "\n",
    "#     # Close the browser\n",
    "#     # await browser.close()\n"
   ]
  },
  {
   "cell_type": "markdown",
   "metadata": {},
   "source": [
    "## Page"
   ]
  },
  {
   "cell_type": "markdown",
   "metadata": {},
   "source": [
    "### Setup"
   ]
  },
  {
   "cell_type": "code",
   "execution_count": 6,
   "metadata": {},
   "outputs": [],
   "source": [
    "p = await async_playwright().start()\n",
    "\n",
    "browser = await p.firefox.launch(headless=False)\n",
    "\n",
    "# Create a new browser context\n",
    "context = await browser.new_context()\n",
    "\n",
    "# Create a new page in the context\n",
    "page = await context.new_page()\n",
    "\n",
    "# Navigate to the given URL\n",
    "await page.goto(url)\n",
    "\n",
    "# Wait for a few seconds\n",
    "await page.wait_for_timeout(5000)"
   ]
  },
  {
   "cell_type": "markdown",
   "metadata": {},
   "source": [
    "### Explore"
   ]
  },
  {
   "cell_type": "code",
   "execution_count": 87,
   "metadata": {},
   "outputs": [],
   "source": [
    "# Get the page content\n",
    "content = await page.content()\n",
    "\n",
    "inputs = await page.locator('input').all()"
   ]
  },
  {
   "cell_type": "code",
   "execution_count": 99,
   "metadata": {},
   "outputs": [],
   "source": [
    "parents = await inputs[0].locator('xpath=..').all()"
   ]
  },
  {
   "cell_type": "code",
   "execution_count": 100,
   "metadata": {},
   "outputs": [
    {
     "data": {
      "text/plain": [
       "'Autofill from resumeUpload your resume here to autofill key application fields.Upload fileDrop your resume here!Parsing your resume. Autofilling key fields...'"
      ]
     },
     "execution_count": 100,
     "metadata": {},
     "output_type": "execute_result"
    }
   ],
   "source": [
    "await parents[0].text_content()"
   ]
  },
  {
   "cell_type": "markdown",
   "metadata": {},
   "source": [
    "### Rough Modeling of Question Unit"
   ]
  },
  {
   "cell_type": "code",
   "execution_count": 101,
   "metadata": {},
   "outputs": [
    {
     "name": "stdout",
     "output_type": "stream",
     "text": [
      "G P I C\n",
      "1 1 1 Autofill from resumeUpload your resume here to autofill key application fields.Upload fileDrop your resume here!Parsing your resume. Autofilling key fields...\n",
      "1 2 1 Autofill from resumeUpload your resume here to autofill key application fields.Upload fileDrop your resume here!Parsing your resume. Autofilling key fields...\n",
      "1 3 1 \n",
      "2 3 1 NameEmailResumeUpload Fileor drag and drop hereWhy do you want to join Eight Sleep?Are you legally authorized to work in the United States?YesNoWhat degree are you currently pursuing?Undergraduate degreeMasters degreeOtherAre you currently located in Boston area or willing to relocate on your own?YesNoAre you willing to work onsite at our Boston office (located in Newton Centre) at least 3 days a week?YesNoAre you able to work a normal 9-5 schedule for 40 hours per week, with occasional weekend work (monitoring study data for a couple hours on the weekend)?YesNoAre you available from January 2nd - June 30th 2024 for 40 hours per week?YesNoAre you aware this position is a Data Engineering co-op, not Machine Learning? The main tasks will include: 1. Manipulating, cleaning, and transforming raw data into a usable format for analysis 2. Enhancing our existing data quality scripts to ensure that data are accurate, complete, and consistent throughout the data collection period of a study 3. Developing and maintaining tools and processes to improve efficiency and consistency across projectsYesNoHow many years of python coding experience do you have?Less than 1 year1-2 years2+ yearsHow many years of work experience do you have as a data engineer, data scientist, or software engineer? Feel free to include time spent working as an intern, co-op, etc.How many years of experience do you have using Github in your workflow?Less than 1 year1-2 years2+ yearsWhat is your experience level with parsing & time aligning data using pandas, numpy, pendulum, etc? (Note that you will be sent a coding challenge that will further test these skills)Beginner: I've worked with small datasets from a single source (<100 rows, no time alignment required)Intermediate: I've worked with aligning moderately-sized datasets with data from multiple sourcesAdvanced: I do this on a daily basis & have worked with very large datasets with multiple types of file sources (i.e. json, csv, api, etcNot applicable: I do not have any experience parsing & time aligning dataHow would you rate your experience with object-oriented design in Python and your familiarity with best code practices, such as testing, documentation, and code reusability? Please use the following definitions to guide your answer:Beginner: I have a basic understanding of object-oriented design in Python and I am familiar with basic best code practices, such as writing comments and using meaningful variable names.Intermediate: I have a good understanding of object-oriented design in Python and I regularly use best code practices, such as writing automated tests, documenting my code, and creating reusable code modules.Advanced: I have extensive knowledge of object-oriented design in Python and I consistently implement best code practices, such as unit testing, API documentation, and modular design, in my projects.Please rate your experience level working with SQL. (Note that you will also be further tested on your SQL skills)Beginner: Have basic knowledge of SQL and can write simple queries.Intermediate: Have a good understanding of SQL concepts and can write complex queries.Advanced: Have extensive knowledge of SQL and can design and optimize complex databases.Not applicable: I have not used SQL previously.Please describe your experience with data visualization tools.Can you tell me about a project you worked on using Python and how you approached the design and implementation? Please feel free to discuss any best code practices you followed during the project, such as testing, documentation, and code reusability.\n",
      "1 4 1 Name\n",
      "1 5 1 \n",
      "2 5 1 NameEmailResumeUpload Fileor drag and drop hereWhy do you want to join Eight Sleep?Are you legally authorized to work in the United States?YesNoWhat degree are you currently pursuing?Undergraduate degreeMasters degreeOtherAre you currently located in Boston area or willing to relocate on your own?YesNoAre you willing to work onsite at our Boston office (located in Newton Centre) at least 3 days a week?YesNoAre you able to work a normal 9-5 schedule for 40 hours per week, with occasional weekend work (monitoring study data for a couple hours on the weekend)?YesNoAre you available from January 2nd - June 30th 2024 for 40 hours per week?YesNoAre you aware this position is a Data Engineering co-op, not Machine Learning? The main tasks will include: 1. Manipulating, cleaning, and transforming raw data into a usable format for analysis 2. Enhancing our existing data quality scripts to ensure that data are accurate, complete, and consistent throughout the data collection period of a study 3. Developing and maintaining tools and processes to improve efficiency and consistency across projectsYesNoHow many years of python coding experience do you have?Less than 1 year1-2 years2+ yearsHow many years of work experience do you have as a data engineer, data scientist, or software engineer? Feel free to include time spent working as an intern, co-op, etc.How many years of experience do you have using Github in your workflow?Less than 1 year1-2 years2+ yearsWhat is your experience level with parsing & time aligning data using pandas, numpy, pendulum, etc? (Note that you will be sent a coding challenge that will further test these skills)Beginner: I've worked with small datasets from a single source (<100 rows, no time alignment required)Intermediate: I've worked with aligning moderately-sized datasets with data from multiple sourcesAdvanced: I do this on a daily basis & have worked with very large datasets with multiple types of file sources (i.e. json, csv, api, etcNot applicable: I do not have any experience parsing & time aligning dataHow would you rate your experience with object-oriented design in Python and your familiarity with best code practices, such as testing, documentation, and code reusability? Please use the following definitions to guide your answer:Beginner: I have a basic understanding of object-oriented design in Python and I am familiar with basic best code practices, such as writing comments and using meaningful variable names.Intermediate: I have a good understanding of object-oriented design in Python and I regularly use best code practices, such as writing automated tests, documenting my code, and creating reusable code modules.Advanced: I have extensive knowledge of object-oriented design in Python and I consistently implement best code practices, such as unit testing, API documentation, and modular design, in my projects.Please rate your experience level working with SQL. (Note that you will also be further tested on your SQL skills)Beginner: Have basic knowledge of SQL and can write simple queries.Intermediate: Have a good understanding of SQL concepts and can write complex queries.Advanced: Have extensive knowledge of SQL and can design and optimize complex databases.Not applicable: I have not used SQL previously.Please describe your experience with data visualization tools.Can you tell me about a project you worked on using Python and how you approached the design and implementation? Please feel free to discuss any best code practices you followed during the project, such as testing, documentation, and code reusability.\n",
      "1 6 1 Email\n",
      "1 7 1 \n",
      "2 7 1 ResumeUpload Fileor drag and drop here\n",
      "1 8 1 Upload Fileor drag and drop here\n",
      "1 9 1 \n",
      "2 9 1 Are you legally authorized to work in the United States?YesNo\n",
      "1 10 1 YesNo\n",
      "1 11 1 \n",
      "2 11 1 Undergraduate degree\n",
      "1 12 1 \n",
      "1 13 1 \n",
      "2 13 1 Masters degree\n",
      "1 14 1 \n",
      "1 15 1 \n",
      "2 15 1 Other\n",
      "1 16 1 \n",
      "1 17 1 \n",
      "2 17 1 Are you currently located in Boston area or willing to relocate on your own?YesNo\n",
      "1 18 1 YesNo\n",
      "1 19 1 \n",
      "2 19 1 Are you willing to work onsite at our Boston office (located in Newton Centre) at least 3 days a week?YesNo\n",
      "1 20 1 YesNo\n",
      "1 21 1 \n",
      "2 21 1 Are you able to work a normal 9-5 schedule for 40 hours per week, with occasional weekend work (monitoring study data for a couple hours on the weekend)?YesNo\n",
      "1 22 1 YesNo\n",
      "1 23 1 \n",
      "2 23 1 Are you available from January 2nd - June 30th 2024 for 40 hours per week?YesNo\n",
      "1 24 1 YesNo\n",
      "1 25 1 \n",
      "2 25 1 Are you aware this position is a Data Engineering co-op, not Machine Learning? The main tasks will include: 1. Manipulating, cleaning, and transforming raw data into a usable format for analysis 2. Enhancing our existing data quality scripts to ensure that data are accurate, complete, and consistent throughout the data collection period of a study 3. Developing and maintaining tools and processes to improve efficiency and consistency across projectsYesNo\n",
      "1 26 1 YesNo\n",
      "1 27 1 \n",
      "2 27 1 Less than 1 year\n",
      "1 28 1 \n",
      "1 29 1 \n",
      "2 29 1 1-2 years\n",
      "1 30 1 \n",
      "1 31 1 \n",
      "2 31 1 2+ years\n",
      "1 32 1 \n",
      "1 33 1 \n",
      "2 33 1 Less than 1 year\n",
      "1 34 1 \n",
      "1 35 1 \n",
      "2 35 1 1-2 years\n",
      "1 36 1 \n",
      "1 37 1 \n",
      "2 37 1 2+ years\n",
      "1 38 1 \n",
      "1 39 1 \n",
      "2 39 1 Beginner: I've worked with small datasets from a single source (<100 rows, no time alignment required)\n",
      "1 40 1 \n",
      "1 41 1 \n",
      "2 41 1 Intermediate: I've worked with aligning moderately-sized datasets with data from multiple sources\n",
      "1 42 1 \n",
      "1 43 1 \n",
      "2 43 1 Advanced: I do this on a daily basis & have worked with very large datasets with multiple types of file sources (i.e. json, csv, api, etc\n",
      "1 44 1 \n",
      "1 45 1 \n",
      "2 45 1 Not applicable: I do not have any experience parsing & time aligning data\n",
      "1 46 1 \n",
      "1 47 1 \n",
      "2 47 1 Beginner: I have a basic understanding of object-oriented design in Python and I am familiar with basic best code practices, such as writing comments and using meaningful variable names.\n",
      "1 48 1 \n",
      "1 49 1 \n",
      "2 49 1 Intermediate: I have a good understanding of object-oriented design in Python and I regularly use best code practices, such as writing automated tests, documenting my code, and creating reusable code modules.\n",
      "1 50 1 \n",
      "1 51 1 \n",
      "2 51 1 Advanced: I have extensive knowledge of object-oriented design in Python and I consistently implement best code practices, such as unit testing, API documentation, and modular design, in my projects.\n",
      "1 52 1 \n",
      "1 53 1 \n",
      "2 53 1 Beginner: Have basic knowledge of SQL and can write simple queries.\n",
      "1 54 1 \n",
      "1 55 1 \n",
      "2 55 1 Intermediate: Have a good understanding of SQL concepts and can write complex queries.\n",
      "1 56 1 \n",
      "1 57 1 \n",
      "2 57 1 Advanced: Have extensive knowledge of SQL and can design and optimize complex databases.\n",
      "1 58 1 \n",
      "1 59 1 \n",
      "2 59 1 Not applicable: I have not used SQL previously.\n",
      "1 60 1 \n",
      "1 61 1 \n"
     ]
    }
   ],
   "source": [
    "c1 = 1\n",
    "c2 = 1\n",
    "c3 = 1\n",
    "print('G P I C')\n",
    "for input in inputs:\n",
    "    parents = await input.locator('xpath=..').all()\n",
    "    for parent in parents:\n",
    "        grandparents = await parent.locator('xpath=..').all()\n",
    "        for grandparent in grandparents:\n",
    "            print(c1, c2, c3, await grandparent.text_content())\n",
    "            c1 += 1\n",
    "        c2 += 1\n",
    "        c1 = 1\n",
    "        print(c1, c2, c3, await parent.text_content())\n",
    "        c2 += 1\n",
    "    print(c1, c2, c3, await input.text_content())\n",
    "    c1 += 1"
   ]
  },
  {
   "cell_type": "code",
   "execution_count": null,
   "metadata": {},
   "outputs": [],
   "source": []
  },
  {
   "cell_type": "markdown",
   "metadata": {},
   "source": [
    "Prompt: I want you to detect when you see a form "
   ]
  },
  {
   "cell_type": "markdown",
   "metadata": {},
   "source": []
  },
  {
   "cell_type": "code",
   "execution_count": 103,
   "metadata": {},
   "outputs": [
    {
     "data": {
      "text/plain": [
       "<Locator frame=<Frame name= url='https://jobs.ashbyhq.com/eightsleep/70a2ba22-04be-45b0-823a-8fc348035e0f/application?utm_source=Simplify'> selector='input >> nth=29 >> xpath=.. >> nth=0'>"
      ]
     },
     "execution_count": 103,
     "metadata": {},
     "output_type": "execute_result"
    }
   ],
   "source": [
    "parents[0]"
   ]
  },
  {
   "cell_type": "code",
   "execution_count": null,
   "metadata": {},
   "outputs": [],
   "source": []
  },
  {
   "cell_type": "code",
   "execution_count": null,
   "metadata": {},
   "outputs": [
    {
     "data": {
      "text/plain": [
       "[<JSHandle preview=JSHandle@<input type=\"file\" tabindex=\"-1\" autocomplete=\"off\" acc…/>>,\n",
       " <JSHandle preview=JSHandle@<input value=\"\" required=\"\" type=\"text\" id=\"_systemfiel…/>>,\n",
       " <JSHandle preview=JSHandle@<input value=\"\" required=\"\" type=\"email\" id=\"_systemfie…/>>,\n",
       " <JSHandle preview=JSHandle@<input type=\"file\" required=\"\" tabindex=\"-1\" autocomple…/>>,\n",
       " <JSHandle preview=JSHandle@<input tabindex=\"-1\" type=\"checkbox\" class=\"_input_y2cw…/>>,\n",
       " <JSHandle preview=JSHandle@<input type=\"radio\" name=\"41e00180-cb86-41f4-851e-77c73…/>>,\n",
       " <JSHandle preview=JSHandle@<input type=\"radio\" name=\"41e00180-cb86-41f4-851e-77c73…/>>,\n",
       " <JSHandle preview=JSHandle@<input type=\"radio\" name=\"41e00180-cb86-41f4-851e-77c73…/>>,\n",
       " <JSHandle preview=JSHandle@<input tabindex=\"-1\" type=\"checkbox\" class=\"_input_y2cw…/>>,\n",
       " <JSHandle preview=JSHandle@<input tabindex=\"-1\" type=\"checkbox\" class=\"_input_y2cw…/>>,\n",
       " <JSHandle preview=JSHandle@<input tabindex=\"-1\" type=\"checkbox\" class=\"_input_y2cw…/>>,\n",
       " <JSHandle preview=JSHandle@<input tabindex=\"-1\" type=\"checkbox\" class=\"_input_y2cw…/>>,\n",
       " <JSHandle preview=JSHandle@<input tabindex=\"-1\" type=\"checkbox\" class=\"_input_y2cw…/>>,\n",
       " <JSHandle preview=JSHandle@<input type=\"radio\" name=\"474b3d30-879f-49c5-baa1-5cd82…/>>,\n",
       " <JSHandle preview=JSHandle@<input type=\"radio\" name=\"474b3d30-879f-49c5-baa1-5cd82…/>>,\n",
       " <JSHandle preview=JSHandle@<input type=\"radio\" name=\"474b3d30-879f-49c5-baa1-5cd82…/>>,\n",
       " <JSHandle preview=JSHandle@<input type=\"radio\" name=\"b00c9999-6dc6-47dc-8ad8-79c78…/>>,\n",
       " <JSHandle preview=JSHandle@<input type=\"radio\" name=\"b00c9999-6dc6-47dc-8ad8-79c78…/>>,\n",
       " <JSHandle preview=JSHandle@<input type=\"radio\" name=\"b00c9999-6dc6-47dc-8ad8-79c78…/>>,\n",
       " <JSHandle preview=JSHandle@<input type=\"radio\" name=\"b41de1e2-b423-4612-b520-44738…/>>,\n",
       " <JSHandle preview=JSHandle@<input type=\"radio\" name=\"b41de1e2-b423-4612-b520-44738…/>>,\n",
       " <JSHandle preview=JSHandle@<input type=\"radio\" name=\"b41de1e2-b423-4612-b520-44738…/>>,\n",
       " <JSHandle preview=JSHandle@<input type=\"radio\" name=\"b41de1e2-b423-4612-b520-44738…/>>,\n",
       " <JSHandle preview=JSHandle@<input type=\"radio\" name=\"6a8158d9-de2c-4c4a-95f2-ffbf4…/>>,\n",
       " <JSHandle preview=JSHandle@<input type=\"radio\" name=\"6a8158d9-de2c-4c4a-95f2-ffbf4…/>>,\n",
       " <JSHandle preview=JSHandle@<input type=\"radio\" name=\"6a8158d9-de2c-4c4a-95f2-ffbf4…/>>,\n",
       " <JSHandle preview=JSHandle@<input type=\"radio\" name=\"553c6f4d-54ae-4915-93dc-bf5f8…/>>,\n",
       " <JSHandle preview=JSHandle@<input type=\"radio\" name=\"553c6f4d-54ae-4915-93dc-bf5f8…/>>,\n",
       " <JSHandle preview=JSHandle@<input type=\"radio\" name=\"553c6f4d-54ae-4915-93dc-bf5f8…/>>,\n",
       " <JSHandle preview=JSHandle@<input type=\"radio\" name=\"553c6f4d-54ae-4915-93dc-bf5f8…/>>]"
      ]
     },
     "execution_count": 14,
     "metadata": {},
     "output_type": "execute_result"
    }
   ],
   "source": [
    "inputs"
   ]
  },
  {
   "cell_type": "code",
   "execution_count": null,
   "metadata": {},
   "outputs": [
    {
     "data": {
      "text/plain": [
       "''"
      ]
     },
     "execution_count": 8,
     "metadata": {},
     "output_type": "execute_result"
    }
   ],
   "source": [
    "await inputs[1].text_content()"
   ]
  },
  {
   "cell_type": "code",
   "execution_count": null,
   "metadata": {},
   "outputs": [
    {
     "data": {
      "text/plain": [
       "['__class__',\n",
       " '__delattr__',\n",
       " '__dict__',\n",
       " '__dir__',\n",
       " '__doc__',\n",
       " '__eq__',\n",
       " '__format__',\n",
       " '__ge__',\n",
       " '__getattribute__',\n",
       " '__getstate__',\n",
       " '__gt__',\n",
       " '__hash__',\n",
       " '__init__',\n",
       " '__init_subclass__',\n",
       " '__le__',\n",
       " '__lt__',\n",
       " '__module__',\n",
       " '__ne__',\n",
       " '__new__',\n",
       " '__reduce__',\n",
       " '__reduce_ex__',\n",
       " '__repr__',\n",
       " '__setattr__',\n",
       " '__sizeof__',\n",
       " '__str__',\n",
       " '__subclasshook__',\n",
       " '__weakref__',\n",
       " '_impl_obj',\n",
       " '_loop',\n",
       " '_wrap_handler',\n",
       " 'as_element',\n",
       " 'bounding_box',\n",
       " 'check',\n",
       " 'click',\n",
       " 'content_frame',\n",
       " 'dblclick',\n",
       " 'dispatch_event',\n",
       " 'dispose',\n",
       " 'eval_on_selector',\n",
       " 'eval_on_selector_all',\n",
       " 'evaluate',\n",
       " 'evaluate_handle',\n",
       " 'fill',\n",
       " 'focus',\n",
       " 'get_attribute',\n",
       " 'get_properties',\n",
       " 'get_property',\n",
       " 'hover',\n",
       " 'inner_html',\n",
       " 'inner_text',\n",
       " 'input_value',\n",
       " 'is_checked',\n",
       " 'is_disabled',\n",
       " 'is_editable',\n",
       " 'is_enabled',\n",
       " 'is_hidden',\n",
       " 'is_visible',\n",
       " 'json_value',\n",
       " 'on',\n",
       " 'once',\n",
       " 'owner_frame',\n",
       " 'press',\n",
       " 'query_selector',\n",
       " 'query_selector_all',\n",
       " 'remove_listener',\n",
       " 'screenshot',\n",
       " 'scroll_into_view_if_needed',\n",
       " 'select_option',\n",
       " 'select_text',\n",
       " 'set_checked',\n",
       " 'set_input_files',\n",
       " 'tap',\n",
       " 'text_content',\n",
       " 'type',\n",
       " 'uncheck',\n",
       " 'wait_for_element_state',\n",
       " 'wait_for_selector']"
      ]
     },
     "execution_count": 9,
     "metadata": {},
     "output_type": "execute_result"
    }
   ],
   "source": [
    "dir(inputs[0])"
   ]
  },
  {
   "cell_type": "code",
   "execution_count": null,
   "metadata": {},
   "outputs": [
    {
     "ename": "NameError",
     "evalue": "name 'inputs' is not defined",
     "output_type": "error",
     "traceback": [
      "\u001b[0;31m---------------------------------------------------------------------------\u001b[0m",
      "\u001b[0;31mNameError\u001b[0m                                 Traceback (most recent call last)",
      "\u001b[1;32m/Users/yunhocho/Documents/GitHub/AutoIntern/research/playwright.ipynb Cell 16\u001b[0m line \u001b[0;36m1\n\u001b[0;32m----> <a href='vscode-notebook-cell:/Users/yunhocho/Documents/GitHub/AutoIntern/research/playwright.ipynb#X16sZmlsZQ%3D%3D?line=0'>1</a>\u001b[0m _ \u001b[39m=\u001b[39m [\u001b[39mprint\u001b[39m(\u001b[39mawait\u001b[39;00m \u001b[39minput\u001b[39m\u001b[39m.\u001b[39mtext_content()) \u001b[39mfor\u001b[39;00m \u001b[39minput\u001b[39m \u001b[39min\u001b[39;00m inputs]\n",
      "\u001b[0;31mNameError\u001b[0m: name 'inputs' is not defined"
     ]
    }
   ],
   "source": [
    "_ = [print(await input.text_content()) for input in inputs]"
   ]
  },
  {
   "cell_type": "code",
   "execution_count": null,
   "metadata": {},
   "outputs": [
    {
     "name": "stdout",
     "output_type": "stream",
     "text": [
      "True\n",
      "True\n",
      "True\n",
      "True\n",
      "True\n",
      "True\n",
      "True\n",
      "True\n",
      "True\n",
      "True\n",
      "True\n",
      "True\n",
      "True\n",
      "True\n",
      "True\n",
      "True\n",
      "True\n",
      "True\n",
      "True\n",
      "True\n",
      "True\n",
      "True\n",
      "True\n",
      "True\n",
      "True\n",
      "True\n",
      "True\n",
      "True\n",
      "True\n",
      "True\n"
     ]
    }
   ],
   "source": [
    "for input in inputs:\n",
    "    try: \n",
    "        print(await input.is_editable())\n",
    "    except: pass"
   ]
  },
  {
   "cell_type": "code",
   "execution_count": null,
   "metadata": {},
   "outputs": [],
   "source": [
    "# await inputs[0].click()"
   ]
  },
  {
   "cell_type": "code",
   "execution_count": null,
   "metadata": {},
   "outputs": [],
   "source": [
    "# for input in inputs:\n",
    "#     try: \n",
    "#         print(await input.screenshot())\n",
    "#     except: pass"
   ]
  },
  {
   "cell_type": "code",
   "execution_count": null,
   "metadata": {},
   "outputs": [
    {
     "data": {
      "text/plain": [
       "'Type here...'"
      ]
     },
     "execution_count": 18,
     "metadata": {},
     "output_type": "execute_result"
    }
   ],
   "source": [
    "await inputs[1].get_attribute('placeholder')"
   ]
  },
  {
   "cell_type": "code",
   "execution_count": null,
   "metadata": {},
   "outputs": [
    {
     "data": {
      "text/plain": [
       "'hello@example.com...'"
      ]
     },
     "execution_count": 17,
     "metadata": {},
     "output_type": "execute_result"
    }
   ],
   "source": [
    "await inputs[2].get_attribute('placeholder')"
   ]
  },
  {
   "cell_type": "code",
   "execution_count": null,
   "metadata": {},
   "outputs": [],
   "source": [
    "inputs_l = page.locator('input')"
   ]
  },
  {
   "cell_type": "code",
   "execution_count": null,
   "metadata": {},
   "outputs": [],
   "source": [
    "# await inputs_l.text_content()\n",
    "# strict mode violation (multiple selected)"
   ]
  },
  {
   "cell_type": "code",
   "execution_count": null,
   "metadata": {},
   "outputs": [
    {
     "ename": "TypeError",
     "evalue": "'Locator' object is not iterable",
     "output_type": "error",
     "traceback": [
      "\u001b[0;31m---------------------------------------------------------------------------\u001b[0m",
      "\u001b[0;31mTypeError\u001b[0m                                 Traceback (most recent call last)",
      "\u001b[1;32m/Users/yunhocho/Documents/GitHub/AutoIntern/research/playwright.ipynb Cell 22\u001b[0m line \u001b[0;36m1\n\u001b[0;32m----> <a href='vscode-notebook-cell:/Users/yunhocho/Documents/GitHub/AutoIntern/research/playwright.ipynb#X52sZmlsZQ%3D%3D?line=0'>1</a>\u001b[0m \u001b[39mfor\u001b[39;00m locator \u001b[39min\u001b[39;00m inputs_l:\n\u001b[1;32m      <a href='vscode-notebook-cell:/Users/yunhocho/Documents/GitHub/AutoIntern/research/playwright.ipynb#X52sZmlsZQ%3D%3D?line=1'>2</a>\u001b[0m     text \u001b[39m=\u001b[39m \u001b[39mawait\u001b[39;00m locator\u001b[39m.\u001b[39mtext_content()\n\u001b[1;32m      <a href='vscode-notebook-cell:/Users/yunhocho/Documents/GitHub/AutoIntern/research/playwright.ipynb#X52sZmlsZQ%3D%3D?line=2'>3</a>\u001b[0m     \u001b[39mprint\u001b[39m(text)\n",
      "\u001b[0;31mTypeError\u001b[0m: 'Locator' object is not iterable"
     ]
    }
   ],
   "source": [
    "for i in inputs_l:\n",
    "    text = await locator.text_content()\n",
    "    print(text)"
   ]
  },
  {
   "cell_type": "code",
   "execution_count": null,
   "metadata": {},
   "outputs": [],
   "source": [
    "name_input = inputs_l.nth(1) # this gets the second input element."
   ]
  },
  {
   "cell_type": "code",
   "execution_count": null,
   "metadata": {},
   "outputs": [
    {
     "data": {
      "text/plain": [
       "<bound method Locator.locator of <Locator frame=<Frame name= url='https://jobs.ashbyhq.com/eightsleep/70a2ba22-04be-45b0-823a-8fc348035e0f/application?utm_source=Simplify'> selector='input >> nth=1'>>"
      ]
     },
     "execution_count": 38,
     "metadata": {},
     "output_type": "execute_result"
    }
   ],
   "source": [
    "name_input.locator"
   ]
  },
  {
   "cell_type": "code",
   "execution_count": null,
   "metadata": {},
   "outputs": [],
   "source": []
  },
  {
   "cell_type": "code",
   "execution_count": null,
   "metadata": {},
   "outputs": [
    {
     "ename": "AttributeError",
     "evalue": "'ElementHandle' object has no attribute 'locator'",
     "output_type": "error",
     "traceback": [
      "\u001b[0;31m---------------------------------------------------------------------------\u001b[0m",
      "\u001b[0;31mAttributeError\u001b[0m                            Traceback (most recent call last)",
      "\u001b[1;32m/Users/yunhocho/Documents/GitHub/AutoIntern/research/playwright.ipynb Cell 21\u001b[0m line \u001b[0;36m1\n\u001b[0;32m----> <a href='vscode-notebook-cell:/Users/yunhocho/Documents/GitHub/AutoIntern/research/playwright.ipynb#X43sZmlsZQ%3D%3D?line=0'>1</a>\u001b[0m \u001b[39mawait\u001b[39;00m inputs[\u001b[39m2\u001b[39;49m]\u001b[39m.\u001b[39;49mlocator\n",
      "\u001b[0;31mAttributeError\u001b[0m: 'ElementHandle' object has no attribute 'locator'"
     ]
    }
   ],
   "source": [
    "# await inputs[2]"
   ]
  },
  {
   "cell_type": "code",
   "execution_count": null,
   "metadata": {},
   "outputs": [],
   "source": [
    "a = page.locator('text=Name').locator(\"..\")"
   ]
  },
  {
   "cell_type": "code",
   "execution_count": null,
   "metadata": {},
   "outputs": [
    {
     "ename": "Error",
     "evalue": "Error: strict mode violation: locator(\"text=Name\") resolved to 2 elements:\n    1) <label for=\"_systemfield_name\" class=\"_heading_elimo_53…>Name</label> aka get_by_text(\"Name\", exact=True)\n    2) <label class=\"_label_1v5e2_43 \" for=\"6a8158d9-de2c-4c4a…>Beginner: I have a basic understanding of object-…</label> aka get_by_text(\"Beginner: I have a basic understanding of object-oriented design in Python and I\")\n\n=========================== logs ===========================\nwaiting for locator(\"text=Name\")\n============================================================",
     "output_type": "error",
     "traceback": [
      "\u001b[0;31m---------------------------------------------------------------------------\u001b[0m",
      "\u001b[0;31mError\u001b[0m                                     Traceback (most recent call last)",
      "\u001b[1;32m/Users/yunhocho/Documents/GitHub/AutoIntern/research/playwright.ipynb Cell 23\u001b[0m line \u001b[0;36m1\n\u001b[0;32m----> <a href='vscode-notebook-cell:/Users/yunhocho/Documents/GitHub/AutoIntern/research/playwright.ipynb#X46sZmlsZQ%3D%3D?line=0'>1</a>\u001b[0m \u001b[39mawait\u001b[39;00m page\u001b[39m.\u001b[39mlocator(\u001b[39m'\u001b[39m\u001b[39mtext=Name\u001b[39m\u001b[39m'\u001b[39m)\u001b[39m.\u001b[39mget_attribute(\u001b[39m'\u001b[39m\u001b[39mtext\u001b[39m\u001b[39m'\u001b[39m)\n",
      "File \u001b[0;32m/opt/homebrew/lib/python3.11/site-packages/playwright/async_api/_generated.py:17051\u001b[0m, in \u001b[0;36mLocator.get_attribute\u001b[0;34m(self, name, timeout)\u001b[0m\n\u001b[1;32m  17030\u001b[0m \u001b[39masync\u001b[39;00m \u001b[39mdef\u001b[39;00m \u001b[39mget_attribute\u001b[39m(\n\u001b[1;32m  17031\u001b[0m     \u001b[39mself\u001b[39m, name: \u001b[39mstr\u001b[39m, \u001b[39m*\u001b[39m, timeout: typing\u001b[39m.\u001b[39mOptional[\u001b[39mfloat\u001b[39m] \u001b[39m=\u001b[39m \u001b[39mNone\u001b[39;00m\n\u001b[1;32m  17032\u001b[0m ) \u001b[39m-\u001b[39m\u001b[39m>\u001b[39m typing\u001b[39m.\u001b[39mOptional[\u001b[39mstr\u001b[39m]:\n\u001b[1;32m  17033\u001b[0m \u001b[39m    \u001b[39m\u001b[39m\"\"\"Locator.get_attribute\u001b[39;00m\n\u001b[1;32m  17034\u001b[0m \n\u001b[1;32m  17035\u001b[0m \u001b[39m    Returns the matching element's attribute value.\u001b[39;00m\n\u001b[0;32m   (...)\u001b[0m\n\u001b[1;32m  17047\u001b[0m \u001b[39m    Union[str, None]\u001b[39;00m\n\u001b[1;32m  17048\u001b[0m \u001b[39m    \"\"\"\u001b[39;00m\n\u001b[1;32m  17050\u001b[0m     \u001b[39mreturn\u001b[39;00m mapping\u001b[39m.\u001b[39mfrom_maybe_impl(\n\u001b[0;32m> 17051\u001b[0m         \u001b[39mawait\u001b[39;00m \u001b[39mself\u001b[39m\u001b[39m.\u001b[39m_impl_obj\u001b[39m.\u001b[39mget_attribute(name\u001b[39m=\u001b[39mname, timeout\u001b[39m=\u001b[39mtimeout)\n\u001b[1;32m  17052\u001b[0m     )\n",
      "File \u001b[0;32m/opt/homebrew/lib/python3.11/site-packages/playwright/_impl/_locator.py:411\u001b[0m, in \u001b[0;36mLocator.get_attribute\u001b[0;34m(self, name, timeout)\u001b[0m\n\u001b[1;32m    409\u001b[0m \u001b[39masync\u001b[39;00m \u001b[39mdef\u001b[39;00m \u001b[39mget_attribute\u001b[39m(\u001b[39mself\u001b[39m, name: \u001b[39mstr\u001b[39m, timeout: \u001b[39mfloat\u001b[39m \u001b[39m=\u001b[39m \u001b[39mNone\u001b[39;00m) \u001b[39m-\u001b[39m\u001b[39m>\u001b[39m Optional[\u001b[39mstr\u001b[39m]:\n\u001b[1;32m    410\u001b[0m     params \u001b[39m=\u001b[39m locals_to_params(\u001b[39mlocals\u001b[39m())\n\u001b[0;32m--> 411\u001b[0m     \u001b[39mreturn\u001b[39;00m \u001b[39mawait\u001b[39;00m \u001b[39mself\u001b[39m\u001b[39m.\u001b[39m_frame\u001b[39m.\u001b[39mget_attribute(\n\u001b[1;32m    412\u001b[0m         \u001b[39mself\u001b[39m\u001b[39m.\u001b[39m_selector,\n\u001b[1;32m    413\u001b[0m         strict\u001b[39m=\u001b[39m\u001b[39mTrue\u001b[39;00m,\n\u001b[1;32m    414\u001b[0m         \u001b[39m*\u001b[39m\u001b[39m*\u001b[39mparams,\n\u001b[1;32m    415\u001b[0m     )\n",
      "File \u001b[0;32m/opt/homebrew/lib/python3.11/site-packages/playwright/_impl/_frame.py:623\u001b[0m, in \u001b[0;36mFrame.get_attribute\u001b[0;34m(self, selector, name, strict, timeout)\u001b[0m\n\u001b[1;32m    620\u001b[0m \u001b[39masync\u001b[39;00m \u001b[39mdef\u001b[39;00m \u001b[39mget_attribute\u001b[39m(\n\u001b[1;32m    621\u001b[0m     \u001b[39mself\u001b[39m, selector: \u001b[39mstr\u001b[39m, name: \u001b[39mstr\u001b[39m, strict: \u001b[39mbool\u001b[39m \u001b[39m=\u001b[39m \u001b[39mNone\u001b[39;00m, timeout: \u001b[39mfloat\u001b[39m \u001b[39m=\u001b[39m \u001b[39mNone\u001b[39;00m\n\u001b[1;32m    622\u001b[0m ) \u001b[39m-\u001b[39m\u001b[39m>\u001b[39m Optional[\u001b[39mstr\u001b[39m]:\n\u001b[0;32m--> 623\u001b[0m     \u001b[39mreturn\u001b[39;00m \u001b[39mawait\u001b[39;00m \u001b[39mself\u001b[39m\u001b[39m.\u001b[39m_channel\u001b[39m.\u001b[39msend(\u001b[39m\"\u001b[39m\u001b[39mgetAttribute\u001b[39m\u001b[39m\"\u001b[39m, locals_to_params(\u001b[39mlocals\u001b[39m()))\n",
      "File \u001b[0;32m/opt/homebrew/lib/python3.11/site-packages/playwright/_impl/_connection.py:61\u001b[0m, in \u001b[0;36mChannel.send\u001b[0;34m(self, method, params)\u001b[0m\n\u001b[1;32m     60\u001b[0m \u001b[39masync\u001b[39;00m \u001b[39mdef\u001b[39;00m \u001b[39msend\u001b[39m(\u001b[39mself\u001b[39m, method: \u001b[39mstr\u001b[39m, params: Dict \u001b[39m=\u001b[39m \u001b[39mNone\u001b[39;00m) \u001b[39m-\u001b[39m\u001b[39m>\u001b[39m Any:\n\u001b[0;32m---> 61\u001b[0m     \u001b[39mreturn\u001b[39;00m \u001b[39mawait\u001b[39;00m \u001b[39mself\u001b[39m\u001b[39m.\u001b[39m_connection\u001b[39m.\u001b[39mwrap_api_call(\n\u001b[1;32m     62\u001b[0m         \u001b[39mlambda\u001b[39;00m: \u001b[39mself\u001b[39m\u001b[39m.\u001b[39minner_send(method, params, \u001b[39mFalse\u001b[39;00m)\n\u001b[1;32m     63\u001b[0m     )\n",
      "File \u001b[0;32m/opt/homebrew/lib/python3.11/site-packages/playwright/_impl/_connection.py:482\u001b[0m, in \u001b[0;36mConnection.wrap_api_call\u001b[0;34m(self, cb, is_internal)\u001b[0m\n\u001b[1;32m    480\u001b[0m \u001b[39mself\u001b[39m\u001b[39m.\u001b[39m_api_zone\u001b[39m.\u001b[39mset(_extract_stack_trace_information_from_stack(st, is_internal))\n\u001b[1;32m    481\u001b[0m \u001b[39mtry\u001b[39;00m:\n\u001b[0;32m--> 482\u001b[0m     \u001b[39mreturn\u001b[39;00m \u001b[39mawait\u001b[39;00m cb()\n\u001b[1;32m    483\u001b[0m \u001b[39mfinally\u001b[39;00m:\n\u001b[1;32m    484\u001b[0m     \u001b[39mself\u001b[39m\u001b[39m.\u001b[39m_api_zone\u001b[39m.\u001b[39mset(\u001b[39mNone\u001b[39;00m)\n",
      "File \u001b[0;32m/opt/homebrew/lib/python3.11/site-packages/playwright/_impl/_connection.py:97\u001b[0m, in \u001b[0;36mChannel.inner_send\u001b[0;34m(self, method, params, return_as_dict)\u001b[0m\n\u001b[1;32m     95\u001b[0m \u001b[39mif\u001b[39;00m \u001b[39mnot\u001b[39;00m callback\u001b[39m.\u001b[39mfuture\u001b[39m.\u001b[39mdone():\n\u001b[1;32m     96\u001b[0m     callback\u001b[39m.\u001b[39mfuture\u001b[39m.\u001b[39mcancel()\n\u001b[0;32m---> 97\u001b[0m result \u001b[39m=\u001b[39m \u001b[39mnext\u001b[39;49m(\u001b[39miter\u001b[39;49m(done))\u001b[39m.\u001b[39;49mresult()\n\u001b[1;32m     98\u001b[0m \u001b[39m# Protocol now has named return values, assume result is one level deeper unless\u001b[39;00m\n\u001b[1;32m     99\u001b[0m \u001b[39m# there is explicit ambiguity.\u001b[39;00m\n\u001b[1;32m    100\u001b[0m \u001b[39mif\u001b[39;00m \u001b[39mnot\u001b[39;00m result:\n",
      "File \u001b[0;32m/opt/homebrew/Cellar/python@3.11/3.11.5/Frameworks/Python.framework/Versions/3.11/lib/python3.11/asyncio/futures.py:203\u001b[0m, in \u001b[0;36mFuture.result\u001b[0;34m(self)\u001b[0m\n\u001b[1;32m    201\u001b[0m \u001b[39mself\u001b[39m\u001b[39m.\u001b[39m__log_traceback \u001b[39m=\u001b[39m \u001b[39mFalse\u001b[39;00m\n\u001b[1;32m    202\u001b[0m \u001b[39mif\u001b[39;00m \u001b[39mself\u001b[39m\u001b[39m.\u001b[39m_exception \u001b[39mis\u001b[39;00m \u001b[39mnot\u001b[39;00m \u001b[39mNone\u001b[39;00m:\n\u001b[0;32m--> 203\u001b[0m     \u001b[39mraise\u001b[39;00m \u001b[39mself\u001b[39m\u001b[39m.\u001b[39m_exception\u001b[39m.\u001b[39mwith_traceback(\u001b[39mself\u001b[39m\u001b[39m.\u001b[39m_exception_tb)\n\u001b[1;32m    204\u001b[0m \u001b[39mreturn\u001b[39;00m \u001b[39mself\u001b[39m\u001b[39m.\u001b[39m_result\n",
      "\u001b[0;31mError\u001b[0m: Error: strict mode violation: locator(\"text=Name\") resolved to 2 elements:\n    1) <label for=\"_systemfield_name\" class=\"_heading_elimo_53…>Name</label> aka get_by_text(\"Name\", exact=True)\n    2) <label class=\"_label_1v5e2_43 \" for=\"6a8158d9-de2c-4c4a…>Beginner: I have a basic understanding of object-…</label> aka get_by_text(\"Beginner: I have a basic understanding of object-oriented design in Python and I\")\n\n=========================== logs ===========================\nwaiting for locator(\"text=Name\")\n============================================================"
     ]
    }
   ],
   "source": [
    "# await page.locator('text=Name').get_attribute('text')"
   ]
  },
  {
   "cell_type": "code",
   "execution_count": null,
   "metadata": {},
   "outputs": [
    {
     "name": "stderr",
     "output_type": "stream",
     "text": [
      "Future exception was never retrieved\n",
      "future: <Future finished exception=TimeoutError('Timeout 30000ms exceeded.\\n=========================== logs ===========================\\nattempting click action\\n  waiting for element to be visible, enabled and stable\\n    element is not visible - waiting...\\n============================================================')>\n",
      "playwright._impl._api_types.TimeoutError: Timeout 30000ms exceeded.\n",
      "=========================== logs ===========================\n",
      "attempting click action\n",
      "  waiting for element to be visible, enabled and stable\n",
      "    element is not visible - waiting...\n",
      "============================================================\n",
      "Future exception was never retrieved\n",
      "future: <Future finished exception=TimeoutError('Timeout 30000ms exceeded.\\n=========================== logs ===========================\\nattempting click action\\n  waiting for element to be visible, enabled and stable\\n    element is not visible - waiting...\\n============================================================')>\n",
      "playwright._impl._api_types.TimeoutError: Timeout 30000ms exceeded.\n",
      "=========================== logs ===========================\n",
      "attempting click action\n",
      "  waiting for element to be visible, enabled and stable\n",
      "    element is not visible - waiting...\n",
      "============================================================\n",
      "Future exception was never retrieved\n",
      "future: <Future finished exception=TimeoutError('Timeout 30000ms exceeded.\\n=========================== logs ===========================\\ntaking element screenshot\\n  waiting for element to be visible and stable\\n    element is not visible - waiting...\\n============================================================')>\n",
      "playwright._impl._api_types.TimeoutError: Timeout 30000ms exceeded.\n",
      "=========================== logs ===========================\n",
      "taking element screenshot\n",
      "  waiting for element to be visible and stable\n",
      "    element is not visible - waiting...\n",
      "============================================================\n"
     ]
    },
    {
     "ename": "Error",
     "evalue": "Error: strict mode violation: locator(\"text=Name\").locator(\"xpath=..\") resolved to 2 elements:\n    1) <div class=\"_fieldEntry_1dgff_29 ashby-application-fo…>…</div> aka locator(\"div\").filter(has_text=re.compile(r\"^Name$\"))\n    2) <div class=\"_option_1v5e2_35 false\">…</div> aka get_by_label(\"Application\").locator(\"div\").filter(has_text=\"Beginner: I have a basic understanding of object-oriented design in Python and I\").nth(2)\n\n=========================== logs ===========================\nwaiting for locator(\"text=Name\").locator(\"xpath=..\")\n============================================================",
     "output_type": "error",
     "traceback": [
      "\u001b[0;31m---------------------------------------------------------------------------\u001b[0m",
      "\u001b[0;31mError\u001b[0m                                     Traceback (most recent call last)",
      "\u001b[1;32m/Users/yunhocho/Documents/GitHub/AutoIntern/research/playwright.ipynb Cell 23\u001b[0m line \u001b[0;36m1\n\u001b[0;32m----> <a href='vscode-notebook-cell:/Users/yunhocho/Documents/GitHub/AutoIntern/research/playwright.ipynb#X45sZmlsZQ%3D%3D?line=0'>1</a>\u001b[0m \u001b[39mawait\u001b[39;00m a\u001b[39m.\u001b[39mget_attribute(\u001b[39m'\u001b[39m\u001b[39mtext\u001b[39m\u001b[39m'\u001b[39m)\n",
      "File \u001b[0;32m/opt/homebrew/lib/python3.11/site-packages/playwright/async_api/_generated.py:17051\u001b[0m, in \u001b[0;36mLocator.get_attribute\u001b[0;34m(self, name, timeout)\u001b[0m\n\u001b[1;32m  17030\u001b[0m \u001b[39masync\u001b[39;00m \u001b[39mdef\u001b[39;00m \u001b[39mget_attribute\u001b[39m(\n\u001b[1;32m  17031\u001b[0m     \u001b[39mself\u001b[39m, name: \u001b[39mstr\u001b[39m, \u001b[39m*\u001b[39m, timeout: typing\u001b[39m.\u001b[39mOptional[\u001b[39mfloat\u001b[39m] \u001b[39m=\u001b[39m \u001b[39mNone\u001b[39;00m\n\u001b[1;32m  17032\u001b[0m ) \u001b[39m-\u001b[39m\u001b[39m>\u001b[39m typing\u001b[39m.\u001b[39mOptional[\u001b[39mstr\u001b[39m]:\n\u001b[1;32m  17033\u001b[0m \u001b[39m    \u001b[39m\u001b[39m\"\"\"Locator.get_attribute\u001b[39;00m\n\u001b[1;32m  17034\u001b[0m \n\u001b[1;32m  17035\u001b[0m \u001b[39m    Returns the matching element's attribute value.\u001b[39;00m\n\u001b[0;32m   (...)\u001b[0m\n\u001b[1;32m  17047\u001b[0m \u001b[39m    Union[str, None]\u001b[39;00m\n\u001b[1;32m  17048\u001b[0m \u001b[39m    \"\"\"\u001b[39;00m\n\u001b[1;32m  17050\u001b[0m     \u001b[39mreturn\u001b[39;00m mapping\u001b[39m.\u001b[39mfrom_maybe_impl(\n\u001b[0;32m> 17051\u001b[0m         \u001b[39mawait\u001b[39;00m \u001b[39mself\u001b[39m\u001b[39m.\u001b[39m_impl_obj\u001b[39m.\u001b[39mget_attribute(name\u001b[39m=\u001b[39mname, timeout\u001b[39m=\u001b[39mtimeout)\n\u001b[1;32m  17052\u001b[0m     )\n",
      "File \u001b[0;32m/opt/homebrew/lib/python3.11/site-packages/playwright/_impl/_locator.py:411\u001b[0m, in \u001b[0;36mLocator.get_attribute\u001b[0;34m(self, name, timeout)\u001b[0m\n\u001b[1;32m    409\u001b[0m \u001b[39masync\u001b[39;00m \u001b[39mdef\u001b[39;00m \u001b[39mget_attribute\u001b[39m(\u001b[39mself\u001b[39m, name: \u001b[39mstr\u001b[39m, timeout: \u001b[39mfloat\u001b[39m \u001b[39m=\u001b[39m \u001b[39mNone\u001b[39;00m) \u001b[39m-\u001b[39m\u001b[39m>\u001b[39m Optional[\u001b[39mstr\u001b[39m]:\n\u001b[1;32m    410\u001b[0m     params \u001b[39m=\u001b[39m locals_to_params(\u001b[39mlocals\u001b[39m())\n\u001b[0;32m--> 411\u001b[0m     \u001b[39mreturn\u001b[39;00m \u001b[39mawait\u001b[39;00m \u001b[39mself\u001b[39m\u001b[39m.\u001b[39m_frame\u001b[39m.\u001b[39mget_attribute(\n\u001b[1;32m    412\u001b[0m         \u001b[39mself\u001b[39m\u001b[39m.\u001b[39m_selector,\n\u001b[1;32m    413\u001b[0m         strict\u001b[39m=\u001b[39m\u001b[39mTrue\u001b[39;00m,\n\u001b[1;32m    414\u001b[0m         \u001b[39m*\u001b[39m\u001b[39m*\u001b[39mparams,\n\u001b[1;32m    415\u001b[0m     )\n",
      "File \u001b[0;32m/opt/homebrew/lib/python3.11/site-packages/playwright/_impl/_frame.py:623\u001b[0m, in \u001b[0;36mFrame.get_attribute\u001b[0;34m(self, selector, name, strict, timeout)\u001b[0m\n\u001b[1;32m    620\u001b[0m \u001b[39masync\u001b[39;00m \u001b[39mdef\u001b[39;00m \u001b[39mget_attribute\u001b[39m(\n\u001b[1;32m    621\u001b[0m     \u001b[39mself\u001b[39m, selector: \u001b[39mstr\u001b[39m, name: \u001b[39mstr\u001b[39m, strict: \u001b[39mbool\u001b[39m \u001b[39m=\u001b[39m \u001b[39mNone\u001b[39;00m, timeout: \u001b[39mfloat\u001b[39m \u001b[39m=\u001b[39m \u001b[39mNone\u001b[39;00m\n\u001b[1;32m    622\u001b[0m ) \u001b[39m-\u001b[39m\u001b[39m>\u001b[39m Optional[\u001b[39mstr\u001b[39m]:\n\u001b[0;32m--> 623\u001b[0m     \u001b[39mreturn\u001b[39;00m \u001b[39mawait\u001b[39;00m \u001b[39mself\u001b[39m\u001b[39m.\u001b[39m_channel\u001b[39m.\u001b[39msend(\u001b[39m\"\u001b[39m\u001b[39mgetAttribute\u001b[39m\u001b[39m\"\u001b[39m, locals_to_params(\u001b[39mlocals\u001b[39m()))\n",
      "File \u001b[0;32m/opt/homebrew/lib/python3.11/site-packages/playwright/_impl/_connection.py:61\u001b[0m, in \u001b[0;36mChannel.send\u001b[0;34m(self, method, params)\u001b[0m\n\u001b[1;32m     60\u001b[0m \u001b[39masync\u001b[39;00m \u001b[39mdef\u001b[39;00m \u001b[39msend\u001b[39m(\u001b[39mself\u001b[39m, method: \u001b[39mstr\u001b[39m, params: Dict \u001b[39m=\u001b[39m \u001b[39mNone\u001b[39;00m) \u001b[39m-\u001b[39m\u001b[39m>\u001b[39m Any:\n\u001b[0;32m---> 61\u001b[0m     \u001b[39mreturn\u001b[39;00m \u001b[39mawait\u001b[39;00m \u001b[39mself\u001b[39m\u001b[39m.\u001b[39m_connection\u001b[39m.\u001b[39mwrap_api_call(\n\u001b[1;32m     62\u001b[0m         \u001b[39mlambda\u001b[39;00m: \u001b[39mself\u001b[39m\u001b[39m.\u001b[39minner_send(method, params, \u001b[39mFalse\u001b[39;00m)\n\u001b[1;32m     63\u001b[0m     )\n",
      "File \u001b[0;32m/opt/homebrew/lib/python3.11/site-packages/playwright/_impl/_connection.py:482\u001b[0m, in \u001b[0;36mConnection.wrap_api_call\u001b[0;34m(self, cb, is_internal)\u001b[0m\n\u001b[1;32m    480\u001b[0m \u001b[39mself\u001b[39m\u001b[39m.\u001b[39m_api_zone\u001b[39m.\u001b[39mset(_extract_stack_trace_information_from_stack(st, is_internal))\n\u001b[1;32m    481\u001b[0m \u001b[39mtry\u001b[39;00m:\n\u001b[0;32m--> 482\u001b[0m     \u001b[39mreturn\u001b[39;00m \u001b[39mawait\u001b[39;00m cb()\n\u001b[1;32m    483\u001b[0m \u001b[39mfinally\u001b[39;00m:\n\u001b[1;32m    484\u001b[0m     \u001b[39mself\u001b[39m\u001b[39m.\u001b[39m_api_zone\u001b[39m.\u001b[39mset(\u001b[39mNone\u001b[39;00m)\n",
      "File \u001b[0;32m/opt/homebrew/lib/python3.11/site-packages/playwright/_impl/_connection.py:97\u001b[0m, in \u001b[0;36mChannel.inner_send\u001b[0;34m(self, method, params, return_as_dict)\u001b[0m\n\u001b[1;32m     95\u001b[0m \u001b[39mif\u001b[39;00m \u001b[39mnot\u001b[39;00m callback\u001b[39m.\u001b[39mfuture\u001b[39m.\u001b[39mdone():\n\u001b[1;32m     96\u001b[0m     callback\u001b[39m.\u001b[39mfuture\u001b[39m.\u001b[39mcancel()\n\u001b[0;32m---> 97\u001b[0m result \u001b[39m=\u001b[39m \u001b[39mnext\u001b[39;49m(\u001b[39miter\u001b[39;49m(done))\u001b[39m.\u001b[39;49mresult()\n\u001b[1;32m     98\u001b[0m \u001b[39m# Protocol now has named return values, assume result is one level deeper unless\u001b[39;00m\n\u001b[1;32m     99\u001b[0m \u001b[39m# there is explicit ambiguity.\u001b[39;00m\n\u001b[1;32m    100\u001b[0m \u001b[39mif\u001b[39;00m \u001b[39mnot\u001b[39;00m result:\n",
      "File \u001b[0;32m/opt/homebrew/Cellar/python@3.11/3.11.5/Frameworks/Python.framework/Versions/3.11/lib/python3.11/asyncio/futures.py:203\u001b[0m, in \u001b[0;36mFuture.result\u001b[0;34m(self)\u001b[0m\n\u001b[1;32m    201\u001b[0m \u001b[39mself\u001b[39m\u001b[39m.\u001b[39m__log_traceback \u001b[39m=\u001b[39m \u001b[39mFalse\u001b[39;00m\n\u001b[1;32m    202\u001b[0m \u001b[39mif\u001b[39;00m \u001b[39mself\u001b[39m\u001b[39m.\u001b[39m_exception \u001b[39mis\u001b[39;00m \u001b[39mnot\u001b[39;00m \u001b[39mNone\u001b[39;00m:\n\u001b[0;32m--> 203\u001b[0m     \u001b[39mraise\u001b[39;00m \u001b[39mself\u001b[39m\u001b[39m.\u001b[39m_exception\u001b[39m.\u001b[39mwith_traceback(\u001b[39mself\u001b[39m\u001b[39m.\u001b[39m_exception_tb)\n\u001b[1;32m    204\u001b[0m \u001b[39mreturn\u001b[39;00m \u001b[39mself\u001b[39m\u001b[39m.\u001b[39m_result\n",
      "\u001b[0;31mError\u001b[0m: Error: strict mode violation: locator(\"text=Name\").locator(\"xpath=..\") resolved to 2 elements:\n    1) <div class=\"_fieldEntry_1dgff_29 ashby-application-fo…>…</div> aka locator(\"div\").filter(has_text=re.compile(r\"^Name$\"))\n    2) <div class=\"_option_1v5e2_35 false\">…</div> aka get_by_label(\"Application\").locator(\"div\").filter(has_text=\"Beginner: I have a basic understanding of object-oriented design in Python and I\").nth(2)\n\n=========================== logs ===========================\nwaiting for locator(\"text=Name\").locator(\"xpath=..\")\n============================================================"
     ]
    }
   ],
   "source": [
    "# await a.get_attribute('text')"
   ]
  },
  {
   "cell_type": "code",
   "execution_count": null,
   "metadata": {},
   "outputs": [],
   "source": [
    "for input in inputs:\n",
    "    try:\n",
    "        answer = input()\n",
    "    except: pass"
   ]
  },
  {
   "cell_type": "markdown",
   "metadata": {},
   "source": [
    "Misc."
   ]
  },
  {
   "cell_type": "code",
   "execution_count": 104,
   "metadata": {},
   "outputs": [
    {
     "name": "stdout",
     "output_type": "stream",
     "text": [
      "<!DOCTYPE html><html lang=\"en\" style=\"--colorPrimary600: #000000; --colorPrimary900: #1d1b3e;\"><head>\n",
      "    <meta charset=\"utf-8\">\n",
      "    <meta name=\"viewport\" content=\"width=device-width, initial-scale=1, shrink-to-fit=no\">\n",
      "    <meta name=\"theme-color\" content=\"#483fad\">\n",
      "    <meta name=\"csp-nonce\" id=\"csp-nonce\" content=\"1OfELa65gtjyfYzgcv7_x2AHGuyTQvb1v66J0jNB2Ts\">\n",
      "    <link rel=\"icon\" type=\"image/png\" href=\"https://cdn.ashbyprd.com/cdn_assets/8e66483770ba480554021b1acf8409b1b523e741/favicon.png\" sizes=\"192x192\">\n",
      "    <link rel=\"apple-touch-icon\" href=\"https://cdn.ashbyprd.com/cdn_assets/8e66483770ba480554021b1acf8409b1b523e741/favicon.png\">\n",
      "    <title>Data Engineering Co-Op - Research &amp; Development @ Eight Sleep</title><meta name=\"title\" content=\"Data Engineering Co-Op - Research &amp; Development @ Eight Sleep\">\n",
      "    \n",
      "  <meta name=\"description\" content=\"Eight Sleep is the world’s first sleep fitness company. Our mission is to fuel human potential through optimal sleep. We use innovative technology, detailed design, and proven science and data to personalize and improve each night for everybody—changing the way people sleep forever and for the better.&nbsp;\n",
      "\n",
      "Backed by leading Silicon Valley investors, we have been recognized as one of Fast Company’s Most Innovative Companies in 2018, 2022, and 2023.\n",
      "\n",
      "Our temperature-regulated technology, the Pod, is an absolute game changer, improving people's health and happiness by changing the way they sleep. The Pod was also recognized two years in a row by TIME's “Best Inventions of the Year.” It is available for purchase in North America (the United States and Canada) and throughout the United Kingdom, Europe (Belgium, France, Germany, Italy, Netherlands, Spain, Sweden, Denmark), and Australia via eightsleep.com http://eightsleep.com. We’re excited by the success of the Pod to date and still have a long way to go toward achieving our mission\n",
      "\n",
      "That is why Eight Sleep is looking for a hands-on, research-oriented Data Engineering Co-op to help optimize data workflows for research studies. You will work closely with the current Data Engineer, ensuring data quality for all research studies, setting up data workflows that follow HIPAA guidelines and good clinical practices, and set up pipelines to streamline statistical analyses for ongoing data collections and completed studies that will be used to drive feature insights &amp; algorithm development, used for white papers and peer-reviewed publications. This role will report to the Director of Science &amp; Clinical Research at Eight Sleep, on the Research &amp; Development team.&nbsp;\n",
      "\n",
      "We are seeking someone who is passionate about health technologies and about making an impact on health outcomes, directly relating to sleep and human performance. We look for people who tackle problems with a systematic approach, and make data driven decisions to deliver the best products to our users. This role has high growth potential to contribute to the development of novel sleep technologies and to advance the field of sleep research. You will have the opportunity to work on cutting-edge projects and collaborate with a team of highly skilled professionals in sleep science, engineering, and data science.\n",
      "\n",
      "This co-op position is a unique opportunity to gain practical experience in a dynamic startup setting, tackling real-world issues that affect people's well-being. You'll have the opportunity to work with large datasets, create data pipelines, and contribute to statistical and machine learning analyses by assisting with data preparation, cleaning, and visualization.\n",
      "\n",
      "This role requires onsite work from our Boston office, located in Newton Centre, at least 3 days a week.\n",
      "\n",
      "\n",
      "\n",
      "How you'll contribute\n",
      "\n",
      " - Data engineering:&nbsp;\n",
      "   \n",
      "   - Manipulating, cleaning, and transforming raw data into a usable format for analysis (requires time aligning and parsing data from multiple sources with varying sample rates).\n",
      "   \n",
      "   - Writing, testing, and maintaining Python and SQL scripts for data analysis, and compiling results into tables and presentations.\n",
      "   \n",
      "   - Extracting and cleaning temperature and physiological data to support future Machine Learning model development.\n",
      "\n",
      " - Ensure good data quality &amp; privacy:\n",
      "   \n",
      "   - Developing and implementing processes to ensure that data are accurate, complete, and consistent throughout the data collection period of a study.\n",
      "   \n",
      "   - Building databases and workflows that ensure subjects’ PII are protected for data privacy (in accordance with HIPAA and IRB compliance).\n",
      "\n",
      " - Tooling:\n",
      "   \n",
      "   - Enhancing our existing data quality scripts by building dashboards, scripts, and/or efficient methods to check incoming study data quality to identify problems with sensors and/or trials.\n",
      "   \n",
      "   - Developing and maintaining tools and processes to improve efficiency and consistency across projects, including abstracting one-off scripts into reusable tools and developing new features for daily quality checks and study management.\n",
      "\n",
      "\n",
      "\n",
      "What you'll need to succeed&nbsp;\n",
      "\n",
      " - Bachelor's or Master's degree (or currently pursuing) in Computer Science, Software Engineering, Data Science, or a related field.\n",
      "\n",
      " - Highly proficient in SQL, AWS S3, GitHub, and Python (Pandas, Scipy, Numpy, Jupyter Notebooks, PyCharm, seaborn/matplotlib/plotly).\n",
      "\n",
      " - Experience with data manipulation, cleaning, and analysis, and data visualization.\n",
      "\n",
      " - Ability to write clean, maintainable, and efficient code using best practices.\n",
      "\n",
      " - Strong time-management skills, and excellent attention to detail while moving at a fast pace.\n",
      "\n",
      " - Flexibility: willingness to jump into new projects or assignments (e.g. help collecting data)&nbsp;\n",
      "\n",
      "\n",
      "\n",
      "Preferred\n",
      "\n",
      " - 6+ months of work experience&nbsp;\n",
      "\n",
      " - Experience working with wearable and/or human physiology data, or knowledge of sleep and physiology\n",
      "\n",
      " - Basic understanding of HIPAA, GCP, and IRB compliance for data privacy\n",
      "\n",
      " - Human research experience\n",
      "\n",
      " - Proficiency in one or more dashboard development tools, such as Tableau, Power BI, or Looker.\n",
      "\n",
      "\n",
      "\n",
      "Why you’ll love Eight&nbsp;\n",
      "\n",
      " - We’re a tight-knit, passionate team that’s working to improve people’s lives by improving the way they sleep\n",
      "\n",
      " - Leadership is committed to employees’ wellness and career development\n",
      "\n",
      "\n",
      "\n",
      "At Eight Sleep we continually celebrate the diverse community different individuals cultivate. As an equal opportunity employer, we stay true to our values by ensuring everyone feels they can flourish and grow. We are committed to equal employment opportunities regardless of race, color, ancestry, religion, sex, national origin, sexual orientation, age, citizenship, marital status, disability, gender identity or Veteran status.\">\n",
      "  <meta name=\"twitter:card\" content=\"summary\">\n",
      "  <meta property=\"og:url\" content=\"https://jobs.ashbyhq.com/eightsleep/70a2ba22-04be-45b0-823a-8fc348035e0f\">\n",
      "  <meta property=\"og:type\" content=\"website\">\n",
      "  <meta property=\"og:title\" content=\"Data Engineering Co-Op - Research &amp; Development\">\n",
      "  <meta property=\"og:description\" content=\"Eight Sleep is the world’s first sleep fitness company. Our mission is to fuel human potential through optimal sleep. We use innovative technology, detailed design, and proven science and data to personalize and improve each night for everybody—changing the way people sleep forever and for the better.&nbsp;\n",
      "\n",
      "Backed by leading Silicon Valley investors, we have been recognized as one of Fast Company’s Most Innovative Companies in 2018, 2022, and 2023.\n",
      "\n",
      "Our temperature-regulated technology, the Pod, is an absolute game changer, improving people's health and happiness by changing the way they sleep. The Pod was also recognized two years in a row by TIME's “Best Inventions of the Year.” It is available for purchase in North America (the United States and Canada) and throughout the United Kingdom, Europe (Belgium, France, Germany, Italy, Netherlands, Spain, Sweden, Denmark), and Australia via eightsleep.com http://eightsleep.com. We’re excited by the success of the Pod to date and still have a long way to go toward achieving our mission\n",
      "\n",
      "That is why Eight Sleep is looking for a hands-on, research-oriented Data Engineering Co-op to help optimize data workflows for research studies. You will work closely with the current Data Engineer, ensuring data quality for all research studies, setting up data workflows that follow HIPAA guidelines and good clinical practices, and set up pipelines to streamline statistical analyses for ongoing data collections and completed studies that will be used to drive feature insights &amp; algorithm development, used for white papers and peer-reviewed publications. This role will report to the Director of Science &amp; Clinical Research at Eight Sleep, on the Research &amp; Development team.&nbsp;\n",
      "\n",
      "We are seeking someone who is passionate about health technologies and about making an impact on health outcomes, directly relating to sleep and human performance. We look for people who tackle problems with a systematic approach, and make data driven decisions to deliver the best products to our users. This role has high growth potential to contribute to the development of novel sleep technologies and to advance the field of sleep research. You will have the opportunity to work on cutting-edge projects and collaborate with a team of highly skilled professionals in sleep science, engineering, and data science.\n",
      "\n",
      "This co-op position is a unique opportunity to gain practical experience in a dynamic startup setting, tackling real-world issues that affect people's well-being. You'll have the opportunity to work with large datasets, create data pipelines, and contribute to statistical and machine learning analyses by assisting with data preparation, cleaning, and visualization.\n",
      "\n",
      "This role requires onsite work from our Boston office, located in Newton Centre, at least 3 days a week.\n",
      "\n",
      "\n",
      "\n",
      "How you'll contribute\n",
      "\n",
      " - Data engineering:&nbsp;\n",
      "   \n",
      "   - Manipulating, cleaning, and transforming raw data into a usable format for analysis (requires time aligning and parsing data from multiple sources with varying sample rates).\n",
      "   \n",
      "   - Writing, testing, and maintaining Python and SQL scripts for data analysis, and compiling results into tables and presentations.\n",
      "   \n",
      "   - Extracting and cleaning temperature and physiological data to support future Machine Learning model development.\n",
      "\n",
      " - Ensure good data quality &amp; privacy:\n",
      "   \n",
      "   - Developing and implementing processes to ensure that data are accurate, complete, and consistent throughout the data collection period of a study.\n",
      "   \n",
      "   - Building databases and workflows that ensure subjects’ PII are protected for data privacy (in accordance with HIPAA and IRB compliance).\n",
      "\n",
      " - Tooling:\n",
      "   \n",
      "   - Enhancing our existing data quality scripts by building dashboards, scripts, and/or efficient methods to check incoming study data quality to identify problems with sensors and/or trials.\n",
      "   \n",
      "   - Developing and maintaining tools and processes to improve efficiency and consistency across projects, including abstracting one-off scripts into reusable tools and developing new features for daily quality checks and study management.\n",
      "\n",
      "\n",
      "\n",
      "What you'll need to succeed&nbsp;\n",
      "\n",
      " - Bachelor's or Master's degree (or currently pursuing) in Computer Science, Software Engineering, Data Science, or a related field.\n",
      "\n",
      " - Highly proficient in SQL, AWS S3, GitHub, and Python (Pandas, Scipy, Numpy, Jupyter Notebooks, PyCharm, seaborn/matplotlib/plotly).\n",
      "\n",
      " - Experience with data manipulation, cleaning, and analysis, and data visualization.\n",
      "\n",
      " - Ability to write clean, maintainable, and efficient code using best practices.\n",
      "\n",
      " - Strong time-management skills, and excellent attention to detail while moving at a fast pace.\n",
      "\n",
      " - Flexibility: willingness to jump into new projects or assignments (e.g. help collecting data)&nbsp;\n",
      "\n",
      "\n",
      "\n",
      "Preferred\n",
      "\n",
      " - 6+ months of work experience&nbsp;\n",
      "\n",
      " - Experience working with wearable and/or human physiology data, or knowledge of sleep and physiology\n",
      "\n",
      " - Basic understanding of HIPAA, GCP, and IRB compliance for data privacy\n",
      "\n",
      " - Human research experience\n",
      "\n",
      " - Proficiency in one or more dashboard development tools, such as Tableau, Power BI, or Looker.\n",
      "\n",
      "\n",
      "\n",
      "Why you’ll love Eight&nbsp;\n",
      "\n",
      " - We’re a tight-knit, passionate team that’s working to improve people’s lives by improving the way they sleep\n",
      "\n",
      " - Leadership is committed to employees’ wellness and career development\n",
      "\n",
      "\n",
      "\n",
      "At Eight Sleep we continually celebrate the diverse community different individuals cultivate. As an equal opportunity employer, we stay true to our values by ensuring everyone feels they can flourish and grow. We are committed to equal employment opportunities regardless of race, color, ancestry, religion, sex, national origin, sexual orientation, age, citizenship, marital status, disability, gender identity or Veteran status.\">\n",
      "  \n",
      "  <meta property=\"og:image\" content=\"https://app.ashbyhq.com/api/images/org-theme-logo/beb8bf8c-4355-469f-9eb9-59a3c94c47eb/dad1d656-2ac0-4058-9452-a0e71657abcc.png\">\n",
      "    <link rel=\"preload\" as=\"image\" href=\"https://app.ashbyhq.com/api/images/org-theme-logo/beb8bf8c-4355-469f-9eb9-59a3c94c47eb/dad1d656-2ac0-4058-9452-a0e71657abcc.png\"><link rel=\"preload\" as=\"image\" href=\"https://app.ashbyhq.com/api/images/org-theme-wordmark/beb8bf8c-4355-469f-9eb9-59a3c94c47eb/62dd7bc6-7304-4cff-88b1-ffca48f2ee84.png\">\n",
      "    \n",
      "    <script type=\"text/javascript\" async=\"\" src=\"https://www.gstatic.com/recaptcha/releases/Ai7lOI0zKMDPHxlv62g7oMoJ/recaptcha__en.js\" crossorigin=\"anonymous\" integrity=\"sha384-y0d7a59tpb3WM9FRBigMjti4HLsiv/MWW91Zuxzr/Mv16ntBBPuIonQeg6R7RhRo\" nonce=\"\"></script><script type=\"application/ld+json\">{\"@context\":\"https://schema.org/\",\"@type\":\"JobPosting\",\"title\":\"Data Engineering Co-Op - Research & Development\",\"description\":\"<p style=\\\"min-height:1.5em\\\">Eight Sleep is the world’s first sleep fitness company. Our mission is to fuel human potential through optimal sleep. We use innovative technology, detailed design, and proven science and data to personalize and improve each night for everybody—changing the way people sleep forever and for the better. </p><p style=\\\"min-height:1.5em\\\">Backed by leading Silicon Valley investors, we have been recognized as one of Fast Company’s Most Innovative Companies in 2018, 2022, and 2023.</p><p style=\\\"min-height:1.5em\\\">Our temperature-regulated technology, the Pod, is an absolute game changer, improving people's health and happiness by changing the way they sleep. The Pod was also recognized two years in a row by TIME's “Best Inventions of the Year.” It is available for purchase in North America (the United States and Canada) and throughout the United Kingdom, Europe (Belgium, France, Germany, Italy, Netherlands, Spain, Sweden, Denmark), and Australia via <a target=\\\"_blank\\\" rel=\\\"noopener noreferrer nofollow\\\" href=\\\"http://eightsleep.com\\\">eightsleep.com</a>. We’re excited by the success of the Pod to date and still have a long way to go toward achieving our mission</p><p style=\\\"min-height:1.5em\\\">That is why Eight Sleep is looking for a hands-on, research-oriented Data Engineering Co-op to help optimize data workflows for research studies. You will work closely with the current Data Engineer, ensuring data quality for all research studies, setting up data workflows that follow HIPAA guidelines and good clinical practices, and set up pipelines to streamline statistical analyses for ongoing data collections and completed studies that will be used to drive feature insights &amp; algorithm development, used for white papers and peer-reviewed publications. This role will report to the Director of Science &amp; Clinical Research at Eight Sleep, on the Research &amp; Development team. </p><p style=\\\"min-height:1.5em\\\">We are seeking someone who is passionate about health technologies and about making an impact on health outcomes, directly relating to sleep and human performance. We look for people who tackle problems with a systematic approach, and make data driven decisions to deliver the best products to our users. This role has high growth potential to contribute to the development of novel sleep technologies and to advance the field of sleep research. You will have the opportunity to work on cutting-edge projects and collaborate with a team of highly skilled professionals in sleep science, engineering, and data science.</p><p style=\\\"min-height:1.5em\\\">This co-op position is a unique opportunity to gain practical experience in a dynamic startup setting, tackling real-world issues that affect people's well-being. You'll have the opportunity to work with large datasets, create data pipelines, and contribute to statistical and machine learning analyses by assisting with data preparation, cleaning, and visualization.  </p><p style=\\\"min-height:1.5em\\\"><strong>This role</strong> <strong>requires onsite work from our Boston office, located in Newton Centre, at least 3 days a week</strong>.</p><p style=\\\"min-height:1.5em\\\"></p><p style=\\\"min-height:1.5em\\\"><strong>How you'll contribute</strong></p><ul style=\\\"min-height:1.5em\\\"><li><p style=\\\"min-height:1.5em\\\"><u>Data engineering: </u></p><ul style=\\\"min-height:1.5em\\\"><li><p style=\\\"min-height:1.5em\\\">Manipulating, cleaning, and transforming raw data into a usable format for analysis (requires time aligning and parsing data from multiple sources with varying sample rates).</p></li><li><p style=\\\"min-height:1.5em\\\">Writing, testing, and maintaining Python and SQL scripts for data analysis, and compiling results into tables and presentations.</p></li><li><p style=\\\"min-height:1.5em\\\">Extracting and cleaning temperature and physiological data to support future Machine Learning model development.</p></li></ul></li><li><p style=\\\"min-height:1.5em\\\"><u>Ensure good data quality &amp; privacy:</u></p><ul style=\\\"min-height:1.5em\\\"><li><p style=\\\"min-height:1.5em\\\">Developing and implementing processes to ensure that data are accurate, complete, and consistent throughout the data collection period of a study.</p></li><li><p style=\\\"min-height:1.5em\\\">Building databases and workflows that ensure subjects’ PII are protected for data privacy (in accordance with HIPAA and IRB compliance).</p></li></ul></li><li><p style=\\\"min-height:1.5em\\\"><u>Tooling:</u></p><ul style=\\\"min-height:1.5em\\\"><li><p style=\\\"min-height:1.5em\\\">Enhancing our existing data quality scripts by building dashboards, scripts, and/or efficient methods to check incoming study data quality to identify problems with sensors and/or trials.</p></li><li><p style=\\\"min-height:1.5em\\\">Developing and maintaining tools and processes to improve efficiency and consistency across projects, including abstracting one-off scripts into reusable tools and developing new features for daily quality checks and study management.</p></li></ul></li></ul><p style=\\\"min-height:1.5em\\\"></p><p style=\\\"min-height:1.5em\\\"><strong>What you'll need to succeed </strong></p><ul style=\\\"min-height:1.5em\\\"><li><p style=\\\"min-height:1.5em\\\">Bachelor's or Master's degree (or currently pursuing) in Computer Science, Software Engineering, Data Science, or a related field.</p></li><li><p style=\\\"min-height:1.5em\\\">Highly proficient in SQL, AWS S3, GitHub, and Python (Pandas, Scipy, Numpy, Jupyter Notebooks, PyCharm, seaborn/matplotlib/plotly).</p></li><li><p style=\\\"min-height:1.5em\\\">Experience with data manipulation, cleaning, and analysis, and data visualization.</p></li><li><p style=\\\"min-height:1.5em\\\">Ability to write clean, maintainable, and efficient code using best practices.</p></li><li><p style=\\\"min-height:1.5em\\\">Strong time-management skills, and excellent attention to detail while moving at a fast pace.</p></li><li><p style=\\\"min-height:1.5em\\\">Flexibility: willingness to jump into new projects or assignments (e.g. help collecting data) </p></li></ul><p style=\\\"min-height:1.5em\\\"></p><p style=\\\"min-height:1.5em\\\"><strong>Preferred</strong></p><ul style=\\\"min-height:1.5em\\\"><li><p style=\\\"min-height:1.5em\\\">6+ months of work experience </p></li><li><p style=\\\"min-height:1.5em\\\">Experience working with wearable and/or human physiology data, or knowledge of sleep and physiology</p></li><li><p style=\\\"min-height:1.5em\\\">Basic understanding of HIPAA, GCP, and IRB compliance for data privacy</p></li><li><p style=\\\"min-height:1.5em\\\">Human research experience</p></li><li><p style=\\\"min-height:1.5em\\\">Proficiency in one or more dashboard development tools, such as Tableau, Power BI, or Looker.</p></li></ul><p style=\\\"min-height:1.5em\\\"></p><p style=\\\"min-height:1.5em\\\"><strong>Why you’ll love Eight </strong></p><ul style=\\\"min-height:1.5em\\\"><li><p style=\\\"min-height:1.5em\\\">We’re a tight-knit, passionate team that’s working to improve people’s lives by improving the way they sleep</p></li><li><p style=\\\"min-height:1.5em\\\">Leadership is committed to employees’ wellness and career development</p></li></ul><p style=\\\"min-height:1.5em\\\"></p><p style=\\\"min-height:1.5em\\\">At Eight Sleep we continually celebrate the diverse community different individuals cultivate. As an equal opportunity employer, we stay true to our values by ensuring everyone feels they can flourish and grow. We are committed to equal employment opportunities regardless of race, color, ancestry, religion, sex, national origin, sexual orientation, age, citizenship, marital status, disability, gender identity or Veteran status.</p>\",\"identifier\":{\"@type\":\"PropertyValue\",\"name\":\"Data Engineering Co-Op - Research & Development\",\"value\":\"70a2ba22-04be-45b0-823a-8fc348035e0f\"},\"datePosted\":\"2023-09-07\",\"hiringOrganization\":{\"@type\":\"Organization\",\"name\":\"Eight Sleep\",\"sameAs\":\"eightsleep.com\",\"logo\":\"https://app.ashbyhq.com/api/images/org-theme-logo/beb8bf8c-4355-469f-9eb9-59a3c94c47eb/dad1d656-2ac0-4058-9452-a0e71657abcc.png\"},\"jobLocation\":{\"@type\":\"Place\",\"address\":{\"@type\":\"PostalAddress\",\"addressLocality\":\"Boston\",\"addressRegion\":\"Massachusetts\",\"addressCountry\":\"USA\"}},\"employmentType\":\"FULL_TIME\"}</script>\n",
      "  \n",
      "  \n",
      "\n",
      "    <link rel=\"stylesheet\" type=\"text/css\" href=\"https://cdn.ashbyprd.com/frontend_non_user/8e66483770ba480554021b1acf8409b1b523e741/assets/index-7287770c.css\" media=\"all\"><link id=\"vite-preload\" rel=\"preload\" as=\"fetch\" href=\"https://cdn.ashbyprd.com/frontend_non_user/8e66483770ba480554021b1acf8409b1b523e741/manifest.json\" crossorigin=\"\">    <link rel=\"preload\" href=\"https://cdn.ashbyprd.com/cdn_assets/8e66483770ba480554021b1acf8409b1b523e741/fonts/WhitneySSm/woff2/WhitneySSm-Book_Web.woff2\" as=\"font\" type=\"font/woff2\" crossorigin=\"anonymous\">\n",
      "    <link rel=\"preload\" href=\"https://cdn.ashbyprd.com/cdn_assets/8e66483770ba480554021b1acf8409b1b523e741/fonts/WhitneySSm/woff2/WhitneySSm-Medium_Web.woff2\" as=\"font\" type=\"font/woff2\" crossorigin=\"anonymous\">\n",
      "    <link rel=\"preload\" href=\"https://cdn.ashbyprd.com/cdn_assets/8e66483770ba480554021b1acf8409b1b523e741/fonts/WhitneySSm/woff2/WhitneySSm-Semibold_Web.woff2\" as=\"font\" type=\"font/woff2\" crossorigin=\"anonymous\">\n",
      "    <link rel=\"stylesheet\" href=\"https://cdn.ashbyprd.com/cdn_assets/8e66483770ba480554021b1acf8409b1b523e741/fonts/WhitneySSm/WhitneySSm.css\">\n",
      "    <style>\n",
      "      .grecaptcha-badge {\n",
      "        visibility: hidden;\n",
      "      }\n",
      "    </style>\n",
      "\n",
      "\n",
      "  <link rel=\"modulepreload\" href=\"https://cdn.ashbyprd.com/frontend_non_user/8e66483770ba480554021b1acf8409b1b523e741/assets/index-837f554b.js\"><script type=\"module\" crossorigin=\"\" integrity=\"sha384-U2eYpDhkoq56bWOunItUrGnMGO5630B57lpZTfsHwI+ZeQB8hLaV/cTLC1oVxyGA\" src=\"https://cdn.ashbyprd.com/frontend_non_user/8e66483770ba480554021b1acf8409b1b523e741/assets/index-837f554b.js\"></script><meta name=\"robots\" content=\"all\" data-react-helmet=\"true\"></head>\n",
      "  <body>\n",
      "    <noscript>\n",
      "      You need to enable JavaScript to run this app.\n",
      "    </noscript>\n",
      "    <div id=\"root\"><div class=\"_navRoot_1d14g_29\"><ul class=\"_navContainer_1d14g_36\"><li><a class=\"_navLogoLink_1d14g_96\" href=\"https://www.eightsleep.com/\"><img class=\"_navLogoWordmarkImage_1d14g_105\" src=\"https://app.ashbyhq.com/api/images/org-theme-wordmark/beb8bf8c-4355-469f-9eb9-59a3c94c47eb/62dd7bc6-7304-4cff-88b1-ffca48f2ee84.png\" alt=\"Eight Sleep\"></a></li><li><a class=\"_link_1d14g_125 \" aria-label=\"Back to Eight Sleep’s Job Listings\" href=\"/eightsleep?utm_source=Simplify\"><svg viewBox=\"0 0 448 512\" fill=\"none\" height=\"1em\"><path d=\"M7.4 273.4C2.7 268.8 0 262.6 0 256s2.7-12.8 7.4-17.4l176-168c9.6-9.2 24.8-8.8 33.9 .8s8.8 24.8-.8 33.9L83.9 232 424 232c13.3 0 24 10.7 24 24s-10.7 24-24 24L83.9 280 216.6 406.6c9.6 9.2 9.9 24.3 .8 33.9s-24.3 9.9-33.9 .8l-176-168z\"></path></svg></a></li><li></li></ul></div><div class=\"_container_sdzkb_29 \"><div class=\"_titles_sdzkb_34\"><h1 class=\"_title_sdzkb_34 _large_sdzkb_67 ashby-job-posting-heading\">Data Engineering Co-Op - Research &amp; Development</h1></div><div class=\"_content_sdzkb_71 _details_z1j6s_424\"><div class=\"_left_z1j6s_429 ashby-job-posting-left-pane  _container_elimo_29\" data-highlight=\"none\"><div class=\" _section_elimo_37 \"><h2 class=\"_heading_elimo_53 \">Location</h2><p>Boston Area</p></div><div class=\" _section_elimo_37 \"><h2 class=\"_heading_elimo_53 \">Type</h2><p>Temporary</p></div><div class=\" _section_elimo_37 \"><h2 class=\"_heading_elimo_53 \">Department</h2><p>R&amp;D</p></div><div class=\" _section_elimo_37 \"><h2 class=\"_heading_elimo_53 \">Compensation</h2><ul class=\"_compensationTierList_z1j6s_308\"><li class=\"_compensationTierListItem_z1j6s_314\"><span class=\"_compensationTierSummary_z1j6s_330\">$20.00 – $25.00 per hour</span></li></ul></div></div><div class=\"ashby-job-posting-right-pane\"><nav class=\"_tabs_z1j6s_30\" role=\"tablist\"><a class=\"_tab_z1j6s_30\" id=\"job-overview\" aria-controls=\"overview\" tabindex=\"-1\" aria-selected=\"false\" role=\"tab\" href=\"/eightsleep/70a2ba22-04be-45b0-823a-8fc348035e0f?utm_source=Simplify\">Overview</a><a aria-current=\"page\" class=\"_tab_z1j6s_30 _active_z1j6s_60\" id=\"job-application-form\" aria-controls=\"form\" tabindex=\"0\" aria-selected=\"true\" role=\"tab\" href=\"/eightsleep/70a2ba22-04be-45b0-823a-8fc348035e0f/application?utm_source=Simplify\">Application</a><span class=\"_slider_z1j6s_69\"></span></nav><div tabindex=\"0\" role=\"tabpanel\" aria-labelledby=\"job-application-form\" id=\"form\"><div class=\"_autofillPane_z1j6s_461 ashby-application-form-autofill-pane  _container_elimo_29\" data-highlight=\"none\"><div class=\"_root_1vgha_1 ashby-application-form-autofill-input-root\" data-state=\"default\"><input accept=\".pdf,.doc,.docx,.odt,.rtf,application/pdf,application/msword,application/vnd.openxmlformats-officedocument.wordprocessingml.document,application/vnd.oasis.opendocument.text,application/rtf\" type=\"file\" style=\"display: none;\" autocomplete=\"off\" tabindex=\"-1\"><div class=\"_base_1vgha_31 ashby-application-form-autofill-input-base-layer\"><div class=\"_content_1vgha_36\"><div class=\"_text_1vgha_44\"><div class=\"_iconContainer_1vgha_53\"><svg viewBox=\"0 0 576 512\" fill=\"none\" height=\"1em\" class=\"_icon_1vgha_53 ashby-application-form-autofill-input-icon\"><path d=\"M234.7 42.7L197 56.8c-3 1.1-5 4-5 7.2s2 6.1 5 7.2l37.7 14.1L248.8 123c1.1 3 4 5 7.2 5s6.1-2 7.2-5l14.1-37.7L315 71.2c3-1.1 5-4 5-7.2s-2-6.1-5-7.2L277.3 42.7 263.2 5c-1.1-3-4-5-7.2-5s-6.1 2-7.2 5L234.7 42.7zM461.4 48L496 82.6 386.2 192.3l-34.6-34.6L461.4 48zM80 429.4L317.7 191.7l34.6 34.6L114.6 464 80 429.4zM427.4 14.1L46.1 395.4c-18.7 18.7-18.7 49.1 0 67.9l34.6 34.6c18.7 18.7 49.1 18.7 67.9 0L529.9 116.5c18.7-18.7 18.7-49.1 0-67.9L495.3 14.1c-18.7-18.7-49.1-18.7-67.9 0zM7.5 117.2C3 118.9 0 123.2 0 128s3 9.1 7.5 10.8L64 160l21.2 56.5c1.7 4.5 6 7.5 10.8 7.5s9.1-3 10.8-7.5L128 160l56.5-21.2c4.5-1.7 7.5-6 7.5-10.8s-3-9.1-7.5-10.8L128 96 106.8 39.5C105.1 35 100.8 32 96 32s-9.1 3-10.8 7.5L64 96 7.5 117.2zm352 256c-4.5 1.7-7.5 6-7.5 10.8s3 9.1 7.5 10.8L416 416l21.2 56.5c1.7 4.5 6 7.5 10.8 7.5s9.1-3 10.8-7.5L480 416l56.5-21.2c4.5-1.7 7.5-6 7.5-10.8s-3-9.1-7.5-10.8L480 352l-21.2-56.5c-1.7-4.5-6-7.5-10.8-7.5s-9.1 3-10.8 7.5L416 352l-56.5 21.2z\"></path></svg></div><h3 class=\"_title_1vgha_68 ashby-application-form-autofill-input-title\">Autofill from resume</h3><p class=\"_description_1vgha_80 ashby-application-form-autofill-input-description\">Upload your resume here to autofill key application fields.</p></div><div class=\"_cta_1vgha_90\"><button class=\"_button_yxgm9_29 _secondary_yxgm9_114   _ctaButton_1vgha_94\">Upload file</button></div></div></div><div class=\"_drag_1vgha_106 ashby-application-form-autofill-input-drag-layer\" data-state=\"hidden\"><svg viewBox=\"0 0 512 512\" fill=\"none\" height=\"1em\"><path d=\"M280 360c0 13.3-10.7 24-24 24s-24-10.7-24-24V81.9l-95 95c-9.4 9.4-24.6 9.4-33.9 0s-9.4-24.6 0-33.9L239 7c9.4-9.4 24.6-9.4 33.9 0L409 143c9.4 9.4 9.4 24.6 0 33.9s-24.6 9.4-33.9 0l-95-95V360zm32-8V304H448c35.3 0 64 28.7 64 64v80c0 35.3-28.7 64-64 64H64c-35.3 0-64-28.7-64-64V368c0-35.3 28.7-64 64-64H200v48H64c-8.8 0-16 7.2-16 16v80c0 8.8 7.2 16 16 16H448c8.8 0 16-7.2 16-16V368c0-8.8-7.2-16-16-16H312zm72 56a24 24 0 1 1 48 0 24 24 0 1 1 -48 0z\"></path></svg><span>Drop your resume here!</span></div><div class=\"_pending_1vgha_107 ashby-application-form-autofill-input-pending-layer\" data-state=\"hidden\"><span aria-label=\"Loading...\" role=\"progressbar\" class=\"_spinner_8ul1h_9 _spinner-size-md_8ul1h_26 _spinner-speed-normal_8ul1h_42\"></span><span>Parsing your resume. Autofilling key fields...</span></div></div></div><div class=\"_jobPostingForm_z1j6s_407 ashby-application-form-container  _container_elimo_29\" data-highlight=\"none\"><div class=\"_section_z1j6s_90 ashby-application-form-section-container\"><div class=\"_fieldEntry_1dgff_29 ashby-application-form-field-entry\"><label class=\"_heading_elimo_53 _required_elimo_92 _label_1dgff_43 ashby-application-form-question-title\" for=\"_systemfield_name\">Name</label><input placeholder=\"Type here...\" name=\"_systemfield_name\" required=\"\" id=\"_systemfield_name\" type=\"text\" class=\"_input_1xsmr_28 _input_1dgff_33\" value=\"\"></div><div class=\"_fieldEntry_1dgff_29 ashby-application-form-field-entry\"><label class=\"_heading_elimo_53 _required_elimo_92 _label_1dgff_43 ashby-application-form-question-title\" for=\"_systemfield_email\">Email</label><input placeholder=\"hello@example.com...\" name=\"_systemfield_email\" required=\"\" id=\"_systemfield_email\" type=\"email\" class=\"_input_1xsmr_28 _input_1dgff_33\" value=\"\"></div><div class=\"_fieldEntry_1dgff_29 ashby-application-form-field-entry\"><label class=\"_heading_elimo_53 _required_elimo_92 _label_1dgff_43 ashby-application-form-question-title\" for=\"_systemfield_resume\">Resume</label><div class=\"_container_izfez_71 \"><input accept=\".pdf,.doc,.docx,.odt,.rtf,image/*,video/*,audio/*,application/pdf,application/msword,application/vnd.openxmlformats-officedocument.wordprocessingml.document,application/vnd.oasis.opendocument.text,application/rtf\" type=\"file\" style=\"display: none;\" autocomplete=\"off\" tabindex=\"-1\" id=\"_systemfield_resume\" required=\"\"><div class=\"_instructions_izfez_34\"><button class=\"_button_yxgm9_29 _secondary_yxgm9_114   _button_izfez_111\"><svg viewBox=\"0 0 448 512\" fill=\"none\" height=\"1em\"><path d=\"M375 73c-26-26-68.1-26-94.1 0L89 265C45.3 308.6 45.3 379.4 89 423s114.4 43.6 158.1 0L399 271c9.4-9.4 24.6-9.4 33.9 0s9.4 24.6 0 33.9L281 457c-62.4 62.4-163.5 62.4-225.9 0S-7.4 293.4 55 231L247 39C291.7-5.7 364.2-5.7 409 39s44.7 117.2 0 161.9L225.2 384.7c-31.6 31.6-83.6 28.7-111.5-6.2c-23.8-29.8-21.5-72.8 5.5-99.8L271 127c9.4-9.4 24.6-9.4 33.9 0s9.4 24.6 0 33.9L153.2 312.7c-9.7 9.7-10.6 25.1-2 35.8c10 12.5 28.7 13.6 40 2.2L375 167c26-26 26-68.1 0-94.1z\"></path></svg><span><span>Upload File</span></span></button><p class=\"_dragInstructions_izfez_29\">or drag and drop here</p></div></div></div><div class=\"_fieldEntry_1dgff_29 ashby-application-form-field-entry\"><label class=\"_heading_elimo_53 _required_elimo_92 _label_1dgff_43 ashby-application-form-question-title\" for=\"1bc0127d-4b81-4264-90da-6bfb4d39ef21\">Why do you want to join Eight Sleep?</label><textarea placeholder=\"Type here...\" required=\"\" name=\"1bc0127d-4b81-4264-90da-6bfb4d39ef21\" id=\"1bc0127d-4b81-4264-90da-6bfb4d39ef21\" class=\"_input_gsl38_29 _input_1dgff_33 \" rows=\"4\"></textarea></div><div class=\"_fieldEntry_1dgff_29 ashby-application-form-field-entry\"><label class=\"_heading_elimo_53 _required_elimo_92 _label_1dgff_43 ashby-application-form-question-title\" for=\"3306ccd6-4a4f-4f03-b11c-86e7bae38ad1\">Are you legally authorized to work in the United States?</label><div class=\"_container_y2cw4_29 _yesno_1dgff_136 \"><button class=\"_container_pjyt6_1 _option_y2cw4_33 \">Yes</button><button class=\"_container_pjyt6_1 _option_y2cw4_33 \">No</button><input type=\"checkbox\" class=\"_input_y2cw4_79\" tabindex=\"-1\" name=\"3306ccd6-4a4f-4f03-b11c-86e7bae38ad1\"></div></div><fieldset class=\"_container_1v5e2_29 _fieldEntry_1dgff_29\"><label class=\"_heading_elimo_53 _required_elimo_92 _label_1dgff_43 ashby-application-form-question-title\" for=\"cefd7ab1-7698-4151-9870-e9876684992e\">What degree are you currently pursuing?</label><div class=\"_option_1v5e2_35 false\"><span class=\"_container_ruukg_29\" data-disabled=\"false\"><span class=\"_circle_ruukg_74\"></span><input type=\"radio\" id=\"41e00180-cb86-41f4-851e-77c737c2def9-labeled-radio-0\" name=\"41e00180-cb86-41f4-851e-77c737c2def9\"></span><label for=\"41e00180-cb86-41f4-851e-77c737c2def9-labeled-radio-0\" class=\"_label_1v5e2_43 \">Undergraduate degree</label></div><div class=\"_option_1v5e2_35 false\"><span class=\"_container_ruukg_29\" data-disabled=\"false\"><span class=\"_circle_ruukg_74\"></span><input type=\"radio\" id=\"41e00180-cb86-41f4-851e-77c737c2def9-labeled-radio-1\" name=\"41e00180-cb86-41f4-851e-77c737c2def9\"></span><label for=\"41e00180-cb86-41f4-851e-77c737c2def9-labeled-radio-1\" class=\"_label_1v5e2_43 \">Masters degree</label></div><div class=\"_option_1v5e2_35 false\"><span class=\"_container_ruukg_29\" data-disabled=\"false\"><span class=\"_circle_ruukg_74\"></span><input type=\"radio\" id=\"41e00180-cb86-41f4-851e-77c737c2def9-labeled-radio-2\" name=\"41e00180-cb86-41f4-851e-77c737c2def9\"></span><label for=\"41e00180-cb86-41f4-851e-77c737c2def9-labeled-radio-2\" class=\"_label_1v5e2_43 \">Other</label></div></fieldset><div class=\"_fieldEntry_1dgff_29 ashby-application-form-field-entry\"><label class=\"_heading_elimo_53 _required_elimo_92 _label_1dgff_43 ashby-application-form-question-title\" for=\"ffaf6121-a82b-4cce-9892-2987bb67234c\">Are you currently located in Boston area or willing to relocate on your own?</label><div class=\"_container_y2cw4_29 _yesno_1dgff_136 \"><button class=\"_container_pjyt6_1 _option_y2cw4_33 \">Yes</button><button class=\"_container_pjyt6_1 _option_y2cw4_33 \">No</button><input type=\"checkbox\" class=\"_input_y2cw4_79\" tabindex=\"-1\" name=\"ffaf6121-a82b-4cce-9892-2987bb67234c\"></div></div><div class=\"_fieldEntry_1dgff_29 ashby-application-form-field-entry\"><label class=\"_heading_elimo_53 _required_elimo_92 _label_1dgff_43 ashby-application-form-question-title\" for=\"09dd7b21-dbef-4fd5-a835-379a3906a797\">Are you willing to work onsite at our Boston office (located in Newton Centre) at least 3 days a week?</label><div class=\"_container_y2cw4_29 _yesno_1dgff_136 \"><button class=\"_container_pjyt6_1 _option_y2cw4_33 \">Yes</button><button class=\"_container_pjyt6_1 _option_y2cw4_33 \">No</button><input type=\"checkbox\" class=\"_input_y2cw4_79\" tabindex=\"-1\" name=\"09dd7b21-dbef-4fd5-a835-379a3906a797\"></div></div><div class=\"_fieldEntry_1dgff_29 ashby-application-form-field-entry\"><label class=\"_heading_elimo_53 _required_elimo_92 _label_1dgff_43 ashby-application-form-question-title\" for=\"b71ed548-114c-4db8-9c3b-6c1423ae71a0\">Are you able to work a normal 9-5 schedule for 40 hours per week, with occasional weekend work (monitoring study data for a couple hours on the weekend)?</label><div class=\"_container_y2cw4_29 _yesno_1dgff_136 \"><button class=\"_container_pjyt6_1 _option_y2cw4_33 \">Yes</button><button class=\"_container_pjyt6_1 _option_y2cw4_33 \">No</button><input type=\"checkbox\" class=\"_input_y2cw4_79\" tabindex=\"-1\" name=\"b71ed548-114c-4db8-9c3b-6c1423ae71a0\"></div></div><div class=\"_fieldEntry_1dgff_29 ashby-application-form-field-entry\"><label class=\"_heading_elimo_53 _required_elimo_92 _label_1dgff_43 ashby-application-form-question-title\" for=\"b10af23c-d987-45de-a5f3-c2a453b5896a\">Are you available from January 2nd - June 30th 2024 for 40 hours per week?</label><div class=\"_container_y2cw4_29 _yesno_1dgff_136 \"><button class=\"_container_pjyt6_1 _option_y2cw4_33 \">Yes</button><button class=\"_container_pjyt6_1 _option_y2cw4_33 \">No</button><input type=\"checkbox\" class=\"_input_y2cw4_79\" tabindex=\"-1\" name=\"b10af23c-d987-45de-a5f3-c2a453b5896a\"></div></div><div class=\"_fieldEntry_1dgff_29 ashby-application-form-field-entry\"><label class=\"_heading_elimo_53 _required_elimo_92 _label_1dgff_43 ashby-application-form-question-title\" for=\"24621a81-a702-46c8-a090-6468b9b7a898\">Are you aware this position is a Data Engineering co-op, not Machine Learning? The main tasks will include: 1. Manipulating, cleaning, and transforming raw data into a usable format for analysis 2. Enhancing our existing data quality scripts to ensure that data are accurate, complete, and consistent throughout the data collection period of a study 3. Developing and maintaining tools and processes to improve efficiency and consistency across projects</label><div class=\"_container_y2cw4_29 _yesno_1dgff_136 \"><button class=\"_container_pjyt6_1 _option_y2cw4_33 \">Yes</button><button class=\"_container_pjyt6_1 _option_y2cw4_33 \">No</button><input type=\"checkbox\" class=\"_input_y2cw4_79\" tabindex=\"-1\" name=\"24621a81-a702-46c8-a090-6468b9b7a898\"></div></div><fieldset class=\"_container_1v5e2_29 _fieldEntry_1dgff_29\"><label class=\"_heading_elimo_53 _required_elimo_92 _label_1dgff_43 ashby-application-form-question-title\" for=\"4dd9e9a0-79c2-4fe6-bd83-e482b064f2db\">How many years of python coding experience do you have?</label><div class=\"_option_1v5e2_35 false\"><span class=\"_container_ruukg_29\" data-disabled=\"false\"><span class=\"_circle_ruukg_74\"></span><input type=\"radio\" id=\"474b3d30-879f-49c5-baa1-5cd82afb57e3-labeled-radio-0\" name=\"474b3d30-879f-49c5-baa1-5cd82afb57e3\"></span><label for=\"474b3d30-879f-49c5-baa1-5cd82afb57e3-labeled-radio-0\" class=\"_label_1v5e2_43 \">Less than 1 year</label></div><div class=\"_option_1v5e2_35 false\"><span class=\"_container_ruukg_29\" data-disabled=\"false\"><span class=\"_circle_ruukg_74\"></span><input type=\"radio\" id=\"474b3d30-879f-49c5-baa1-5cd82afb57e3-labeled-radio-1\" name=\"474b3d30-879f-49c5-baa1-5cd82afb57e3\"></span><label for=\"474b3d30-879f-49c5-baa1-5cd82afb57e3-labeled-radio-1\" class=\"_label_1v5e2_43 \">1-2 years</label></div><div class=\"_option_1v5e2_35 false\"><span class=\"_container_ruukg_29\" data-disabled=\"false\"><span class=\"_circle_ruukg_74\"></span><input type=\"radio\" id=\"474b3d30-879f-49c5-baa1-5cd82afb57e3-labeled-radio-2\" name=\"474b3d30-879f-49c5-baa1-5cd82afb57e3\"></span><label for=\"474b3d30-879f-49c5-baa1-5cd82afb57e3-labeled-radio-2\" class=\"_label_1v5e2_43 \">2+ years</label></div></fieldset><div class=\"_fieldEntry_1dgff_29 ashby-application-form-field-entry\"><label class=\"_heading_elimo_53 _required_elimo_92 _label_1dgff_43 ashby-application-form-question-title\" for=\"3e7aa525-01be-4b61-99f1-c3dd7ecea150\">How many years of work experience do you have as a data engineer, data scientist, or software engineer? Feel free to include time spent working as an intern, co-op, etc.</label><textarea placeholder=\"Type here...\" required=\"\" name=\"3e7aa525-01be-4b61-99f1-c3dd7ecea150\" id=\"3e7aa525-01be-4b61-99f1-c3dd7ecea150\" class=\"_input_gsl38_29 _input_1dgff_33 \" rows=\"4\"></textarea></div><fieldset class=\"_container_1v5e2_29 _fieldEntry_1dgff_29\"><label class=\"_heading_elimo_53 _required_elimo_92 _label_1dgff_43 ashby-application-form-question-title\" for=\"00ea5595-b66a-44d6-bd0d-e8e432bde76c\">How many years of experience do you have using Github in your workflow?</label><div class=\"_option_1v5e2_35 false\"><span class=\"_container_ruukg_29\" data-disabled=\"false\"><span class=\"_circle_ruukg_74\"></span><input type=\"radio\" id=\"b00c9999-6dc6-47dc-8ad8-79c783b78c4b-labeled-radio-0\" name=\"b00c9999-6dc6-47dc-8ad8-79c783b78c4b\"></span><label for=\"b00c9999-6dc6-47dc-8ad8-79c783b78c4b-labeled-radio-0\" class=\"_label_1v5e2_43 \">Less than 1 year</label></div><div class=\"_option_1v5e2_35 false\"><span class=\"_container_ruukg_29\" data-disabled=\"false\"><span class=\"_circle_ruukg_74\"></span><input type=\"radio\" id=\"b00c9999-6dc6-47dc-8ad8-79c783b78c4b-labeled-radio-1\" name=\"b00c9999-6dc6-47dc-8ad8-79c783b78c4b\"></span><label for=\"b00c9999-6dc6-47dc-8ad8-79c783b78c4b-labeled-radio-1\" class=\"_label_1v5e2_43 \">1-2 years</label></div><div class=\"_option_1v5e2_35 false\"><span class=\"_container_ruukg_29\" data-disabled=\"false\"><span class=\"_circle_ruukg_74\"></span><input type=\"radio\" id=\"b00c9999-6dc6-47dc-8ad8-79c783b78c4b-labeled-radio-2\" name=\"b00c9999-6dc6-47dc-8ad8-79c783b78c4b\"></span><label for=\"b00c9999-6dc6-47dc-8ad8-79c783b78c4b-labeled-radio-2\" class=\"_label_1v5e2_43 \">2+ years</label></div></fieldset><fieldset class=\"_container_1v5e2_29 _fieldEntry_1dgff_29\"><label class=\"_heading_elimo_53 _required_elimo_92 _label_1dgff_43 ashby-application-form-question-title\" for=\"b4c6a61c-4485-49c3-b81d-e49e5ad10c77\">What is your experience level with parsing &amp; time aligning data using pandas, numpy, pendulum, etc? (Note that you will be sent a coding challenge that will further test these skills)</label><div class=\"_option_1v5e2_35 false\"><span class=\"_container_ruukg_29\" data-disabled=\"false\"><span class=\"_circle_ruukg_74\"></span><input type=\"radio\" id=\"b41de1e2-b423-4612-b520-44738779a3ff-labeled-radio-0\" name=\"b41de1e2-b423-4612-b520-44738779a3ff\"></span><label for=\"b41de1e2-b423-4612-b520-44738779a3ff-labeled-radio-0\" class=\"_label_1v5e2_43 \">Beginner: I've worked with small datasets from a single source (&lt;100 rows, no time alignment required)</label></div><div class=\"_option_1v5e2_35 false\"><span class=\"_container_ruukg_29\" data-disabled=\"false\"><span class=\"_circle_ruukg_74\"></span><input type=\"radio\" id=\"b41de1e2-b423-4612-b520-44738779a3ff-labeled-radio-1\" name=\"b41de1e2-b423-4612-b520-44738779a3ff\"></span><label for=\"b41de1e2-b423-4612-b520-44738779a3ff-labeled-radio-1\" class=\"_label_1v5e2_43 \">Intermediate: I've worked with aligning moderately-sized datasets with data from multiple sources</label></div><div class=\"_option_1v5e2_35 false\"><span class=\"_container_ruukg_29\" data-disabled=\"false\"><span class=\"_circle_ruukg_74\"></span><input type=\"radio\" id=\"b41de1e2-b423-4612-b520-44738779a3ff-labeled-radio-2\" name=\"b41de1e2-b423-4612-b520-44738779a3ff\"></span><label for=\"b41de1e2-b423-4612-b520-44738779a3ff-labeled-radio-2\" class=\"_label_1v5e2_43 \">Advanced: I do this on a daily basis &amp; have worked with very large datasets with multiple types of file sources (i.e. json, csv, api, etc</label></div><div class=\"_option_1v5e2_35 false\"><span class=\"_container_ruukg_29\" data-disabled=\"false\"><span class=\"_circle_ruukg_74\"></span><input type=\"radio\" id=\"b41de1e2-b423-4612-b520-44738779a3ff-labeled-radio-3\" name=\"b41de1e2-b423-4612-b520-44738779a3ff\"></span><label for=\"b41de1e2-b423-4612-b520-44738779a3ff-labeled-radio-3\" class=\"_label_1v5e2_43 \">Not applicable: I do not have any experience parsing &amp; time aligning data</label></div></fieldset><fieldset class=\"_container_1v5e2_29 _fieldEntry_1dgff_29\"><label class=\"_heading_elimo_53 _required_elimo_92 _label_1dgff_43 ashby-application-form-question-title\" for=\"57183933-fa50-4aa5-bb20-6755567c26e6\">How would you rate your experience with object-oriented design in Python and your familiarity with best code practices, such as testing, documentation, and code reusability? Please use the following definitions to guide your answer:</label><div class=\"_option_1v5e2_35 false\"><span class=\"_container_ruukg_29\" data-disabled=\"false\"><span class=\"_circle_ruukg_74\"></span><input type=\"radio\" id=\"6a8158d9-de2c-4c4a-95f2-ffbf47f0f1f2-labeled-radio-0\" name=\"6a8158d9-de2c-4c4a-95f2-ffbf47f0f1f2\"></span><label for=\"6a8158d9-de2c-4c4a-95f2-ffbf47f0f1f2-labeled-radio-0\" class=\"_label_1v5e2_43 \">Beginner: I have a basic understanding of object-oriented design in Python and I am familiar with basic best code practices, such as writing comments and using meaningful variable names.</label></div><div class=\"_option_1v5e2_35 false\"><span class=\"_container_ruukg_29\" data-disabled=\"false\"><span class=\"_circle_ruukg_74\"></span><input type=\"radio\" id=\"6a8158d9-de2c-4c4a-95f2-ffbf47f0f1f2-labeled-radio-1\" name=\"6a8158d9-de2c-4c4a-95f2-ffbf47f0f1f2\"></span><label for=\"6a8158d9-de2c-4c4a-95f2-ffbf47f0f1f2-labeled-radio-1\" class=\"_label_1v5e2_43 \">Intermediate: I have a good understanding of object-oriented design in Python and I regularly use best code practices, such as writing automated tests, documenting my code, and creating reusable code modules.</label></div><div class=\"_option_1v5e2_35 false\"><span class=\"_container_ruukg_29\" data-disabled=\"false\"><span class=\"_circle_ruukg_74\"></span><input type=\"radio\" id=\"6a8158d9-de2c-4c4a-95f2-ffbf47f0f1f2-labeled-radio-2\" name=\"6a8158d9-de2c-4c4a-95f2-ffbf47f0f1f2\"></span><label for=\"6a8158d9-de2c-4c4a-95f2-ffbf47f0f1f2-labeled-radio-2\" class=\"_label_1v5e2_43 \">Advanced: I have extensive knowledge of object-oriented design in Python and I consistently implement best code practices, such as unit testing, API documentation, and modular design, in my projects.</label></div></fieldset><fieldset class=\"_container_1v5e2_29 _fieldEntry_1dgff_29\"><label class=\"_heading_elimo_53 _required_elimo_92 _label_1dgff_43 ashby-application-form-question-title\" for=\"34b4abe4-0486-4ae2-b970-e67c6251e54c\">Please rate your experience level working with SQL. (Note that you will also be further tested on your SQL skills)</label><div class=\"_option_1v5e2_35 false\"><span class=\"_container_ruukg_29\" data-disabled=\"false\"><span class=\"_circle_ruukg_74\"></span><input type=\"radio\" id=\"553c6f4d-54ae-4915-93dc-bf5f821e1375-labeled-radio-0\" name=\"553c6f4d-54ae-4915-93dc-bf5f821e1375\"></span><label for=\"553c6f4d-54ae-4915-93dc-bf5f821e1375-labeled-radio-0\" class=\"_label_1v5e2_43 \">Beginner: Have basic knowledge of SQL and can write simple queries.</label></div><div class=\"_option_1v5e2_35 false\"><span class=\"_container_ruukg_29\" data-disabled=\"false\"><span class=\"_circle_ruukg_74\"></span><input type=\"radio\" id=\"553c6f4d-54ae-4915-93dc-bf5f821e1375-labeled-radio-1\" name=\"553c6f4d-54ae-4915-93dc-bf5f821e1375\"></span><label for=\"553c6f4d-54ae-4915-93dc-bf5f821e1375-labeled-radio-1\" class=\"_label_1v5e2_43 \">Intermediate: Have a good understanding of SQL concepts and can write complex queries.</label></div><div class=\"_option_1v5e2_35 false\"><span class=\"_container_ruukg_29\" data-disabled=\"false\"><span class=\"_circle_ruukg_74\"></span><input type=\"radio\" id=\"553c6f4d-54ae-4915-93dc-bf5f821e1375-labeled-radio-2\" name=\"553c6f4d-54ae-4915-93dc-bf5f821e1375\"></span><label for=\"553c6f4d-54ae-4915-93dc-bf5f821e1375-labeled-radio-2\" class=\"_label_1v5e2_43 \">Advanced: Have extensive knowledge of SQL and can design and optimize complex databases.</label></div><div class=\"_option_1v5e2_35 false\"><span class=\"_container_ruukg_29\" data-disabled=\"false\"><span class=\"_circle_ruukg_74\"></span><input type=\"radio\" id=\"553c6f4d-54ae-4915-93dc-bf5f821e1375-labeled-radio-3\" name=\"553c6f4d-54ae-4915-93dc-bf5f821e1375\"></span><label for=\"553c6f4d-54ae-4915-93dc-bf5f821e1375-labeled-radio-3\" class=\"_label_1v5e2_43 \">Not applicable: I have not used SQL previously.</label></div></fieldset><div class=\"_fieldEntry_1dgff_29 ashby-application-form-field-entry\"><label class=\"_heading_elimo_53 _required_elimo_92 _label_1dgff_43 ashby-application-form-question-title\" for=\"461a1c51-b0ce-4d16-a812-d5ce079f6f0b\">Please describe your experience with data visualization tools.</label><textarea placeholder=\"Type here...\" required=\"\" name=\"461a1c51-b0ce-4d16-a812-d5ce079f6f0b\" id=\"461a1c51-b0ce-4d16-a812-d5ce079f6f0b\" class=\"_input_gsl38_29 _input_1dgff_33 \" rows=\"4\"></textarea></div><div class=\"_fieldEntry_1dgff_29 ashby-application-form-field-entry\"><label class=\"_heading_elimo_53 _required_elimo_92 _label_1dgff_43 ashby-application-form-question-title\" for=\"1427fa04-c319-4ca9-96af-3313a32d9c98\">Can you tell me about a project you worked on using Python and how you approached the design and implementation? Please feel free to discuss any best code practices you followed during the project, such as testing, documentation, and code reusability.</label><textarea placeholder=\"Type here...\" required=\"\" name=\"1427fa04-c319-4ca9-96af-3313a32d9c98\" id=\"1427fa04-c319-4ca9-96af-3313a32d9c98\" class=\"_input_gsl38_29 _input_1dgff_33 \" rows=\"4\"></textarea></div></div></div><button class=\"_button_yxgm9_29 _primary_yxgm9_96  _greedy_yxgm9_218 _submitButton_z1j6s_418 ashby-application-form-submit-button\"><span>Submit Application</span><svg viewBox=\"0 0 512 512\" fill=\"none\" height=\"1em\"><path d=\"M498.1 5.6c10.1 7 15.4 19.1 13.5 31.2l-64 416c-1.5 9.7-7.4 18.2-16 23s-18.9 5.4-28 1.6L284 427.7l-68.5 74.1c-8.9 9.7-22.9 12.9-35.2 8.1S160 493.2 160 480V396.4c0-4 1.5-7.8 4.2-10.7L331.8 202.8c5.8-6.3 5.6-16-.4-22s-15.7-6.4-22-.7L106 360.8 17.7 316.6C7.1 311.3 .3 300.7 0 288.9s5.9-22.8 16.1-28.7l448-256c10.7-6.1 23.9-5.5 34 1.4z\"></path></svg></button></div></div></div></div><p class=\"_recaptchaLegal_l26em_29\">This site is protected by reCAPTCHA and the Google&nbsp;<a href=\"https://policies.google.com/privacy\" target=\"_blank\" rel=\"noopener\">Privacy Policy</a> and&nbsp;<a href=\"https://policies.google.com/terms\" target=\"_blank\" rel=\"noopener\">Terms of Service</a> apply.</p><footer class=\"_container_l26em_28 \"><a href=\"https://www.ashbyhq.com\" target=\"_blank\" rel=\"noopener\" class=\"_powered_l26em_65\" aria-label=\"Learn more about Ashby\"><span>Powered by&nbsp;</span><svg viewBox=\"0 0 1540 512\" fill=\"none\" height=\"1em\" class=\"_wordmark_l26em_78\"><title>Ashby</title><path d=\"M348.899 368.429C353.474 379.689 358.4 388.135 363.678 393.765C369.309 399.043 374.763 401.858 380.041 402.21V412.767C354.705 411.711 322.683 411.184 283.975 411.184C243.86 411.184 214.301 411.711 195.299 412.767V402.21C208.671 401.507 218.172 399.923 223.802 397.46C229.432 394.645 232.247 389.894 232.247 383.208C232.247 376.874 230.136 368.429 225.913 357.872L194.771 271.307H88.1485L79.1753 295.06C67.5629 324.97 61.7567 347.843 61.7567 363.678C61.7567 378.106 65.8034 387.959 73.8969 393.237C81.9904 398.516 93.9546 401.507 109.79 402.21V412.767C83.3979 411.711 60.3491 411.184 40.6433 411.184C24.1045 411.184 10.5567 411.711 0 412.767V402.21C8.79725 400.803 17.0667 395.348 24.8082 385.847C32.5498 376.346 40.4674 361.215 48.5608 340.454L165.74 39.0598C177.001 39.7636 186.326 40.1155 193.715 40.1155C200.753 40.1155 209.902 39.7636 221.163 39.0598L348.899 368.429ZM191.076 260.751L143.043 128.792L92.3711 260.751H191.076Z\"></path><path d=\"M498.478 131.431C512.202 131.431 525.046 133.014 537.01 136.181C549.326 138.997 558.652 142.164 564.986 145.682C568.856 147.794 572.023 148.85 574.487 148.85C581.876 148.85 586.275 143.219 587.682 131.959H598.239C596.832 150.257 596.128 181.927 596.128 226.969H585.571C582.756 203.744 576.07 184.214 565.513 168.379C555.309 152.192 540.353 144.099 520.647 144.099C511.85 144.099 504.46 146.738 498.478 152.017C492.496 157.295 489.505 164.509 489.505 173.658C489.505 185.27 493.376 195.651 501.118 204.8C508.859 213.597 520.999 224.506 537.538 237.526C538.242 237.878 543.344 241.924 552.845 249.666C572.551 265.853 586.979 280.28 596.128 292.948C605.277 305.265 609.852 320.572 609.852 338.87C609.852 354.353 605.101 368.429 595.6 381.097C586.099 393.413 573.079 403.09 556.54 410.128C540.353 416.814 522.583 420.157 503.229 420.157C481.06 420.157 462.937 415.758 448.862 406.961C442.88 403.794 437.953 401.507 434.082 400.099C430.212 398.691 426.341 397.988 422.47 397.988C415.784 397.988 410.858 404.146 407.691 416.462H397.134C398.542 396.404 399.245 361.215 399.245 310.895H409.802C412.969 339.75 420.711 362.975 433.027 380.569C445.343 398.164 460.826 406.961 479.476 406.961C488.274 406.961 495.487 404.498 501.118 399.571C507.1 394.645 510.091 387.431 510.091 377.93C510.091 368.077 507.979 359.28 503.757 351.538C499.886 343.797 494.959 336.935 488.977 330.953C483.347 324.619 474.022 315.645 461.002 304.033C446.223 290.309 434.962 279.401 427.221 271.307C419.479 263.214 412.793 253.889 407.163 243.332C401.885 232.423 399.245 220.459 399.245 207.439C399.245 192.308 403.82 178.936 412.969 167.324C422.118 155.711 434.258 146.914 449.39 140.932C464.521 134.598 480.884 131.431 498.478 131.431Z\"></path><path d=\"M759.588 171.019C775.423 144.627 803.398 131.431 843.513 131.431C871.665 131.431 891.546 138.469 903.159 152.544C908.437 158.878 912.308 167.5 914.771 178.408C917.234 188.965 918.466 203.041 918.466 220.635V363.678C918.466 378.106 920.577 388.135 924.8 393.765C929.375 399.043 937.116 401.682 948.025 401.682V412.767C910.021 411.359 885.388 410.656 874.128 410.656C862.164 410.656 837.179 411.359 799.175 412.767V401.682C808.324 401.682 814.658 399.043 818.177 393.765C821.696 388.135 823.456 378.106 823.456 363.678V192.132C823.456 180.872 821.344 172.602 817.122 167.324C813.251 161.693 806.741 158.878 797.592 158.878C787.387 158.878 778.414 162.573 770.672 169.963C763.282 177.001 759.588 185.974 759.588 196.882V363.678C759.588 378.106 761.347 388.135 764.866 393.765C768.385 399.043 774.719 401.682 783.868 401.682V412.767C748.679 411.359 725.454 410.656 714.194 410.656C702.229 410.656 675.838 411.359 635.019 412.767V401.682C645.927 401.682 653.493 399.043 657.715 393.765C662.29 388.135 664.577 378.106 664.577 363.678V63.3402C664.577 47.1533 662.29 35.365 657.715 27.9753C653.493 20.5856 645.927 16.8907 635.019 16.8907V5.8062C645.927 6.86188 656.836 7.38972 667.744 7.38972C704.341 7.38972 734.955 4.92648 759.588 0V171.019Z\"></path><path d=\"M1162.36 131.431C1189.81 131.431 1211.98 142.691 1228.87 165.212C1245.76 187.733 1254.21 220.635 1254.21 263.918C1254.21 319.868 1242.95 359.984 1220.42 384.264C1197.9 408.192 1168.17 420.157 1131.22 420.157C1119.96 420.157 1110.46 419.805 1102.72 419.101C1095.33 418.397 1088.47 416.638 1082.13 413.823C1069.11 408.544 1055.56 405.905 1041.49 405.905C1030.93 405.905 1021.08 407.313 1011.93 410.128C1002.78 412.943 995.743 416.638 990.816 421.212L983.427 415.934C985.89 408.544 987.122 398.867 987.122 386.903V63.3402C987.122 47.1533 984.834 35.365 980.26 27.9753C976.037 20.5856 968.471 16.8907 957.563 16.8907V5.8062C968.471 6.86188 979.38 7.38972 990.289 7.38972C1026.89 7.38972 1057.5 4.92648 1082.13 0V171.019C1098.32 144.627 1125.06 131.431 1162.36 131.431ZM1106.94 409.6C1139.31 409.6 1155.5 365.086 1155.5 276.058C1155.5 232.775 1152.33 202.513 1146 185.27C1139.67 167.676 1131.04 158.878 1120.14 158.878C1109.93 158.878 1100.96 162.573 1093.22 169.963C1085.83 177.001 1082.13 185.974 1082.13 196.882V403.266C1090.23 407.489 1098.49 409.6 1106.94 409.6Z\"></path><path d=\"M1499.1 140.932C1519.16 140.932 1532.71 140.228 1539.74 138.821V149.905C1532.35 152.368 1525.49 157.471 1519.16 165.212C1513.18 172.954 1507.55 184.918 1502.27 201.105L1436.29 397.46L1414.12 461.328C1407.79 479.626 1400.04 492.294 1390.89 499.332C1379.99 507.777 1363.62 512 1341.81 512C1324.21 512 1307.85 507.777 1292.72 499.332C1277.59 491.239 1270.02 478.922 1270.02 462.384C1270.02 450.067 1274.77 440.214 1284.27 432.825C1293.77 425.435 1306.27 421.74 1321.75 421.74C1336.53 421.74 1348.14 425.083 1356.59 431.769C1365.03 438.455 1369.25 448.132 1369.25 460.8C1369.25 469.245 1366.26 477.163 1360.28 484.553C1354.65 492.294 1346.2 497.924 1334.94 501.443C1338.46 502.147 1344.45 502.499 1352.89 502.499C1377.17 502.499 1393.89 488.423 1403.03 460.272L1405.67 451.299L1282.69 179.464C1277.41 167.5 1272.13 159.582 1266.85 155.711C1261.93 151.841 1257 149.905 1252.07 149.905V138.821C1280.23 140.932 1308.9 141.988 1338.11 141.988C1360.98 141.988 1386.5 140.932 1414.65 138.821V149.905C1404.44 149.905 1396.53 150.609 1390.89 152.017C1385.62 153.424 1382.98 156.591 1382.98 161.518C1382.98 164.333 1383.68 167.148 1385.09 169.963L1450.01 324.619L1472.18 257.056C1478.87 236.646 1482.21 218.7 1482.21 203.217C1482.21 186.678 1478.69 173.834 1471.65 164.685C1464.62 155.535 1455.29 150.609 1443.68 149.905V138.821C1456.7 140.228 1475.17 140.932 1499.1 140.932Z\"></path></svg></a><p class=\"_links_l26em_119\"><a href=\"https://www.ashbyhq.com/privacy\" target=\"_blank\" rel=\"noopener\" class=\"_link_l26em_86\">Privacy Policy</a><a href=\"https://www.ashbyhq.com/security\" target=\"_blank\" rel=\"noopener\" class=\"_link_l26em_86\">Security</a><a href=\"https://www.ashbyhq.com/disclosure\" target=\"_blank\" rel=\"noopener\" class=\"_link_l26em_86\">Vulnerability Disclosure</a></p></footer><div class=\"_toasts_1de86_59\"></div></div>\n",
      "    <script nonce=\"\">\n",
      "      window.__appData = {\"ddRumApplicationId\":\"80e0bf43-e772-45ac-858b-1e6dc0f1f415\",\"ddRumClientToken\":\"pub1a87c7036063ee7d4b7914b397e6324e\",\"environment\":\"production\",\"maintenanceMode\":false,\"organization\":{\"name\":\"Eight Sleep\",\"publicWebsite\":\"https://www.eightsleep.com/\",\"customJobsPageUrl\":null,\"activeFeatureFlags\":[\"WorkdayHRIS\",\"AdminOverview\",\"SchedulingExplodeFreeFullDayEvents\",\"EditJobPostingDescriptionSharedBlocks\",\"InterviewReportingCountToggle\",\"ServeNewFeatureFlags\",\"CandidateAvailability\",\"AllowNonDomainUsers\",\"DirectScheduling\",\"JobBoardEmbeddingAdmin\",\"ShareableFilterUrls\",\"ForecastLines\",\"GreenhouseDemographicSurveys\",\"GoalLines\",\"FormRenderCacheRestrictions\",\"ApplicationTransfer\",\"AgencyRecruiting\",\"SharedEmailAliases\",\"GreenhouseLocalSchedulableInterviews\",\"GreenhouseJobPosts\",\"GreenhouseEmailTemplates\",\"GreenhouseScorecardAttributes\",\"JobPostingLocation\",\"JobPostingSecondaryLocations\",\"DimensionNot\",\"GranularAdminPermissions\",\"CandidateSearchWordSimilarity\",\"MobileHome\",\"TakeHomeSelfSubmission\",\"DoverIntegration\",\"Gusto\",\"EnableContactOut\",\"NarrowDownSecurityRoles\",\"IndeedJobFeed\",\"BulkCampaignAsyncTasks\",\"FilterApplicationFieldset\",\"HiBob\",\"CalendarOAuthDefaultShowEventDetails\",\"SegmentationFilterByDatePivot\",\"Paychex\",\"SavedFilters\",\"SchedulingNewAvailabileTimesCalculation\",\"StageNameField\",\"InterviewPlansLocalToJob\",\"ShowCustomFieldsInChromeExtension\",\"StageFunnelEmptyStages\",\"DefaultJobDashboard\",\"SchedulingRescheduleWithFeedback\",\"UseNewFeedbackVisibilitySettings\",\"ApplicationBlockingRules\",\"Personio\",\"PhoneInterviewLocation\",\"DeleteV1\",\"UseNewInterviewPlanEditingStrategy\",\"AnonymousCandidateExperience\",\"LinkedInHtmlTransform\",\"OneInterviewPlanPerJob\",\"BlindingTakeHomeAssignments\",\"EditApplicationHistory\",\"CandidateExperienceResponses\",\"GranularAgencyPermissions\",\"RedesignBeta\",\"InterviewerLimits\",\"SchedulingAllowCandidateInviteRichText\",\"JobApprovals\",\"OpeningApprovals\",\"HeadcountPlanning\",\"BulkDataImportPrimaryEmailBugFix\",\"SchedulingFilterCandidateAvailability\",\"AsyncPipelineCounts\",\"InterviewPanelSummaryCandidateTimezone\",\"WorkdayHRISRest\",\"CountOverTimeFilterByDatePivot\",\"NonOfferEsignatures\",\"SchedulingNewConferenceDataFlow\",\"UseNewShowAllTableCellActions\",\"InterviewPanelJobTitleAndLinks\",\"NewJobsOpeningsRequisitionsDrilldowns\",\"ReportPreferredVizType\",\"AutofillApplications\",\"WelcomeToTheJungle\",\"NewCandidateAppliedNotification\",\"CandidateLocations\",\"OfferLetterConditionals\",\"LeverMapStandardInterviewPlan\",\"NewSearchDesign\",\"PipelineReportByStageGroup\",\"PipelineReportMoreStages\",\"ConnectedOfferCustomFields\",\"GroupByDate\",\"LocationFormField\",\"InterviewPlansV2\",\"BulkOpeningsImport\",\"FormEngineS3Upload\",\"CustomConsentRichText\",\"VisualizationsColorCustomization\",\"UseConsistentChartColors\",\"SchedulingLambdaReliabilityTweaks\",\"NewApplicationReview\",\"NonOfferEsignatureCandidateCustomFieldSubstitionTokens\",\"QueryDSLOptimizationsEnabled\",\"SchedulingGenericBookingLinks\",\"SchedulingGenericBookingLinksEmailToken\",\"HelloSignExpiresAtParameter\",\"CustomFieldSubstitutionTokenPopover\",\"NewGoogleApiAuthorizationFlow\",\"ScheduledDashboards\",\"OfferEsignatureCandidateCustomFieldSubstitionTokens\",\"OfferEsignatureJobCustomFieldSubstitionTokens\",\"SchedulingCancellationNotifications\"],\"allowJobPostIndexing\":true,\"theme\":{\"colors\":{\"version\":\"1\",\"colorPrimary600\":\"#000000\",\"colorPrimary900\":\"#1d1b3e\"},\"showJobFilters\":true,\"showTeams\":false,\"showAutofillApplicationsBox\":true,\"logoWordmarkImageUrl\":\"https://app.ashbyhq.com/api/images/org-theme-wordmark/beb8bf8c-4355-469f-9eb9-59a3c94c47eb/62dd7bc6-7304-4cff-88b1-ffca48f2ee84.png\",\"logoSquareImageUrl\":\"https://app.ashbyhq.com/api/images/org-theme-logo/beb8bf8c-4355-469f-9eb9-59a3c94c47eb/dad1d656-2ac0-4058-9452-a0e71657abcc.png\",\"applicationSubmittedSuccessMessage\":null,\"jobBoardTopDescriptionHtml\":null,\"jobBoardBottomDescriptionHtml\":null},\"appConfirmationTrackingPixelHtml\":null,\"timezone\":\"America/Los_Angeles\"},\"posting\":{\"id\":\"70a2ba22-04be-45b0-823a-8fc348035e0f\",\"title\":\"Data Engineering Co-Op - Research & Development\",\"isListed\":true,\"isConfidential\":false,\"departmentName\":\"R&D\",\"teamNames\":[\"R&D\"],\"locationName\":\"Boston Area\",\"employmentType\":\"Temporary\",\"descriptionHtml\":\"<p style=\\\"min-height:1.5em\\\">Eight Sleep is the world’s first sleep fitness company. Our mission is to fuel human potential through optimal sleep. We use innovative technology, detailed design, and proven science and data to personalize and improve each night for everybody—changing the way people sleep forever and for the better. </p><p style=\\\"min-height:1.5em\\\">Backed by leading Silicon Valley investors, we have been recognized as one of Fast Company’s Most Innovative Companies in 2018, 2022, and 2023.</p><p style=\\\"min-height:1.5em\\\">Our temperature-regulated technology, the Pod, is an absolute game changer, improving people's health and happiness by changing the way they sleep. The Pod was also recognized two years in a row by TIME's “Best Inventions of the Year.” It is available for purchase in North America (the United States and Canada) and throughout the United Kingdom, Europe (Belgium, France, Germany, Italy, Netherlands, Spain, Sweden, Denmark), and Australia via <a target=\\\"_blank\\\" rel=\\\"noopener noreferrer nofollow\\\" href=\\\"http://eightsleep.com\\\">eightsleep.com</a>. We’re excited by the success of the Pod to date and still have a long way to go toward achieving our mission</p><p style=\\\"min-height:1.5em\\\">That is why Eight Sleep is looking for a hands-on, research-oriented Data Engineering Co-op to help optimize data workflows for research studies. You will work closely with the current Data Engineer, ensuring data quality for all research studies, setting up data workflows that follow HIPAA guidelines and good clinical practices, and set up pipelines to streamline statistical analyses for ongoing data collections and completed studies that will be used to drive feature insights &amp; algorithm development, used for white papers and peer-reviewed publications. This role will report to the Director of Science &amp; Clinical Research at Eight Sleep, on the Research &amp; Development team. </p><p style=\\\"min-height:1.5em\\\">We are seeking someone who is passionate about health technologies and about making an impact on health outcomes, directly relating to sleep and human performance. We look for people who tackle problems with a systematic approach, and make data driven decisions to deliver the best products to our users. This role has high growth potential to contribute to the development of novel sleep technologies and to advance the field of sleep research. You will have the opportunity to work on cutting-edge projects and collaborate with a team of highly skilled professionals in sleep science, engineering, and data science.</p><p style=\\\"min-height:1.5em\\\">This co-op position is a unique opportunity to gain practical experience in a dynamic startup setting, tackling real-world issues that affect people's well-being. You'll have the opportunity to work with large datasets, create data pipelines, and contribute to statistical and machine learning analyses by assisting with data preparation, cleaning, and visualization.  </p><p style=\\\"min-height:1.5em\\\"><strong>This role</strong> <strong>requires onsite work from our Boston office, located in Newton Centre, at least 3 days a week</strong>.</p><p style=\\\"min-height:1.5em\\\"></p><p style=\\\"min-height:1.5em\\\"><strong>How you'll contribute</strong></p><ul style=\\\"min-height:1.5em\\\"><li><p style=\\\"min-height:1.5em\\\"><u>Data engineering: </u></p><ul style=\\\"min-height:1.5em\\\"><li><p style=\\\"min-height:1.5em\\\">Manipulating, cleaning, and transforming raw data into a usable format for analysis (requires time aligning and parsing data from multiple sources with varying sample rates).</p></li><li><p style=\\\"min-height:1.5em\\\">Writing, testing, and maintaining Python and SQL scripts for data analysis, and compiling results into tables and presentations.</p></li><li><p style=\\\"min-height:1.5em\\\">Extracting and cleaning temperature and physiological data to support future Machine Learning model development.</p></li></ul></li><li><p style=\\\"min-height:1.5em\\\"><u>Ensure good data quality &amp; privacy:</u></p><ul style=\\\"min-height:1.5em\\\"><li><p style=\\\"min-height:1.5em\\\">Developing and implementing processes to ensure that data are accurate, complete, and consistent throughout the data collection period of a study.</p></li><li><p style=\\\"min-height:1.5em\\\">Building databases and workflows that ensure subjects’ PII are protected for data privacy (in accordance with HIPAA and IRB compliance).</p></li></ul></li><li><p style=\\\"min-height:1.5em\\\"><u>Tooling:</u></p><ul style=\\\"min-height:1.5em\\\"><li><p style=\\\"min-height:1.5em\\\">Enhancing our existing data quality scripts by building dashboards, scripts, and/or efficient methods to check incoming study data quality to identify problems with sensors and/or trials.</p></li><li><p style=\\\"min-height:1.5em\\\">Developing and maintaining tools and processes to improve efficiency and consistency across projects, including abstracting one-off scripts into reusable tools and developing new features for daily quality checks and study management.</p></li></ul></li></ul><p style=\\\"min-height:1.5em\\\"></p><p style=\\\"min-height:1.5em\\\"><strong>What you'll need to succeed </strong></p><ul style=\\\"min-height:1.5em\\\"><li><p style=\\\"min-height:1.5em\\\">Bachelor's or Master's degree (or currently pursuing) in Computer Science, Software Engineering, Data Science, or a related field.</p></li><li><p style=\\\"min-height:1.5em\\\">Highly proficient in SQL, AWS S3, GitHub, and Python (Pandas, Scipy, Numpy, Jupyter Notebooks, PyCharm, seaborn/matplotlib/plotly).</p></li><li><p style=\\\"min-height:1.5em\\\">Experience with data manipulation, cleaning, and analysis, and data visualization.</p></li><li><p style=\\\"min-height:1.5em\\\">Ability to write clean, maintainable, and efficient code using best practices.</p></li><li><p style=\\\"min-height:1.5em\\\">Strong time-management skills, and excellent attention to detail while moving at a fast pace.</p></li><li><p style=\\\"min-height:1.5em\\\">Flexibility: willingness to jump into new projects or assignments (e.g. help collecting data) </p></li></ul><p style=\\\"min-height:1.5em\\\"></p><p style=\\\"min-height:1.5em\\\"><strong>Preferred</strong></p><ul style=\\\"min-height:1.5em\\\"><li><p style=\\\"min-height:1.5em\\\">6+ months of work experience </p></li><li><p style=\\\"min-height:1.5em\\\">Experience working with wearable and/or human physiology data, or knowledge of sleep and physiology</p></li><li><p style=\\\"min-height:1.5em\\\">Basic understanding of HIPAA, GCP, and IRB compliance for data privacy</p></li><li><p style=\\\"min-height:1.5em\\\">Human research experience</p></li><li><p style=\\\"min-height:1.5em\\\">Proficiency in one or more dashboard development tools, such as Tableau, Power BI, or Looker.</p></li></ul><p style=\\\"min-height:1.5em\\\"></p><p style=\\\"min-height:1.5em\\\"><strong>Why you’ll love Eight </strong></p><ul style=\\\"min-height:1.5em\\\"><li><p style=\\\"min-height:1.5em\\\">We’re a tight-knit, passionate team that’s working to improve people’s lives by improving the way they sleep</p></li><li><p style=\\\"min-height:1.5em\\\">Leadership is committed to employees’ wellness and career development</p></li></ul><p style=\\\"min-height:1.5em\\\"></p><p style=\\\"min-height:1.5em\\\">At Eight Sleep we continually celebrate the diverse community different individuals cultivate. As an equal opportunity employer, we stay true to our values by ensuring everyone feels they can flourish and grow. We are committed to equal employment opportunities regardless of race, color, ancestry, religion, sex, national origin, sexual orientation, age, citizenship, marital status, disability, gender identity or Veteran status.</p>\",\"compensationTierSummary\":\"$20.00 – $25.00 per hour\",\"compensationTiers\":[{\"id\":\"048fb659-c2b7-49f5-8056-52e852988f57\",\"tierSummary\":\"$20.00 – $25.00 per hour\",\"title\":null,\"additionalInformation\":null,\"components\":[{\"id\":\"2f515013-01f8-45e4-90b8-057b7c802929\",\"summary\":\"$20.00 – $25.00 per hour\",\"compensationType\":\"Salary\",\"interval\":\"1 HOUR\",\"currencyCode\":\"USD\",\"minValue\":20,\"maxValue\":25}]}],\"compensationTierGuideUrl\":null,\"compensationPhilosophyHtml\":null,\"scrapeableCompensationSalarySummary\":null},\"routerPrefix\":\"/\",\"recaptchaPublicSiteKey\":\"6LeFb_YUAAAAALUD5h-BiQEp8JaFChe0e0A6r49Y\"};\n",
      "      fetch(\"https://cdn.ashbyprd.com/frontend_non_user/8e66483770ba480554021b1acf8409b1b523e741/manifest.json\").then(function (res) { return res.json() }).then(function (manifest) {\n",
      "        const indexData = manifest[\"index.html\"];\n",
      "    \n",
      "        let bundleLoaded = false;\n",
      "        function loadBundle() {\n",
      "          if (bundleLoaded === true) {\n",
      "            return;\n",
      "          }\n",
      "    \n",
      "          const el = document.createElement(\"script\");\n",
      "          el.setAttribute(\"type\", \"module\");\n",
      "          el.setAttribute(\"crossorigin\", \"\");\n",
      "          el.setAttribute(\"integrity\", indexData.integrity);\n",
      "          el.setAttribute(\"src\", \"https://cdn.ashbyprd.com/frontend_non_user/8e66483770ba480554021b1acf8409b1b523e741/\" + indexData.file);\n",
      "          document.head.appendChild(el);\n",
      "          bundleLoaded = true;\n",
      "        }\n",
      "    \n",
      "        if (indexData.css != null && indexData.css.length > 0) {\n",
      "          const loadedSheets = [];\n",
      "          indexData.css.forEach(function (sheet) {\n",
      "            const link = document.createElement(\"link\");\n",
      "            link.rel = \"stylesheet\";\n",
      "            link.type = \"text/css\";\n",
      "            link.href = \"https://cdn.ashbyprd.com/frontend_non_user/8e66483770ba480554021b1acf8409b1b523e741/\" + sheet;\n",
      "            link.media = \"all\";\n",
      "            link.onload = function () {\n",
      "              loadedSheets.push(sheet);\n",
      "              if (loadedSheets.length === indexData.css.length) {\n",
      "                loadBundle();\n",
      "              }\n",
      "            };\n",
      "            link.onerror = loadBundle;\n",
      "            document.head.insertBefore(link, document.getElementById(\"vite-preload\"));\n",
      "          });\n",
      "          const preload = document.createElement(\"link\");\n",
      "          preload.rel = \"modulepreload\";\n",
      "          preload.href = \"https://cdn.ashbyprd.com/frontend_non_user/8e66483770ba480554021b1acf8409b1b523e741/\" + indexData.file;\n",
      "          document.head.appendChild(preload);\n",
      "        } else {\n",
      "          loadBundle();\n",
      "        }\n",
      "    \n",
      "        if (indexData.imports != null && indexData.imports.length > 0) {\n",
      "          indexData.imports.forEach(function (file) {\n",
      "            const preload = document.createElement(\"link\");\n",
      "            preload.rel = \"modulepreload\";\n",
      "            preload.href = \"https://cdn.ashbyprd.com/frontend_non_user/8e66483770ba480554021b1acf8409b1b523e741/\" + manifest[file].file;\n",
      "            document.head.appendChild(preload);\n",
      "          });\n",
      "        }\n",
      "      });\n",
      "    </script>  \n",
      "<script id=\"recaptchaScript\" src=\"https://www.google.com/recaptcha/api.js?render=6LeFb_YUAAAAALUD5h-BiQEp8JaFChe0e0A6r49Y\" nonce=\"\"></script><div><div class=\"grecaptcha-badge\" data-style=\"bottomright\" style=\"width: 256px; height: 60px; display: block; transition: right 0.3s ease 0s; position: fixed; bottom: 14px; right: -186px; box-shadow: gray 0px 0px 5px; border-radius: 2px; overflow: hidden;\"><div class=\"grecaptcha-logo\"><iframe title=\"reCAPTCHA\" src=\"https://www.google.com/recaptcha/api2/anchor?ar=1&amp;k=6LeFb_YUAAAAALUD5h-BiQEp8JaFChe0e0A6r49Y&amp;co=aHR0cHM6Ly9qb2JzLmFzaGJ5aHEuY29tOjQ0Mw..&amp;hl=en&amp;v=Ai7lOI0zKMDPHxlv62g7oMoJ&amp;size=invisible&amp;cb=kn7m2p71knf6\" width=\"256\" height=\"60\" role=\"presentation\" name=\"a-gwcot86becjo\" frameborder=\"0\" scrolling=\"no\" sandbox=\"allow-forms allow-popups allow-same-origin allow-scripts allow-top-navigation allow-modals allow-popups-to-escape-sandbox allow-storage-access-by-user-activation\"></iframe></div><div class=\"grecaptcha-error\"></div><textarea id=\"g-recaptcha-response-100000\" name=\"g-recaptcha-response\" class=\"g-recaptcha-response\" style=\"width: 250px; height: 40px; border: 1px solid rgb(193, 193, 193); margin: 10px 25px; padding: 0px; resize: none; display: none;\"></textarea></div><iframe style=\"display: none;\"></iframe></div></body></html>\n"
     ]
    }
   ],
   "source": [
    "print(content)"
   ]
  },
  {
   "cell_type": "code",
   "execution_count": 112,
   "metadata": {},
   "outputs": [
    {
     "ename": "TimeoutError",
     "evalue": "Timeout 30000ms exceeded.\n=========================== logs ===========================\nwaiting for locator(\"xpath=.\")\n============================================================",
     "output_type": "error",
     "traceback": [
      "\u001b[0;31m---------------------------------------------------------------------------\u001b[0m",
      "\u001b[0;31mTimeoutError\u001b[0m                              Traceback (most recent call last)",
      "\u001b[1;32m/Users/yunhocho/Documents/GitHub/AutoIntern/research/playwright.ipynb Cell 44\u001b[0m line \u001b[0;36m1\n\u001b[0;32m----> <a href='vscode-notebook-cell:/Users/yunhocho/Documents/GitHub/AutoIntern/research/playwright.ipynb#X64sZmlsZQ%3D%3D?line=0'>1</a>\u001b[0m \u001b[39mawait\u001b[39;00m page\u001b[39m.\u001b[39mtext_content(\u001b[39m'\u001b[39m\u001b[39mxpath=.\u001b[39m\u001b[39m'\u001b[39m)\n",
      "File \u001b[0;32m/opt/homebrew/lib/python3.11/site-packages/playwright/async_api/_generated.py:10973\u001b[0m, in \u001b[0;36mPage.text_content\u001b[0;34m(self, selector, strict, timeout)\u001b[0m\n\u001b[1;32m  10944\u001b[0m \u001b[39masync\u001b[39;00m \u001b[39mdef\u001b[39;00m \u001b[39mtext_content\u001b[39m(\n\u001b[1;32m  10945\u001b[0m     \u001b[39mself\u001b[39m,\n\u001b[1;32m  10946\u001b[0m     selector: \u001b[39mstr\u001b[39m,\n\u001b[0;32m   (...)\u001b[0m\n\u001b[1;32m  10949\u001b[0m     timeout: typing\u001b[39m.\u001b[39mOptional[\u001b[39mfloat\u001b[39m] \u001b[39m=\u001b[39m \u001b[39mNone\u001b[39;00m\n\u001b[1;32m  10950\u001b[0m ) \u001b[39m-\u001b[39m\u001b[39m>\u001b[39m typing\u001b[39m.\u001b[39mOptional[\u001b[39mstr\u001b[39m]:\n\u001b[1;32m  10951\u001b[0m \u001b[39m    \u001b[39m\u001b[39m\"\"\"Page.text_content\u001b[39;00m\n\u001b[1;32m  10952\u001b[0m \n\u001b[1;32m  10953\u001b[0m \u001b[39m    Returns `element.textContent`.\u001b[39;00m\n\u001b[0;32m   (...)\u001b[0m\n\u001b[1;32m  10969\u001b[0m \u001b[39m    Union[str, None]\u001b[39;00m\n\u001b[1;32m  10970\u001b[0m \u001b[39m    \"\"\"\u001b[39;00m\n\u001b[1;32m  10972\u001b[0m     \u001b[39mreturn\u001b[39;00m mapping\u001b[39m.\u001b[39mfrom_maybe_impl(\n\u001b[0;32m> 10973\u001b[0m         \u001b[39mawait\u001b[39;00m \u001b[39mself\u001b[39m\u001b[39m.\u001b[39m_impl_obj\u001b[39m.\u001b[39mtext_content(\n\u001b[1;32m  10974\u001b[0m             selector\u001b[39m=\u001b[39mselector, strict\u001b[39m=\u001b[39mstrict, timeout\u001b[39m=\u001b[39mtimeout\n\u001b[1;32m  10975\u001b[0m         )\n\u001b[1;32m  10976\u001b[0m     )\n",
      "File \u001b[0;32m/opt/homebrew/lib/python3.11/site-packages/playwright/_impl/_page.py:813\u001b[0m, in \u001b[0;36mPage.text_content\u001b[0;34m(self, selector, strict, timeout)\u001b[0m\n\u001b[1;32m    810\u001b[0m \u001b[39masync\u001b[39;00m \u001b[39mdef\u001b[39;00m \u001b[39mtext_content\u001b[39m(\n\u001b[1;32m    811\u001b[0m     \u001b[39mself\u001b[39m, selector: \u001b[39mstr\u001b[39m, strict: \u001b[39mbool\u001b[39m \u001b[39m=\u001b[39m \u001b[39mNone\u001b[39;00m, timeout: \u001b[39mfloat\u001b[39m \u001b[39m=\u001b[39m \u001b[39mNone\u001b[39;00m\n\u001b[1;32m    812\u001b[0m ) \u001b[39m-\u001b[39m\u001b[39m>\u001b[39m Optional[\u001b[39mstr\u001b[39m]:\n\u001b[0;32m--> 813\u001b[0m     \u001b[39mreturn\u001b[39;00m \u001b[39mawait\u001b[39;00m \u001b[39mself\u001b[39m\u001b[39m.\u001b[39m_main_frame\u001b[39m.\u001b[39mtext_content(\u001b[39m*\u001b[39m\u001b[39m*\u001b[39mlocals_to_params(\u001b[39mlocals\u001b[39m()))\n",
      "File \u001b[0;32m/opt/homebrew/lib/python3.11/site-packages/playwright/_impl/_frame.py:608\u001b[0m, in \u001b[0;36mFrame.text_content\u001b[0;34m(self, selector, strict, timeout)\u001b[0m\n\u001b[1;32m    605\u001b[0m \u001b[39masync\u001b[39;00m \u001b[39mdef\u001b[39;00m \u001b[39mtext_content\u001b[39m(\n\u001b[1;32m    606\u001b[0m     \u001b[39mself\u001b[39m, selector: \u001b[39mstr\u001b[39m, strict: \u001b[39mbool\u001b[39m \u001b[39m=\u001b[39m \u001b[39mNone\u001b[39;00m, timeout: \u001b[39mfloat\u001b[39m \u001b[39m=\u001b[39m \u001b[39mNone\u001b[39;00m\n\u001b[1;32m    607\u001b[0m ) \u001b[39m-\u001b[39m\u001b[39m>\u001b[39m Optional[\u001b[39mstr\u001b[39m]:\n\u001b[0;32m--> 608\u001b[0m     \u001b[39mreturn\u001b[39;00m \u001b[39mawait\u001b[39;00m \u001b[39mself\u001b[39m\u001b[39m.\u001b[39m_channel\u001b[39m.\u001b[39msend(\u001b[39m\"\u001b[39m\u001b[39mtextContent\u001b[39m\u001b[39m\"\u001b[39m, locals_to_params(\u001b[39mlocals\u001b[39m()))\n",
      "File \u001b[0;32m/opt/homebrew/lib/python3.11/site-packages/playwright/_impl/_connection.py:61\u001b[0m, in \u001b[0;36mChannel.send\u001b[0;34m(self, method, params)\u001b[0m\n\u001b[1;32m     60\u001b[0m \u001b[39masync\u001b[39;00m \u001b[39mdef\u001b[39;00m \u001b[39msend\u001b[39m(\u001b[39mself\u001b[39m, method: \u001b[39mstr\u001b[39m, params: Dict \u001b[39m=\u001b[39m \u001b[39mNone\u001b[39;00m) \u001b[39m-\u001b[39m\u001b[39m>\u001b[39m Any:\n\u001b[0;32m---> 61\u001b[0m     \u001b[39mreturn\u001b[39;00m \u001b[39mawait\u001b[39;00m \u001b[39mself\u001b[39m\u001b[39m.\u001b[39m_connection\u001b[39m.\u001b[39mwrap_api_call(\n\u001b[1;32m     62\u001b[0m         \u001b[39mlambda\u001b[39;00m: \u001b[39mself\u001b[39m\u001b[39m.\u001b[39minner_send(method, params, \u001b[39mFalse\u001b[39;00m)\n\u001b[1;32m     63\u001b[0m     )\n",
      "File \u001b[0;32m/opt/homebrew/lib/python3.11/site-packages/playwright/_impl/_connection.py:482\u001b[0m, in \u001b[0;36mConnection.wrap_api_call\u001b[0;34m(self, cb, is_internal)\u001b[0m\n\u001b[1;32m    480\u001b[0m \u001b[39mself\u001b[39m\u001b[39m.\u001b[39m_api_zone\u001b[39m.\u001b[39mset(_extract_stack_trace_information_from_stack(st, is_internal))\n\u001b[1;32m    481\u001b[0m \u001b[39mtry\u001b[39;00m:\n\u001b[0;32m--> 482\u001b[0m     \u001b[39mreturn\u001b[39;00m \u001b[39mawait\u001b[39;00m cb()\n\u001b[1;32m    483\u001b[0m \u001b[39mfinally\u001b[39;00m:\n\u001b[1;32m    484\u001b[0m     \u001b[39mself\u001b[39m\u001b[39m.\u001b[39m_api_zone\u001b[39m.\u001b[39mset(\u001b[39mNone\u001b[39;00m)\n",
      "File \u001b[0;32m/opt/homebrew/lib/python3.11/site-packages/playwright/_impl/_connection.py:97\u001b[0m, in \u001b[0;36mChannel.inner_send\u001b[0;34m(self, method, params, return_as_dict)\u001b[0m\n\u001b[1;32m     95\u001b[0m \u001b[39mif\u001b[39;00m \u001b[39mnot\u001b[39;00m callback\u001b[39m.\u001b[39mfuture\u001b[39m.\u001b[39mdone():\n\u001b[1;32m     96\u001b[0m     callback\u001b[39m.\u001b[39mfuture\u001b[39m.\u001b[39mcancel()\n\u001b[0;32m---> 97\u001b[0m result \u001b[39m=\u001b[39m \u001b[39mnext\u001b[39;49m(\u001b[39miter\u001b[39;49m(done))\u001b[39m.\u001b[39;49mresult()\n\u001b[1;32m     98\u001b[0m \u001b[39m# Protocol now has named return values, assume result is one level deeper unless\u001b[39;00m\n\u001b[1;32m     99\u001b[0m \u001b[39m# there is explicit ambiguity.\u001b[39;00m\n\u001b[1;32m    100\u001b[0m \u001b[39mif\u001b[39;00m \u001b[39mnot\u001b[39;00m result:\n",
      "File \u001b[0;32m/opt/homebrew/Cellar/python@3.11/3.11.5/Frameworks/Python.framework/Versions/3.11/lib/python3.11/asyncio/futures.py:203\u001b[0m, in \u001b[0;36mFuture.result\u001b[0;34m(self)\u001b[0m\n\u001b[1;32m    201\u001b[0m \u001b[39mself\u001b[39m\u001b[39m.\u001b[39m__log_traceback \u001b[39m=\u001b[39m \u001b[39mFalse\u001b[39;00m\n\u001b[1;32m    202\u001b[0m \u001b[39mif\u001b[39;00m \u001b[39mself\u001b[39m\u001b[39m.\u001b[39m_exception \u001b[39mis\u001b[39;00m \u001b[39mnot\u001b[39;00m \u001b[39mNone\u001b[39;00m:\n\u001b[0;32m--> 203\u001b[0m     \u001b[39mraise\u001b[39;00m \u001b[39mself\u001b[39m\u001b[39m.\u001b[39m_exception\u001b[39m.\u001b[39mwith_traceback(\u001b[39mself\u001b[39m\u001b[39m.\u001b[39m_exception_tb)\n\u001b[1;32m    204\u001b[0m \u001b[39mreturn\u001b[39;00m \u001b[39mself\u001b[39m\u001b[39m.\u001b[39m_result\n",
      "\u001b[0;31mTimeoutError\u001b[0m: Timeout 30000ms exceeded.\n=========================== logs ===========================\nwaiting for locator(\"xpath=.\")\n============================================================"
     ]
    }
   ],
   "source": [
    "await page.text_content(\"xpath=.\")"
   ]
  },
  {
   "cell_type": "code",
   "execution_count": 116,
   "metadata": {},
   "outputs": [
    {
     "name": "stdout",
     "output_type": "stream",
     "text": [
      "\n",
      "    \n",
      "      You need to enable JavaScript to run this app.\n",
      "    \n",
      "    Data Engineering Co-Op - Research & DevelopmentLocationBoston AreaTypeTemporaryDepartmentR&DCompensation$20.00 – $25.00 per hourOverviewApplicationAutofill from resumeUpload your resume here to autofill key application fields.Upload fileDrop your resume here!Parsing your resume. Autofilling key fields...NameEmailResumeUpload Fileor drag and drop hereWhy do you want to join Eight Sleep?Are you legally authorized to work in the United States?YesNoWhat degree are you currently pursuing?Undergraduate degreeMasters degreeOtherAre you currently located in Boston area or willing to relocate on your own?YesNoAre you willing to work onsite at our Boston office (located in Newton Centre) at least 3 days a week?YesNoAre you able to work a normal 9-5 schedule for 40 hours per week, with occasional weekend work (monitoring study data for a couple hours on the weekend)?YesNoAre you available from January 2nd - June 30th 2024 for 40 hours per week?YesNoAre you aware this position is a Data Engineering co-op, not Machine Learning? The main tasks will include: 1. Manipulating, cleaning, and transforming raw data into a usable format for analysis 2. Enhancing our existing data quality scripts to ensure that data are accurate, complete, and consistent throughout the data collection period of a study 3. Developing and maintaining tools and processes to improve efficiency and consistency across projectsYesNoHow many years of python coding experience do you have?Less than 1 year1-2 years2+ yearsHow many years of work experience do you have as a data engineer, data scientist, or software engineer? Feel free to include time spent working as an intern, co-op, etc.How many years of experience do you have using Github in your workflow?Less than 1 year1-2 years2+ yearsWhat is your experience level with parsing & time aligning data using pandas, numpy, pendulum, etc? (Note that you will be sent a coding challenge that will further test these skills)Beginner: I've worked with small datasets from a single source (<100 rows, no time alignment required)Intermediate: I've worked with aligning moderately-sized datasets with data from multiple sourcesAdvanced: I do this on a daily basis & have worked with very large datasets with multiple types of file sources (i.e. json, csv, api, etcNot applicable: I do not have any experience parsing & time aligning dataHow would you rate your experience with object-oriented design in Python and your familiarity with best code practices, such as testing, documentation, and code reusability? Please use the following definitions to guide your answer:Beginner: I have a basic understanding of object-oriented design in Python and I am familiar with basic best code practices, such as writing comments and using meaningful variable names.Intermediate: I have a good understanding of object-oriented design in Python and I regularly use best code practices, such as writing automated tests, documenting my code, and creating reusable code modules.Advanced: I have extensive knowledge of object-oriented design in Python and I consistently implement best code practices, such as unit testing, API documentation, and modular design, in my projects.Please rate your experience level working with SQL. (Note that you will also be further tested on your SQL skills)Beginner: Have basic knowledge of SQL and can write simple queries.Intermediate: Have a good understanding of SQL concepts and can write complex queries.Advanced: Have extensive knowledge of SQL and can design and optimize complex databases.Not applicable: I have not used SQL previously.Please describe your experience with data visualization tools.Can you tell me about a project you worked on using Python and how you approached the design and implementation? Please feel free to discuss any best code practices you followed during the project, such as testing, documentation, and code reusability.Submit ApplicationThis site is protected by reCAPTCHA and the Google Privacy Policy and Terms of Service apply.Powered by AshbyPrivacy PolicySecurityVulnerability Disclosure\n",
      "    \n",
      "      window.__appData = {\"ddRumApplicationId\":\"80e0bf43-e772-45ac-858b-1e6dc0f1f415\",\"ddRumClientToken\":\"pub1a87c7036063ee7d4b7914b397e6324e\",\"environment\":\"production\",\"maintenanceMode\":false,\"organization\":{\"name\":\"Eight Sleep\",\"publicWebsite\":\"https://www.eightsleep.com/\",\"customJobsPageUrl\":null,\"activeFeatureFlags\":[\"WorkdayHRIS\",\"AdminOverview\",\"SchedulingExplodeFreeFullDayEvents\",\"EditJobPostingDescriptionSharedBlocks\",\"InterviewReportingCountToggle\",\"ServeNewFeatureFlags\",\"CandidateAvailability\",\"AllowNonDomainUsers\",\"DirectScheduling\",\"JobBoardEmbeddingAdmin\",\"ShareableFilterUrls\",\"ForecastLines\",\"GreenhouseDemographicSurveys\",\"GoalLines\",\"FormRenderCacheRestrictions\",\"ApplicationTransfer\",\"AgencyRecruiting\",\"SharedEmailAliases\",\"GreenhouseLocalSchedulableInterviews\",\"GreenhouseJobPosts\",\"GreenhouseEmailTemplates\",\"GreenhouseScorecardAttributes\",\"JobPostingLocation\",\"JobPostingSecondaryLocations\",\"DimensionNot\",\"GranularAdminPermissions\",\"CandidateSearchWordSimilarity\",\"MobileHome\",\"TakeHomeSelfSubmission\",\"DoverIntegration\",\"Gusto\",\"EnableContactOut\",\"NarrowDownSecurityRoles\",\"IndeedJobFeed\",\"BulkCampaignAsyncTasks\",\"FilterApplicationFieldset\",\"HiBob\",\"CalendarOAuthDefaultShowEventDetails\",\"SegmentationFilterByDatePivot\",\"Paychex\",\"SavedFilters\",\"SchedulingNewAvailabileTimesCalculation\",\"StageNameField\",\"InterviewPlansLocalToJob\",\"ShowCustomFieldsInChromeExtension\",\"StageFunnelEmptyStages\",\"DefaultJobDashboard\",\"SchedulingRescheduleWithFeedback\",\"UseNewFeedbackVisibilitySettings\",\"ApplicationBlockingRules\",\"Personio\",\"PhoneInterviewLocation\",\"DeleteV1\",\"UseNewInterviewPlanEditingStrategy\",\"AnonymousCandidateExperience\",\"LinkedInHtmlTransform\",\"OneInterviewPlanPerJob\",\"BlindingTakeHomeAssignments\",\"EditApplicationHistory\",\"CandidateExperienceResponses\",\"GranularAgencyPermissions\",\"RedesignBeta\",\"InterviewerLimits\",\"SchedulingAllowCandidateInviteRichText\",\"JobApprovals\",\"OpeningApprovals\",\"HeadcountPlanning\",\"BulkDataImportPrimaryEmailBugFix\",\"SchedulingFilterCandidateAvailability\",\"AsyncPipelineCounts\",\"InterviewPanelSummaryCandidateTimezone\",\"WorkdayHRISRest\",\"CountOverTimeFilterByDatePivot\",\"NonOfferEsignatures\",\"SchedulingNewConferenceDataFlow\",\"UseNewShowAllTableCellActions\",\"InterviewPanelJobTitleAndLinks\",\"NewJobsOpeningsRequisitionsDrilldowns\",\"ReportPreferredVizType\",\"AutofillApplications\",\"WelcomeToTheJungle\",\"NewCandidateAppliedNotification\",\"CandidateLocations\",\"OfferLetterConditionals\",\"LeverMapStandardInterviewPlan\",\"NewSearchDesign\",\"PipelineReportByStageGroup\",\"PipelineReportMoreStages\",\"ConnectedOfferCustomFields\",\"GroupByDate\",\"LocationFormField\",\"InterviewPlansV2\",\"BulkOpeningsImport\",\"FormEngineS3Upload\",\"CustomConsentRichText\",\"VisualizationsColorCustomization\",\"UseConsistentChartColors\",\"SchedulingLambdaReliabilityTweaks\",\"NewApplicationReview\",\"NonOfferEsignatureCandidateCustomFieldSubstitionTokens\",\"QueryDSLOptimizationsEnabled\",\"SchedulingGenericBookingLinks\",\"SchedulingGenericBookingLinksEmailToken\",\"HelloSignExpiresAtParameter\",\"CustomFieldSubstitutionTokenPopover\",\"NewGoogleApiAuthorizationFlow\",\"ScheduledDashboards\",\"OfferEsignatureCandidateCustomFieldSubstitionTokens\",\"OfferEsignatureJobCustomFieldSubstitionTokens\",\"SchedulingCancellationNotifications\"],\"allowJobPostIndexing\":true,\"theme\":{\"colors\":{\"version\":\"1\",\"colorPrimary600\":\"#000000\",\"colorPrimary900\":\"#1d1b3e\"},\"showJobFilters\":true,\"showTeams\":false,\"showAutofillApplicationsBox\":true,\"logoWordmarkImageUrl\":\"https://app.ashbyhq.com/api/images/org-theme-wordmark/beb8bf8c-4355-469f-9eb9-59a3c94c47eb/62dd7bc6-7304-4cff-88b1-ffca48f2ee84.png\",\"logoSquareImageUrl\":\"https://app.ashbyhq.com/api/images/org-theme-logo/beb8bf8c-4355-469f-9eb9-59a3c94c47eb/dad1d656-2ac0-4058-9452-a0e71657abcc.png\",\"applicationSubmittedSuccessMessage\":null,\"jobBoardTopDescriptionHtml\":null,\"jobBoardBottomDescriptionHtml\":null},\"appConfirmationTrackingPixelHtml\":null,\"timezone\":\"America/Los_Angeles\"},\"posting\":{\"id\":\"70a2ba22-04be-45b0-823a-8fc348035e0f\",\"title\":\"Data Engineering Co-Op - Research & Development\",\"isListed\":true,\"isConfidential\":false,\"departmentName\":\"R&D\",\"teamNames\":[\"R&D\"],\"locationName\":\"Boston Area\",\"employmentType\":\"Temporary\",\"descriptionHtml\":\"<p style=\\\"min-height:1.5em\\\">Eight Sleep is the world’s first sleep fitness company. Our mission is to fuel human potential through optimal sleep. We use innovative technology, detailed design, and proven science and data to personalize and improve each night for everybody—changing the way people sleep forever and for the better. </p><p style=\\\"min-height:1.5em\\\">Backed by leading Silicon Valley investors, we have been recognized as one of Fast Company’s Most Innovative Companies in 2018, 2022, and 2023.</p><p style=\\\"min-height:1.5em\\\">Our temperature-regulated technology, the Pod, is an absolute game changer, improving people's health and happiness by changing the way they sleep. The Pod was also recognized two years in a row by TIME's “Best Inventions of the Year.” It is available for purchase in North America (the United States and Canada) and throughout the United Kingdom, Europe (Belgium, France, Germany, Italy, Netherlands, Spain, Sweden, Denmark), and Australia via <a target=\\\"_blank\\\" rel=\\\"noopener noreferrer nofollow\\\" href=\\\"http://eightsleep.com\\\">eightsleep.com</a>. We’re excited by the success of the Pod to date and still have a long way to go toward achieving our mission</p><p style=\\\"min-height:1.5em\\\">That is why Eight Sleep is looking for a hands-on, research-oriented Data Engineering Co-op to help optimize data workflows for research studies. You will work closely with the current Data Engineer, ensuring data quality for all research studies, setting up data workflows that follow HIPAA guidelines and good clinical practices, and set up pipelines to streamline statistical analyses for ongoing data collections and completed studies that will be used to drive feature insights &amp; algorithm development, used for white papers and peer-reviewed publications. This role will report to the Director of Science &amp; Clinical Research at Eight Sleep, on the Research &amp; Development team. </p><p style=\\\"min-height:1.5em\\\">We are seeking someone who is passionate about health technologies and about making an impact on health outcomes, directly relating to sleep and human performance. We look for people who tackle problems with a systematic approach, and make data driven decisions to deliver the best products to our users. This role has high growth potential to contribute to the development of novel sleep technologies and to advance the field of sleep research. You will have the opportunity to work on cutting-edge projects and collaborate with a team of highly skilled professionals in sleep science, engineering, and data science.</p><p style=\\\"min-height:1.5em\\\">This co-op position is a unique opportunity to gain practical experience in a dynamic startup setting, tackling real-world issues that affect people's well-being. You'll have the opportunity to work with large datasets, create data pipelines, and contribute to statistical and machine learning analyses by assisting with data preparation, cleaning, and visualization.  </p><p style=\\\"min-height:1.5em\\\"><strong>This role</strong> <strong>requires onsite work from our Boston office, located in Newton Centre, at least 3 days a week</strong>.</p><p style=\\\"min-height:1.5em\\\"></p><p style=\\\"min-height:1.5em\\\"><strong>How you'll contribute</strong></p><ul style=\\\"min-height:1.5em\\\"><li><p style=\\\"min-height:1.5em\\\"><u>Data engineering: </u></p><ul style=\\\"min-height:1.5em\\\"><li><p style=\\\"min-height:1.5em\\\">Manipulating, cleaning, and transforming raw data into a usable format for analysis (requires time aligning and parsing data from multiple sources with varying sample rates).</p></li><li><p style=\\\"min-height:1.5em\\\">Writing, testing, and maintaining Python and SQL scripts for data analysis, and compiling results into tables and presentations.</p></li><li><p style=\\\"min-height:1.5em\\\">Extracting and cleaning temperature and physiological data to support future Machine Learning model development.</p></li></ul></li><li><p style=\\\"min-height:1.5em\\\"><u>Ensure good data quality &amp; privacy:</u></p><ul style=\\\"min-height:1.5em\\\"><li><p style=\\\"min-height:1.5em\\\">Developing and implementing processes to ensure that data are accurate, complete, and consistent throughout the data collection period of a study.</p></li><li><p style=\\\"min-height:1.5em\\\">Building databases and workflows that ensure subjects’ PII are protected for data privacy (in accordance with HIPAA and IRB compliance).</p></li></ul></li><li><p style=\\\"min-height:1.5em\\\"><u>Tooling:</u></p><ul style=\\\"min-height:1.5em\\\"><li><p style=\\\"min-height:1.5em\\\">Enhancing our existing data quality scripts by building dashboards, scripts, and/or efficient methods to check incoming study data quality to identify problems with sensors and/or trials.</p></li><li><p style=\\\"min-height:1.5em\\\">Developing and maintaining tools and processes to improve efficiency and consistency across projects, including abstracting one-off scripts into reusable tools and developing new features for daily quality checks and study management.</p></li></ul></li></ul><p style=\\\"min-height:1.5em\\\"></p><p style=\\\"min-height:1.5em\\\"><strong>What you'll need to succeed </strong></p><ul style=\\\"min-height:1.5em\\\"><li><p style=\\\"min-height:1.5em\\\">Bachelor's or Master's degree (or currently pursuing) in Computer Science, Software Engineering, Data Science, or a related field.</p></li><li><p style=\\\"min-height:1.5em\\\">Highly proficient in SQL, AWS S3, GitHub, and Python (Pandas, Scipy, Numpy, Jupyter Notebooks, PyCharm, seaborn/matplotlib/plotly).</p></li><li><p style=\\\"min-height:1.5em\\\">Experience with data manipulation, cleaning, and analysis, and data visualization.</p></li><li><p style=\\\"min-height:1.5em\\\">Ability to write clean, maintainable, and efficient code using best practices.</p></li><li><p style=\\\"min-height:1.5em\\\">Strong time-management skills, and excellent attention to detail while moving at a fast pace.</p></li><li><p style=\\\"min-height:1.5em\\\">Flexibility: willingness to jump into new projects or assignments (e.g. help collecting data) </p></li></ul><p style=\\\"min-height:1.5em\\\"></p><p style=\\\"min-height:1.5em\\\"><strong>Preferred</strong></p><ul style=\\\"min-height:1.5em\\\"><li><p style=\\\"min-height:1.5em\\\">6+ months of work experience </p></li><li><p style=\\\"min-height:1.5em\\\">Experience working with wearable and/or human physiology data, or knowledge of sleep and physiology</p></li><li><p style=\\\"min-height:1.5em\\\">Basic understanding of HIPAA, GCP, and IRB compliance for data privacy</p></li><li><p style=\\\"min-height:1.5em\\\">Human research experience</p></li><li><p style=\\\"min-height:1.5em\\\">Proficiency in one or more dashboard development tools, such as Tableau, Power BI, or Looker.</p></li></ul><p style=\\\"min-height:1.5em\\\"></p><p style=\\\"min-height:1.5em\\\"><strong>Why you’ll love Eight </strong></p><ul style=\\\"min-height:1.5em\\\"><li><p style=\\\"min-height:1.5em\\\">We’re a tight-knit, passionate team that’s working to improve people’s lives by improving the way they sleep</p></li><li><p style=\\\"min-height:1.5em\\\">Leadership is committed to employees’ wellness and career development</p></li></ul><p style=\\\"min-height:1.5em\\\"></p><p style=\\\"min-height:1.5em\\\">At Eight Sleep we continually celebrate the diverse community different individuals cultivate. As an equal opportunity employer, we stay true to our values by ensuring everyone feels they can flourish and grow. We are committed to equal employment opportunities regardless of race, color, ancestry, religion, sex, national origin, sexual orientation, age, citizenship, marital status, disability, gender identity or Veteran status.</p>\",\"compensationTierSummary\":\"$20.00 – $25.00 per hour\",\"compensationTiers\":[{\"id\":\"048fb659-c2b7-49f5-8056-52e852988f57\",\"tierSummary\":\"$20.00 – $25.00 per hour\",\"title\":null,\"additionalInformation\":null,\"components\":[{\"id\":\"2f515013-01f8-45e4-90b8-057b7c802929\",\"summary\":\"$20.00 – $25.00 per hour\",\"compensationType\":\"Salary\",\"interval\":\"1 HOUR\",\"currencyCode\":\"USD\",\"minValue\":20,\"maxValue\":25}]}],\"compensationTierGuideUrl\":null,\"compensationPhilosophyHtml\":null,\"scrapeableCompensationSalarySummary\":null},\"routerPrefix\":\"/\",\"recaptchaPublicSiteKey\":\"6LeFb_YUAAAAALUD5h-BiQEp8JaFChe0e0A6r49Y\"};\n",
      "      fetch(\"https://cdn.ashbyprd.com/frontend_non_user/8e66483770ba480554021b1acf8409b1b523e741/manifest.json\").then(function (res) { return res.json() }).then(function (manifest) {\n",
      "        const indexData = manifest[\"index.html\"];\n",
      "    \n",
      "        let bundleLoaded = false;\n",
      "        function loadBundle() {\n",
      "          if (bundleLoaded === true) {\n",
      "            return;\n",
      "          }\n",
      "    \n",
      "          const el = document.createElement(\"script\");\n",
      "          el.setAttribute(\"type\", \"module\");\n",
      "          el.setAttribute(\"crossorigin\", \"\");\n",
      "          el.setAttribute(\"integrity\", indexData.integrity);\n",
      "          el.setAttribute(\"src\", \"https://cdn.ashbyprd.com/frontend_non_user/8e66483770ba480554021b1acf8409b1b523e741/\" + indexData.file);\n",
      "          document.head.appendChild(el);\n",
      "          bundleLoaded = true;\n",
      "        }\n",
      "    \n",
      "        if (indexData.css != null && indexData.css.length > 0) {\n",
      "          const loadedSheets = [];\n",
      "          indexData.css.forEach(function (sheet) {\n",
      "            const link = document.createElement(\"link\");\n",
      "            link.rel = \"stylesheet\";\n",
      "            link.type = \"text/css\";\n",
      "            link.href = \"https://cdn.ashbyprd.com/frontend_non_user/8e66483770ba480554021b1acf8409b1b523e741/\" + sheet;\n",
      "            link.media = \"all\";\n",
      "            link.onload = function () {\n",
      "              loadedSheets.push(sheet);\n",
      "              if (loadedSheets.length === indexData.css.length) {\n",
      "                loadBundle();\n",
      "              }\n",
      "            };\n",
      "            link.onerror = loadBundle;\n",
      "            document.head.insertBefore(link, document.getElementById(\"vite-preload\"));\n",
      "          });\n",
      "          const preload = document.createElement(\"link\");\n",
      "          preload.rel = \"modulepreload\";\n",
      "          preload.href = \"https://cdn.ashbyprd.com/frontend_non_user/8e66483770ba480554021b1acf8409b1b523e741/\" + indexData.file;\n",
      "          document.head.appendChild(preload);\n",
      "        } else {\n",
      "          loadBundle();\n",
      "        }\n",
      "    \n",
      "        if (indexData.imports != null && indexData.imports.length > 0) {\n",
      "          indexData.imports.forEach(function (file) {\n",
      "            const preload = document.createElement(\"link\");\n",
      "            preload.rel = \"modulepreload\";\n",
      "            preload.href = \"https://cdn.ashbyprd.com/frontend_non_user/8e66483770ba480554021b1acf8409b1b523e741/\" + manifest[file].file;\n",
      "            document.head.appendChild(preload);\n",
      "          });\n",
      "        }\n",
      "      });\n",
      "      \n",
      "\n"
     ]
    }
   ],
   "source": [
    "print(await page.text_content(\"body\"))"
   ]
  },
  {
   "cell_type": "code",
   "execution_count": 118,
   "metadata": {},
   "outputs": [
    {
     "ename": "TimeoutError",
     "evalue": "Timeout 30000ms exceeded.\n=========================== logs ===========================\nwaiting for locator(\"xpath=.\")\n============================================================",
     "output_type": "error",
     "traceback": [
      "\u001b[0;31m---------------------------------------------------------------------------\u001b[0m",
      "\u001b[0;31mTimeoutError\u001b[0m                              Traceback (most recent call last)",
      "\u001b[1;32m/Users/yunhocho/Documents/GitHub/AutoIntern/research/playwright.ipynb Cell 46\u001b[0m line \u001b[0;36m1\n\u001b[0;32m----> <a href='vscode-notebook-cell:/Users/yunhocho/Documents/GitHub/AutoIntern/research/playwright.ipynb#X66sZmlsZQ%3D%3D?line=0'>1</a>\u001b[0m \u001b[39mprint\u001b[39m(\u001b[39mawait\u001b[39;00m page\u001b[39m.\u001b[39mtext_content(\u001b[39m\"\u001b[39m\u001b[39mxpath=.\u001b[39m\u001b[39m\"\u001b[39m))\n",
      "File \u001b[0;32m/opt/homebrew/lib/python3.11/site-packages/playwright/async_api/_generated.py:10973\u001b[0m, in \u001b[0;36mPage.text_content\u001b[0;34m(self, selector, strict, timeout)\u001b[0m\n\u001b[1;32m  10944\u001b[0m \u001b[39masync\u001b[39;00m \u001b[39mdef\u001b[39;00m \u001b[39mtext_content\u001b[39m(\n\u001b[1;32m  10945\u001b[0m     \u001b[39mself\u001b[39m,\n\u001b[1;32m  10946\u001b[0m     selector: \u001b[39mstr\u001b[39m,\n\u001b[0;32m   (...)\u001b[0m\n\u001b[1;32m  10949\u001b[0m     timeout: typing\u001b[39m.\u001b[39mOptional[\u001b[39mfloat\u001b[39m] \u001b[39m=\u001b[39m \u001b[39mNone\u001b[39;00m\n\u001b[1;32m  10950\u001b[0m ) \u001b[39m-\u001b[39m\u001b[39m>\u001b[39m typing\u001b[39m.\u001b[39mOptional[\u001b[39mstr\u001b[39m]:\n\u001b[1;32m  10951\u001b[0m \u001b[39m    \u001b[39m\u001b[39m\"\"\"Page.text_content\u001b[39;00m\n\u001b[1;32m  10952\u001b[0m \n\u001b[1;32m  10953\u001b[0m \u001b[39m    Returns `element.textContent`.\u001b[39;00m\n\u001b[0;32m   (...)\u001b[0m\n\u001b[1;32m  10969\u001b[0m \u001b[39m    Union[str, None]\u001b[39;00m\n\u001b[1;32m  10970\u001b[0m \u001b[39m    \"\"\"\u001b[39;00m\n\u001b[1;32m  10972\u001b[0m     \u001b[39mreturn\u001b[39;00m mapping\u001b[39m.\u001b[39mfrom_maybe_impl(\n\u001b[0;32m> 10973\u001b[0m         \u001b[39mawait\u001b[39;00m \u001b[39mself\u001b[39m\u001b[39m.\u001b[39m_impl_obj\u001b[39m.\u001b[39mtext_content(\n\u001b[1;32m  10974\u001b[0m             selector\u001b[39m=\u001b[39mselector, strict\u001b[39m=\u001b[39mstrict, timeout\u001b[39m=\u001b[39mtimeout\n\u001b[1;32m  10975\u001b[0m         )\n\u001b[1;32m  10976\u001b[0m     )\n",
      "File \u001b[0;32m/opt/homebrew/lib/python3.11/site-packages/playwright/_impl/_page.py:813\u001b[0m, in \u001b[0;36mPage.text_content\u001b[0;34m(self, selector, strict, timeout)\u001b[0m\n\u001b[1;32m    810\u001b[0m \u001b[39masync\u001b[39;00m \u001b[39mdef\u001b[39;00m \u001b[39mtext_content\u001b[39m(\n\u001b[1;32m    811\u001b[0m     \u001b[39mself\u001b[39m, selector: \u001b[39mstr\u001b[39m, strict: \u001b[39mbool\u001b[39m \u001b[39m=\u001b[39m \u001b[39mNone\u001b[39;00m, timeout: \u001b[39mfloat\u001b[39m \u001b[39m=\u001b[39m \u001b[39mNone\u001b[39;00m\n\u001b[1;32m    812\u001b[0m ) \u001b[39m-\u001b[39m\u001b[39m>\u001b[39m Optional[\u001b[39mstr\u001b[39m]:\n\u001b[0;32m--> 813\u001b[0m     \u001b[39mreturn\u001b[39;00m \u001b[39mawait\u001b[39;00m \u001b[39mself\u001b[39m\u001b[39m.\u001b[39m_main_frame\u001b[39m.\u001b[39mtext_content(\u001b[39m*\u001b[39m\u001b[39m*\u001b[39mlocals_to_params(\u001b[39mlocals\u001b[39m()))\n",
      "File \u001b[0;32m/opt/homebrew/lib/python3.11/site-packages/playwright/_impl/_frame.py:608\u001b[0m, in \u001b[0;36mFrame.text_content\u001b[0;34m(self, selector, strict, timeout)\u001b[0m\n\u001b[1;32m    605\u001b[0m \u001b[39masync\u001b[39;00m \u001b[39mdef\u001b[39;00m \u001b[39mtext_content\u001b[39m(\n\u001b[1;32m    606\u001b[0m     \u001b[39mself\u001b[39m, selector: \u001b[39mstr\u001b[39m, strict: \u001b[39mbool\u001b[39m \u001b[39m=\u001b[39m \u001b[39mNone\u001b[39;00m, timeout: \u001b[39mfloat\u001b[39m \u001b[39m=\u001b[39m \u001b[39mNone\u001b[39;00m\n\u001b[1;32m    607\u001b[0m ) \u001b[39m-\u001b[39m\u001b[39m>\u001b[39m Optional[\u001b[39mstr\u001b[39m]:\n\u001b[0;32m--> 608\u001b[0m     \u001b[39mreturn\u001b[39;00m \u001b[39mawait\u001b[39;00m \u001b[39mself\u001b[39m\u001b[39m.\u001b[39m_channel\u001b[39m.\u001b[39msend(\u001b[39m\"\u001b[39m\u001b[39mtextContent\u001b[39m\u001b[39m\"\u001b[39m, locals_to_params(\u001b[39mlocals\u001b[39m()))\n",
      "File \u001b[0;32m/opt/homebrew/lib/python3.11/site-packages/playwright/_impl/_connection.py:61\u001b[0m, in \u001b[0;36mChannel.send\u001b[0;34m(self, method, params)\u001b[0m\n\u001b[1;32m     60\u001b[0m \u001b[39masync\u001b[39;00m \u001b[39mdef\u001b[39;00m \u001b[39msend\u001b[39m(\u001b[39mself\u001b[39m, method: \u001b[39mstr\u001b[39m, params: Dict \u001b[39m=\u001b[39m \u001b[39mNone\u001b[39;00m) \u001b[39m-\u001b[39m\u001b[39m>\u001b[39m Any:\n\u001b[0;32m---> 61\u001b[0m     \u001b[39mreturn\u001b[39;00m \u001b[39mawait\u001b[39;00m \u001b[39mself\u001b[39m\u001b[39m.\u001b[39m_connection\u001b[39m.\u001b[39mwrap_api_call(\n\u001b[1;32m     62\u001b[0m         \u001b[39mlambda\u001b[39;00m: \u001b[39mself\u001b[39m\u001b[39m.\u001b[39minner_send(method, params, \u001b[39mFalse\u001b[39;00m)\n\u001b[1;32m     63\u001b[0m     )\n",
      "File \u001b[0;32m/opt/homebrew/lib/python3.11/site-packages/playwright/_impl/_connection.py:482\u001b[0m, in \u001b[0;36mConnection.wrap_api_call\u001b[0;34m(self, cb, is_internal)\u001b[0m\n\u001b[1;32m    480\u001b[0m \u001b[39mself\u001b[39m\u001b[39m.\u001b[39m_api_zone\u001b[39m.\u001b[39mset(_extract_stack_trace_information_from_stack(st, is_internal))\n\u001b[1;32m    481\u001b[0m \u001b[39mtry\u001b[39;00m:\n\u001b[0;32m--> 482\u001b[0m     \u001b[39mreturn\u001b[39;00m \u001b[39mawait\u001b[39;00m cb()\n\u001b[1;32m    483\u001b[0m \u001b[39mfinally\u001b[39;00m:\n\u001b[1;32m    484\u001b[0m     \u001b[39mself\u001b[39m\u001b[39m.\u001b[39m_api_zone\u001b[39m.\u001b[39mset(\u001b[39mNone\u001b[39;00m)\n",
      "File \u001b[0;32m/opt/homebrew/lib/python3.11/site-packages/playwright/_impl/_connection.py:97\u001b[0m, in \u001b[0;36mChannel.inner_send\u001b[0;34m(self, method, params, return_as_dict)\u001b[0m\n\u001b[1;32m     95\u001b[0m \u001b[39mif\u001b[39;00m \u001b[39mnot\u001b[39;00m callback\u001b[39m.\u001b[39mfuture\u001b[39m.\u001b[39mdone():\n\u001b[1;32m     96\u001b[0m     callback\u001b[39m.\u001b[39mfuture\u001b[39m.\u001b[39mcancel()\n\u001b[0;32m---> 97\u001b[0m result \u001b[39m=\u001b[39m \u001b[39mnext\u001b[39;49m(\u001b[39miter\u001b[39;49m(done))\u001b[39m.\u001b[39;49mresult()\n\u001b[1;32m     98\u001b[0m \u001b[39m# Protocol now has named return values, assume result is one level deeper unless\u001b[39;00m\n\u001b[1;32m     99\u001b[0m \u001b[39m# there is explicit ambiguity.\u001b[39;00m\n\u001b[1;32m    100\u001b[0m \u001b[39mif\u001b[39;00m \u001b[39mnot\u001b[39;00m result:\n",
      "File \u001b[0;32m/opt/homebrew/Cellar/python@3.11/3.11.5/Frameworks/Python.framework/Versions/3.11/lib/python3.11/asyncio/futures.py:203\u001b[0m, in \u001b[0;36mFuture.result\u001b[0;34m(self)\u001b[0m\n\u001b[1;32m    201\u001b[0m \u001b[39mself\u001b[39m\u001b[39m.\u001b[39m__log_traceback \u001b[39m=\u001b[39m \u001b[39mFalse\u001b[39;00m\n\u001b[1;32m    202\u001b[0m \u001b[39mif\u001b[39;00m \u001b[39mself\u001b[39m\u001b[39m.\u001b[39m_exception \u001b[39mis\u001b[39;00m \u001b[39mnot\u001b[39;00m \u001b[39mNone\u001b[39;00m:\n\u001b[0;32m--> 203\u001b[0m     \u001b[39mraise\u001b[39;00m \u001b[39mself\u001b[39m\u001b[39m.\u001b[39m_exception\u001b[39m.\u001b[39mwith_traceback(\u001b[39mself\u001b[39m\u001b[39m.\u001b[39m_exception_tb)\n\u001b[1;32m    204\u001b[0m \u001b[39mreturn\u001b[39;00m \u001b[39mself\u001b[39m\u001b[39m.\u001b[39m_result\n",
      "\u001b[0;31mTimeoutError\u001b[0m: Timeout 30000ms exceeded.\n=========================== logs ===========================\nwaiting for locator(\"xpath=.\")\n============================================================"
     ]
    }
   ],
   "source": [
    "print(await page.text_content(\"xpath=.\"))"
   ]
  },
  {
   "cell_type": "code",
   "execution_count": 120,
   "metadata": {},
   "outputs": [
    {
     "name": "stdout",
     "output_type": "stream",
     "text": [
      "<!DOCTYPE html><html lang=\"en\" style=\"--colorPrimary600: #000000; --colorPrimary900: #1d1b3e;\"><head>\n",
      "    <meta charset=\"utf-8\">\n",
      "    <meta name=\"viewport\" content=\"width=device-width, initial-scale=1, shrink-to-fit=no\">\n",
      "    <meta name=\"theme-color\" content=\"#483fad\">\n",
      "    <meta name=\"csp-nonce\" id=\"csp-nonce\" content=\"1OfELa65gtjyfYzgcv7_x2AHGuyTQvb1v66J0jNB2Ts\">\n",
      "    <link rel=\"icon\" type=\"image/png\" href=\"https://cdn.ashbyprd.com/cdn_assets/8e66483770ba480554021b1acf8409b1b523e741/favicon.png\" sizes=\"192x192\">\n",
      "    <link rel=\"apple-touch-icon\" href=\"https://cdn.ashbyprd.com/cdn_assets/8e66483770ba480554021b1acf8409b1b523e741/favicon.png\">\n",
      "    <title>Data Engineering Co-Op - Research &amp; Development @ Eight Sleep</title><meta name=\"title\" content=\"Data Engineering Co-Op - Research &amp; Development @ Eight Sleep\">\n",
      "    \n",
      "  <meta name=\"description\" content=\"Eight Sleep is the world’s first sleep fitness company. Our mission is to fuel human potential through optimal sleep. We use innovative technology, detailed design, and proven science and data to personalize and improve each night for everybody—changing the way people sleep forever and for the better.&nbsp;\n",
      "\n",
      "Backed by leading Silicon Valley investors, we have been recognized as one of Fast Company’s Most Innovative Companies in 2018, 2022, and 2023.\n",
      "\n",
      "Our temperature-regulated technology, the Pod, is an absolute game changer, improving people's health and happiness by changing the way they sleep. The Pod was also recognized two years in a row by TIME's “Best Inventions of the Year.” It is available for purchase in North America (the United States and Canada) and throughout the United Kingdom, Europe (Belgium, France, Germany, Italy, Netherlands, Spain, Sweden, Denmark), and Australia via eightsleep.com http://eightsleep.com. We’re excited by the success of the Pod to date and still have a long way to go toward achieving our mission\n",
      "\n",
      "That is why Eight Sleep is looking for a hands-on, research-oriented Data Engineering Co-op to help optimize data workflows for research studies. You will work closely with the current Data Engineer, ensuring data quality for all research studies, setting up data workflows that follow HIPAA guidelines and good clinical practices, and set up pipelines to streamline statistical analyses for ongoing data collections and completed studies that will be used to drive feature insights &amp; algorithm development, used for white papers and peer-reviewed publications. This role will report to the Director of Science &amp; Clinical Research at Eight Sleep, on the Research &amp; Development team.&nbsp;\n",
      "\n",
      "We are seeking someone who is passionate about health technologies and about making an impact on health outcomes, directly relating to sleep and human performance. We look for people who tackle problems with a systematic approach, and make data driven decisions to deliver the best products to our users. This role has high growth potential to contribute to the development of novel sleep technologies and to advance the field of sleep research. You will have the opportunity to work on cutting-edge projects and collaborate with a team of highly skilled professionals in sleep science, engineering, and data science.\n",
      "\n",
      "This co-op position is a unique opportunity to gain practical experience in a dynamic startup setting, tackling real-world issues that affect people's well-being. You'll have the opportunity to work with large datasets, create data pipelines, and contribute to statistical and machine learning analyses by assisting with data preparation, cleaning, and visualization.\n",
      "\n",
      "This role requires onsite work from our Boston office, located in Newton Centre, at least 3 days a week.\n",
      "\n",
      "\n",
      "\n",
      "How you'll contribute\n",
      "\n",
      " - Data engineering:&nbsp;\n",
      "   \n",
      "   - Manipulating, cleaning, and transforming raw data into a usable format for analysis (requires time aligning and parsing data from multiple sources with varying sample rates).\n",
      "   \n",
      "   - Writing, testing, and maintaining Python and SQL scripts for data analysis, and compiling results into tables and presentations.\n",
      "   \n",
      "   - Extracting and cleaning temperature and physiological data to support future Machine Learning model development.\n",
      "\n",
      " - Ensure good data quality &amp; privacy:\n",
      "   \n",
      "   - Developing and implementing processes to ensure that data are accurate, complete, and consistent throughout the data collection period of a study.\n",
      "   \n",
      "   - Building databases and workflows that ensure subjects’ PII are protected for data privacy (in accordance with HIPAA and IRB compliance).\n",
      "\n",
      " - Tooling:\n",
      "   \n",
      "   - Enhancing our existing data quality scripts by building dashboards, scripts, and/or efficient methods to check incoming study data quality to identify problems with sensors and/or trials.\n",
      "   \n",
      "   - Developing and maintaining tools and processes to improve efficiency and consistency across projects, including abstracting one-off scripts into reusable tools and developing new features for daily quality checks and study management.\n",
      "\n",
      "\n",
      "\n",
      "What you'll need to succeed&nbsp;\n",
      "\n",
      " - Bachelor's or Master's degree (or currently pursuing) in Computer Science, Software Engineering, Data Science, or a related field.\n",
      "\n",
      " - Highly proficient in SQL, AWS S3, GitHub, and Python (Pandas, Scipy, Numpy, Jupyter Notebooks, PyCharm, seaborn/matplotlib/plotly).\n",
      "\n",
      " - Experience with data manipulation, cleaning, and analysis, and data visualization.\n",
      "\n",
      " - Ability to write clean, maintainable, and efficient code using best practices.\n",
      "\n",
      " - Strong time-management skills, and excellent attention to detail while moving at a fast pace.\n",
      "\n",
      " - Flexibility: willingness to jump into new projects or assignments (e.g. help collecting data)&nbsp;\n",
      "\n",
      "\n",
      "\n",
      "Preferred\n",
      "\n",
      " - 6+ months of work experience&nbsp;\n",
      "\n",
      " - Experience working with wearable and/or human physiology data, or knowledge of sleep and physiology\n",
      "\n",
      " - Basic understanding of HIPAA, GCP, and IRB compliance for data privacy\n",
      "\n",
      " - Human research experience\n",
      "\n",
      " - Proficiency in one or more dashboard development tools, such as Tableau, Power BI, or Looker.\n",
      "\n",
      "\n",
      "\n",
      "Why you’ll love Eight&nbsp;\n",
      "\n",
      " - We’re a tight-knit, passionate team that’s working to improve people’s lives by improving the way they sleep\n",
      "\n",
      " - Leadership is committed to employees’ wellness and career development\n",
      "\n",
      "\n",
      "\n",
      "At Eight Sleep we continually celebrate the diverse community different individuals cultivate. As an equal opportunity employer, we stay true to our values by ensuring everyone feels they can flourish and grow. We are committed to equal employment opportunities regardless of race, color, ancestry, religion, sex, national origin, sexual orientation, age, citizenship, marital status, disability, gender identity or Veteran status.\">\n",
      "  <meta name=\"twitter:card\" content=\"summary\">\n",
      "  <meta property=\"og:url\" content=\"https://jobs.ashbyhq.com/eightsleep/70a2ba22-04be-45b0-823a-8fc348035e0f\">\n",
      "  <meta property=\"og:type\" content=\"website\">\n",
      "  <meta property=\"og:title\" content=\"Data Engineering Co-Op - Research &amp; Development\">\n",
      "  <meta property=\"og:description\" content=\"Eight Sleep is the world’s first sleep fitness company. Our mission is to fuel human potential through optimal sleep. We use innovative technology, detailed design, and proven science and data to personalize and improve each night for everybody—changing the way people sleep forever and for the better.&nbsp;\n",
      "\n",
      "Backed by leading Silicon Valley investors, we have been recognized as one of Fast Company’s Most Innovative Companies in 2018, 2022, and 2023.\n",
      "\n",
      "Our temperature-regulated technology, the Pod, is an absolute game changer, improving people's health and happiness by changing the way they sleep. The Pod was also recognized two years in a row by TIME's “Best Inventions of the Year.” It is available for purchase in North America (the United States and Canada) and throughout the United Kingdom, Europe (Belgium, France, Germany, Italy, Netherlands, Spain, Sweden, Denmark), and Australia via eightsleep.com http://eightsleep.com. We’re excited by the success of the Pod to date and still have a long way to go toward achieving our mission\n",
      "\n",
      "That is why Eight Sleep is looking for a hands-on, research-oriented Data Engineering Co-op to help optimize data workflows for research studies. You will work closely with the current Data Engineer, ensuring data quality for all research studies, setting up data workflows that follow HIPAA guidelines and good clinical practices, and set up pipelines to streamline statistical analyses for ongoing data collections and completed studies that will be used to drive feature insights &amp; algorithm development, used for white papers and peer-reviewed publications. This role will report to the Director of Science &amp; Clinical Research at Eight Sleep, on the Research &amp; Development team.&nbsp;\n",
      "\n",
      "We are seeking someone who is passionate about health technologies and about making an impact on health outcomes, directly relating to sleep and human performance. We look for people who tackle problems with a systematic approach, and make data driven decisions to deliver the best products to our users. This role has high growth potential to contribute to the development of novel sleep technologies and to advance the field of sleep research. You will have the opportunity to work on cutting-edge projects and collaborate with a team of highly skilled professionals in sleep science, engineering, and data science.\n",
      "\n",
      "This co-op position is a unique opportunity to gain practical experience in a dynamic startup setting, tackling real-world issues that affect people's well-being. You'll have the opportunity to work with large datasets, create data pipelines, and contribute to statistical and machine learning analyses by assisting with data preparation, cleaning, and visualization.\n",
      "\n",
      "This role requires onsite work from our Boston office, located in Newton Centre, at least 3 days a week.\n",
      "\n",
      "\n",
      "\n",
      "How you'll contribute\n",
      "\n",
      " - Data engineering:&nbsp;\n",
      "   \n",
      "   - Manipulating, cleaning, and transforming raw data into a usable format for analysis (requires time aligning and parsing data from multiple sources with varying sample rates).\n",
      "   \n",
      "   - Writing, testing, and maintaining Python and SQL scripts for data analysis, and compiling results into tables and presentations.\n",
      "   \n",
      "   - Extracting and cleaning temperature and physiological data to support future Machine Learning model development.\n",
      "\n",
      " - Ensure good data quality &amp; privacy:\n",
      "   \n",
      "   - Developing and implementing processes to ensure that data are accurate, complete, and consistent throughout the data collection period of a study.\n",
      "   \n",
      "   - Building databases and workflows that ensure subjects’ PII are protected for data privacy (in accordance with HIPAA and IRB compliance).\n",
      "\n",
      " - Tooling:\n",
      "   \n",
      "   - Enhancing our existing data quality scripts by building dashboards, scripts, and/or efficient methods to check incoming study data quality to identify problems with sensors and/or trials.\n",
      "   \n",
      "   - Developing and maintaining tools and processes to improve efficiency and consistency across projects, including abstracting one-off scripts into reusable tools and developing new features for daily quality checks and study management.\n",
      "\n",
      "\n",
      "\n",
      "What you'll need to succeed&nbsp;\n",
      "\n",
      " - Bachelor's or Master's degree (or currently pursuing) in Computer Science, Software Engineering, Data Science, or a related field.\n",
      "\n",
      " - Highly proficient in SQL, AWS S3, GitHub, and Python (Pandas, Scipy, Numpy, Jupyter Notebooks, PyCharm, seaborn/matplotlib/plotly).\n",
      "\n",
      " - Experience with data manipulation, cleaning, and analysis, and data visualization.\n",
      "\n",
      " - Ability to write clean, maintainable, and efficient code using best practices.\n",
      "\n",
      " - Strong time-management skills, and excellent attention to detail while moving at a fast pace.\n",
      "\n",
      " - Flexibility: willingness to jump into new projects or assignments (e.g. help collecting data)&nbsp;\n",
      "\n",
      "\n",
      "\n",
      "Preferred\n",
      "\n",
      " - 6+ months of work experience&nbsp;\n",
      "\n",
      " - Experience working with wearable and/or human physiology data, or knowledge of sleep and physiology\n",
      "\n",
      " - Basic understanding of HIPAA, GCP, and IRB compliance for data privacy\n",
      "\n",
      " - Human research experience\n",
      "\n",
      " - Proficiency in one or more dashboard development tools, such as Tableau, Power BI, or Looker.\n",
      "\n",
      "\n",
      "\n",
      "Why you’ll love Eight&nbsp;\n",
      "\n",
      " - We’re a tight-knit, passionate team that’s working to improve people’s lives by improving the way they sleep\n",
      "\n",
      " - Leadership is committed to employees’ wellness and career development\n",
      "\n",
      "\n",
      "\n",
      "At Eight Sleep we continually celebrate the diverse community different individuals cultivate. As an equal opportunity employer, we stay true to our values by ensuring everyone feels they can flourish and grow. We are committed to equal employment opportunities regardless of race, color, ancestry, religion, sex, national origin, sexual orientation, age, citizenship, marital status, disability, gender identity or Veteran status.\">\n",
      "  \n",
      "  <meta property=\"og:image\" content=\"https://app.ashbyhq.com/api/images/org-theme-logo/beb8bf8c-4355-469f-9eb9-59a3c94c47eb/dad1d656-2ac0-4058-9452-a0e71657abcc.png\">\n",
      "    <link rel=\"preload\" as=\"image\" href=\"https://app.ashbyhq.com/api/images/org-theme-logo/beb8bf8c-4355-469f-9eb9-59a3c94c47eb/dad1d656-2ac0-4058-9452-a0e71657abcc.png\"><link rel=\"preload\" as=\"image\" href=\"https://app.ashbyhq.com/api/images/org-theme-wordmark/beb8bf8c-4355-469f-9eb9-59a3c94c47eb/62dd7bc6-7304-4cff-88b1-ffca48f2ee84.png\">\n",
      "    \n",
      "    <script type=\"text/javascript\" async=\"\" src=\"https://www.gstatic.com/recaptcha/releases/Ai7lOI0zKMDPHxlv62g7oMoJ/recaptcha__en.js\" crossorigin=\"anonymous\" integrity=\"sha384-y0d7a59tpb3WM9FRBigMjti4HLsiv/MWW91Zuxzr/Mv16ntBBPuIonQeg6R7RhRo\" nonce=\"\"></script><script type=\"application/ld+json\">{\"@context\":\"https://schema.org/\",\"@type\":\"JobPosting\",\"title\":\"Data Engineering Co-Op - Research & Development\",\"description\":\"<p style=\\\"min-height:1.5em\\\">Eight Sleep is the world’s first sleep fitness company. Our mission is to fuel human potential through optimal sleep. We use innovative technology, detailed design, and proven science and data to personalize and improve each night for everybody—changing the way people sleep forever and for the better. </p><p style=\\\"min-height:1.5em\\\">Backed by leading Silicon Valley investors, we have been recognized as one of Fast Company’s Most Innovative Companies in 2018, 2022, and 2023.</p><p style=\\\"min-height:1.5em\\\">Our temperature-regulated technology, the Pod, is an absolute game changer, improving people's health and happiness by changing the way they sleep. The Pod was also recognized two years in a row by TIME's “Best Inventions of the Year.” It is available for purchase in North America (the United States and Canada) and throughout the United Kingdom, Europe (Belgium, France, Germany, Italy, Netherlands, Spain, Sweden, Denmark), and Australia via <a target=\\\"_blank\\\" rel=\\\"noopener noreferrer nofollow\\\" href=\\\"http://eightsleep.com\\\">eightsleep.com</a>. We’re excited by the success of the Pod to date and still have a long way to go toward achieving our mission</p><p style=\\\"min-height:1.5em\\\">That is why Eight Sleep is looking for a hands-on, research-oriented Data Engineering Co-op to help optimize data workflows for research studies. You will work closely with the current Data Engineer, ensuring data quality for all research studies, setting up data workflows that follow HIPAA guidelines and good clinical practices, and set up pipelines to streamline statistical analyses for ongoing data collections and completed studies that will be used to drive feature insights &amp; algorithm development, used for white papers and peer-reviewed publications. This role will report to the Director of Science &amp; Clinical Research at Eight Sleep, on the Research &amp; Development team. </p><p style=\\\"min-height:1.5em\\\">We are seeking someone who is passionate about health technologies and about making an impact on health outcomes, directly relating to sleep and human performance. We look for people who tackle problems with a systematic approach, and make data driven decisions to deliver the best products to our users. This role has high growth potential to contribute to the development of novel sleep technologies and to advance the field of sleep research. You will have the opportunity to work on cutting-edge projects and collaborate with a team of highly skilled professionals in sleep science, engineering, and data science.</p><p style=\\\"min-height:1.5em\\\">This co-op position is a unique opportunity to gain practical experience in a dynamic startup setting, tackling real-world issues that affect people's well-being. You'll have the opportunity to work with large datasets, create data pipelines, and contribute to statistical and machine learning analyses by assisting with data preparation, cleaning, and visualization.  </p><p style=\\\"min-height:1.5em\\\"><strong>This role</strong> <strong>requires onsite work from our Boston office, located in Newton Centre, at least 3 days a week</strong>.</p><p style=\\\"min-height:1.5em\\\"></p><p style=\\\"min-height:1.5em\\\"><strong>How you'll contribute</strong></p><ul style=\\\"min-height:1.5em\\\"><li><p style=\\\"min-height:1.5em\\\"><u>Data engineering: </u></p><ul style=\\\"min-height:1.5em\\\"><li><p style=\\\"min-height:1.5em\\\">Manipulating, cleaning, and transforming raw data into a usable format for analysis (requires time aligning and parsing data from multiple sources with varying sample rates).</p></li><li><p style=\\\"min-height:1.5em\\\">Writing, testing, and maintaining Python and SQL scripts for data analysis, and compiling results into tables and presentations.</p></li><li><p style=\\\"min-height:1.5em\\\">Extracting and cleaning temperature and physiological data to support future Machine Learning model development.</p></li></ul></li><li><p style=\\\"min-height:1.5em\\\"><u>Ensure good data quality &amp; privacy:</u></p><ul style=\\\"min-height:1.5em\\\"><li><p style=\\\"min-height:1.5em\\\">Developing and implementing processes to ensure that data are accurate, complete, and consistent throughout the data collection period of a study.</p></li><li><p style=\\\"min-height:1.5em\\\">Building databases and workflows that ensure subjects’ PII are protected for data privacy (in accordance with HIPAA and IRB compliance).</p></li></ul></li><li><p style=\\\"min-height:1.5em\\\"><u>Tooling:</u></p><ul style=\\\"min-height:1.5em\\\"><li><p style=\\\"min-height:1.5em\\\">Enhancing our existing data quality scripts by building dashboards, scripts, and/or efficient methods to check incoming study data quality to identify problems with sensors and/or trials.</p></li><li><p style=\\\"min-height:1.5em\\\">Developing and maintaining tools and processes to improve efficiency and consistency across projects, including abstracting one-off scripts into reusable tools and developing new features for daily quality checks and study management.</p></li></ul></li></ul><p style=\\\"min-height:1.5em\\\"></p><p style=\\\"min-height:1.5em\\\"><strong>What you'll need to succeed </strong></p><ul style=\\\"min-height:1.5em\\\"><li><p style=\\\"min-height:1.5em\\\">Bachelor's or Master's degree (or currently pursuing) in Computer Science, Software Engineering, Data Science, or a related field.</p></li><li><p style=\\\"min-height:1.5em\\\">Highly proficient in SQL, AWS S3, GitHub, and Python (Pandas, Scipy, Numpy, Jupyter Notebooks, PyCharm, seaborn/matplotlib/plotly).</p></li><li><p style=\\\"min-height:1.5em\\\">Experience with data manipulation, cleaning, and analysis, and data visualization.</p></li><li><p style=\\\"min-height:1.5em\\\">Ability to write clean, maintainable, and efficient code using best practices.</p></li><li><p style=\\\"min-height:1.5em\\\">Strong time-management skills, and excellent attention to detail while moving at a fast pace.</p></li><li><p style=\\\"min-height:1.5em\\\">Flexibility: willingness to jump into new projects or assignments (e.g. help collecting data) </p></li></ul><p style=\\\"min-height:1.5em\\\"></p><p style=\\\"min-height:1.5em\\\"><strong>Preferred</strong></p><ul style=\\\"min-height:1.5em\\\"><li><p style=\\\"min-height:1.5em\\\">6+ months of work experience </p></li><li><p style=\\\"min-height:1.5em\\\">Experience working with wearable and/or human physiology data, or knowledge of sleep and physiology</p></li><li><p style=\\\"min-height:1.5em\\\">Basic understanding of HIPAA, GCP, and IRB compliance for data privacy</p></li><li><p style=\\\"min-height:1.5em\\\">Human research experience</p></li><li><p style=\\\"min-height:1.5em\\\">Proficiency in one or more dashboard development tools, such as Tableau, Power BI, or Looker.</p></li></ul><p style=\\\"min-height:1.5em\\\"></p><p style=\\\"min-height:1.5em\\\"><strong>Why you’ll love Eight </strong></p><ul style=\\\"min-height:1.5em\\\"><li><p style=\\\"min-height:1.5em\\\">We’re a tight-knit, passionate team that’s working to improve people’s lives by improving the way they sleep</p></li><li><p style=\\\"min-height:1.5em\\\">Leadership is committed to employees’ wellness and career development</p></li></ul><p style=\\\"min-height:1.5em\\\"></p><p style=\\\"min-height:1.5em\\\">At Eight Sleep we continually celebrate the diverse community different individuals cultivate. As an equal opportunity employer, we stay true to our values by ensuring everyone feels they can flourish and grow. We are committed to equal employment opportunities regardless of race, color, ancestry, religion, sex, national origin, sexual orientation, age, citizenship, marital status, disability, gender identity or Veteran status.</p>\",\"identifier\":{\"@type\":\"PropertyValue\",\"name\":\"Data Engineering Co-Op - Research & Development\",\"value\":\"70a2ba22-04be-45b0-823a-8fc348035e0f\"},\"datePosted\":\"2023-09-07\",\"hiringOrganization\":{\"@type\":\"Organization\",\"name\":\"Eight Sleep\",\"sameAs\":\"eightsleep.com\",\"logo\":\"https://app.ashbyhq.com/api/images/org-theme-logo/beb8bf8c-4355-469f-9eb9-59a3c94c47eb/dad1d656-2ac0-4058-9452-a0e71657abcc.png\"},\"jobLocation\":{\"@type\":\"Place\",\"address\":{\"@type\":\"PostalAddress\",\"addressLocality\":\"Boston\",\"addressRegion\":\"Massachusetts\",\"addressCountry\":\"USA\"}},\"employmentType\":\"FULL_TIME\"}</script>\n",
      "  \n",
      "  \n",
      "\n",
      "    <link rel=\"stylesheet\" type=\"text/css\" href=\"https://cdn.ashbyprd.com/frontend_non_user/8e66483770ba480554021b1acf8409b1b523e741/assets/index-7287770c.css\" media=\"all\"><link id=\"vite-preload\" rel=\"preload\" as=\"fetch\" href=\"https://cdn.ashbyprd.com/frontend_non_user/8e66483770ba480554021b1acf8409b1b523e741/manifest.json\" crossorigin=\"\">    <link rel=\"preload\" href=\"https://cdn.ashbyprd.com/cdn_assets/8e66483770ba480554021b1acf8409b1b523e741/fonts/WhitneySSm/woff2/WhitneySSm-Book_Web.woff2\" as=\"font\" type=\"font/woff2\" crossorigin=\"anonymous\">\n",
      "    <link rel=\"preload\" href=\"https://cdn.ashbyprd.com/cdn_assets/8e66483770ba480554021b1acf8409b1b523e741/fonts/WhitneySSm/woff2/WhitneySSm-Medium_Web.woff2\" as=\"font\" type=\"font/woff2\" crossorigin=\"anonymous\">\n",
      "    <link rel=\"preload\" href=\"https://cdn.ashbyprd.com/cdn_assets/8e66483770ba480554021b1acf8409b1b523e741/fonts/WhitneySSm/woff2/WhitneySSm-Semibold_Web.woff2\" as=\"font\" type=\"font/woff2\" crossorigin=\"anonymous\">\n",
      "    <link rel=\"stylesheet\" href=\"https://cdn.ashbyprd.com/cdn_assets/8e66483770ba480554021b1acf8409b1b523e741/fonts/WhitneySSm/WhitneySSm.css\">\n",
      "    <style>\n",
      "      .grecaptcha-badge {\n",
      "        visibility: hidden;\n",
      "      }\n",
      "    </style>\n",
      "\n",
      "\n",
      "  <link rel=\"modulepreload\" href=\"https://cdn.ashbyprd.com/frontend_non_user/8e66483770ba480554021b1acf8409b1b523e741/assets/index-837f554b.js\"><script type=\"module\" crossorigin=\"\" integrity=\"sha384-U2eYpDhkoq56bWOunItUrGnMGO5630B57lpZTfsHwI+ZeQB8hLaV/cTLC1oVxyGA\" src=\"https://cdn.ashbyprd.com/frontend_non_user/8e66483770ba480554021b1acf8409b1b523e741/assets/index-837f554b.js\"></script><meta name=\"robots\" content=\"all\" data-react-helmet=\"true\"></head>\n",
      "  <body>\n",
      "    <noscript>\n",
      "      You need to enable JavaScript to run this app.\n",
      "    </noscript>\n",
      "    <div id=\"root\"><div class=\"_navRoot_1d14g_29\"><ul class=\"_navContainer_1d14g_36\"><li><a class=\"_navLogoLink_1d14g_96\" href=\"https://www.eightsleep.com/\"><img class=\"_navLogoWordmarkImage_1d14g_105\" src=\"https://app.ashbyhq.com/api/images/org-theme-wordmark/beb8bf8c-4355-469f-9eb9-59a3c94c47eb/62dd7bc6-7304-4cff-88b1-ffca48f2ee84.png\" alt=\"Eight Sleep\"></a></li><li><a class=\"_link_1d14g_125 \" aria-label=\"Back to Eight Sleep’s Job Listings\" href=\"/eightsleep?utm_source=Simplify\"><svg viewBox=\"0 0 448 512\" fill=\"none\" height=\"1em\"><path d=\"M7.4 273.4C2.7 268.8 0 262.6 0 256s2.7-12.8 7.4-17.4l176-168c9.6-9.2 24.8-8.8 33.9 .8s8.8 24.8-.8 33.9L83.9 232 424 232c13.3 0 24 10.7 24 24s-10.7 24-24 24L83.9 280 216.6 406.6c9.6 9.2 9.9 24.3 .8 33.9s-24.3 9.9-33.9 .8l-176-168z\"></path></svg></a></li><li></li></ul></div><div class=\"_container_sdzkb_29 \"><div class=\"_titles_sdzkb_34\"><h1 class=\"_title_sdzkb_34 _large_sdzkb_67 ashby-job-posting-heading\">Data Engineering Co-Op - Research &amp; Development</h1></div><div class=\"_content_sdzkb_71 _details_z1j6s_424\"><div class=\"_left_z1j6s_429 ashby-job-posting-left-pane  _container_elimo_29\" data-highlight=\"none\"><div class=\" _section_elimo_37 \"><h2 class=\"_heading_elimo_53 \">Location</h2><p>Boston Area</p></div><div class=\" _section_elimo_37 \"><h2 class=\"_heading_elimo_53 \">Type</h2><p>Temporary</p></div><div class=\" _section_elimo_37 \"><h2 class=\"_heading_elimo_53 \">Department</h2><p>R&amp;D</p></div><div class=\" _section_elimo_37 \"><h2 class=\"_heading_elimo_53 \">Compensation</h2><ul class=\"_compensationTierList_z1j6s_308\"><li class=\"_compensationTierListItem_z1j6s_314\"><span class=\"_compensationTierSummary_z1j6s_330\">$20.00 – $25.00 per hour</span></li></ul></div></div><div class=\"ashby-job-posting-right-pane\"><nav class=\"_tabs_z1j6s_30\" role=\"tablist\"><a class=\"_tab_z1j6s_30\" id=\"job-overview\" aria-controls=\"overview\" tabindex=\"-1\" aria-selected=\"false\" role=\"tab\" href=\"/eightsleep/70a2ba22-04be-45b0-823a-8fc348035e0f?utm_source=Simplify\">Overview</a><a aria-current=\"page\" class=\"_tab_z1j6s_30 _active_z1j6s_60\" id=\"job-application-form\" aria-controls=\"form\" tabindex=\"0\" aria-selected=\"true\" role=\"tab\" href=\"/eightsleep/70a2ba22-04be-45b0-823a-8fc348035e0f/application?utm_source=Simplify\">Application</a><span class=\"_slider_z1j6s_69\"></span></nav><div tabindex=\"0\" role=\"tabpanel\" aria-labelledby=\"job-application-form\" id=\"form\"><div class=\"_autofillPane_z1j6s_461 ashby-application-form-autofill-pane  _container_elimo_29\" data-highlight=\"none\"><div class=\"_root_1vgha_1 ashby-application-form-autofill-input-root\" data-state=\"default\"><input accept=\".pdf,.doc,.docx,.odt,.rtf,application/pdf,application/msword,application/vnd.openxmlformats-officedocument.wordprocessingml.document,application/vnd.oasis.opendocument.text,application/rtf\" type=\"file\" style=\"display: none;\" autocomplete=\"off\" tabindex=\"-1\"><div class=\"_base_1vgha_31 ashby-application-form-autofill-input-base-layer\"><div class=\"_content_1vgha_36\"><div class=\"_text_1vgha_44\"><div class=\"_iconContainer_1vgha_53\"><svg viewBox=\"0 0 576 512\" fill=\"none\" height=\"1em\" class=\"_icon_1vgha_53 ashby-application-form-autofill-input-icon\"><path d=\"M234.7 42.7L197 56.8c-3 1.1-5 4-5 7.2s2 6.1 5 7.2l37.7 14.1L248.8 123c1.1 3 4 5 7.2 5s6.1-2 7.2-5l14.1-37.7L315 71.2c3-1.1 5-4 5-7.2s-2-6.1-5-7.2L277.3 42.7 263.2 5c-1.1-3-4-5-7.2-5s-6.1 2-7.2 5L234.7 42.7zM461.4 48L496 82.6 386.2 192.3l-34.6-34.6L461.4 48zM80 429.4L317.7 191.7l34.6 34.6L114.6 464 80 429.4zM427.4 14.1L46.1 395.4c-18.7 18.7-18.7 49.1 0 67.9l34.6 34.6c18.7 18.7 49.1 18.7 67.9 0L529.9 116.5c18.7-18.7 18.7-49.1 0-67.9L495.3 14.1c-18.7-18.7-49.1-18.7-67.9 0zM7.5 117.2C3 118.9 0 123.2 0 128s3 9.1 7.5 10.8L64 160l21.2 56.5c1.7 4.5 6 7.5 10.8 7.5s9.1-3 10.8-7.5L128 160l56.5-21.2c4.5-1.7 7.5-6 7.5-10.8s-3-9.1-7.5-10.8L128 96 106.8 39.5C105.1 35 100.8 32 96 32s-9.1 3-10.8 7.5L64 96 7.5 117.2zm352 256c-4.5 1.7-7.5 6-7.5 10.8s3 9.1 7.5 10.8L416 416l21.2 56.5c1.7 4.5 6 7.5 10.8 7.5s9.1-3 10.8-7.5L480 416l56.5-21.2c4.5-1.7 7.5-6 7.5-10.8s-3-9.1-7.5-10.8L480 352l-21.2-56.5c-1.7-4.5-6-7.5-10.8-7.5s-9.1 3-10.8 7.5L416 352l-56.5 21.2z\"></path></svg></div><h3 class=\"_title_1vgha_68 ashby-application-form-autofill-input-title\">Autofill from resume</h3><p class=\"_description_1vgha_80 ashby-application-form-autofill-input-description\">Upload your resume here to autofill key application fields.</p></div><div class=\"_cta_1vgha_90\"><button class=\"_button_yxgm9_29 _secondary_yxgm9_114   _ctaButton_1vgha_94\">Upload file</button></div></div></div><div class=\"_drag_1vgha_106 ashby-application-form-autofill-input-drag-layer\" data-state=\"hidden\"><svg viewBox=\"0 0 512 512\" fill=\"none\" height=\"1em\"><path d=\"M280 360c0 13.3-10.7 24-24 24s-24-10.7-24-24V81.9l-95 95c-9.4 9.4-24.6 9.4-33.9 0s-9.4-24.6 0-33.9L239 7c9.4-9.4 24.6-9.4 33.9 0L409 143c9.4 9.4 9.4 24.6 0 33.9s-24.6 9.4-33.9 0l-95-95V360zm32-8V304H448c35.3 0 64 28.7 64 64v80c0 35.3-28.7 64-64 64H64c-35.3 0-64-28.7-64-64V368c0-35.3 28.7-64 64-64H200v48H64c-8.8 0-16 7.2-16 16v80c0 8.8 7.2 16 16 16H448c8.8 0 16-7.2 16-16V368c0-8.8-7.2-16-16-16H312zm72 56a24 24 0 1 1 48 0 24 24 0 1 1 -48 0z\"></path></svg><span>Drop your resume here!</span></div><div class=\"_pending_1vgha_107 ashby-application-form-autofill-input-pending-layer\" data-state=\"hidden\"><span aria-label=\"Loading...\" role=\"progressbar\" class=\"_spinner_8ul1h_9 _spinner-size-md_8ul1h_26 _spinner-speed-normal_8ul1h_42\"></span><span>Parsing your resume. Autofilling key fields...</span></div></div></div><div class=\"_jobPostingForm_z1j6s_407 ashby-application-form-container  _container_elimo_29\" data-highlight=\"none\"><div class=\"_section_z1j6s_90 ashby-application-form-section-container\"><div class=\"_fieldEntry_1dgff_29 ashby-application-form-field-entry\"><label class=\"_heading_elimo_53 _required_elimo_92 _label_1dgff_43 ashby-application-form-question-title\" for=\"_systemfield_name\">Name</label><input placeholder=\"Type here...\" name=\"_systemfield_name\" required=\"\" id=\"_systemfield_name\" type=\"text\" class=\"_input_1xsmr_28 _input_1dgff_33\" value=\"\"></div><div class=\"_fieldEntry_1dgff_29 ashby-application-form-field-entry\"><label class=\"_heading_elimo_53 _required_elimo_92 _label_1dgff_43 ashby-application-form-question-title\" for=\"_systemfield_email\">Email</label><input placeholder=\"hello@example.com...\" name=\"_systemfield_email\" required=\"\" id=\"_systemfield_email\" type=\"email\" class=\"_input_1xsmr_28 _input_1dgff_33\" value=\"\"></div><div class=\"_fieldEntry_1dgff_29 ashby-application-form-field-entry\"><label class=\"_heading_elimo_53 _required_elimo_92 _label_1dgff_43 ashby-application-form-question-title\" for=\"_systemfield_resume\">Resume</label><div class=\"_container_izfez_71 \"><input accept=\".pdf,.doc,.docx,.odt,.rtf,image/*,video/*,audio/*,application/pdf,application/msword,application/vnd.openxmlformats-officedocument.wordprocessingml.document,application/vnd.oasis.opendocument.text,application/rtf\" type=\"file\" style=\"display: none;\" autocomplete=\"off\" tabindex=\"-1\" id=\"_systemfield_resume\" required=\"\"><div class=\"_instructions_izfez_34\"><button class=\"_button_yxgm9_29 _secondary_yxgm9_114   _button_izfez_111\"><svg viewBox=\"0 0 448 512\" fill=\"none\" height=\"1em\"><path d=\"M375 73c-26-26-68.1-26-94.1 0L89 265C45.3 308.6 45.3 379.4 89 423s114.4 43.6 158.1 0L399 271c9.4-9.4 24.6-9.4 33.9 0s9.4 24.6 0 33.9L281 457c-62.4 62.4-163.5 62.4-225.9 0S-7.4 293.4 55 231L247 39C291.7-5.7 364.2-5.7 409 39s44.7 117.2 0 161.9L225.2 384.7c-31.6 31.6-83.6 28.7-111.5-6.2c-23.8-29.8-21.5-72.8 5.5-99.8L271 127c9.4-9.4 24.6-9.4 33.9 0s9.4 24.6 0 33.9L153.2 312.7c-9.7 9.7-10.6 25.1-2 35.8c10 12.5 28.7 13.6 40 2.2L375 167c26-26 26-68.1 0-94.1z\"></path></svg><span><span>Upload File</span></span></button><p class=\"_dragInstructions_izfez_29\">or drag and drop here</p></div></div></div><div class=\"_fieldEntry_1dgff_29 ashby-application-form-field-entry\"><label class=\"_heading_elimo_53 _required_elimo_92 _label_1dgff_43 ashby-application-form-question-title\" for=\"1bc0127d-4b81-4264-90da-6bfb4d39ef21\">Why do you want to join Eight Sleep?</label><textarea placeholder=\"Type here...\" required=\"\" name=\"1bc0127d-4b81-4264-90da-6bfb4d39ef21\" id=\"1bc0127d-4b81-4264-90da-6bfb4d39ef21\" class=\"_input_gsl38_29 _input_1dgff_33 \" rows=\"4\"></textarea></div><div class=\"_fieldEntry_1dgff_29 ashby-application-form-field-entry\"><label class=\"_heading_elimo_53 _required_elimo_92 _label_1dgff_43 ashby-application-form-question-title\" for=\"3306ccd6-4a4f-4f03-b11c-86e7bae38ad1\">Are you legally authorized to work in the United States?</label><div class=\"_container_y2cw4_29 _yesno_1dgff_136 \"><button class=\"_container_pjyt6_1 _option_y2cw4_33 \">Yes</button><button class=\"_container_pjyt6_1 _option_y2cw4_33 \">No</button><input type=\"checkbox\" class=\"_input_y2cw4_79\" tabindex=\"-1\" name=\"3306ccd6-4a4f-4f03-b11c-86e7bae38ad1\"></div></div><fieldset class=\"_container_1v5e2_29 _fieldEntry_1dgff_29\"><label class=\"_heading_elimo_53 _required_elimo_92 _label_1dgff_43 ashby-application-form-question-title\" for=\"cefd7ab1-7698-4151-9870-e9876684992e\">What degree are you currently pursuing?</label><div class=\"_option_1v5e2_35 false\"><span class=\"_container_ruukg_29\" data-disabled=\"false\"><span class=\"_circle_ruukg_74\"></span><input type=\"radio\" id=\"41e00180-cb86-41f4-851e-77c737c2def9-labeled-radio-0\" name=\"41e00180-cb86-41f4-851e-77c737c2def9\"></span><label for=\"41e00180-cb86-41f4-851e-77c737c2def9-labeled-radio-0\" class=\"_label_1v5e2_43 \">Undergraduate degree</label></div><div class=\"_option_1v5e2_35 false\"><span class=\"_container_ruukg_29\" data-disabled=\"false\"><span class=\"_circle_ruukg_74\"></span><input type=\"radio\" id=\"41e00180-cb86-41f4-851e-77c737c2def9-labeled-radio-1\" name=\"41e00180-cb86-41f4-851e-77c737c2def9\"></span><label for=\"41e00180-cb86-41f4-851e-77c737c2def9-labeled-radio-1\" class=\"_label_1v5e2_43 \">Masters degree</label></div><div class=\"_option_1v5e2_35 false\"><span class=\"_container_ruukg_29\" data-disabled=\"false\"><span class=\"_circle_ruukg_74\"></span><input type=\"radio\" id=\"41e00180-cb86-41f4-851e-77c737c2def9-labeled-radio-2\" name=\"41e00180-cb86-41f4-851e-77c737c2def9\"></span><label for=\"41e00180-cb86-41f4-851e-77c737c2def9-labeled-radio-2\" class=\"_label_1v5e2_43 \">Other</label></div></fieldset><div class=\"_fieldEntry_1dgff_29 ashby-application-form-field-entry\"><label class=\"_heading_elimo_53 _required_elimo_92 _label_1dgff_43 ashby-application-form-question-title\" for=\"ffaf6121-a82b-4cce-9892-2987bb67234c\">Are you currently located in Boston area or willing to relocate on your own?</label><div class=\"_container_y2cw4_29 _yesno_1dgff_136 \"><button class=\"_container_pjyt6_1 _option_y2cw4_33 \">Yes</button><button class=\"_container_pjyt6_1 _option_y2cw4_33 \">No</button><input type=\"checkbox\" class=\"_input_y2cw4_79\" tabindex=\"-1\" name=\"ffaf6121-a82b-4cce-9892-2987bb67234c\"></div></div><div class=\"_fieldEntry_1dgff_29 ashby-application-form-field-entry\"><label class=\"_heading_elimo_53 _required_elimo_92 _label_1dgff_43 ashby-application-form-question-title\" for=\"09dd7b21-dbef-4fd5-a835-379a3906a797\">Are you willing to work onsite at our Boston office (located in Newton Centre) at least 3 days a week?</label><div class=\"_container_y2cw4_29 _yesno_1dgff_136 \"><button class=\"_container_pjyt6_1 _option_y2cw4_33 \">Yes</button><button class=\"_container_pjyt6_1 _option_y2cw4_33 \">No</button><input type=\"checkbox\" class=\"_input_y2cw4_79\" tabindex=\"-1\" name=\"09dd7b21-dbef-4fd5-a835-379a3906a797\"></div></div><div class=\"_fieldEntry_1dgff_29 ashby-application-form-field-entry\"><label class=\"_heading_elimo_53 _required_elimo_92 _label_1dgff_43 ashby-application-form-question-title\" for=\"b71ed548-114c-4db8-9c3b-6c1423ae71a0\">Are you able to work a normal 9-5 schedule for 40 hours per week, with occasional weekend work (monitoring study data for a couple hours on the weekend)?</label><div class=\"_container_y2cw4_29 _yesno_1dgff_136 \"><button class=\"_container_pjyt6_1 _option_y2cw4_33 \">Yes</button><button class=\"_container_pjyt6_1 _option_y2cw4_33 \">No</button><input type=\"checkbox\" class=\"_input_y2cw4_79\" tabindex=\"-1\" name=\"b71ed548-114c-4db8-9c3b-6c1423ae71a0\"></div></div><div class=\"_fieldEntry_1dgff_29 ashby-application-form-field-entry\"><label class=\"_heading_elimo_53 _required_elimo_92 _label_1dgff_43 ashby-application-form-question-title\" for=\"b10af23c-d987-45de-a5f3-c2a453b5896a\">Are you available from January 2nd - June 30th 2024 for 40 hours per week?</label><div class=\"_container_y2cw4_29 _yesno_1dgff_136 \"><button class=\"_container_pjyt6_1 _option_y2cw4_33 \">Yes</button><button class=\"_container_pjyt6_1 _option_y2cw4_33 \">No</button><input type=\"checkbox\" class=\"_input_y2cw4_79\" tabindex=\"-1\" name=\"b10af23c-d987-45de-a5f3-c2a453b5896a\"></div></div><div class=\"_fieldEntry_1dgff_29 ashby-application-form-field-entry\"><label class=\"_heading_elimo_53 _required_elimo_92 _label_1dgff_43 ashby-application-form-question-title\" for=\"24621a81-a702-46c8-a090-6468b9b7a898\">Are you aware this position is a Data Engineering co-op, not Machine Learning? The main tasks will include: 1. Manipulating, cleaning, and transforming raw data into a usable format for analysis 2. Enhancing our existing data quality scripts to ensure that data are accurate, complete, and consistent throughout the data collection period of a study 3. Developing and maintaining tools and processes to improve efficiency and consistency across projects</label><div class=\"_container_y2cw4_29 _yesno_1dgff_136 \"><button class=\"_container_pjyt6_1 _option_y2cw4_33 \">Yes</button><button class=\"_container_pjyt6_1 _option_y2cw4_33 \">No</button><input type=\"checkbox\" class=\"_input_y2cw4_79\" tabindex=\"-1\" name=\"24621a81-a702-46c8-a090-6468b9b7a898\"></div></div><fieldset class=\"_container_1v5e2_29 _fieldEntry_1dgff_29\"><label class=\"_heading_elimo_53 _required_elimo_92 _label_1dgff_43 ashby-application-form-question-title\" for=\"4dd9e9a0-79c2-4fe6-bd83-e482b064f2db\">How many years of python coding experience do you have?</label><div class=\"_option_1v5e2_35 false\"><span class=\"_container_ruukg_29\" data-disabled=\"false\"><span class=\"_circle_ruukg_74\"></span><input type=\"radio\" id=\"474b3d30-879f-49c5-baa1-5cd82afb57e3-labeled-radio-0\" name=\"474b3d30-879f-49c5-baa1-5cd82afb57e3\"></span><label for=\"474b3d30-879f-49c5-baa1-5cd82afb57e3-labeled-radio-0\" class=\"_label_1v5e2_43 \">Less than 1 year</label></div><div class=\"_option_1v5e2_35 false\"><span class=\"_container_ruukg_29\" data-disabled=\"false\"><span class=\"_circle_ruukg_74\"></span><input type=\"radio\" id=\"474b3d30-879f-49c5-baa1-5cd82afb57e3-labeled-radio-1\" name=\"474b3d30-879f-49c5-baa1-5cd82afb57e3\"></span><label for=\"474b3d30-879f-49c5-baa1-5cd82afb57e3-labeled-radio-1\" class=\"_label_1v5e2_43 \">1-2 years</label></div><div class=\"_option_1v5e2_35 false\"><span class=\"_container_ruukg_29\" data-disabled=\"false\"><span class=\"_circle_ruukg_74\"></span><input type=\"radio\" id=\"474b3d30-879f-49c5-baa1-5cd82afb57e3-labeled-radio-2\" name=\"474b3d30-879f-49c5-baa1-5cd82afb57e3\"></span><label for=\"474b3d30-879f-49c5-baa1-5cd82afb57e3-labeled-radio-2\" class=\"_label_1v5e2_43 \">2+ years</label></div></fieldset><div class=\"_fieldEntry_1dgff_29 ashby-application-form-field-entry\"><label class=\"_heading_elimo_53 _required_elimo_92 _label_1dgff_43 ashby-application-form-question-title\" for=\"3e7aa525-01be-4b61-99f1-c3dd7ecea150\">How many years of work experience do you have as a data engineer, data scientist, or software engineer? Feel free to include time spent working as an intern, co-op, etc.</label><textarea placeholder=\"Type here...\" required=\"\" name=\"3e7aa525-01be-4b61-99f1-c3dd7ecea150\" id=\"3e7aa525-01be-4b61-99f1-c3dd7ecea150\" class=\"_input_gsl38_29 _input_1dgff_33 \" rows=\"4\"></textarea></div><fieldset class=\"_container_1v5e2_29 _fieldEntry_1dgff_29\"><label class=\"_heading_elimo_53 _required_elimo_92 _label_1dgff_43 ashby-application-form-question-title\" for=\"00ea5595-b66a-44d6-bd0d-e8e432bde76c\">How many years of experience do you have using Github in your workflow?</label><div class=\"_option_1v5e2_35 false\"><span class=\"_container_ruukg_29\" data-disabled=\"false\"><span class=\"_circle_ruukg_74\"></span><input type=\"radio\" id=\"b00c9999-6dc6-47dc-8ad8-79c783b78c4b-labeled-radio-0\" name=\"b00c9999-6dc6-47dc-8ad8-79c783b78c4b\"></span><label for=\"b00c9999-6dc6-47dc-8ad8-79c783b78c4b-labeled-radio-0\" class=\"_label_1v5e2_43 \">Less than 1 year</label></div><div class=\"_option_1v5e2_35 false\"><span class=\"_container_ruukg_29\" data-disabled=\"false\"><span class=\"_circle_ruukg_74\"></span><input type=\"radio\" id=\"b00c9999-6dc6-47dc-8ad8-79c783b78c4b-labeled-radio-1\" name=\"b00c9999-6dc6-47dc-8ad8-79c783b78c4b\"></span><label for=\"b00c9999-6dc6-47dc-8ad8-79c783b78c4b-labeled-radio-1\" class=\"_label_1v5e2_43 \">1-2 years</label></div><div class=\"_option_1v5e2_35 false\"><span class=\"_container_ruukg_29\" data-disabled=\"false\"><span class=\"_circle_ruukg_74\"></span><input type=\"radio\" id=\"b00c9999-6dc6-47dc-8ad8-79c783b78c4b-labeled-radio-2\" name=\"b00c9999-6dc6-47dc-8ad8-79c783b78c4b\"></span><label for=\"b00c9999-6dc6-47dc-8ad8-79c783b78c4b-labeled-radio-2\" class=\"_label_1v5e2_43 \">2+ years</label></div></fieldset><fieldset class=\"_container_1v5e2_29 _fieldEntry_1dgff_29\"><label class=\"_heading_elimo_53 _required_elimo_92 _label_1dgff_43 ashby-application-form-question-title\" for=\"b4c6a61c-4485-49c3-b81d-e49e5ad10c77\">What is your experience level with parsing &amp; time aligning data using pandas, numpy, pendulum, etc? (Note that you will be sent a coding challenge that will further test these skills)</label><div class=\"_option_1v5e2_35 false\"><span class=\"_container_ruukg_29\" data-disabled=\"false\"><span class=\"_circle_ruukg_74\"></span><input type=\"radio\" id=\"b41de1e2-b423-4612-b520-44738779a3ff-labeled-radio-0\" name=\"b41de1e2-b423-4612-b520-44738779a3ff\"></span><label for=\"b41de1e2-b423-4612-b520-44738779a3ff-labeled-radio-0\" class=\"_label_1v5e2_43 \">Beginner: I've worked with small datasets from a single source (&lt;100 rows, no time alignment required)</label></div><div class=\"_option_1v5e2_35 false\"><span class=\"_container_ruukg_29\" data-disabled=\"false\"><span class=\"_circle_ruukg_74\"></span><input type=\"radio\" id=\"b41de1e2-b423-4612-b520-44738779a3ff-labeled-radio-1\" name=\"b41de1e2-b423-4612-b520-44738779a3ff\"></span><label for=\"b41de1e2-b423-4612-b520-44738779a3ff-labeled-radio-1\" class=\"_label_1v5e2_43 \">Intermediate: I've worked with aligning moderately-sized datasets with data from multiple sources</label></div><div class=\"_option_1v5e2_35 false\"><span class=\"_container_ruukg_29\" data-disabled=\"false\"><span class=\"_circle_ruukg_74\"></span><input type=\"radio\" id=\"b41de1e2-b423-4612-b520-44738779a3ff-labeled-radio-2\" name=\"b41de1e2-b423-4612-b520-44738779a3ff\"></span><label for=\"b41de1e2-b423-4612-b520-44738779a3ff-labeled-radio-2\" class=\"_label_1v5e2_43 \">Advanced: I do this on a daily basis &amp; have worked with very large datasets with multiple types of file sources (i.e. json, csv, api, etc</label></div><div class=\"_option_1v5e2_35 false\"><span class=\"_container_ruukg_29\" data-disabled=\"false\"><span class=\"_circle_ruukg_74\"></span><input type=\"radio\" id=\"b41de1e2-b423-4612-b520-44738779a3ff-labeled-radio-3\" name=\"b41de1e2-b423-4612-b520-44738779a3ff\"></span><label for=\"b41de1e2-b423-4612-b520-44738779a3ff-labeled-radio-3\" class=\"_label_1v5e2_43 \">Not applicable: I do not have any experience parsing &amp; time aligning data</label></div></fieldset><fieldset class=\"_container_1v5e2_29 _fieldEntry_1dgff_29\"><label class=\"_heading_elimo_53 _required_elimo_92 _label_1dgff_43 ashby-application-form-question-title\" for=\"57183933-fa50-4aa5-bb20-6755567c26e6\">How would you rate your experience with object-oriented design in Python and your familiarity with best code practices, such as testing, documentation, and code reusability? Please use the following definitions to guide your answer:</label><div class=\"_option_1v5e2_35 false\"><span class=\"_container_ruukg_29\" data-disabled=\"false\"><span class=\"_circle_ruukg_74\"></span><input type=\"radio\" id=\"6a8158d9-de2c-4c4a-95f2-ffbf47f0f1f2-labeled-radio-0\" name=\"6a8158d9-de2c-4c4a-95f2-ffbf47f0f1f2\"></span><label for=\"6a8158d9-de2c-4c4a-95f2-ffbf47f0f1f2-labeled-radio-0\" class=\"_label_1v5e2_43 \">Beginner: I have a basic understanding of object-oriented design in Python and I am familiar with basic best code practices, such as writing comments and using meaningful variable names.</label></div><div class=\"_option_1v5e2_35 false\"><span class=\"_container_ruukg_29\" data-disabled=\"false\"><span class=\"_circle_ruukg_74\"></span><input type=\"radio\" id=\"6a8158d9-de2c-4c4a-95f2-ffbf47f0f1f2-labeled-radio-1\" name=\"6a8158d9-de2c-4c4a-95f2-ffbf47f0f1f2\"></span><label for=\"6a8158d9-de2c-4c4a-95f2-ffbf47f0f1f2-labeled-radio-1\" class=\"_label_1v5e2_43 \">Intermediate: I have a good understanding of object-oriented design in Python and I regularly use best code practices, such as writing automated tests, documenting my code, and creating reusable code modules.</label></div><div class=\"_option_1v5e2_35 false\"><span class=\"_container_ruukg_29\" data-disabled=\"false\"><span class=\"_circle_ruukg_74\"></span><input type=\"radio\" id=\"6a8158d9-de2c-4c4a-95f2-ffbf47f0f1f2-labeled-radio-2\" name=\"6a8158d9-de2c-4c4a-95f2-ffbf47f0f1f2\"></span><label for=\"6a8158d9-de2c-4c4a-95f2-ffbf47f0f1f2-labeled-radio-2\" class=\"_label_1v5e2_43 \">Advanced: I have extensive knowledge of object-oriented design in Python and I consistently implement best code practices, such as unit testing, API documentation, and modular design, in my projects.</label></div></fieldset><fieldset class=\"_container_1v5e2_29 _fieldEntry_1dgff_29\"><label class=\"_heading_elimo_53 _required_elimo_92 _label_1dgff_43 ashby-application-form-question-title\" for=\"34b4abe4-0486-4ae2-b970-e67c6251e54c\">Please rate your experience level working with SQL. (Note that you will also be further tested on your SQL skills)</label><div class=\"_option_1v5e2_35 false\"><span class=\"_container_ruukg_29\" data-disabled=\"false\"><span class=\"_circle_ruukg_74\"></span><input type=\"radio\" id=\"553c6f4d-54ae-4915-93dc-bf5f821e1375-labeled-radio-0\" name=\"553c6f4d-54ae-4915-93dc-bf5f821e1375\"></span><label for=\"553c6f4d-54ae-4915-93dc-bf5f821e1375-labeled-radio-0\" class=\"_label_1v5e2_43 \">Beginner: Have basic knowledge of SQL and can write simple queries.</label></div><div class=\"_option_1v5e2_35 false\"><span class=\"_container_ruukg_29\" data-disabled=\"false\"><span class=\"_circle_ruukg_74\"></span><input type=\"radio\" id=\"553c6f4d-54ae-4915-93dc-bf5f821e1375-labeled-radio-1\" name=\"553c6f4d-54ae-4915-93dc-bf5f821e1375\"></span><label for=\"553c6f4d-54ae-4915-93dc-bf5f821e1375-labeled-radio-1\" class=\"_label_1v5e2_43 \">Intermediate: Have a good understanding of SQL concepts and can write complex queries.</label></div><div class=\"_option_1v5e2_35 false\"><span class=\"_container_ruukg_29\" data-disabled=\"false\"><span class=\"_circle_ruukg_74\"></span><input type=\"radio\" id=\"553c6f4d-54ae-4915-93dc-bf5f821e1375-labeled-radio-2\" name=\"553c6f4d-54ae-4915-93dc-bf5f821e1375\"></span><label for=\"553c6f4d-54ae-4915-93dc-bf5f821e1375-labeled-radio-2\" class=\"_label_1v5e2_43 \">Advanced: Have extensive knowledge of SQL and can design and optimize complex databases.</label></div><div class=\"_option_1v5e2_35 false\"><span class=\"_container_ruukg_29\" data-disabled=\"false\"><span class=\"_circle_ruukg_74\"></span><input type=\"radio\" id=\"553c6f4d-54ae-4915-93dc-bf5f821e1375-labeled-radio-3\" name=\"553c6f4d-54ae-4915-93dc-bf5f821e1375\"></span><label for=\"553c6f4d-54ae-4915-93dc-bf5f821e1375-labeled-radio-3\" class=\"_label_1v5e2_43 \">Not applicable: I have not used SQL previously.</label></div></fieldset><div class=\"_fieldEntry_1dgff_29 ashby-application-form-field-entry\"><label class=\"_heading_elimo_53 _required_elimo_92 _label_1dgff_43 ashby-application-form-question-title\" for=\"461a1c51-b0ce-4d16-a812-d5ce079f6f0b\">Please describe your experience with data visualization tools.</label><textarea placeholder=\"Type here...\" required=\"\" name=\"461a1c51-b0ce-4d16-a812-d5ce079f6f0b\" id=\"461a1c51-b0ce-4d16-a812-d5ce079f6f0b\" class=\"_input_gsl38_29 _input_1dgff_33 \" rows=\"4\"></textarea></div><div class=\"_fieldEntry_1dgff_29 ashby-application-form-field-entry\"><label class=\"_heading_elimo_53 _required_elimo_92 _label_1dgff_43 ashby-application-form-question-title\" for=\"1427fa04-c319-4ca9-96af-3313a32d9c98\">Can you tell me about a project you worked on using Python and how you approached the design and implementation? Please feel free to discuss any best code practices you followed during the project, such as testing, documentation, and code reusability.</label><textarea placeholder=\"Type here...\" required=\"\" name=\"1427fa04-c319-4ca9-96af-3313a32d9c98\" id=\"1427fa04-c319-4ca9-96af-3313a32d9c98\" class=\"_input_gsl38_29 _input_1dgff_33 \" rows=\"4\"></textarea></div></div></div><button class=\"_button_yxgm9_29 _primary_yxgm9_96  _greedy_yxgm9_218 _submitButton_z1j6s_418 ashby-application-form-submit-button\"><span>Submit Application</span><svg viewBox=\"0 0 512 512\" fill=\"none\" height=\"1em\"><path d=\"M498.1 5.6c10.1 7 15.4 19.1 13.5 31.2l-64 416c-1.5 9.7-7.4 18.2-16 23s-18.9 5.4-28 1.6L284 427.7l-68.5 74.1c-8.9 9.7-22.9 12.9-35.2 8.1S160 493.2 160 480V396.4c0-4 1.5-7.8 4.2-10.7L331.8 202.8c5.8-6.3 5.6-16-.4-22s-15.7-6.4-22-.7L106 360.8 17.7 316.6C7.1 311.3 .3 300.7 0 288.9s5.9-22.8 16.1-28.7l448-256c10.7-6.1 23.9-5.5 34 1.4z\"></path></svg></button></div></div></div></div><p class=\"_recaptchaLegal_l26em_29\">This site is protected by reCAPTCHA and the Google&nbsp;<a href=\"https://policies.google.com/privacy\" target=\"_blank\" rel=\"noopener\">Privacy Policy</a> and&nbsp;<a href=\"https://policies.google.com/terms\" target=\"_blank\" rel=\"noopener\">Terms of Service</a> apply.</p><footer class=\"_container_l26em_28 \"><a href=\"https://www.ashbyhq.com\" target=\"_blank\" rel=\"noopener\" class=\"_powered_l26em_65\" aria-label=\"Learn more about Ashby\"><span>Powered by&nbsp;</span><svg viewBox=\"0 0 1540 512\" fill=\"none\" height=\"1em\" class=\"_wordmark_l26em_78\"><title>Ashby</title><path d=\"M348.899 368.429C353.474 379.689 358.4 388.135 363.678 393.765C369.309 399.043 374.763 401.858 380.041 402.21V412.767C354.705 411.711 322.683 411.184 283.975 411.184C243.86 411.184 214.301 411.711 195.299 412.767V402.21C208.671 401.507 218.172 399.923 223.802 397.46C229.432 394.645 232.247 389.894 232.247 383.208C232.247 376.874 230.136 368.429 225.913 357.872L194.771 271.307H88.1485L79.1753 295.06C67.5629 324.97 61.7567 347.843 61.7567 363.678C61.7567 378.106 65.8034 387.959 73.8969 393.237C81.9904 398.516 93.9546 401.507 109.79 402.21V412.767C83.3979 411.711 60.3491 411.184 40.6433 411.184C24.1045 411.184 10.5567 411.711 0 412.767V402.21C8.79725 400.803 17.0667 395.348 24.8082 385.847C32.5498 376.346 40.4674 361.215 48.5608 340.454L165.74 39.0598C177.001 39.7636 186.326 40.1155 193.715 40.1155C200.753 40.1155 209.902 39.7636 221.163 39.0598L348.899 368.429ZM191.076 260.751L143.043 128.792L92.3711 260.751H191.076Z\"></path><path d=\"M498.478 131.431C512.202 131.431 525.046 133.014 537.01 136.181C549.326 138.997 558.652 142.164 564.986 145.682C568.856 147.794 572.023 148.85 574.487 148.85C581.876 148.85 586.275 143.219 587.682 131.959H598.239C596.832 150.257 596.128 181.927 596.128 226.969H585.571C582.756 203.744 576.07 184.214 565.513 168.379C555.309 152.192 540.353 144.099 520.647 144.099C511.85 144.099 504.46 146.738 498.478 152.017C492.496 157.295 489.505 164.509 489.505 173.658C489.505 185.27 493.376 195.651 501.118 204.8C508.859 213.597 520.999 224.506 537.538 237.526C538.242 237.878 543.344 241.924 552.845 249.666C572.551 265.853 586.979 280.28 596.128 292.948C605.277 305.265 609.852 320.572 609.852 338.87C609.852 354.353 605.101 368.429 595.6 381.097C586.099 393.413 573.079 403.09 556.54 410.128C540.353 416.814 522.583 420.157 503.229 420.157C481.06 420.157 462.937 415.758 448.862 406.961C442.88 403.794 437.953 401.507 434.082 400.099C430.212 398.691 426.341 397.988 422.47 397.988C415.784 397.988 410.858 404.146 407.691 416.462H397.134C398.542 396.404 399.245 361.215 399.245 310.895H409.802C412.969 339.75 420.711 362.975 433.027 380.569C445.343 398.164 460.826 406.961 479.476 406.961C488.274 406.961 495.487 404.498 501.118 399.571C507.1 394.645 510.091 387.431 510.091 377.93C510.091 368.077 507.979 359.28 503.757 351.538C499.886 343.797 494.959 336.935 488.977 330.953C483.347 324.619 474.022 315.645 461.002 304.033C446.223 290.309 434.962 279.401 427.221 271.307C419.479 263.214 412.793 253.889 407.163 243.332C401.885 232.423 399.245 220.459 399.245 207.439C399.245 192.308 403.82 178.936 412.969 167.324C422.118 155.711 434.258 146.914 449.39 140.932C464.521 134.598 480.884 131.431 498.478 131.431Z\"></path><path d=\"M759.588 171.019C775.423 144.627 803.398 131.431 843.513 131.431C871.665 131.431 891.546 138.469 903.159 152.544C908.437 158.878 912.308 167.5 914.771 178.408C917.234 188.965 918.466 203.041 918.466 220.635V363.678C918.466 378.106 920.577 388.135 924.8 393.765C929.375 399.043 937.116 401.682 948.025 401.682V412.767C910.021 411.359 885.388 410.656 874.128 410.656C862.164 410.656 837.179 411.359 799.175 412.767V401.682C808.324 401.682 814.658 399.043 818.177 393.765C821.696 388.135 823.456 378.106 823.456 363.678V192.132C823.456 180.872 821.344 172.602 817.122 167.324C813.251 161.693 806.741 158.878 797.592 158.878C787.387 158.878 778.414 162.573 770.672 169.963C763.282 177.001 759.588 185.974 759.588 196.882V363.678C759.588 378.106 761.347 388.135 764.866 393.765C768.385 399.043 774.719 401.682 783.868 401.682V412.767C748.679 411.359 725.454 410.656 714.194 410.656C702.229 410.656 675.838 411.359 635.019 412.767V401.682C645.927 401.682 653.493 399.043 657.715 393.765C662.29 388.135 664.577 378.106 664.577 363.678V63.3402C664.577 47.1533 662.29 35.365 657.715 27.9753C653.493 20.5856 645.927 16.8907 635.019 16.8907V5.8062C645.927 6.86188 656.836 7.38972 667.744 7.38972C704.341 7.38972 734.955 4.92648 759.588 0V171.019Z\"></path><path d=\"M1162.36 131.431C1189.81 131.431 1211.98 142.691 1228.87 165.212C1245.76 187.733 1254.21 220.635 1254.21 263.918C1254.21 319.868 1242.95 359.984 1220.42 384.264C1197.9 408.192 1168.17 420.157 1131.22 420.157C1119.96 420.157 1110.46 419.805 1102.72 419.101C1095.33 418.397 1088.47 416.638 1082.13 413.823C1069.11 408.544 1055.56 405.905 1041.49 405.905C1030.93 405.905 1021.08 407.313 1011.93 410.128C1002.78 412.943 995.743 416.638 990.816 421.212L983.427 415.934C985.89 408.544 987.122 398.867 987.122 386.903V63.3402C987.122 47.1533 984.834 35.365 980.26 27.9753C976.037 20.5856 968.471 16.8907 957.563 16.8907V5.8062C968.471 6.86188 979.38 7.38972 990.289 7.38972C1026.89 7.38972 1057.5 4.92648 1082.13 0V171.019C1098.32 144.627 1125.06 131.431 1162.36 131.431ZM1106.94 409.6C1139.31 409.6 1155.5 365.086 1155.5 276.058C1155.5 232.775 1152.33 202.513 1146 185.27C1139.67 167.676 1131.04 158.878 1120.14 158.878C1109.93 158.878 1100.96 162.573 1093.22 169.963C1085.83 177.001 1082.13 185.974 1082.13 196.882V403.266C1090.23 407.489 1098.49 409.6 1106.94 409.6Z\"></path><path d=\"M1499.1 140.932C1519.16 140.932 1532.71 140.228 1539.74 138.821V149.905C1532.35 152.368 1525.49 157.471 1519.16 165.212C1513.18 172.954 1507.55 184.918 1502.27 201.105L1436.29 397.46L1414.12 461.328C1407.79 479.626 1400.04 492.294 1390.89 499.332C1379.99 507.777 1363.62 512 1341.81 512C1324.21 512 1307.85 507.777 1292.72 499.332C1277.59 491.239 1270.02 478.922 1270.02 462.384C1270.02 450.067 1274.77 440.214 1284.27 432.825C1293.77 425.435 1306.27 421.74 1321.75 421.74C1336.53 421.74 1348.14 425.083 1356.59 431.769C1365.03 438.455 1369.25 448.132 1369.25 460.8C1369.25 469.245 1366.26 477.163 1360.28 484.553C1354.65 492.294 1346.2 497.924 1334.94 501.443C1338.46 502.147 1344.45 502.499 1352.89 502.499C1377.17 502.499 1393.89 488.423 1403.03 460.272L1405.67 451.299L1282.69 179.464C1277.41 167.5 1272.13 159.582 1266.85 155.711C1261.93 151.841 1257 149.905 1252.07 149.905V138.821C1280.23 140.932 1308.9 141.988 1338.11 141.988C1360.98 141.988 1386.5 140.932 1414.65 138.821V149.905C1404.44 149.905 1396.53 150.609 1390.89 152.017C1385.62 153.424 1382.98 156.591 1382.98 161.518C1382.98 164.333 1383.68 167.148 1385.09 169.963L1450.01 324.619L1472.18 257.056C1478.87 236.646 1482.21 218.7 1482.21 203.217C1482.21 186.678 1478.69 173.834 1471.65 164.685C1464.62 155.535 1455.29 150.609 1443.68 149.905V138.821C1456.7 140.228 1475.17 140.932 1499.1 140.932Z\"></path></svg></a><p class=\"_links_l26em_119\"><a href=\"https://www.ashbyhq.com/privacy\" target=\"_blank\" rel=\"noopener\" class=\"_link_l26em_86\">Privacy Policy</a><a href=\"https://www.ashbyhq.com/security\" target=\"_blank\" rel=\"noopener\" class=\"_link_l26em_86\">Security</a><a href=\"https://www.ashbyhq.com/disclosure\" target=\"_blank\" rel=\"noopener\" class=\"_link_l26em_86\">Vulnerability Disclosure</a></p></footer><div class=\"_toasts_1de86_59\"></div></div>\n",
      "    <script nonce=\"\">\n",
      "      window.__appData = {\"ddRumApplicationId\":\"80e0bf43-e772-45ac-858b-1e6dc0f1f415\",\"ddRumClientToken\":\"pub1a87c7036063ee7d4b7914b397e6324e\",\"environment\":\"production\",\"maintenanceMode\":false,\"organization\":{\"name\":\"Eight Sleep\",\"publicWebsite\":\"https://www.eightsleep.com/\",\"customJobsPageUrl\":null,\"activeFeatureFlags\":[\"WorkdayHRIS\",\"AdminOverview\",\"SchedulingExplodeFreeFullDayEvents\",\"EditJobPostingDescriptionSharedBlocks\",\"InterviewReportingCountToggle\",\"ServeNewFeatureFlags\",\"CandidateAvailability\",\"AllowNonDomainUsers\",\"DirectScheduling\",\"JobBoardEmbeddingAdmin\",\"ShareableFilterUrls\",\"ForecastLines\",\"GreenhouseDemographicSurveys\",\"GoalLines\",\"FormRenderCacheRestrictions\",\"ApplicationTransfer\",\"AgencyRecruiting\",\"SharedEmailAliases\",\"GreenhouseLocalSchedulableInterviews\",\"GreenhouseJobPosts\",\"GreenhouseEmailTemplates\",\"GreenhouseScorecardAttributes\",\"JobPostingLocation\",\"JobPostingSecondaryLocations\",\"DimensionNot\",\"GranularAdminPermissions\",\"CandidateSearchWordSimilarity\",\"MobileHome\",\"TakeHomeSelfSubmission\",\"DoverIntegration\",\"Gusto\",\"EnableContactOut\",\"NarrowDownSecurityRoles\",\"IndeedJobFeed\",\"BulkCampaignAsyncTasks\",\"FilterApplicationFieldset\",\"HiBob\",\"CalendarOAuthDefaultShowEventDetails\",\"SegmentationFilterByDatePivot\",\"Paychex\",\"SavedFilters\",\"SchedulingNewAvailabileTimesCalculation\",\"StageNameField\",\"InterviewPlansLocalToJob\",\"ShowCustomFieldsInChromeExtension\",\"StageFunnelEmptyStages\",\"DefaultJobDashboard\",\"SchedulingRescheduleWithFeedback\",\"UseNewFeedbackVisibilitySettings\",\"ApplicationBlockingRules\",\"Personio\",\"PhoneInterviewLocation\",\"DeleteV1\",\"UseNewInterviewPlanEditingStrategy\",\"AnonymousCandidateExperience\",\"LinkedInHtmlTransform\",\"OneInterviewPlanPerJob\",\"BlindingTakeHomeAssignments\",\"EditApplicationHistory\",\"CandidateExperienceResponses\",\"GranularAgencyPermissions\",\"RedesignBeta\",\"InterviewerLimits\",\"SchedulingAllowCandidateInviteRichText\",\"JobApprovals\",\"OpeningApprovals\",\"HeadcountPlanning\",\"BulkDataImportPrimaryEmailBugFix\",\"SchedulingFilterCandidateAvailability\",\"AsyncPipelineCounts\",\"InterviewPanelSummaryCandidateTimezone\",\"WorkdayHRISRest\",\"CountOverTimeFilterByDatePivot\",\"NonOfferEsignatures\",\"SchedulingNewConferenceDataFlow\",\"UseNewShowAllTableCellActions\",\"InterviewPanelJobTitleAndLinks\",\"NewJobsOpeningsRequisitionsDrilldowns\",\"ReportPreferredVizType\",\"AutofillApplications\",\"WelcomeToTheJungle\",\"NewCandidateAppliedNotification\",\"CandidateLocations\",\"OfferLetterConditionals\",\"LeverMapStandardInterviewPlan\",\"NewSearchDesign\",\"PipelineReportByStageGroup\",\"PipelineReportMoreStages\",\"ConnectedOfferCustomFields\",\"GroupByDate\",\"LocationFormField\",\"InterviewPlansV2\",\"BulkOpeningsImport\",\"FormEngineS3Upload\",\"CustomConsentRichText\",\"VisualizationsColorCustomization\",\"UseConsistentChartColors\",\"SchedulingLambdaReliabilityTweaks\",\"NewApplicationReview\",\"NonOfferEsignatureCandidateCustomFieldSubstitionTokens\",\"QueryDSLOptimizationsEnabled\",\"SchedulingGenericBookingLinks\",\"SchedulingGenericBookingLinksEmailToken\",\"HelloSignExpiresAtParameter\",\"CustomFieldSubstitutionTokenPopover\",\"NewGoogleApiAuthorizationFlow\",\"ScheduledDashboards\",\"OfferEsignatureCandidateCustomFieldSubstitionTokens\",\"OfferEsignatureJobCustomFieldSubstitionTokens\",\"SchedulingCancellationNotifications\"],\"allowJobPostIndexing\":true,\"theme\":{\"colors\":{\"version\":\"1\",\"colorPrimary600\":\"#000000\",\"colorPrimary900\":\"#1d1b3e\"},\"showJobFilters\":true,\"showTeams\":false,\"showAutofillApplicationsBox\":true,\"logoWordmarkImageUrl\":\"https://app.ashbyhq.com/api/images/org-theme-wordmark/beb8bf8c-4355-469f-9eb9-59a3c94c47eb/62dd7bc6-7304-4cff-88b1-ffca48f2ee84.png\",\"logoSquareImageUrl\":\"https://app.ashbyhq.com/api/images/org-theme-logo/beb8bf8c-4355-469f-9eb9-59a3c94c47eb/dad1d656-2ac0-4058-9452-a0e71657abcc.png\",\"applicationSubmittedSuccessMessage\":null,\"jobBoardTopDescriptionHtml\":null,\"jobBoardBottomDescriptionHtml\":null},\"appConfirmationTrackingPixelHtml\":null,\"timezone\":\"America/Los_Angeles\"},\"posting\":{\"id\":\"70a2ba22-04be-45b0-823a-8fc348035e0f\",\"title\":\"Data Engineering Co-Op - Research & Development\",\"isListed\":true,\"isConfidential\":false,\"departmentName\":\"R&D\",\"teamNames\":[\"R&D\"],\"locationName\":\"Boston Area\",\"employmentType\":\"Temporary\",\"descriptionHtml\":\"<p style=\\\"min-height:1.5em\\\">Eight Sleep is the world’s first sleep fitness company. Our mission is to fuel human potential through optimal sleep. We use innovative technology, detailed design, and proven science and data to personalize and improve each night for everybody—changing the way people sleep forever and for the better. </p><p style=\\\"min-height:1.5em\\\">Backed by leading Silicon Valley investors, we have been recognized as one of Fast Company’s Most Innovative Companies in 2018, 2022, and 2023.</p><p style=\\\"min-height:1.5em\\\">Our temperature-regulated technology, the Pod, is an absolute game changer, improving people's health and happiness by changing the way they sleep. The Pod was also recognized two years in a row by TIME's “Best Inventions of the Year.” It is available for purchase in North America (the United States and Canada) and throughout the United Kingdom, Europe (Belgium, France, Germany, Italy, Netherlands, Spain, Sweden, Denmark), and Australia via <a target=\\\"_blank\\\" rel=\\\"noopener noreferrer nofollow\\\" href=\\\"http://eightsleep.com\\\">eightsleep.com</a>. We’re excited by the success of the Pod to date and still have a long way to go toward achieving our mission</p><p style=\\\"min-height:1.5em\\\">That is why Eight Sleep is looking for a hands-on, research-oriented Data Engineering Co-op to help optimize data workflows for research studies. You will work closely with the current Data Engineer, ensuring data quality for all research studies, setting up data workflows that follow HIPAA guidelines and good clinical practices, and set up pipelines to streamline statistical analyses for ongoing data collections and completed studies that will be used to drive feature insights &amp; algorithm development, used for white papers and peer-reviewed publications. This role will report to the Director of Science &amp; Clinical Research at Eight Sleep, on the Research &amp; Development team. </p><p style=\\\"min-height:1.5em\\\">We are seeking someone who is passionate about health technologies and about making an impact on health outcomes, directly relating to sleep and human performance. We look for people who tackle problems with a systematic approach, and make data driven decisions to deliver the best products to our users. This role has high growth potential to contribute to the development of novel sleep technologies and to advance the field of sleep research. You will have the opportunity to work on cutting-edge projects and collaborate with a team of highly skilled professionals in sleep science, engineering, and data science.</p><p style=\\\"min-height:1.5em\\\">This co-op position is a unique opportunity to gain practical experience in a dynamic startup setting, tackling real-world issues that affect people's well-being. You'll have the opportunity to work with large datasets, create data pipelines, and contribute to statistical and machine learning analyses by assisting with data preparation, cleaning, and visualization.  </p><p style=\\\"min-height:1.5em\\\"><strong>This role</strong> <strong>requires onsite work from our Boston office, located in Newton Centre, at least 3 days a week</strong>.</p><p style=\\\"min-height:1.5em\\\"></p><p style=\\\"min-height:1.5em\\\"><strong>How you'll contribute</strong></p><ul style=\\\"min-height:1.5em\\\"><li><p style=\\\"min-height:1.5em\\\"><u>Data engineering: </u></p><ul style=\\\"min-height:1.5em\\\"><li><p style=\\\"min-height:1.5em\\\">Manipulating, cleaning, and transforming raw data into a usable format for analysis (requires time aligning and parsing data from multiple sources with varying sample rates).</p></li><li><p style=\\\"min-height:1.5em\\\">Writing, testing, and maintaining Python and SQL scripts for data analysis, and compiling results into tables and presentations.</p></li><li><p style=\\\"min-height:1.5em\\\">Extracting and cleaning temperature and physiological data to support future Machine Learning model development.</p></li></ul></li><li><p style=\\\"min-height:1.5em\\\"><u>Ensure good data quality &amp; privacy:</u></p><ul style=\\\"min-height:1.5em\\\"><li><p style=\\\"min-height:1.5em\\\">Developing and implementing processes to ensure that data are accurate, complete, and consistent throughout the data collection period of a study.</p></li><li><p style=\\\"min-height:1.5em\\\">Building databases and workflows that ensure subjects’ PII are protected for data privacy (in accordance with HIPAA and IRB compliance).</p></li></ul></li><li><p style=\\\"min-height:1.5em\\\"><u>Tooling:</u></p><ul style=\\\"min-height:1.5em\\\"><li><p style=\\\"min-height:1.5em\\\">Enhancing our existing data quality scripts by building dashboards, scripts, and/or efficient methods to check incoming study data quality to identify problems with sensors and/or trials.</p></li><li><p style=\\\"min-height:1.5em\\\">Developing and maintaining tools and processes to improve efficiency and consistency across projects, including abstracting one-off scripts into reusable tools and developing new features for daily quality checks and study management.</p></li></ul></li></ul><p style=\\\"min-height:1.5em\\\"></p><p style=\\\"min-height:1.5em\\\"><strong>What you'll need to succeed </strong></p><ul style=\\\"min-height:1.5em\\\"><li><p style=\\\"min-height:1.5em\\\">Bachelor's or Master's degree (or currently pursuing) in Computer Science, Software Engineering, Data Science, or a related field.</p></li><li><p style=\\\"min-height:1.5em\\\">Highly proficient in SQL, AWS S3, GitHub, and Python (Pandas, Scipy, Numpy, Jupyter Notebooks, PyCharm, seaborn/matplotlib/plotly).</p></li><li><p style=\\\"min-height:1.5em\\\">Experience with data manipulation, cleaning, and analysis, and data visualization.</p></li><li><p style=\\\"min-height:1.5em\\\">Ability to write clean, maintainable, and efficient code using best practices.</p></li><li><p style=\\\"min-height:1.5em\\\">Strong time-management skills, and excellent attention to detail while moving at a fast pace.</p></li><li><p style=\\\"min-height:1.5em\\\">Flexibility: willingness to jump into new projects or assignments (e.g. help collecting data) </p></li></ul><p style=\\\"min-height:1.5em\\\"></p><p style=\\\"min-height:1.5em\\\"><strong>Preferred</strong></p><ul style=\\\"min-height:1.5em\\\"><li><p style=\\\"min-height:1.5em\\\">6+ months of work experience </p></li><li><p style=\\\"min-height:1.5em\\\">Experience working with wearable and/or human physiology data, or knowledge of sleep and physiology</p></li><li><p style=\\\"min-height:1.5em\\\">Basic understanding of HIPAA, GCP, and IRB compliance for data privacy</p></li><li><p style=\\\"min-height:1.5em\\\">Human research experience</p></li><li><p style=\\\"min-height:1.5em\\\">Proficiency in one or more dashboard development tools, such as Tableau, Power BI, or Looker.</p></li></ul><p style=\\\"min-height:1.5em\\\"></p><p style=\\\"min-height:1.5em\\\"><strong>Why you’ll love Eight </strong></p><ul style=\\\"min-height:1.5em\\\"><li><p style=\\\"min-height:1.5em\\\">We’re a tight-knit, passionate team that’s working to improve people’s lives by improving the way they sleep</p></li><li><p style=\\\"min-height:1.5em\\\">Leadership is committed to employees’ wellness and career development</p></li></ul><p style=\\\"min-height:1.5em\\\"></p><p style=\\\"min-height:1.5em\\\">At Eight Sleep we continually celebrate the diverse community different individuals cultivate. As an equal opportunity employer, we stay true to our values by ensuring everyone feels they can flourish and grow. We are committed to equal employment opportunities regardless of race, color, ancestry, religion, sex, national origin, sexual orientation, age, citizenship, marital status, disability, gender identity or Veteran status.</p>\",\"compensationTierSummary\":\"$20.00 – $25.00 per hour\",\"compensationTiers\":[{\"id\":\"048fb659-c2b7-49f5-8056-52e852988f57\",\"tierSummary\":\"$20.00 – $25.00 per hour\",\"title\":null,\"additionalInformation\":null,\"components\":[{\"id\":\"2f515013-01f8-45e4-90b8-057b7c802929\",\"summary\":\"$20.00 – $25.00 per hour\",\"compensationType\":\"Salary\",\"interval\":\"1 HOUR\",\"currencyCode\":\"USD\",\"minValue\":20,\"maxValue\":25}]}],\"compensationTierGuideUrl\":null,\"compensationPhilosophyHtml\":null,\"scrapeableCompensationSalarySummary\":null},\"routerPrefix\":\"/\",\"recaptchaPublicSiteKey\":\"6LeFb_YUAAAAALUD5h-BiQEp8JaFChe0e0A6r49Y\"};\n",
      "      fetch(\"https://cdn.ashbyprd.com/frontend_non_user/8e66483770ba480554021b1acf8409b1b523e741/manifest.json\").then(function (res) { return res.json() }).then(function (manifest) {\n",
      "        const indexData = manifest[\"index.html\"];\n",
      "    \n",
      "        let bundleLoaded = false;\n",
      "        function loadBundle() {\n",
      "          if (bundleLoaded === true) {\n",
      "            return;\n",
      "          }\n",
      "    \n",
      "          const el = document.createElement(\"script\");\n",
      "          el.setAttribute(\"type\", \"module\");\n",
      "          el.setAttribute(\"crossorigin\", \"\");\n",
      "          el.setAttribute(\"integrity\", indexData.integrity);\n",
      "          el.setAttribute(\"src\", \"https://cdn.ashbyprd.com/frontend_non_user/8e66483770ba480554021b1acf8409b1b523e741/\" + indexData.file);\n",
      "          document.head.appendChild(el);\n",
      "          bundleLoaded = true;\n",
      "        }\n",
      "    \n",
      "        if (indexData.css != null && indexData.css.length > 0) {\n",
      "          const loadedSheets = [];\n",
      "          indexData.css.forEach(function (sheet) {\n",
      "            const link = document.createElement(\"link\");\n",
      "            link.rel = \"stylesheet\";\n",
      "            link.type = \"text/css\";\n",
      "            link.href = \"https://cdn.ashbyprd.com/frontend_non_user/8e66483770ba480554021b1acf8409b1b523e741/\" + sheet;\n",
      "            link.media = \"all\";\n",
      "            link.onload = function () {\n",
      "              loadedSheets.push(sheet);\n",
      "              if (loadedSheets.length === indexData.css.length) {\n",
      "                loadBundle();\n",
      "              }\n",
      "            };\n",
      "            link.onerror = loadBundle;\n",
      "            document.head.insertBefore(link, document.getElementById(\"vite-preload\"));\n",
      "          });\n",
      "          const preload = document.createElement(\"link\");\n",
      "          preload.rel = \"modulepreload\";\n",
      "          preload.href = \"https://cdn.ashbyprd.com/frontend_non_user/8e66483770ba480554021b1acf8409b1b523e741/\" + indexData.file;\n",
      "          document.head.appendChild(preload);\n",
      "        } else {\n",
      "          loadBundle();\n",
      "        }\n",
      "    \n",
      "        if (indexData.imports != null && indexData.imports.length > 0) {\n",
      "          indexData.imports.forEach(function (file) {\n",
      "            const preload = document.createElement(\"link\");\n",
      "            preload.rel = \"modulepreload\";\n",
      "            preload.href = \"https://cdn.ashbyprd.com/frontend_non_user/8e66483770ba480554021b1acf8409b1b523e741/\" + manifest[file].file;\n",
      "            document.head.appendChild(preload);\n",
      "          });\n",
      "        }\n",
      "      });\n",
      "    </script>  \n",
      "<script id=\"recaptchaScript\" src=\"https://www.google.com/recaptcha/api.js?render=6LeFb_YUAAAAALUD5h-BiQEp8JaFChe0e0A6r49Y\" nonce=\"\"></script><div><div class=\"grecaptcha-badge\" data-style=\"bottomright\" style=\"width: 256px; height: 60px; display: block; transition: right 0.3s ease 0s; position: fixed; bottom: 14px; right: -186px; box-shadow: gray 0px 0px 5px; border-radius: 2px; overflow: hidden;\"><div class=\"grecaptcha-logo\"><iframe title=\"reCAPTCHA\" src=\"https://www.google.com/recaptcha/api2/anchor?ar=1&amp;k=6LeFb_YUAAAAALUD5h-BiQEp8JaFChe0e0A6r49Y&amp;co=aHR0cHM6Ly9qb2JzLmFzaGJ5aHEuY29tOjQ0Mw..&amp;hl=en&amp;v=Ai7lOI0zKMDPHxlv62g7oMoJ&amp;size=invisible&amp;cb=kn7m2p71knf6\" width=\"256\" height=\"60\" role=\"presentation\" name=\"a-gwcot86becjo\" frameborder=\"0\" scrolling=\"no\" sandbox=\"allow-forms allow-popups allow-same-origin allow-scripts allow-top-navigation allow-modals allow-popups-to-escape-sandbox allow-storage-access-by-user-activation\"></iframe></div><div class=\"grecaptcha-error\"></div><textarea id=\"g-recaptcha-response-100000\" name=\"g-recaptcha-response\" class=\"g-recaptcha-response\" style=\"width: 250px; height: 40px; border: 1px solid rgb(193, 193, 193); margin: 10px 25px; padding: 0px; resize: none; display: none;\"></textarea></div><iframe style=\"display: none;\"></iframe></div></body></html>\n"
     ]
    }
   ],
   "source": [
    "print(await page.content())"
   ]
  },
  {
   "cell_type": "code",
   "execution_count": null,
   "metadata": {},
   "outputs": [],
   "source": [
    "\n",
    "\n",
    "# elements = await page.query_selector_all('textarea, input, form, button')\n",
    "\n",
    "# print(elements)\n",
    "# # # Print the outerHTML of each element\n",
    "# # for element in elements:\n",
    "# #     print(element.outer_html())\n",
    "\n",
    "# # Wait for a few seconds\n",
    "# await page.wait_for_timeout(5000*2)\n",
    "\n",
    "# # Close the browser\n",
    "# # await browser.close()\n",
    "\n",
    "# # return content\n"
   ]
  }
 ],
 "metadata": {
  "kernelspec": {
   "display_name": "Python 3",
   "language": "python",
   "name": "python3"
  },
  "language_info": {
   "codemirror_mode": {
    "name": "ipython",
    "version": 3
   },
   "file_extension": ".py",
   "mimetype": "text/x-python",
   "name": "python",
   "nbconvert_exporter": "python",
   "pygments_lexer": "ipython3",
   "version": "3.11.5"
  },
  "orig_nbformat": 4
 },
 "nbformat": 4,
 "nbformat_minor": 2
}
