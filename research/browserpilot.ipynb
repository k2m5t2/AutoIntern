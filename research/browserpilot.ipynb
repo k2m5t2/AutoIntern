{
 "cells": [
  {
   "cell_type": "markdown",
   "metadata": {},
   "source": [
    "### Import"
   ]
  },
  {
   "cell_type": "code",
   "execution_count": 1,
   "metadata": {},
   "outputs": [],
   "source": [
    "from browserpilot.agents.gpt_selenium_agent import GPTSeleniumAgent\n",
    "from selenium.webdriver.chrome.options import Options "
   ]
  },
  {
   "cell_type": "markdown",
   "metadata": {},
   "source": [
    "### Application"
   ]
  },
  {
   "cell_type": "code",
   "execution_count": 9,
   "metadata": {},
   "outputs": [],
   "source": [
    "url = \"https://jobs.ashbyhq.com/eightsleep/70a2ba22-04be-45b0-823a-8fc348035e0f/application\""
   ]
  },
  {
   "cell_type": "code",
   "execution_count": 27,
   "metadata": {},
   "outputs": [],
   "source": [
    "driver = \"../components/chromedriver-mac-arm64/chromedriver\""
   ]
  },
  {
   "cell_type": "markdown",
   "metadata": {},
   "source": [
    "### BrowserPilot"
   ]
  },
  {
   "cell_type": "code",
   "execution_count": 13,
   "metadata": {},
   "outputs": [],
   "source": [
    "instructions = \"\"\"Go to {url}\n",
    "Find all textareas. \n",
    "Print which textareas are left empty. \n",
    "Wait for 20 seconds.\"\"\".format(url=url)"
   ]
  },
  {
   "cell_type": "code",
   "execution_count": 14,
   "metadata": {},
   "outputs": [
    {
     "name": "stderr",
     "output_type": "stream",
     "text": [
      "INFO:browserpilot.agents.gpt_selenium_agent:Using model for instructions: gpt-3.5-turbo\n",
      "INFO:browserpilot.agents.gpt_selenium_agent:Using model for responses: gpt-3.5-turbo\n",
      "INFO:browserpilot.agents.compilers.instruction_compiler:Using model gpt-3.5-turbo.\n",
      "INFO:browserpilot.agents.gpt_selenium_agent:No cached instructions found. Running...\n",
      "INFO:browserpilot.agents.gpt_selenium_agent:\n",
      "Instruction: Go to https://jobs.ashbyhq.com/eightsleep/70a2ba22-04be-45b0-823a-8fc348035e0f/application\n",
      "Find all textareas. \n",
      "Print which textareas are left empty. \n",
      "Wait for 100 seconds.\n",
      "\n",
      "Action: env.get('https://jobs.ashbyhq.com/eightsleep/70a2ba22-04be-45b0-823a-8fc348035e0f/application')\n",
      "env.wait(5)\n",
      "textareas = env.find_elements(by='xpath', value=\"//textarea\")\n",
      "for textarea in textareas:\n",
      "    if env.get_text_of_element(textarea) == '':\n",
      "        print(f\"Textarea {textarea} is empty\")\n",
      "env.wait(100)\n",
      "\n"
     ]
    },
    {
     "name": "stdout",
     "output_type": "stream",
     "text": [
      "Textarea <browserpilot.agents.gpt_selenium_agent.GPTWebElement (session=\"e4334f162165f951e1026a298234530b\", element=\"C987DC4ACF55A5779A74214B7C04903D_element_28\")> is empty\n",
      "Textarea <browserpilot.agents.gpt_selenium_agent.GPTWebElement (session=\"e4334f162165f951e1026a298234530b\", element=\"C987DC4ACF55A5779A74214B7C04903D_element_30\")> is empty\n",
      "Textarea <browserpilot.agents.gpt_selenium_agent.GPTWebElement (session=\"e4334f162165f951e1026a298234530b\", element=\"C987DC4ACF55A5779A74214B7C04903D_element_32\")> is empty\n",
      "Textarea <browserpilot.agents.gpt_selenium_agent.GPTWebElement (session=\"e4334f162165f951e1026a298234530b\", element=\"C987DC4ACF55A5779A74214B7C04903D_element_34\")> is empty\n"
     ]
    },
    {
     "name": "stderr",
     "output_type": "stream",
     "text": [
      "INFO:browserpilot.agents.gpt_selenium_agent:\n",
      "\n",
      "  File \"<string>\", line 7, in <module>\n",
      "  File \"/opt/homebrew/lib/python3.11/site-packages/browserpilot/agents/gpt_selenium_agent.py\", line 406, in wait\n",
      "INFO:browserpilot.agents.gpt_selenium_agent:\n",
      "Failed on line: env.wait(100)\n",
      "\n"
     ]
    },
    {
     "ename": "Exception",
     "evalue": "Failed to execute instruction.",
     "output_type": "error",
     "traceback": [
      "\u001b[0;31m---------------------------------------------------------------------------\u001b[0m",
      "\u001b[0;31mKeyboardInterrupt\u001b[0m                         Traceback (most recent call last)",
      "File \u001b[0;32m/opt/homebrew/lib/python3.11/site-packages/browserpilot/agents/gpt_selenium_agent.py:353\u001b[0m, in \u001b[0;36mGPTSeleniumAgent.__step_through_instructions\u001b[0;34m(self)\u001b[0m\n\u001b[1;32m    352\u001b[0m \u001b[39mtry\u001b[39;00m:\n\u001b[0;32m--> 353\u001b[0m     exec(action, \u001b[39mglobals\u001b[39;49m(), ldict)\n\u001b[1;32m    354\u001b[0m     \u001b[39mbreak\u001b[39;00m\n",
      "File \u001b[0;32m<string>:7\u001b[0m\n",
      "File \u001b[0;32m/opt/homebrew/lib/python3.11/site-packages/browserpilot/agents/gpt_selenium_agent.py:406\u001b[0m, in \u001b[0;36mGPTSeleniumAgent.wait\u001b[0;34m(self, seconds)\u001b[0m\n\u001b[1;32m    405\u001b[0m \u001b[39mdef\u001b[39;00m \u001b[39mwait\u001b[39m(\u001b[39mself\u001b[39m, seconds):\n\u001b[0;32m--> 406\u001b[0m     time\u001b[39m.\u001b[39;49msleep(seconds)\n",
      "\u001b[0;31mKeyboardInterrupt\u001b[0m: ",
      "\nDuring handling of the above exception, another exception occurred:\n",
      "\u001b[0;31mException\u001b[0m                                 Traceback (most recent call last)",
      "\u001b[1;32m/Users/yunhocho/Documents/GitHub/AutoIntern/research/browserpilot.ipynb Cell 8\u001b[0m line \u001b[0;36m2\n\u001b[1;32m      <a href='vscode-notebook-cell:/Users/yunhocho/Documents/GitHub/AutoIntern/research/browserpilot.ipynb#W5sZmlsZQ%3D%3D?line=0'>1</a>\u001b[0m agent \u001b[39m=\u001b[39m GPTSeleniumAgent(instructions, \u001b[39m\"\u001b[39m\u001b[39m../components/chromedriver-mac-arm64/chromedriver\u001b[39m\u001b[39m\"\u001b[39m, chrome_options\u001b[39m=\u001b[39m{\u001b[39m\"\u001b[39m\u001b[39mdetach\u001b[39m\u001b[39m\"\u001b[39m: \u001b[39mTrue\u001b[39;00m})\n\u001b[0;32m----> <a href='vscode-notebook-cell:/Users/yunhocho/Documents/GitHub/AutoIntern/research/browserpilot.ipynb#W5sZmlsZQ%3D%3D?line=1'>2</a>\u001b[0m agent\u001b[39m.\u001b[39;49mrun()\n",
      "File \u001b[0;32m/opt/homebrew/lib/python3.11/site-packages/browserpilot/agents/gpt_selenium_agent.py:401\u001b[0m, in \u001b[0;36mGPTSeleniumAgent.run\u001b[0;34m(self)\u001b[0m\n\u001b[1;32m    399\u001b[0m \u001b[39melse\u001b[39;00m:\n\u001b[1;32m    400\u001b[0m     logger\u001b[39m.\u001b[39minfo(\u001b[39m\"\u001b[39m\u001b[39mNo cached instructions found. Running...\u001b[39m\u001b[39m\"\u001b[39m)\n\u001b[0;32m--> 401\u001b[0m     \u001b[39mself\u001b[39;49m\u001b[39m.\u001b[39;49m__step_through_instructions()\n",
      "File \u001b[0;32m/opt/homebrew/lib/python3.11/site-packages/browserpilot/agents/gpt_selenium_agent.py:356\u001b[0m, in \u001b[0;36mGPTSeleniumAgent.__step_through_instructions\u001b[0;34m(self)\u001b[0m\n\u001b[1;32m    354\u001b[0m             \u001b[39mbreak\u001b[39;00m\n\u001b[1;32m    355\u001b[0m         \u001b[39mexcept\u001b[39;00m:\n\u001b[0;32m--> 356\u001b[0m             action \u001b[39m=\u001b[39m \u001b[39mself\u001b[39;49m\u001b[39m.\u001b[39;49m__handle_agent_exception(action)\n\u001b[1;32m    358\u001b[0m \u001b[39mif\u001b[39;00m \u001b[39mself\u001b[39m\u001b[39m.\u001b[39minstruction_output_file:\n\u001b[1;32m    359\u001b[0m     \u001b[39mself\u001b[39m\u001b[39m.\u001b[39minstruction_compiler\u001b[39m.\u001b[39msave_compiled_instructions(\n\u001b[1;32m    360\u001b[0m         \u001b[39mself\u001b[39m\u001b[39m.\u001b[39minstruction_output_file\n\u001b[1;32m    361\u001b[0m     )\n",
      "File \u001b[0;32m/opt/homebrew/lib/python3.11/site-packages/browserpilot/agents/gpt_selenium_agent.py:331\u001b[0m, in \u001b[0;36mGPTSeleniumAgent.__handle_agent_exception\u001b[0;34m(self, action)\u001b[0m\n\u001b[1;32m    329\u001b[0m     \u001b[39mreturn\u001b[39;00m action\n\u001b[1;32m    330\u001b[0m \u001b[39melse\u001b[39;00m:\n\u001b[0;32m--> 331\u001b[0m     \u001b[39mraise\u001b[39;00m \u001b[39mException\u001b[39;00m(\u001b[39m\"\u001b[39m\u001b[39mFailed to execute instruction.\u001b[39m\u001b[39m\"\u001b[39m)\n",
      "\u001b[0;31mException\u001b[0m: Failed to execute instruction."
     ]
    }
   ],
   "source": [
    "agent = GPTSeleniumAgent(instructions, driver, chrome_options={\"detach\": True})\n",
    "agent.run()\n"
   ]
  },
  {
   "cell_type": "code",
   "execution_count": 19,
   "metadata": {},
   "outputs": [],
   "source": [
    "instructions = \"\"\"Go to {url}\n",
    "Find all textareas. \n",
    "Print which textareas are left empty. \n",
    "Tell me what things must be finished for this application to be complete.\n",
    "\n",
    "Wait for 100 seconds.\"\"\".format(url=url)"
   ]
  },
  {
   "cell_type": "code",
   "execution_count": 20,
   "metadata": {},
   "outputs": [
    {
     "name": "stderr",
     "output_type": "stream",
     "text": [
      "INFO:browserpilot.agents.gpt_selenium_agent:Using model for instructions: gpt-3.5-turbo\n",
      "INFO:browserpilot.agents.gpt_selenium_agent:Using model for responses: gpt-3.5-turbo\n",
      "INFO:browserpilot.agents.compilers.instruction_compiler:Using model gpt-3.5-turbo.\n",
      "INFO:browserpilot.agents.gpt_selenium_agent:No cached instructions found. Running...\n",
      "INFO:browserpilot.agents.gpt_selenium_agent:\n",
      "Instruction: Go to https://jobs.ashbyhq.com/eightsleep/70a2ba22-04be-45b0-823a-8fc348035e0f/application\n",
      "Find all textareas. \n",
      "Print which textareas are left empty. \n",
      "Tell me what things must be finished for this application to be complete.\n",
      "Wait for 100 seconds.\n",
      "\n",
      "Action: env.get('https://jobs.ashbyhq.com/eightsleep/70a2ba22-04be-45b0-823a-8fc348035e0f/application')\n",
      "textareas = env.find_elements(by='xpath', value=\"//textarea\")\n",
      "for textarea in textareas:\n",
      "    if env.get_text_of_element(textarea) == '':\n",
      "        print(f\"Textarea {textarea} is empty\")\n",
      "env.wait(100)\n",
      "\n"
     ]
    },
    {
     "name": "stdout",
     "output_type": "stream",
     "text": [
      "Textarea <browserpilot.agents.gpt_selenium_agent.GPTWebElement (session=\"4b86c19901af1aeafe2f78f5e4f510f1\", element=\"3C0236A66AD712512BC243DE9B776AC6_element_26\")> is empty\n",
      "Textarea <browserpilot.agents.gpt_selenium_agent.GPTWebElement (session=\"4b86c19901af1aeafe2f78f5e4f510f1\", element=\"3C0236A66AD712512BC243DE9B776AC6_element_28\")> is empty\n",
      "Textarea <browserpilot.agents.gpt_selenium_agent.GPTWebElement (session=\"4b86c19901af1aeafe2f78f5e4f510f1\", element=\"3C0236A66AD712512BC243DE9B776AC6_element_30\")> is empty\n",
      "Textarea <browserpilot.agents.gpt_selenium_agent.GPTWebElement (session=\"4b86c19901af1aeafe2f78f5e4f510f1\", element=\"3C0236A66AD712512BC243DE9B776AC6_element_32\")> is empty\n"
     ]
    }
   ],
   "source": [
    "agent = GPTSeleniumAgent(instructions, \"../components/chromedriver-mac-arm64/chromedriver\", chrome_options={\"detach\": True})\n",
    "agent.run()\n"
   ]
  },
  {
   "cell_type": "code",
   "execution_count": 21,
   "metadata": {},
   "outputs": [],
   "source": [
    "instructions = \"\"\"Go to {url}\n",
    "Please explain me about things in this page. \n",
    "Please list out the forms and buttons in this page, comprehensively. \n",
    "\n",
    "Wait for 20 seconds.\"\"\".format(url=url)"
   ]
  },
  {
   "cell_type": "code",
   "execution_count": 22,
   "metadata": {},
   "outputs": [
    {
     "name": "stderr",
     "output_type": "stream",
     "text": [
      "INFO:browserpilot.agents.gpt_selenium_agent:Using model for instructions: gpt-3.5-turbo\n",
      "INFO:browserpilot.agents.gpt_selenium_agent:Using model for responses: gpt-3.5-turbo\n",
      "INFO:browserpilot.agents.compilers.instruction_compiler:Using model gpt-3.5-turbo.\n",
      "INFO:browserpilot.agents.gpt_selenium_agent:No cached instructions found. Running...\n",
      "INFO:browserpilot.agents.gpt_selenium_agent:\n",
      "Instruction: Go to https://jobs.ashbyhq.com/eightsleep/70a2ba22-04be-45b0-823a-8fc348035e0f/application\n",
      "Please explain me about things in this page. \n",
      "Please list out the forms and buttons in this page, comprehensively. \n",
      "\n",
      "Wait for 20 seconds.\n",
      "\n",
      "Action: env.get('https://jobs.ashbyhq.com/eightsleep/70a2ba22-04be-45b0-823a-8fc348035e0f/application')\n",
      "\n"
     ]
    }
   ],
   "source": [
    "agent = GPTSeleniumAgent(instructions, \"../components/chromedriver-mac-arm64/chromedriver\", chrome_options={\"detach\": True})\n",
    "agent.run()\n"
   ]
  },
  {
   "cell_type": "code",
   "execution_count": 23,
   "metadata": {},
   "outputs": [],
   "source": [
    "instructions = \"\"\"\n",
    "Go to {url}\n",
    "Wait 5 seconds.\n",
    "Explain me about things in this page. \n",
    "List out the forms and buttons in this page, comprehensively. \n",
    "\n",
    "Wait for 20 seconds.\"\"\".format(url=url)"
   ]
  },
  {
   "cell_type": "code",
   "execution_count": 24,
   "metadata": {},
   "outputs": [
    {
     "name": "stderr",
     "output_type": "stream",
     "text": [
      "INFO:browserpilot.agents.gpt_selenium_agent:Using model for instructions: gpt-3.5-turbo\n",
      "INFO:browserpilot.agents.gpt_selenium_agent:Using model for responses: gpt-3.5-turbo\n",
      "INFO:browserpilot.agents.compilers.instruction_compiler:Using model gpt-3.5-turbo.\n",
      "INFO:browserpilot.agents.gpt_selenium_agent:No cached instructions found. Running...\n",
      "INFO:browserpilot.agents.gpt_selenium_agent:\n",
      "Instruction: Go to https://jobs.ashbyhq.com/eightsleep/70a2ba22-04be-45b0-823a-8fc348035e0f/application\n",
      "Wait 5 seconds.\n",
      "Explain me about things in this page. \n",
      "List out the forms and buttons in this page, comprehensively. \n",
      "\n",
      "Wait for 20 seconds.\n",
      "\n",
      "Action: env.get('https://jobs.ashbyhq.com/eightsleep/70a2ba22-04be-45b0-823a-8fc348035e0f/application')\n",
      "env.wait(5)\n",
      "env.query_memory('Explain me about things in this page.')\n",
      "\n",
      "ERROR:browserpilot.agents.gpt_selenium_agent:Memory is disabled.\n"
     ]
    }
   ],
   "source": [
    "agent = GPTSeleniumAgent(instructions, \"../components/chromedriver-mac-arm64/chromedriver\", chrome_options={\"detach\": True})\n",
    "agent.run()\n"
   ]
  },
  {
   "cell_type": "code",
   "execution_count": 25,
   "metadata": {},
   "outputs": [],
   "source": [
    "instructions = \"\"\"\n",
    "Go to {url}\n",
    "Wait 5 seconds.\n",
    "Print out everything in this page.\n",
    "\n",
    "\n",
    "Wait for 20 seconds.\"\"\".format(url=url)"
   ]
  },
  {
   "cell_type": "code",
   "execution_count": 28,
   "metadata": {},
   "outputs": [
    {
     "name": "stderr",
     "output_type": "stream",
     "text": [
      "INFO:browserpilot.agents.gpt_selenium_agent:Using model for instructions: gpt-3.5-turbo\n",
      "INFO:browserpilot.agents.gpt_selenium_agent:Using model for responses: gpt-3.5-turbo\n",
      "INFO:browserpilot.agents.compilers.instruction_compiler:Using model gpt-3.5-turbo.\n",
      "INFO:browserpilot.agents.gpt_selenium_agent:No cached instructions found. Running...\n",
      "INFO:browserpilot.agents.gpt_selenium_agent:\n",
      "Instruction: Go to https://jobs.ashbyhq.com/eightsleep/70a2ba22-04be-45b0-823a-8fc348035e0f/application\n",
      "Wait 5 seconds.\n",
      "Print out everything in this page.\n",
      "\n",
      "\n",
      "Wait for 20 seconds.\n",
      "\n",
      "Action: env.get('https://jobs.ashbyhq.com/eightsleep/70a2ba22-04be-45b0-823a-8fc348035e0f/application')\n",
      "env.wait(5)\n",
      "env.get_text_from_page()\n",
      "env.wait(20)\n",
      "\n"
     ]
    }
   ],
   "source": [
    "agent = GPTSeleniumAgent(instructions, driver)\n",
    "agent.run()\n"
   ]
  },
  {
   "cell_type": "code",
   "execution_count": 29,
   "metadata": {},
   "outputs": [],
   "source": [
    "instructions = \"\"\"\n",
    "Go to {url}\n",
    "Wait 5 seconds.\n",
    "Print out all textareas in this page.\n",
    "\n",
    "\n",
    "Wait for 20 seconds.\"\"\".format(url=url)"
   ]
  },
  {
   "cell_type": "code",
   "execution_count": 30,
   "metadata": {},
   "outputs": [
    {
     "name": "stderr",
     "output_type": "stream",
     "text": [
      "INFO:browserpilot.agents.gpt_selenium_agent:Using model for instructions: gpt-3.5-turbo\n",
      "INFO:browserpilot.agents.gpt_selenium_agent:Using model for responses: gpt-3.5-turbo\n",
      "INFO:browserpilot.agents.compilers.instruction_compiler:Using model gpt-3.5-turbo.\n",
      "INFO:browserpilot.agents.gpt_selenium_agent:No cached instructions found. Running...\n",
      "INFO:browserpilot.agents.gpt_selenium_agent:\n",
      "Instruction: Go to https://jobs.ashbyhq.com/eightsleep/70a2ba22-04be-45b0-823a-8fc348035e0f/application\n",
      "Wait 5 seconds.\n",
      "Print out all textareas in this page.\n",
      "\n",
      "\n",
      "Wait for 20 seconds.\n",
      "\n",
      "Action: env.get('https://jobs.ashbyhq.com/eightsleep/70a2ba22-04be-45b0-823a-8fc348035e0f/application')\n",
      "env.wait(5)\n",
      "textareas = env.find_elements(by='xpath', value=\"//textarea\")\n",
      "for textarea in textareas:\n",
      "    print(env.get_text_of_element(textarea))\n",
      "env.wait(20)\n",
      "\n"
     ]
    },
    {
     "name": "stdout",
     "output_type": "stream",
     "text": [
      "\n",
      "\n",
      "\n",
      "\n"
     ]
    }
   ],
   "source": [
    "agent = GPTSeleniumAgent(instructions, driver)\n",
    "agent.run()\n"
   ]
  },
  {
   "cell_type": "code",
   "execution_count": 31,
   "metadata": {},
   "outputs": [],
   "source": [
    "instructions = \"\"\"\n",
    "Go to {url}\n",
    "Wait 5 seconds.\n",
    "Print out all text forms in this page. \n",
    "Print out all buttons in this page. \n",
    "\n",
    "\n",
    "Wait for 20 seconds.\"\"\".format(url=url)"
   ]
  },
  {
   "cell_type": "code",
   "execution_count": 32,
   "metadata": {},
   "outputs": [
    {
     "name": "stderr",
     "output_type": "stream",
     "text": [
      "INFO:browserpilot.agents.gpt_selenium_agent:Using model for instructions: gpt-3.5-turbo\n",
      "INFO:browserpilot.agents.gpt_selenium_agent:Using model for responses: gpt-3.5-turbo\n",
      "INFO:browserpilot.agents.compilers.instruction_compiler:Using model gpt-3.5-turbo.\n",
      "INFO:browserpilot.agents.gpt_selenium_agent:No cached instructions found. Running...\n",
      "INFO:browserpilot.agents.gpt_selenium_agent:\n",
      "Instruction: Go to https://jobs.ashbyhq.com/eightsleep/70a2ba22-04be-45b0-823a-8fc348035e0f/application\n",
      "Wait 5 seconds.\n",
      "Print out all text forms in this page. \n",
      "Print out all buttons in this page. \n",
      "\n",
      "\n",
      "Wait for 20 seconds.\n",
      "\n",
      "Action: env.get('https://jobs.ashbyhq.com/eightsleep/70a2ba22-04be-45b0-823a-8fc348035e0f/application')\n",
      "env.wait(5)\n",
      "text_forms = env.find_elements(by='xpath', value=\"//input[@type='text']\")\n",
      "for form in text_forms:\n",
      "    print(env.get_text_of_element(form))\n",
      "buttons = env.find_elements(by='xpath', value=\"//button\")\n",
      "for button in buttons:\n",
      "    print(env.get_text_of_element(button))\n",
      "env.wait(20)\n",
      "\n"
     ]
    },
    {
     "name": "stdout",
     "output_type": "stream",
     "text": [
      "\n",
      "Upload file\n",
      "Upload File\n",
      "Yes\n",
      "No\n",
      "Yes\n",
      "No\n",
      "Yes\n",
      "No\n",
      "Yes\n",
      "No\n",
      "Yes\n",
      "No\n",
      "Yes\n",
      "No\n",
      "Submit Application\n"
     ]
    }
   ],
   "source": [
    "agent = GPTSeleniumAgent(instructions, driver)\n",
    "agent.run()\n"
   ]
  },
  {
   "cell_type": "code",
   "execution_count": 33,
   "metadata": {},
   "outputs": [],
   "source": [
    "instructions = \"\"\"\n",
    "Go to {url}\n",
    "Wait 5 seconds.\n",
    "Print out all text in this page.\n",
    "Print out all text forms in this page. \n",
    "Print out all buttons in this page. \n",
    "\n",
    "\n",
    "Wait for 20 seconds.\"\"\".format(url=url)"
   ]
  },
  {
   "cell_type": "code",
   "execution_count": 34,
   "metadata": {},
   "outputs": [
    {
     "name": "stderr",
     "output_type": "stream",
     "text": [
      "INFO:browserpilot.agents.gpt_selenium_agent:Using model for instructions: gpt-3.5-turbo\n",
      "INFO:browserpilot.agents.gpt_selenium_agent:Using model for responses: gpt-3.5-turbo\n",
      "INFO:browserpilot.agents.compilers.instruction_compiler:Using model gpt-3.5-turbo.\n",
      "INFO:browserpilot.agents.gpt_selenium_agent:No cached instructions found. Running...\n",
      "INFO:browserpilot.agents.gpt_selenium_agent:\n",
      "Instruction: Go to https://jobs.ashbyhq.com/eightsleep/70a2ba22-04be-45b0-823a-8fc348035e0f/application\n",
      "Wait 5 seconds.\n",
      "Print out all text in this page.\n",
      "Print out all text forms in this page. \n",
      "Print out all buttons in this page. \n",
      "\n",
      "\n",
      "Wait for 20 seconds.\n",
      "\n",
      "Action: env.get('https://jobs.ashbyhq.com/eightsleep/70a2ba22-04be-45b0-823a-8fc348035e0f/application')\n",
      "env.wait(5)\n",
      "page_text = env.get_text_from_page()\n",
      "print(page_text)\n",
      "text_forms = env.find_elements(by='xpath', value=\"//input[@type='text']\")\n",
      "for form in text_forms:\n",
      "    print(env.get_attribute(form, 'value'))\n",
      "buttons = env.find_elements(by='xpath', value=\"//button\")\n",
      "for button in buttons:\n",
      "    print(env.get_text_of_element(button))\n",
      "env.wait(20)\n",
      "\n",
      "INFO:browserpilot.agents.gpt_selenium_agent:\n",
      "\n",
      "  File \"<string>\", line 7, in <module>\n",
      "AttributeError: 'env' object has no attribute 'get_attribute'\n",
      "INFO:browserpilot.agents.gpt_selenium_agent:\n",
      "Failed on line:     print(env.get_attribute(form, 'value'))\n",
      "\n"
     ]
    },
    {
     "name": "stdout",
     "output_type": "stream",
     "text": [
      "Data Engineering Co-Op - Research & Development\n",
      "Location\n",
      "Boston Area\n",
      "Type\n",
      "Temporary\n",
      "Department\n",
      "R&D\n",
      "Compensation\n",
      "$20.00 – $25.00 per hour\n",
      "Overview\n",
      "Application\n",
      "Autofill from resume\n",
      "Upload your resume here to autofill key application fields.\n",
      "Upload file\n",
      "Name\n",
      "Email\n",
      "Resume\n",
      "Upload File\n",
      "or drag and drop here\n",
      "Why do you want to join Eight Sleep?\n",
      "Are you legally authorized to work in the United States?\n",
      "Yes\n",
      "No\n",
      "What degree are you currently pursuing?\n",
      "Undergraduate degree\n",
      "Masters degree\n",
      "Other\n",
      "Are you currently located in Boston area or willing to relocate on your own?\n",
      "Yes\n",
      "No\n",
      "Are you willing to work onsite at our Boston office (located in Newton Centre) at least 3 days a week?\n",
      "Yes\n",
      "No\n",
      "Are you able to work a normal 9-5 schedule for 40 hours per week, with occasional weekend work (monitoring study data for a couple hours on the weekend)?\n",
      "Yes\n",
      "No\n",
      "Are you available from January 2nd - June 30th 2024 for 40 hours per week?\n",
      "Yes\n",
      "No\n",
      "Are you aware this position is a Data Engineering co-op, not Machine Learning? The main tasks will include: 1. Manipulating, cleaning, and transforming raw data into a usable format for analysis 2. Enhancing our existing data quality scripts to ensure that data are accurate, complete, and consistent throughout the data collection period of a study 3. Developing and maintaining tools and processes to improve efficiency and consistency across projects\n",
      "Yes\n",
      "No\n",
      "How many years of python coding experience do you have?\n",
      "Less than 1 year\n",
      "1-2 years\n",
      "2+ years\n",
      "How many years of work experience do you have as a data engineer, data scientist, or software engineer? Feel free to include time spent working as an intern, co-op, etc.\n",
      "How many years of experience do you have using Github in your workflow?\n",
      "Less than 1 year\n",
      "1-2 years\n",
      "2+ years\n",
      "What is your experience level with parsing & time aligning data using pandas, numpy, pendulum, etc? (Note that you will be sent a coding challenge that will further test these skills)\n",
      "Beginner: I've worked with small datasets from a single source (<100 rows, no time alignment required)\n",
      "Intermediate: I've worked with aligning moderately-sized datasets with data from multiple sources\n",
      "Advanced: I do this on a daily basis & have worked with very large datasets with multiple types of file sources (i.e. json, csv, api, etc\n",
      "Not applicable: I do not have any experience parsing & time aligning data\n",
      "How would you rate your experience with object-oriented design in Python and your familiarity with best code practices, such as testing, documentation, and code reusability? Please use the following definitions to guide your answer:\n",
      "Beginner: I have a basic understanding of object-oriented design in Python and I am familiar with basic best code practices, such as writing comments and using meaningful variable names.\n",
      "Intermediate: I have a good understanding of object-oriented design in Python and I regularly use best code practices, such as writing automated tests, documenting my code, and creating reusable code modules.\n",
      "Advanced: I have extensive knowledge of object-oriented design in Python and I consistently implement best code practices, such as unit testing, API documentation, and modular design, in my projects.\n",
      "Please rate your experience level working with SQL. (Note that you will also be further tested on your SQL skills)\n",
      "Beginner: Have basic knowledge of SQL and can write simple queries.\n",
      "Intermediate: Have a good understanding of SQL concepts and can write complex queries.\n",
      "Advanced: Have extensive knowledge of SQL and can design and optimize complex databases.\n",
      "Not applicable: I have not used SQL previously.\n",
      "Please describe your experience with data visualization tools.\n",
      "Can you tell me about a project you worked on using Python and how you approached the design and implementation? Please feel free to discuss any best code practices you followed during the project, such as testing, documentation, and code reusability.\n",
      "Submit Application\n",
      "This site is protected by reCAPTCHA and the Google Privacy Policy and Terms of Service apply.\n",
      "Powered by \n",
      "Privacy PolicySecurityVulnerability Disclosure\n",
      "Privacy - Terms\n",
      "protected by reCAPTCHA\n",
      "-\n",
      "\n"
     ]
    },
    {
     "ename": "Exception",
     "evalue": "Failed to execute instruction.",
     "output_type": "error",
     "traceback": [
      "\u001b[0;31m---------------------------------------------------------------------------\u001b[0m",
      "\u001b[0;31mAttributeError\u001b[0m                            Traceback (most recent call last)",
      "File \u001b[0;32m/opt/homebrew/lib/python3.11/site-packages/browserpilot/agents/gpt_selenium_agent.py:353\u001b[0m, in \u001b[0;36mGPTSeleniumAgent.__step_through_instructions\u001b[0;34m(self)\u001b[0m\n\u001b[1;32m    352\u001b[0m \u001b[39mtry\u001b[39;00m:\n\u001b[0;32m--> 353\u001b[0m     exec(action, \u001b[39mglobals\u001b[39m(), ldict)\n\u001b[1;32m    354\u001b[0m     \u001b[39mbreak\u001b[39;00m\n",
      "File \u001b[0;32m<string>:7\u001b[0m\n",
      "\u001b[0;31mAttributeError\u001b[0m: 'GPTSeleniumAgent' object has no attribute 'get_attribute'",
      "\nDuring handling of the above exception, another exception occurred:\n",
      "\u001b[0;31mException\u001b[0m                                 Traceback (most recent call last)",
      "\u001b[1;32m/Users/yunhocho/Documents/GitHub/AutoIntern/research/browserpilot.ipynb Cell 22\u001b[0m line \u001b[0;36m2\n\u001b[1;32m      <a href='vscode-notebook-cell:/Users/yunhocho/Documents/GitHub/AutoIntern/research/browserpilot.ipynb#X34sZmlsZQ%3D%3D?line=0'>1</a>\u001b[0m agent \u001b[39m=\u001b[39m GPTSeleniumAgent(instructions, driver)\n\u001b[0;32m----> <a href='vscode-notebook-cell:/Users/yunhocho/Documents/GitHub/AutoIntern/research/browserpilot.ipynb#X34sZmlsZQ%3D%3D?line=1'>2</a>\u001b[0m agent\u001b[39m.\u001b[39;49mrun()\n",
      "File \u001b[0;32m/opt/homebrew/lib/python3.11/site-packages/browserpilot/agents/gpt_selenium_agent.py:401\u001b[0m, in \u001b[0;36mGPTSeleniumAgent.run\u001b[0;34m(self)\u001b[0m\n\u001b[1;32m    399\u001b[0m \u001b[39melse\u001b[39;00m:\n\u001b[1;32m    400\u001b[0m     logger\u001b[39m.\u001b[39minfo(\u001b[39m\"\u001b[39m\u001b[39mNo cached instructions found. Running...\u001b[39m\u001b[39m\"\u001b[39m)\n\u001b[0;32m--> 401\u001b[0m     \u001b[39mself\u001b[39;49m\u001b[39m.\u001b[39;49m__step_through_instructions()\n",
      "File \u001b[0;32m/opt/homebrew/lib/python3.11/site-packages/browserpilot/agents/gpt_selenium_agent.py:356\u001b[0m, in \u001b[0;36mGPTSeleniumAgent.__step_through_instructions\u001b[0;34m(self)\u001b[0m\n\u001b[1;32m    354\u001b[0m             \u001b[39mbreak\u001b[39;00m\n\u001b[1;32m    355\u001b[0m         \u001b[39mexcept\u001b[39;00m:\n\u001b[0;32m--> 356\u001b[0m             action \u001b[39m=\u001b[39m \u001b[39mself\u001b[39;49m\u001b[39m.\u001b[39;49m__handle_agent_exception(action)\n\u001b[1;32m    358\u001b[0m \u001b[39mif\u001b[39;00m \u001b[39mself\u001b[39m\u001b[39m.\u001b[39minstruction_output_file:\n\u001b[1;32m    359\u001b[0m     \u001b[39mself\u001b[39m\u001b[39m.\u001b[39minstruction_compiler\u001b[39m.\u001b[39msave_compiled_instructions(\n\u001b[1;32m    360\u001b[0m         \u001b[39mself\u001b[39m\u001b[39m.\u001b[39minstruction_output_file\n\u001b[1;32m    361\u001b[0m     )\n",
      "File \u001b[0;32m/opt/homebrew/lib/python3.11/site-packages/browserpilot/agents/gpt_selenium_agent.py:331\u001b[0m, in \u001b[0;36mGPTSeleniumAgent.__handle_agent_exception\u001b[0;34m(self, action)\u001b[0m\n\u001b[1;32m    329\u001b[0m     \u001b[39mreturn\u001b[39;00m action\n\u001b[1;32m    330\u001b[0m \u001b[39melse\u001b[39;00m:\n\u001b[0;32m--> 331\u001b[0m     \u001b[39mraise\u001b[39;00m \u001b[39mException\u001b[39;00m(\u001b[39m\"\u001b[39m\u001b[39mFailed to execute instruction.\u001b[39m\u001b[39m\"\u001b[39m)\n",
      "\u001b[0;31mException\u001b[0m: Failed to execute instruction."
     ]
    }
   ],
   "source": [
    "agent = GPTSeleniumAgent(instructions, driver)\n",
    "agent.run()\n"
   ]
  },
  {
   "cell_type": "code",
   "execution_count": 35,
   "metadata": {},
   "outputs": [],
   "source": [
    "instructions = \"\"\"\n",
    "Go to {url}\n",
    "Wait 5 seconds.\n",
    "Print out all inputs in this page. \n",
    "\n",
    "Wait for 20 seconds.\"\"\".format(url=url)"
   ]
  },
  {
   "cell_type": "code",
   "execution_count": 38,
   "metadata": {},
   "outputs": [
    {
     "name": "stderr",
     "output_type": "stream",
     "text": [
      "INFO:browserpilot.agents.gpt_selenium_agent:Using model for instructions: gpt-3.5-turbo\n",
      "INFO:browserpilot.agents.gpt_selenium_agent:Using model for responses: gpt-3.5-turbo\n",
      "INFO:browserpilot.agents.compilers.instruction_compiler:Using model gpt-3.5-turbo.\n",
      "INFO:browserpilot.agents.gpt_selenium_agent:No cached instructions found. Running...\n",
      "INFO:browserpilot.agents.gpt_selenium_agent:\n",
      "Instruction: Go to https://jobs.ashbyhq.com/eightsleep/70a2ba22-04be-45b0-823a-8fc348035e0f/application\n",
      "Wait 5 seconds.\n",
      "Print out all inputs in this page. \n",
      "\n",
      "Wait for 20 seconds.\n",
      "\n",
      "Action: env.get('https://jobs.ashbyhq.com/eightsleep/70a2ba22-04be-45b0-823a-8fc348035e0f/application')\n",
      "env.wait(5)\n",
      "inputs = env.find_elements(by='xpath', value=\"//input\")\n",
      "for input in inputs:\n",
      "    print(env.get_attribute(input, 'outerHTML'))\n",
      "env.wait(20)\n",
      "\n",
      "INFO:browserpilot.agents.gpt_selenium_agent:\n",
      "\n",
      "  File \"<string>\", line 5, in <module>\n",
      "AttributeError: 'env' object has no attribute 'get_attribute'\n",
      "INFO:browserpilot.agents.gpt_selenium_agent:\n",
      "Failed on line:     print(env.get_attribute(input, 'outerHTML'))\n",
      "\n"
     ]
    },
    {
     "ename": "Exception",
     "evalue": "Failed to execute instruction.",
     "output_type": "error",
     "traceback": [
      "\u001b[0;31m---------------------------------------------------------------------------\u001b[0m",
      "\u001b[0;31mAttributeError\u001b[0m                            Traceback (most recent call last)",
      "File \u001b[0;32m/opt/homebrew/lib/python3.11/site-packages/browserpilot/agents/gpt_selenium_agent.py:353\u001b[0m, in \u001b[0;36mGPTSeleniumAgent.__step_through_instructions\u001b[0;34m(self)\u001b[0m\n\u001b[1;32m    352\u001b[0m \u001b[39mtry\u001b[39;00m:\n\u001b[0;32m--> 353\u001b[0m     exec(action, \u001b[39mglobals\u001b[39m(), ldict)\n\u001b[1;32m    354\u001b[0m     \u001b[39mbreak\u001b[39;00m\n",
      "File \u001b[0;32m<string>:5\u001b[0m\n",
      "\u001b[0;31mAttributeError\u001b[0m: 'GPTSeleniumAgent' object has no attribute 'get_attribute'",
      "\nDuring handling of the above exception, another exception occurred:\n",
      "\u001b[0;31mException\u001b[0m                                 Traceback (most recent call last)",
      "\u001b[1;32m/Users/yunhocho/Documents/GitHub/AutoIntern/research/browserpilot.ipynb Cell 24\u001b[0m line \u001b[0;36m1\n\u001b[0;32m----> <a href='vscode-notebook-cell:/Users/yunhocho/Documents/GitHub/AutoIntern/research/browserpilot.ipynb#X36sZmlsZQ%3D%3D?line=0'>1</a>\u001b[0m GPTSeleniumAgent(instructions, driver)\u001b[39m.\u001b[39;49mrun()\n",
      "File \u001b[0;32m/opt/homebrew/lib/python3.11/site-packages/browserpilot/agents/gpt_selenium_agent.py:401\u001b[0m, in \u001b[0;36mGPTSeleniumAgent.run\u001b[0;34m(self)\u001b[0m\n\u001b[1;32m    399\u001b[0m \u001b[39melse\u001b[39;00m:\n\u001b[1;32m    400\u001b[0m     logger\u001b[39m.\u001b[39minfo(\u001b[39m\"\u001b[39m\u001b[39mNo cached instructions found. Running...\u001b[39m\u001b[39m\"\u001b[39m)\n\u001b[0;32m--> 401\u001b[0m     \u001b[39mself\u001b[39;49m\u001b[39m.\u001b[39;49m__step_through_instructions()\n",
      "File \u001b[0;32m/opt/homebrew/lib/python3.11/site-packages/browserpilot/agents/gpt_selenium_agent.py:356\u001b[0m, in \u001b[0;36mGPTSeleniumAgent.__step_through_instructions\u001b[0;34m(self)\u001b[0m\n\u001b[1;32m    354\u001b[0m             \u001b[39mbreak\u001b[39;00m\n\u001b[1;32m    355\u001b[0m         \u001b[39mexcept\u001b[39;00m:\n\u001b[0;32m--> 356\u001b[0m             action \u001b[39m=\u001b[39m \u001b[39mself\u001b[39;49m\u001b[39m.\u001b[39;49m__handle_agent_exception(action)\n\u001b[1;32m    358\u001b[0m \u001b[39mif\u001b[39;00m \u001b[39mself\u001b[39m\u001b[39m.\u001b[39minstruction_output_file:\n\u001b[1;32m    359\u001b[0m     \u001b[39mself\u001b[39m\u001b[39m.\u001b[39minstruction_compiler\u001b[39m.\u001b[39msave_compiled_instructions(\n\u001b[1;32m    360\u001b[0m         \u001b[39mself\u001b[39m\u001b[39m.\u001b[39minstruction_output_file\n\u001b[1;32m    361\u001b[0m     )\n",
      "File \u001b[0;32m/opt/homebrew/lib/python3.11/site-packages/browserpilot/agents/gpt_selenium_agent.py:331\u001b[0m, in \u001b[0;36mGPTSeleniumAgent.__handle_agent_exception\u001b[0;34m(self, action)\u001b[0m\n\u001b[1;32m    329\u001b[0m     \u001b[39mreturn\u001b[39;00m action\n\u001b[1;32m    330\u001b[0m \u001b[39melse\u001b[39;00m:\n\u001b[0;32m--> 331\u001b[0m     \u001b[39mraise\u001b[39;00m \u001b[39mException\u001b[39;00m(\u001b[39m\"\u001b[39m\u001b[39mFailed to execute instruction.\u001b[39m\u001b[39m\"\u001b[39m)\n",
      "\u001b[0;31mException\u001b[0m: Failed to execute instruction."
     ]
    }
   ],
   "source": [
    "GPTSeleniumAgent(instructions, driver).run()"
   ]
  },
  {
   "cell_type": "code",
   "execution_count": 39,
   "metadata": {},
   "outputs": [],
   "source": [
    "instructions = \"\"\"\n",
    "Go to {url}\n",
    "Wait 5 seconds.\n",
    "Print out all inputs in the page body. \n",
    "\n",
    "Wait for 20 seconds.\"\"\".format(url=url)"
   ]
  },
  {
   "cell_type": "code",
   "execution_count": 43,
   "metadata": {},
   "outputs": [
    {
     "name": "stderr",
     "output_type": "stream",
     "text": [
      "INFO:browserpilot.agents.gpt_selenium_agent:Using model for instructions: gpt-3.5-turbo\n",
      "INFO:browserpilot.agents.gpt_selenium_agent:Using model for responses: gpt-3.5-turbo\n",
      "INFO:browserpilot.agents.compilers.instruction_compiler:Using model gpt-3.5-turbo.\n",
      "INFO:browserpilot.agents.gpt_selenium_agent:No cached instructions found. Running...\n",
      "INFO:browserpilot.agents.gpt_selenium_agent:\n",
      "Instruction: Go to https://jobs.ashbyhq.com/eightsleep/70a2ba22-04be-45b0-823a-8fc348035e0f/application\n",
      "Wait 5 seconds.\n",
      "Print out all inputs in the page body. \n",
      "\n",
      "Wait for 20 seconds.\n",
      "\n",
      "Action: env.get('https://jobs.ashbyhq.com/eightsleep/70a2ba22-04be-45b0-823a-8fc348035e0f/application')\n",
      "env.wait(5)\n",
      "inputs = env.find_elements(by='xpath', value=\"//input\")\n",
      "for input in inputs:\n",
      "    print(env.get_attribute(input, 'outerHTML'))\n",
      "env.wait(20)\n",
      "\n",
      "INFO:browserpilot.agents.gpt_selenium_agent:\n",
      "\n",
      "  File \"<string>\", line 5, in <module>\n",
      "AttributeError: 'env' object has no attribute 'get_attribute'\n",
      "INFO:browserpilot.agents.gpt_selenium_agent:\n",
      "Failed on line:     print(env.get_attribute(input, 'outerHTML'))\n",
      "\n"
     ]
    },
    {
     "ename": "Exception",
     "evalue": "Failed to execute instruction.",
     "output_type": "error",
     "traceback": [
      "\u001b[0;31m---------------------------------------------------------------------------\u001b[0m",
      "\u001b[0;31mAttributeError\u001b[0m                            Traceback (most recent call last)",
      "File \u001b[0;32m/opt/homebrew/lib/python3.11/site-packages/browserpilot/agents/gpt_selenium_agent.py:353\u001b[0m, in \u001b[0;36mGPTSeleniumAgent.__step_through_instructions\u001b[0;34m(self)\u001b[0m\n\u001b[1;32m    352\u001b[0m \u001b[39mtry\u001b[39;00m:\n\u001b[0;32m--> 353\u001b[0m     exec(action, \u001b[39mglobals\u001b[39m(), ldict)\n\u001b[1;32m    354\u001b[0m     \u001b[39mbreak\u001b[39;00m\n",
      "File \u001b[0;32m<string>:5\u001b[0m\n",
      "\u001b[0;31mAttributeError\u001b[0m: 'GPTSeleniumAgent' object has no attribute 'get_attribute'",
      "\nDuring handling of the above exception, another exception occurred:\n",
      "\u001b[0;31mException\u001b[0m                                 Traceback (most recent call last)",
      "\u001b[1;32m/Users/yunhocho/Documents/GitHub/AutoIntern/research/browserpilot.ipynb Cell 26\u001b[0m line \u001b[0;36m1\n\u001b[0;32m----> <a href='vscode-notebook-cell:/Users/yunhocho/Documents/GitHub/AutoIntern/research/browserpilot.ipynb#X40sZmlsZQ%3D%3D?line=0'>1</a>\u001b[0m GPTSeleniumAgent(instructions, driver)\u001b[39m.\u001b[39;49mrun()\n",
      "File \u001b[0;32m/opt/homebrew/lib/python3.11/site-packages/browserpilot/agents/gpt_selenium_agent.py:401\u001b[0m, in \u001b[0;36mGPTSeleniumAgent.run\u001b[0;34m(self)\u001b[0m\n\u001b[1;32m    399\u001b[0m \u001b[39melse\u001b[39;00m:\n\u001b[1;32m    400\u001b[0m     logger\u001b[39m.\u001b[39minfo(\u001b[39m\"\u001b[39m\u001b[39mNo cached instructions found. Running...\u001b[39m\u001b[39m\"\u001b[39m)\n\u001b[0;32m--> 401\u001b[0m     \u001b[39mself\u001b[39;49m\u001b[39m.\u001b[39;49m__step_through_instructions()\n",
      "File \u001b[0;32m/opt/homebrew/lib/python3.11/site-packages/browserpilot/agents/gpt_selenium_agent.py:356\u001b[0m, in \u001b[0;36mGPTSeleniumAgent.__step_through_instructions\u001b[0;34m(self)\u001b[0m\n\u001b[1;32m    354\u001b[0m             \u001b[39mbreak\u001b[39;00m\n\u001b[1;32m    355\u001b[0m         \u001b[39mexcept\u001b[39;00m:\n\u001b[0;32m--> 356\u001b[0m             action \u001b[39m=\u001b[39m \u001b[39mself\u001b[39;49m\u001b[39m.\u001b[39;49m__handle_agent_exception(action)\n\u001b[1;32m    358\u001b[0m \u001b[39mif\u001b[39;00m \u001b[39mself\u001b[39m\u001b[39m.\u001b[39minstruction_output_file:\n\u001b[1;32m    359\u001b[0m     \u001b[39mself\u001b[39m\u001b[39m.\u001b[39minstruction_compiler\u001b[39m.\u001b[39msave_compiled_instructions(\n\u001b[1;32m    360\u001b[0m         \u001b[39mself\u001b[39m\u001b[39m.\u001b[39minstruction_output_file\n\u001b[1;32m    361\u001b[0m     )\n",
      "File \u001b[0;32m/opt/homebrew/lib/python3.11/site-packages/browserpilot/agents/gpt_selenium_agent.py:331\u001b[0m, in \u001b[0;36mGPTSeleniumAgent.__handle_agent_exception\u001b[0;34m(self, action)\u001b[0m\n\u001b[1;32m    329\u001b[0m     \u001b[39mreturn\u001b[39;00m action\n\u001b[1;32m    330\u001b[0m \u001b[39melse\u001b[39;00m:\n\u001b[0;32m--> 331\u001b[0m     \u001b[39mraise\u001b[39;00m \u001b[39mException\u001b[39;00m(\u001b[39m\"\u001b[39m\u001b[39mFailed to execute instruction.\u001b[39m\u001b[39m\"\u001b[39m)\n",
      "\u001b[0;31mException\u001b[0m: Failed to execute instruction."
     ]
    }
   ],
   "source": [
    "GPTSeleniumAgent(instructions, driver).run()"
   ]
  },
  {
   "cell_type": "code",
   "execution_count": 44,
   "metadata": {},
   "outputs": [],
   "source": [
    "instructions = \"\"\"\n",
    "Go to {url}\n",
    "Wait 5 seconds.\n",
    "Print out all inputs in the page body. \n",
    "By the way, you cannot use `env.get_attribute`. \n",
    "`get_attribute` function can only be used for elements - like `elem.get_attribute`.\n",
    "\n",
    "Wait for 20 seconds.\"\"\".format(url=url)"
   ]
  },
  {
   "cell_type": "code",
   "execution_count": 46,
   "metadata": {},
   "outputs": [
    {
     "name": "stderr",
     "output_type": "stream",
     "text": [
      "INFO:browserpilot.agents.gpt_selenium_agent:Using model for instructions: gpt-3.5-turbo\n",
      "INFO:browserpilot.agents.gpt_selenium_agent:Using model for responses: gpt-3.5-turbo\n",
      "INFO:browserpilot.agents.compilers.instruction_compiler:Using model gpt-3.5-turbo.\n",
      "INFO:browserpilot.agents.gpt_selenium_agent:No cached instructions found. Running...\n",
      "INFO:browserpilot.agents.gpt_selenium_agent:\n",
      "Instruction: Go to https://jobs.ashbyhq.com/eightsleep/70a2ba22-04be-45b0-823a-8fc348035e0f/application\n",
      "Wait 5 seconds.\n",
      "Print out all inputs in the page body. \n",
      "By the way, you cannot use `env.get_attribute`. \n",
      "`get_attribute` function can only be used for elements - like `elem.get_attribute`.\n",
      "\n",
      "Wait for 20 seconds.\n",
      "\n",
      "Action: env.get('https://jobs.ashbyhq.com/eightsleep/70a2ba22-04be-45b0-823a-8fc348035e0f/application')\n",
      "env.wait(5)\n",
      "inputs = env.find_elements(by='xpath', value=\"//input\")\n",
      "for input in inputs:\n",
      "    print(env.get_attribute(input, 'outerHTML'))\n",
      "env.wait(20)\n",
      "\n",
      "INFO:browserpilot.agents.gpt_selenium_agent:\n",
      "\n",
      "  File \"<string>\", line 5, in <module>\n",
      "AttributeError: 'env' object has no attribute 'get_attribute'\n",
      "INFO:browserpilot.agents.gpt_selenium_agent:\n",
      "Failed on line:     print(env.get_attribute(input, 'outerHTML'))\n",
      "\n"
     ]
    },
    {
     "ename": "Exception",
     "evalue": "Failed to execute instruction.",
     "output_type": "error",
     "traceback": [
      "\u001b[0;31m---------------------------------------------------------------------------\u001b[0m",
      "\u001b[0;31mAttributeError\u001b[0m                            Traceback (most recent call last)",
      "File \u001b[0;32m/opt/homebrew/lib/python3.11/site-packages/browserpilot/agents/gpt_selenium_agent.py:353\u001b[0m, in \u001b[0;36mGPTSeleniumAgent.__step_through_instructions\u001b[0;34m(self)\u001b[0m\n\u001b[1;32m    352\u001b[0m \u001b[39mtry\u001b[39;00m:\n\u001b[0;32m--> 353\u001b[0m     exec(action, \u001b[39mglobals\u001b[39m(), ldict)\n\u001b[1;32m    354\u001b[0m     \u001b[39mbreak\u001b[39;00m\n",
      "File \u001b[0;32m<string>:5\u001b[0m\n",
      "\u001b[0;31mAttributeError\u001b[0m: 'GPTSeleniumAgent' object has no attribute 'get_attribute'",
      "\nDuring handling of the above exception, another exception occurred:\n",
      "\u001b[0;31mException\u001b[0m                                 Traceback (most recent call last)",
      "\u001b[1;32m/Users/yunhocho/Documents/GitHub/AutoIntern/research/browserpilot.ipynb Cell 28\u001b[0m line \u001b[0;36m1\n\u001b[0;32m----> <a href='vscode-notebook-cell:/Users/yunhocho/Documents/GitHub/AutoIntern/research/browserpilot.ipynb#X44sZmlsZQ%3D%3D?line=0'>1</a>\u001b[0m GPTSeleniumAgent(instructions, driver)\u001b[39m.\u001b[39;49mrun()\n",
      "File \u001b[0;32m/opt/homebrew/lib/python3.11/site-packages/browserpilot/agents/gpt_selenium_agent.py:401\u001b[0m, in \u001b[0;36mGPTSeleniumAgent.run\u001b[0;34m(self)\u001b[0m\n\u001b[1;32m    399\u001b[0m \u001b[39melse\u001b[39;00m:\n\u001b[1;32m    400\u001b[0m     logger\u001b[39m.\u001b[39minfo(\u001b[39m\"\u001b[39m\u001b[39mNo cached instructions found. Running...\u001b[39m\u001b[39m\"\u001b[39m)\n\u001b[0;32m--> 401\u001b[0m     \u001b[39mself\u001b[39;49m\u001b[39m.\u001b[39;49m__step_through_instructions()\n",
      "File \u001b[0;32m/opt/homebrew/lib/python3.11/site-packages/browserpilot/agents/gpt_selenium_agent.py:356\u001b[0m, in \u001b[0;36mGPTSeleniumAgent.__step_through_instructions\u001b[0;34m(self)\u001b[0m\n\u001b[1;32m    354\u001b[0m             \u001b[39mbreak\u001b[39;00m\n\u001b[1;32m    355\u001b[0m         \u001b[39mexcept\u001b[39;00m:\n\u001b[0;32m--> 356\u001b[0m             action \u001b[39m=\u001b[39m \u001b[39mself\u001b[39;49m\u001b[39m.\u001b[39;49m__handle_agent_exception(action)\n\u001b[1;32m    358\u001b[0m \u001b[39mif\u001b[39;00m \u001b[39mself\u001b[39m\u001b[39m.\u001b[39minstruction_output_file:\n\u001b[1;32m    359\u001b[0m     \u001b[39mself\u001b[39m\u001b[39m.\u001b[39minstruction_compiler\u001b[39m.\u001b[39msave_compiled_instructions(\n\u001b[1;32m    360\u001b[0m         \u001b[39mself\u001b[39m\u001b[39m.\u001b[39minstruction_output_file\n\u001b[1;32m    361\u001b[0m     )\n",
      "File \u001b[0;32m/opt/homebrew/lib/python3.11/site-packages/browserpilot/agents/gpt_selenium_agent.py:331\u001b[0m, in \u001b[0;36mGPTSeleniumAgent.__handle_agent_exception\u001b[0;34m(self, action)\u001b[0m\n\u001b[1;32m    329\u001b[0m     \u001b[39mreturn\u001b[39;00m action\n\u001b[1;32m    330\u001b[0m \u001b[39melse\u001b[39;00m:\n\u001b[0;32m--> 331\u001b[0m     \u001b[39mraise\u001b[39;00m \u001b[39mException\u001b[39;00m(\u001b[39m\"\u001b[39m\u001b[39mFailed to execute instruction.\u001b[39m\u001b[39m\"\u001b[39m)\n",
      "\u001b[0;31mException\u001b[0m: Failed to execute instruction."
     ]
    }
   ],
   "source": [
    "GPTSeleniumAgent(instructions, driver).run()"
   ]
  },
  {
   "cell_type": "code",
   "execution_count": null,
   "metadata": {},
   "outputs": [],
   "source": []
  }
 ],
 "metadata": {
  "kernelspec": {
   "display_name": "Python 3",
   "language": "python",
   "name": "python3"
  },
  "language_info": {
   "codemirror_mode": {
    "name": "ipython",
    "version": 3
   },
   "file_extension": ".py",
   "mimetype": "text/x-python",
   "name": "python",
   "nbconvert_exporter": "python",
   "pygments_lexer": "ipython3",
   "version": "3.11.5"
  },
  "orig_nbformat": 4
 },
 "nbformat": 4,
 "nbformat_minor": 2
}
