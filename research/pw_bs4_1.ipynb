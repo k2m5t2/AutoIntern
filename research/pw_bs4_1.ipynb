{
 "cells": [
  {
   "cell_type": "code",
   "execution_count": 1,
   "metadata": {},
   "outputs": [],
   "source": [
    "from playwright.async_api import async_playwright\n",
    "from bs4 import BeautifulSoup\n",
    "import asyncio\n",
    "import nest_asyncio\n",
    "nest_asyncio.apply()"
   ]
  },
  {
   "cell_type": "code",
   "execution_count": 2,
   "metadata": {},
   "outputs": [],
   "source": [
    "# Sample HTML content, replace this with the fetched HTML from your target URL\n",
    "sample_content = '''\n",
    "<html>\n",
    "    <body>\n",
    "        <div id=\"main\">\n",
    "            <div class=\"child\">\n",
    "                <input type=\"text\" id=\"name\" name=\"name\">\n",
    "            </div>\n",
    "            <div class=\"child\">\n",
    "                <input type=\"email\" id=\"email\" name=\"email\">\n",
    "            </div>\n",
    "            <div class=\"child\">\n",
    "                <input type=\"password\" id=\"password\" name=\"password\">\n",
    "            </div>\n",
    "        </div>\n",
    "        <div id=\"other\">\n",
    "            <input type=\"checkbox\" id=\"subscribe\" name=\"subscribe\">\n",
    "        </div>\n",
    "    </body>\n",
    "</html>\n",
    "'''\n",
    "sample_soup = BeautifulSoup(sample_content, 'html.parser')"
   ]
  },
  {
   "cell_type": "code",
   "execution_count": 3,
   "metadata": {},
   "outputs": [],
   "source": [
    "ashby_url = \"https://jobs.ashbyhq.com/eightsleep/70a2ba22-04be-45b0-823a-8fc348035e0f/application?utm_source=Simplify\"\n",
    "url = ashby_url"
   ]
  },
  {
   "cell_type": "code",
   "execution_count": 4,
   "metadata": {},
   "outputs": [],
   "source": [
    "# async def main():\n",
    "p = await async_playwright().start()\n",
    "browser = await p.firefox.launch(headless=False)"
   ]
  },
  {
   "cell_type": "code",
   "execution_count": 5,
   "metadata": {},
   "outputs": [],
   "source": [
    "page = await browser.new_page()\n",
    "\n",
    "# Replace this with your actual URL and waiting logic\n",
    "# await page.set_content(html_content)\n",
    "# Navigate to the URL and wait for the content to load\n",
    "await page.goto(url)\n",
    "\n",
    "await page.wait_for_timeout(5000)"
   ]
  },
  {
   "cell_type": "code",
   "execution_count": 6,
   "metadata": {},
   "outputs": [],
   "source": [
    "# Fetch the HTML content of the page\n",
    "content = await page.content()\n",
    "\n",
    "# Use BeautifulSoup to parse the HTML\n",
    "soup = BeautifulSoup(content, 'html.parser')"
   ]
  },
  {
   "cell_type": "code",
   "execution_count": 7,
   "metadata": {},
   "outputs": [],
   "source": [
    "# Find all input elements\n",
    "inputs = soup.find_all('input')\n",
    "\n",
    "# target_parent = find_application_container(inputs) # FUNC"
   ]
  },
  {
   "cell_type": "code",
   "execution_count": 8,
   "metadata": {},
   "outputs": [
    {
     "data": {
      "text/plain": [
       "30"
      ]
     },
     "execution_count": 8,
     "metadata": {},
     "output_type": "execute_result"
    }
   ],
   "source": [
    "len(inputs)"
   ]
  },
  {
   "cell_type": "code",
   "execution_count": 9,
   "metadata": {},
   "outputs": [
    {
     "data": {
      "text/plain": [
       "<input id=\"553c6f4d-54ae-4915-93dc-bf5f821e1375-labeled-radio-3\" name=\"553c6f4d-54ae-4915-93dc-bf5f821e1375\" type=\"radio\"/>"
      ]
     },
     "execution_count": 9,
     "metadata": {},
     "output_type": "execute_result"
    }
   ],
   "source": [
    "inputs[-1]"
   ]
  },
  {
   "cell_type": "code",
   "execution_count": 10,
   "metadata": {},
   "outputs": [
    {
     "data": {
      "text/plain": [
       "'Iteration 1'"
      ]
     },
     "execution_count": 10,
     "metadata": {},
     "output_type": "execute_result"
    }
   ],
   "source": [
    "'''Iteration 1'''\n",
    "# # Identify the parent div containing most inputs\n",
    "# # def find_application_container(inputs): # FUNC\n",
    "# parent_candidates = {}\n",
    "# for inp in inputs:\n",
    "#     parent = inp.find_parent('div')\n",
    "#     if parent:\n",
    "#         # parent_id = parent.get('id', '')\n",
    "#         # parent_cls = parent.get('class', '')\n",
    "#         class_list = parent.get('class', '')\n",
    "#         class_str = ' '.join(class_list)\n",
    "        \n",
    "#         # print('parent_id:', parent_id)\n",
    "#         # parent_candidates[parent_id] = parent_candidates.get(parent_id, 0) + 1\n",
    "#         print('parent_id:', class_str)\n",
    "#         parent_candidates[class_str] = parent_candidates.get(class_str, 0) + 1\n",
    "\n",
    "# # Assume the parent containing most inputs is the one we're interested in\n",
    "# target_parent_id = max(parent_candidates, key=parent_candidates.get)\n",
    "# print('target_parent_id:', target_parent_id)\n",
    "# # target_parent = soup.find('div', {'id': target_parent_id})\n",
    "# target_parent = soup.find('div', {'class': target_parent_id})\n",
    "\n",
    "# # return target_parent # FUNC"
   ]
  },
  {
   "cell_type": "code",
   "execution_count": 11,
   "metadata": {},
   "outputs": [],
   "source": [
    "'''Iteration 2'''\n",
    "def get_unique_path(element):\n",
    "    path = []\n",
    "    while element:\n",
    "        if element.name:\n",
    "            try:\n",
    "                siblings = element.find_parent().find_all(element.name)\n",
    "                index = siblings.index(element)\n",
    "                path.append(f\"{element.name}:{index}\")\n",
    "            except: pass\n",
    "        element = element.find_parent() # break\n",
    "    return \">\".join(reversed(path))\n",
    "\n",
    "def find_by_unique_path(soup, unique_path):\n",
    "    tags = unique_path.split(\"/\")\n",
    "    element = soup\n",
    "\n",
    "    for tag in tags:\n",
    "        name, index = tag[:-1], int(tag[-1])\n",
    "        element = element.find_all(name, recursive=False)[index]\n",
    "\n",
    "    return element\n",
    "\n",
    "def find_best_parent(element, parent_candidates, all_input_count):\n",
    "    if element is None:\n",
    "        return\n",
    "    \n",
    "    if element.name == 'div':\n",
    "        class_list = element.get('class', [])\n",
    "        # class_str = ' '.join(class_list)\n",
    "        id = get_unique_path(element)\n",
    "        \n",
    "        # if class_str not in parent_candidates:\n",
    "        if id not in parent_candidates:\n",
    "            # parent_candidates[class_str] = {\n",
    "            parent_candidates[id] = {\n",
    "                'count': 0,\n",
    "                'contains_submit': False\n",
    "            }\n",
    "        \n",
    "        # parent_candidates[class_str]['count'] += 1\n",
    "        parent_candidates[id]['count'] += 1\n",
    "        \n",
    "        # # Check if this div contains an input element that says \"submit\", \"next\", or \"continue\"\n",
    "        # for submit_type in [\"submit\", \"next\", \"continue\"]:\n",
    "        #     if element.find(\"input\", {\"type\": submit_type}) or element.find(\"input\", {\"value\": submit_type}):\n",
    "        #         parent_candidates[class_str]['contains_submit'] = True\n",
    "    \n",
    "    # Recursive call to traverse up\n",
    "    find_best_parent(element.find_parent('div'), parent_candidates, all_input_count)\n",
    "\n",
    "def identify_best_parent(soup):\n",
    "    inputs = soup.find_all('input')\n",
    "    all_input_count = len(inputs)\n",
    "    \n",
    "    parent_candidates = {}\n",
    "    \n",
    "    for inp in inputs:\n",
    "        find_best_parent(inp, parent_candidates, all_input_count)\n",
    "    \n",
    "    # # Filter candidates based on your conditions\n",
    "    # best_candidate = None\n",
    "    # for class_str, data in parent_candidates.items():\n",
    "    #     if best_candidate is None:\n",
    "    #         best_candidate = class_str\n",
    "    #         continue\n",
    "        \n",
    "    #     # Condition 1: Contains submit, next, or continue\n",
    "    #     if data['contains_submit']:\n",
    "    #         best_candidate = class_str\n",
    "    #         break\n",
    "        \n",
    "    #     # Condition 2: Contains over 90% of all input elements\n",
    "    #     if data['count'] / all_input_count > 0.9:\n",
    "    #         best_candidate = class_str\n",
    "    #         break\n",
    "        \n",
    "    #     # Condition 3: Contains the most inputs (this will be the default if none of the above conditions are met)\n",
    "    #     if data['count'] > parent_candidates[best_candidate]['count']:\n",
    "    #         best_candidate = class_str\n",
    "\n",
    "    print('parent_candidates:', parent_candidates)\n",
    "\n",
    "    best_candidate = list(parent_candidates.keys())[0]\n",
    "    for id, data in parent_candidates.items():\n",
    "        if data['count'] > parent_candidates[best_candidate]['count']:\n",
    "            best_candidate = id\n",
    "    \n",
    "    return best_candidate"
   ]
  },
  {
   "cell_type": "code",
   "execution_count": 12,
   "metadata": {},
   "outputs": [
    {
     "name": "stdout",
     "output_type": "stream",
     "text": [
      "parent_candidates: {'html:0>body:0>div:0>div:0': {'count': 1, 'contains_submit': False}, 'html:0>body:0>div:0': {'count': 3, 'contains_submit': False}, 'html:0>body:0>div:0>div:1': {'count': 1, 'contains_submit': False}, 'html:0>body:0>div:0>div:2': {'count': 1, 'contains_submit': False}, 'html:0>body:0>div:4': {'count': 1, 'contains_submit': False}}\n"
     ]
    }
   ],
   "source": [
    "# sample\n",
    "target_parent = identify_best_parent(sample_soup)"
   ]
  },
  {
   "cell_type": "code",
   "execution_count": 13,
   "metadata": {},
   "outputs": [
    {
     "data": {
      "text/plain": [
       "'html:0>body:0>div:0'"
      ]
     },
     "execution_count": 13,
     "metadata": {},
     "output_type": "execute_result"
    }
   ],
   "source": [
    "target_parent"
   ]
  },
  {
   "cell_type": "code",
   "execution_count": 14,
   "metadata": {},
   "outputs": [
    {
     "name": "stdout",
     "output_type": "stream",
     "text": [
      "parent_candidates: {'html:0>body:0>div:0>div:1>div:1>div:5>div:0>div:0>div:0': {'count': 1, 'contains_submit': False}, 'html:0>body:0>div:0>div:1>div:1>div:5>div:0>div:0': {'count': 1, 'contains_submit': False}, 'html:0>body:0>div:0>div:1>div:1>div:5>div:0': {'count': 30, 'contains_submit': False}, 'html:0>body:0>div:0>div:1>div:1>div:5': {'count': 30, 'contains_submit': False}, 'html:0>body:0>div:0>div:1>div:1': {'count': 30, 'contains_submit': False}, 'html:0>body:0>div:0>div:1': {'count': 30, 'contains_submit': False}, 'html:0>body:0>div:0': {'count': 30, 'contains_submit': False}, 'html:0>body:0>div:0>div:1>div:1>div:5>div:0>div:9>div:0>div:0': {'count': 1, 'contains_submit': False}, 'html:0>body:0>div:0>div:1>div:1>div:5>div:0>div:9>div:0': {'count': 29, 'contains_submit': False}, 'html:0>body:0>div:0>div:1>div:1>div:5>div:0>div:9': {'count': 29, 'contains_submit': False}, 'html:0>body:0>div:0>div:1>div:1>div:5>div:0>div:9>div:0>div:1': {'count': 1, 'contains_submit': False}, 'html:0>body:0>div:0>div:1>div:1>div:5>div:0>div:9>div:0>div:2>div:0': {'count': 1, 'contains_submit': False}, 'html:0>body:0>div:0>div:1>div:1>div:5>div:0>div:9>div:0>div:2': {'count': 1, 'contains_submit': False}, 'html:0>body:0>div:0>div:1>div:1>div:5>div:0>div:9>div:0>div:6>div:0': {'count': 1, 'contains_submit': False}, 'html:0>body:0>div:0>div:1>div:1>div:5>div:0>div:9>div:0>div:6': {'count': 1, 'contains_submit': False}, 'html:0>body:0>div:0>div:1>div:1>div:5>div:0>div:9>div:0>fieldset:0>div:0': {'count': 1, 'contains_submit': False}, 'html:0>body:0>div:0>div:1>div:1>div:5>div:0>div:9>div:0>fieldset:0>div:1': {'count': 1, 'contains_submit': False}, 'html:0>body:0>div:0>div:1>div:1>div:5>div:0>div:9>div:0>fieldset:0>div:2': {'count': 1, 'contains_submit': False}, 'html:0>body:0>div:0>div:1>div:1>div:5>div:0>div:9>div:0>div:11>div:0': {'count': 1, 'contains_submit': False}, 'html:0>body:0>div:0>div:1>div:1>div:5>div:0>div:9>div:0>div:11': {'count': 1, 'contains_submit': False}, 'html:0>body:0>div:0>div:1>div:1>div:5>div:0>div:9>div:0>div:13>div:0': {'count': 1, 'contains_submit': False}, 'html:0>body:0>div:0>div:1>div:1>div:5>div:0>div:9>div:0>div:13': {'count': 1, 'contains_submit': False}, 'html:0>body:0>div:0>div:1>div:1>div:5>div:0>div:9>div:0>div:15>div:0': {'count': 1, 'contains_submit': False}, 'html:0>body:0>div:0>div:1>div:1>div:5>div:0>div:9>div:0>div:15': {'count': 1, 'contains_submit': False}, 'html:0>body:0>div:0>div:1>div:1>div:5>div:0>div:9>div:0>div:17>div:0': {'count': 1, 'contains_submit': False}, 'html:0>body:0>div:0>div:1>div:1>div:5>div:0>div:9>div:0>div:17': {'count': 1, 'contains_submit': False}, 'html:0>body:0>div:0>div:1>div:1>div:5>div:0>div:9>div:0>div:19>div:0': {'count': 1, 'contains_submit': False}, 'html:0>body:0>div:0>div:1>div:1>div:5>div:0>div:9>div:0>div:19': {'count': 1, 'contains_submit': False}, 'html:0>body:0>div:0>div:1>div:1>div:5>div:0>div:9>div:0>fieldset:1>div:0': {'count': 1, 'contains_submit': False}, 'html:0>body:0>div:0>div:1>div:1>div:5>div:0>div:9>div:0>fieldset:1>div:1': {'count': 1, 'contains_submit': False}, 'html:0>body:0>div:0>div:1>div:1>div:5>div:0>div:9>div:0>fieldset:1>div:2': {'count': 1, 'contains_submit': False}, 'html:0>body:0>div:0>div:1>div:1>div:5>div:0>div:9>div:0>fieldset:2>div:0': {'count': 1, 'contains_submit': False}, 'html:0>body:0>div:0>div:1>div:1>div:5>div:0>div:9>div:0>fieldset:2>div:1': {'count': 1, 'contains_submit': False}, 'html:0>body:0>div:0>div:1>div:1>div:5>div:0>div:9>div:0>fieldset:2>div:2': {'count': 1, 'contains_submit': False}, 'html:0>body:0>div:0>div:1>div:1>div:5>div:0>div:9>div:0>fieldset:3>div:0': {'count': 1, 'contains_submit': False}, 'html:0>body:0>div:0>div:1>div:1>div:5>div:0>div:9>div:0>fieldset:3>div:1': {'count': 1, 'contains_submit': False}, 'html:0>body:0>div:0>div:1>div:1>div:5>div:0>div:9>div:0>fieldset:3>div:2': {'count': 1, 'contains_submit': False}, 'html:0>body:0>div:0>div:1>div:1>div:5>div:0>div:9>div:0>fieldset:3>div:3': {'count': 1, 'contains_submit': False}, 'html:0>body:0>div:0>div:1>div:1>div:5>div:0>div:9>div:0>fieldset:4>div:0': {'count': 1, 'contains_submit': False}, 'html:0>body:0>div:0>div:1>div:1>div:5>div:0>div:9>div:0>fieldset:4>div:1': {'count': 1, 'contains_submit': False}, 'html:0>body:0>div:0>div:1>div:1>div:5>div:0>div:9>div:0>fieldset:4>div:2': {'count': 1, 'contains_submit': False}, 'html:0>body:0>div:0>div:1>div:1>div:5>div:0>div:9>div:0>fieldset:5>div:0': {'count': 1, 'contains_submit': False}, 'html:0>body:0>div:0>div:1>div:1>div:5>div:0>div:9>div:0>fieldset:5>div:1': {'count': 1, 'contains_submit': False}, 'html:0>body:0>div:0>div:1>div:1>div:5>div:0>div:9>div:0>fieldset:5>div:2': {'count': 1, 'contains_submit': False}, 'html:0>body:0>div:0>div:1>div:1>div:5>div:0>div:9>div:0>fieldset:5>div:3': {'count': 1, 'contains_submit': False}}\n"
     ]
    }
   ],
   "source": [
    "target_parent = identify_best_parent(soup)"
   ]
  },
  {
   "cell_type": "code",
   "execution_count": 15,
   "metadata": {},
   "outputs": [
    {
     "data": {
      "text/plain": [
       "'html:0>body:0>div:0>div:1>div:1>div:5>div:0'"
      ]
     },
     "execution_count": 15,
     "metadata": {},
     "output_type": "execute_result"
    }
   ],
   "source": [
    "target_parent"
   ]
  },
  {
   "cell_type": "code",
   "execution_count": 16,
   "metadata": {},
   "outputs": [],
   "source": [
    "# target_element = await page.locator('xpath={}'.format(target_parent)).all()"
   ]
  },
  {
   "cell_type": "code",
   "execution_count": null,
   "metadata": {},
   "outputs": [],
   "source": [
    "# found_element = find_by_unique_path(soup, target_parent)"
   ]
  },
  {
   "cell_type": "code",
   "execution_count": 44,
   "metadata": {},
   "outputs": [],
   "source": [
    "'''Iteration 3'''\n",
    "def find_parents(element, parent_candidates):\n",
    "    if element is None:\n",
    "        return\n",
    "    \n",
    "    if element.name == 'div':\n",
    "        if id not in parent_candidates:\n",
    "            parent_candidates.append(element)\n",
    "        \n",
    "    find_best_parent(element.find_parent('div'), parent_candidates) # traverse up via recursion\n",
    "\n",
    "\n",
    "def identify_best_parent(soup):\n",
    "    inputs = soup.find_all('input')\n",
    "    # total = len(inputs)\n",
    "    \n",
    "    candidates = []\n",
    "    for inp in inputs:\n",
    "        find_parents(inp, candidates)\n",
    "    \n",
    "    # print('parent_candidates:', candidates)\n",
    "\n",
    "    best = candidates[0]; highscore = 0\n",
    "    for candidate in candidates:\n",
    "        # if len(candidate.find_all('input')) / total > 0.9:\n",
    "        contains = len(candidate.find_all('input'))\n",
    "        if contains > highscore:\n",
    "            best = candidate; highscore = contains\n",
    "    \n",
    "    return best"
   ]
  },
  {
   "cell_type": "code",
   "execution_count": 45,
   "metadata": {},
   "outputs": [],
   "source": [
    "parent = identify_best_parent(soup)"
   ]
  },
  {
   "cell_type": "code",
   "execution_count": 46,
   "metadata": {},
   "outputs": [
    {
     "name": "stdout",
     "output_type": "stream",
     "text": [
      "<div aria-labelledby=\"job-application-form\" id=\"form\" role=\"tabpanel\" tabindex=\"0\"><div class=\"_autofillPane_z1j6s_461 ashby-application-form-autofill-pane _container_elimo_29\" data-highlight=\"none\"><div class=\"_root_1vgha_1 ashby-application-form-autofill-input-root\" data-state=\"default\"><input accept=\".pdf,.doc,.docx,.odt,.rtf,application/pdf,application/msword,application/vnd.openxmlformats-officedocument.wordprocessingml.document,application/vnd.oasis.opendocument.text,application/rtf\" autocomplete=\"off\" style=\"display: none;\" tabindex=\"-1\" type=\"file\"/><div class=\"_base_1vgha_31 ashby-application-form-autofill-input-base-layer\"><div class=\"_content_1vgha_36\"><div class=\"_text_1vgha_44\"><div class=\"_iconContainer_1vgha_53\"><svg class=\"_icon_1vgha_53 ashby-application-form-autofill-input-icon\" fill=\"none\" height=\"1em\" viewbox=\"0 0 576 512\"><path d=\"M234.7 42.7L197 56.8c-3 1.1-5 4-5 7.2s2 6.1 5 7.2l37.7 14.1L248.8 123c1.1 3 4 5 7.2 5s6.1-2 7.2-5l14.1-37.7L315 71.2c3-1.1 5-4 5-7.2s-2-6.1-5-7.2L277.3 42.7 263.2 5c-1.1-3-4-5-7.2-5s-6.1 2-7.2 5L234.7 42.7zM461.4 48L496 82.6 386.2 192.3l-34.6-34.6L461.4 48zM80 429.4L317.7 191.7l34.6 34.6L114.6 464 80 429.4zM427.4 14.1L46.1 395.4c-18.7 18.7-18.7 49.1 0 67.9l34.6 34.6c18.7 18.7 49.1 18.7 67.9 0L529.9 116.5c18.7-18.7 18.7-49.1 0-67.9L495.3 14.1c-18.7-18.7-49.1-18.7-67.9 0zM7.5 117.2C3 118.9 0 123.2 0 128s3 9.1 7.5 10.8L64 160l21.2 56.5c1.7 4.5 6 7.5 10.8 7.5s9.1-3 10.8-7.5L128 160l56.5-21.2c4.5-1.7 7.5-6 7.5-10.8s-3-9.1-7.5-10.8L128 96 106.8 39.5C105.1 35 100.8 32 96 32s-9.1 3-10.8 7.5L64 96 7.5 117.2zm352 256c-4.5 1.7-7.5 6-7.5 10.8s3 9.1 7.5 10.8L416 416l21.2 56.5c1.7 4.5 6 7.5 10.8 7.5s9.1-3 10.8-7.5L480 416l56.5-21.2c4.5-1.7 7.5-6 7.5-10.8s-3-9.1-7.5-10.8L480 352l-21.2-56.5c-1.7-4.5-6-7.5-10.8-7.5s-9.1 3-10.8 7.5L416 352l-56.5 21.2z\"></path></svg></div><h3 class=\"_title_1vgha_68 ashby-application-form-autofill-input-title\">Autofill from resume</h3><p class=\"_description_1vgha_80 ashby-application-form-autofill-input-description\">Upload your resume here to autofill key application fields.</p></div><div class=\"_cta_1vgha_90\"><button class=\"_button_yxgm9_29 _secondary_yxgm9_114 _ctaButton_1vgha_94\">Upload file</button></div></div></div><div class=\"_drag_1vgha_106 ashby-application-form-autofill-input-drag-layer\" data-state=\"hidden\"><svg fill=\"none\" height=\"1em\" viewbox=\"0 0 512 512\"><path d=\"M280 360c0 13.3-10.7 24-24 24s-24-10.7-24-24V81.9l-95 95c-9.4 9.4-24.6 9.4-33.9 0s-9.4-24.6 0-33.9L239 7c9.4-9.4 24.6-9.4 33.9 0L409 143c9.4 9.4 9.4 24.6 0 33.9s-24.6 9.4-33.9 0l-95-95V360zm32-8V304H448c35.3 0 64 28.7 64 64v80c0 35.3-28.7 64-64 64H64c-35.3 0-64-28.7-64-64V368c0-35.3 28.7-64 64-64H200v48H64c-8.8 0-16 7.2-16 16v80c0 8.8 7.2 16 16 16H448c8.8 0 16-7.2 16-16V368c0-8.8-7.2-16-16-16H312zm72 56a24 24 0 1 1 48 0 24 24 0 1 1 -48 0z\"></path></svg><span>Drop your resume here!</span></div><div class=\"_pending_1vgha_107 ashby-application-form-autofill-input-pending-layer\" data-state=\"hidden\"><span aria-label=\"Loading...\" class=\"_spinner_8ul1h_9 _spinner-size-md_8ul1h_26 _spinner-speed-normal_8ul1h_42\" role=\"progressbar\"></span><span>Parsing your resume. Autofilling key fields...</span></div></div></div><div class=\"_jobPostingForm_z1j6s_407 ashby-application-form-container _container_elimo_29\" data-highlight=\"none\"><div class=\"_section_z1j6s_90 ashby-application-form-section-container\"><div class=\"_fieldEntry_1dgff_29 ashby-application-form-field-entry\"><label class=\"_heading_elimo_53 _required_elimo_92 _label_1dgff_43 ashby-application-form-question-title\" for=\"_systemfield_name\">Name</label><input class=\"_input_1xsmr_28 _input_1dgff_33\" id=\"_systemfield_name\" name=\"_systemfield_name\" placeholder=\"Type here...\" required=\"\" type=\"text\" value=\"\"/></div><div class=\"_fieldEntry_1dgff_29 ashby-application-form-field-entry\"><label class=\"_heading_elimo_53 _required_elimo_92 _label_1dgff_43 ashby-application-form-question-title\" for=\"_systemfield_email\">Email</label><input class=\"_input_1xsmr_28 _input_1dgff_33\" id=\"_systemfield_email\" name=\"_systemfield_email\" placeholder=\"hello@example.com...\" required=\"\" type=\"email\" value=\"\"/></div><div class=\"_fieldEntry_1dgff_29 ashby-application-form-field-entry\"><label class=\"_heading_elimo_53 _required_elimo_92 _label_1dgff_43 ashby-application-form-question-title\" for=\"_systemfield_resume\">Resume</label><div class=\"_container_izfez_71\"><input accept=\".pdf,.doc,.docx,.odt,.rtf,image/*,video/*,audio/*,application/pdf,application/msword,application/vnd.openxmlformats-officedocument.wordprocessingml.document,application/vnd.oasis.opendocument.text,application/rtf\" autocomplete=\"off\" id=\"_systemfield_resume\" required=\"\" style=\"display: none;\" tabindex=\"-1\" type=\"file\"/><div class=\"_instructions_izfez_34\"><button class=\"_button_yxgm9_29 _secondary_yxgm9_114 _button_izfez_111\"><svg fill=\"none\" height=\"1em\" viewbox=\"0 0 448 512\"><path d=\"M375 73c-26-26-68.1-26-94.1 0L89 265C45.3 308.6 45.3 379.4 89 423s114.4 43.6 158.1 0L399 271c9.4-9.4 24.6-9.4 33.9 0s9.4 24.6 0 33.9L281 457c-62.4 62.4-163.5 62.4-225.9 0S-7.4 293.4 55 231L247 39C291.7-5.7 364.2-5.7 409 39s44.7 117.2 0 161.9L225.2 384.7c-31.6 31.6-83.6 28.7-111.5-6.2c-23.8-29.8-21.5-72.8 5.5-99.8L271 127c9.4-9.4 24.6-9.4 33.9 0s9.4 24.6 0 33.9L153.2 312.7c-9.7 9.7-10.6 25.1-2 35.8c10 12.5 28.7 13.6 40 2.2L375 167c26-26 26-68.1 0-94.1z\"></path></svg><span><span>Upload File</span></span></button><p class=\"_dragInstructions_izfez_29\">or drag and drop here</p></div></div></div><div class=\"_fieldEntry_1dgff_29 ashby-application-form-field-entry\"><label class=\"_heading_elimo_53 _required_elimo_92 _label_1dgff_43 ashby-application-form-question-title\" for=\"1bc0127d-4b81-4264-90da-6bfb4d39ef21\">Why do you want to join Eight Sleep?</label><textarea class=\"_input_gsl38_29 _input_1dgff_33\" id=\"1bc0127d-4b81-4264-90da-6bfb4d39ef21\" name=\"1bc0127d-4b81-4264-90da-6bfb4d39ef21\" placeholder=\"Type here...\" required=\"\" rows=\"4\"></textarea></div><div class=\"_fieldEntry_1dgff_29 ashby-application-form-field-entry\"><label class=\"_heading_elimo_53 _required_elimo_92 _label_1dgff_43 ashby-application-form-question-title\" for=\"3306ccd6-4a4f-4f03-b11c-86e7bae38ad1\">Are you legally authorized to work in the United States?</label><div class=\"_container_y2cw4_29 _yesno_1dgff_136\"><button class=\"_container_pjyt6_1 _option_y2cw4_33\">Yes</button><button class=\"_container_pjyt6_1 _option_y2cw4_33\">No</button><input class=\"_input_y2cw4_79\" name=\"3306ccd6-4a4f-4f03-b11c-86e7bae38ad1\" tabindex=\"-1\" type=\"checkbox\"/></div></div><fieldset class=\"_container_1v5e2_29 _fieldEntry_1dgff_29\"><label class=\"_heading_elimo_53 _required_elimo_92 _label_1dgff_43 ashby-application-form-question-title\" for=\"cefd7ab1-7698-4151-9870-e9876684992e\">What degree are you currently pursuing?</label><div class=\"_option_1v5e2_35 false\"><span class=\"_container_ruukg_29\" data-disabled=\"false\"><span class=\"_circle_ruukg_74\"></span><input id=\"41e00180-cb86-41f4-851e-77c737c2def9-labeled-radio-0\" name=\"41e00180-cb86-41f4-851e-77c737c2def9\" type=\"radio\"/></span><label class=\"_label_1v5e2_43\" for=\"41e00180-cb86-41f4-851e-77c737c2def9-labeled-radio-0\">Undergraduate degree</label></div><div class=\"_option_1v5e2_35 false\"><span class=\"_container_ruukg_29\" data-disabled=\"false\"><span class=\"_circle_ruukg_74\"></span><input id=\"41e00180-cb86-41f4-851e-77c737c2def9-labeled-radio-1\" name=\"41e00180-cb86-41f4-851e-77c737c2def9\" type=\"radio\"/></span><label class=\"_label_1v5e2_43\" for=\"41e00180-cb86-41f4-851e-77c737c2def9-labeled-radio-1\">Masters degree</label></div><div class=\"_option_1v5e2_35 false\"><span class=\"_container_ruukg_29\" data-disabled=\"false\"><span class=\"_circle_ruukg_74\"></span><input id=\"41e00180-cb86-41f4-851e-77c737c2def9-labeled-radio-2\" name=\"41e00180-cb86-41f4-851e-77c737c2def9\" type=\"radio\"/></span><label class=\"_label_1v5e2_43\" for=\"41e00180-cb86-41f4-851e-77c737c2def9-labeled-radio-2\">Other</label></div></fieldset><div class=\"_fieldEntry_1dgff_29 ashby-application-form-field-entry\"><label class=\"_heading_elimo_53 _required_elimo_92 _label_1dgff_43 ashby-application-form-question-title\" for=\"ffaf6121-a82b-4cce-9892-2987bb67234c\">Are you currently located in Boston area or willing to relocate on your own?</label><div class=\"_container_y2cw4_29 _yesno_1dgff_136\"><button class=\"_container_pjyt6_1 _option_y2cw4_33\">Yes</button><button class=\"_container_pjyt6_1 _option_y2cw4_33\">No</button><input class=\"_input_y2cw4_79\" name=\"ffaf6121-a82b-4cce-9892-2987bb67234c\" tabindex=\"-1\" type=\"checkbox\"/></div></div><div class=\"_fieldEntry_1dgff_29 ashby-application-form-field-entry\"><label class=\"_heading_elimo_53 _required_elimo_92 _label_1dgff_43 ashby-application-form-question-title\" for=\"09dd7b21-dbef-4fd5-a835-379a3906a797\">Are you willing to work onsite at our Boston office (located in Newton Centre) at least 3 days a week?</label><div class=\"_container_y2cw4_29 _yesno_1dgff_136\"><button class=\"_container_pjyt6_1 _option_y2cw4_33\">Yes</button><button class=\"_container_pjyt6_1 _option_y2cw4_33\">No</button><input class=\"_input_y2cw4_79\" name=\"09dd7b21-dbef-4fd5-a835-379a3906a797\" tabindex=\"-1\" type=\"checkbox\"/></div></div><div class=\"_fieldEntry_1dgff_29 ashby-application-form-field-entry\"><label class=\"_heading_elimo_53 _required_elimo_92 _label_1dgff_43 ashby-application-form-question-title\" for=\"b71ed548-114c-4db8-9c3b-6c1423ae71a0\">Are you able to work a normal 9-5 schedule for 40 hours per week, with occasional weekend work (monitoring study data for a couple hours on the weekend)?</label><div class=\"_container_y2cw4_29 _yesno_1dgff_136\"><button class=\"_container_pjyt6_1 _option_y2cw4_33\">Yes</button><button class=\"_container_pjyt6_1 _option_y2cw4_33\">No</button><input class=\"_input_y2cw4_79\" name=\"b71ed548-114c-4db8-9c3b-6c1423ae71a0\" tabindex=\"-1\" type=\"checkbox\"/></div></div><div class=\"_fieldEntry_1dgff_29 ashby-application-form-field-entry\"><label class=\"_heading_elimo_53 _required_elimo_92 _label_1dgff_43 ashby-application-form-question-title\" for=\"b10af23c-d987-45de-a5f3-c2a453b5896a\">Are you available from January 2nd - June 30th 2024 for 40 hours per week?</label><div class=\"_container_y2cw4_29 _yesno_1dgff_136\"><button class=\"_container_pjyt6_1 _option_y2cw4_33\">Yes</button><button class=\"_container_pjyt6_1 _option_y2cw4_33\">No</button><input class=\"_input_y2cw4_79\" name=\"b10af23c-d987-45de-a5f3-c2a453b5896a\" tabindex=\"-1\" type=\"checkbox\"/></div></div><div class=\"_fieldEntry_1dgff_29 ashby-application-form-field-entry\"><label class=\"_heading_elimo_53 _required_elimo_92 _label_1dgff_43 ashby-application-form-question-title\" for=\"24621a81-a702-46c8-a090-6468b9b7a898\">Are you aware this position is a Data Engineering co-op, not Machine Learning? The main tasks will include: 1. Manipulating, cleaning, and transforming raw data into a usable format for analysis 2. Enhancing our existing data quality scripts to ensure that data are accurate, complete, and consistent throughout the data collection period of a study 3. Developing and maintaining tools and processes to improve efficiency and consistency across projects</label><div class=\"_container_y2cw4_29 _yesno_1dgff_136\"><button class=\"_container_pjyt6_1 _option_y2cw4_33\">Yes</button><button class=\"_container_pjyt6_1 _option_y2cw4_33\">No</button><input class=\"_input_y2cw4_79\" name=\"24621a81-a702-46c8-a090-6468b9b7a898\" tabindex=\"-1\" type=\"checkbox\"/></div></div><fieldset class=\"_container_1v5e2_29 _fieldEntry_1dgff_29\"><label class=\"_heading_elimo_53 _required_elimo_92 _label_1dgff_43 ashby-application-form-question-title\" for=\"4dd9e9a0-79c2-4fe6-bd83-e482b064f2db\">How many years of python coding experience do you have?</label><div class=\"_option_1v5e2_35 false\"><span class=\"_container_ruukg_29\" data-disabled=\"false\"><span class=\"_circle_ruukg_74\"></span><input id=\"474b3d30-879f-49c5-baa1-5cd82afb57e3-labeled-radio-0\" name=\"474b3d30-879f-49c5-baa1-5cd82afb57e3\" type=\"radio\"/></span><label class=\"_label_1v5e2_43\" for=\"474b3d30-879f-49c5-baa1-5cd82afb57e3-labeled-radio-0\">Less than 1 year</label></div><div class=\"_option_1v5e2_35 false\"><span class=\"_container_ruukg_29\" data-disabled=\"false\"><span class=\"_circle_ruukg_74\"></span><input id=\"474b3d30-879f-49c5-baa1-5cd82afb57e3-labeled-radio-1\" name=\"474b3d30-879f-49c5-baa1-5cd82afb57e3\" type=\"radio\"/></span><label class=\"_label_1v5e2_43\" for=\"474b3d30-879f-49c5-baa1-5cd82afb57e3-labeled-radio-1\">1-2 years</label></div><div class=\"_option_1v5e2_35 false\"><span class=\"_container_ruukg_29\" data-disabled=\"false\"><span class=\"_circle_ruukg_74\"></span><input id=\"474b3d30-879f-49c5-baa1-5cd82afb57e3-labeled-radio-2\" name=\"474b3d30-879f-49c5-baa1-5cd82afb57e3\" type=\"radio\"/></span><label class=\"_label_1v5e2_43\" for=\"474b3d30-879f-49c5-baa1-5cd82afb57e3-labeled-radio-2\">2+ years</label></div></fieldset><div class=\"_fieldEntry_1dgff_29 ashby-application-form-field-entry\"><label class=\"_heading_elimo_53 _required_elimo_92 _label_1dgff_43 ashby-application-form-question-title\" for=\"3e7aa525-01be-4b61-99f1-c3dd7ecea150\">How many years of work experience do you have as a data engineer, data scientist, or software engineer? Feel free to include time spent working as an intern, co-op, etc.</label><textarea class=\"_input_gsl38_29 _input_1dgff_33\" id=\"3e7aa525-01be-4b61-99f1-c3dd7ecea150\" name=\"3e7aa525-01be-4b61-99f1-c3dd7ecea150\" placeholder=\"Type here...\" required=\"\" rows=\"4\"></textarea></div><fieldset class=\"_container_1v5e2_29 _fieldEntry_1dgff_29\"><label class=\"_heading_elimo_53 _required_elimo_92 _label_1dgff_43 ashby-application-form-question-title\" for=\"00ea5595-b66a-44d6-bd0d-e8e432bde76c\">How many years of experience do you have using Github in your workflow?</label><div class=\"_option_1v5e2_35 false\"><span class=\"_container_ruukg_29\" data-disabled=\"false\"><span class=\"_circle_ruukg_74\"></span><input id=\"b00c9999-6dc6-47dc-8ad8-79c783b78c4b-labeled-radio-0\" name=\"b00c9999-6dc6-47dc-8ad8-79c783b78c4b\" type=\"radio\"/></span><label class=\"_label_1v5e2_43\" for=\"b00c9999-6dc6-47dc-8ad8-79c783b78c4b-labeled-radio-0\">Less than 1 year</label></div><div class=\"_option_1v5e2_35 false\"><span class=\"_container_ruukg_29\" data-disabled=\"false\"><span class=\"_circle_ruukg_74\"></span><input id=\"b00c9999-6dc6-47dc-8ad8-79c783b78c4b-labeled-radio-1\" name=\"b00c9999-6dc6-47dc-8ad8-79c783b78c4b\" type=\"radio\"/></span><label class=\"_label_1v5e2_43\" for=\"b00c9999-6dc6-47dc-8ad8-79c783b78c4b-labeled-radio-1\">1-2 years</label></div><div class=\"_option_1v5e2_35 false\"><span class=\"_container_ruukg_29\" data-disabled=\"false\"><span class=\"_circle_ruukg_74\"></span><input id=\"b00c9999-6dc6-47dc-8ad8-79c783b78c4b-labeled-radio-2\" name=\"b00c9999-6dc6-47dc-8ad8-79c783b78c4b\" type=\"radio\"/></span><label class=\"_label_1v5e2_43\" for=\"b00c9999-6dc6-47dc-8ad8-79c783b78c4b-labeled-radio-2\">2+ years</label></div></fieldset><fieldset class=\"_container_1v5e2_29 _fieldEntry_1dgff_29\"><label class=\"_heading_elimo_53 _required_elimo_92 _label_1dgff_43 ashby-application-form-question-title\" for=\"b4c6a61c-4485-49c3-b81d-e49e5ad10c77\">What is your experience level with parsing &amp; time aligning data using pandas, numpy, pendulum, etc? (Note that you will be sent a coding challenge that will further test these skills)</label><div class=\"_option_1v5e2_35 false\"><span class=\"_container_ruukg_29\" data-disabled=\"false\"><span class=\"_circle_ruukg_74\"></span><input id=\"b41de1e2-b423-4612-b520-44738779a3ff-labeled-radio-0\" name=\"b41de1e2-b423-4612-b520-44738779a3ff\" type=\"radio\"/></span><label class=\"_label_1v5e2_43\" for=\"b41de1e2-b423-4612-b520-44738779a3ff-labeled-radio-0\">Beginner: I've worked with small datasets from a single source (&lt;100 rows, no time alignment required)</label></div><div class=\"_option_1v5e2_35 false\"><span class=\"_container_ruukg_29\" data-disabled=\"false\"><span class=\"_circle_ruukg_74\"></span><input id=\"b41de1e2-b423-4612-b520-44738779a3ff-labeled-radio-1\" name=\"b41de1e2-b423-4612-b520-44738779a3ff\" type=\"radio\"/></span><label class=\"_label_1v5e2_43\" for=\"b41de1e2-b423-4612-b520-44738779a3ff-labeled-radio-1\">Intermediate: I've worked with aligning moderately-sized datasets with data from multiple sources</label></div><div class=\"_option_1v5e2_35 false\"><span class=\"_container_ruukg_29\" data-disabled=\"false\"><span class=\"_circle_ruukg_74\"></span><input id=\"b41de1e2-b423-4612-b520-44738779a3ff-labeled-radio-2\" name=\"b41de1e2-b423-4612-b520-44738779a3ff\" type=\"radio\"/></span><label class=\"_label_1v5e2_43\" for=\"b41de1e2-b423-4612-b520-44738779a3ff-labeled-radio-2\">Advanced: I do this on a daily basis &amp; have worked with very large datasets with multiple types of file sources (i.e. json, csv, api, etc</label></div><div class=\"_option_1v5e2_35 false\"><span class=\"_container_ruukg_29\" data-disabled=\"false\"><span class=\"_circle_ruukg_74\"></span><input id=\"b41de1e2-b423-4612-b520-44738779a3ff-labeled-radio-3\" name=\"b41de1e2-b423-4612-b520-44738779a3ff\" type=\"radio\"/></span><label class=\"_label_1v5e2_43\" for=\"b41de1e2-b423-4612-b520-44738779a3ff-labeled-radio-3\">Not applicable: I do not have any experience parsing &amp; time aligning data</label></div></fieldset><fieldset class=\"_container_1v5e2_29 _fieldEntry_1dgff_29\"><label class=\"_heading_elimo_53 _required_elimo_92 _label_1dgff_43 ashby-application-form-question-title\" for=\"57183933-fa50-4aa5-bb20-6755567c26e6\">How would you rate your experience with object-oriented design in Python and your familiarity with best code practices, such as testing, documentation, and code reusability? Please use the following definitions to guide your answer:</label><div class=\"_option_1v5e2_35 false\"><span class=\"_container_ruukg_29\" data-disabled=\"false\"><span class=\"_circle_ruukg_74\"></span><input id=\"6a8158d9-de2c-4c4a-95f2-ffbf47f0f1f2-labeled-radio-0\" name=\"6a8158d9-de2c-4c4a-95f2-ffbf47f0f1f2\" type=\"radio\"/></span><label class=\"_label_1v5e2_43\" for=\"6a8158d9-de2c-4c4a-95f2-ffbf47f0f1f2-labeled-radio-0\">Beginner: I have a basic understanding of object-oriented design in Python and I am familiar with basic best code practices, such as writing comments and using meaningful variable names.</label></div><div class=\"_option_1v5e2_35 false\"><span class=\"_container_ruukg_29\" data-disabled=\"false\"><span class=\"_circle_ruukg_74\"></span><input id=\"6a8158d9-de2c-4c4a-95f2-ffbf47f0f1f2-labeled-radio-1\" name=\"6a8158d9-de2c-4c4a-95f2-ffbf47f0f1f2\" type=\"radio\"/></span><label class=\"_label_1v5e2_43\" for=\"6a8158d9-de2c-4c4a-95f2-ffbf47f0f1f2-labeled-radio-1\">Intermediate: I have a good understanding of object-oriented design in Python and I regularly use best code practices, such as writing automated tests, documenting my code, and creating reusable code modules.</label></div><div class=\"_option_1v5e2_35 false\"><span class=\"_container_ruukg_29\" data-disabled=\"false\"><span class=\"_circle_ruukg_74\"></span><input id=\"6a8158d9-de2c-4c4a-95f2-ffbf47f0f1f2-labeled-radio-2\" name=\"6a8158d9-de2c-4c4a-95f2-ffbf47f0f1f2\" type=\"radio\"/></span><label class=\"_label_1v5e2_43\" for=\"6a8158d9-de2c-4c4a-95f2-ffbf47f0f1f2-labeled-radio-2\">Advanced: I have extensive knowledge of object-oriented design in Python and I consistently implement best code practices, such as unit testing, API documentation, and modular design, in my projects.</label></div></fieldset><fieldset class=\"_container_1v5e2_29 _fieldEntry_1dgff_29\"><label class=\"_heading_elimo_53 _required_elimo_92 _label_1dgff_43 ashby-application-form-question-title\" for=\"34b4abe4-0486-4ae2-b970-e67c6251e54c\">Please rate your experience level working with SQL. (Note that you will also be further tested on your SQL skills)</label><div class=\"_option_1v5e2_35 false\"><span class=\"_container_ruukg_29\" data-disabled=\"false\"><span class=\"_circle_ruukg_74\"></span><input id=\"553c6f4d-54ae-4915-93dc-bf5f821e1375-labeled-radio-0\" name=\"553c6f4d-54ae-4915-93dc-bf5f821e1375\" type=\"radio\"/></span><label class=\"_label_1v5e2_43\" for=\"553c6f4d-54ae-4915-93dc-bf5f821e1375-labeled-radio-0\">Beginner: Have basic knowledge of SQL and can write simple queries.</label></div><div class=\"_option_1v5e2_35 false\"><span class=\"_container_ruukg_29\" data-disabled=\"false\"><span class=\"_circle_ruukg_74\"></span><input id=\"553c6f4d-54ae-4915-93dc-bf5f821e1375-labeled-radio-1\" name=\"553c6f4d-54ae-4915-93dc-bf5f821e1375\" type=\"radio\"/></span><label class=\"_label_1v5e2_43\" for=\"553c6f4d-54ae-4915-93dc-bf5f821e1375-labeled-radio-1\">Intermediate: Have a good understanding of SQL concepts and can write complex queries.</label></div><div class=\"_option_1v5e2_35 false\"><span class=\"_container_ruukg_29\" data-disabled=\"false\"><span class=\"_circle_ruukg_74\"></span><input id=\"553c6f4d-54ae-4915-93dc-bf5f821e1375-labeled-radio-2\" name=\"553c6f4d-54ae-4915-93dc-bf5f821e1375\" type=\"radio\"/></span><label class=\"_label_1v5e2_43\" for=\"553c6f4d-54ae-4915-93dc-bf5f821e1375-labeled-radio-2\">Advanced: Have extensive knowledge of SQL and can design and optimize complex databases.</label></div><div class=\"_option_1v5e2_35 false\"><span class=\"_container_ruukg_29\" data-disabled=\"false\"><span class=\"_circle_ruukg_74\"></span><input id=\"553c6f4d-54ae-4915-93dc-bf5f821e1375-labeled-radio-3\" name=\"553c6f4d-54ae-4915-93dc-bf5f821e1375\" type=\"radio\"/></span><label class=\"_label_1v5e2_43\" for=\"553c6f4d-54ae-4915-93dc-bf5f821e1375-labeled-radio-3\">Not applicable: I have not used SQL previously.</label></div></fieldset><div class=\"_fieldEntry_1dgff_29 ashby-application-form-field-entry\"><label class=\"_heading_elimo_53 _required_elimo_92 _label_1dgff_43 ashby-application-form-question-title\" for=\"461a1c51-b0ce-4d16-a812-d5ce079f6f0b\">Please describe your experience with data visualization tools.</label><textarea class=\"_input_gsl38_29 _input_1dgff_33\" id=\"461a1c51-b0ce-4d16-a812-d5ce079f6f0b\" name=\"461a1c51-b0ce-4d16-a812-d5ce079f6f0b\" placeholder=\"Type here...\" required=\"\" rows=\"4\"></textarea></div><div class=\"_fieldEntry_1dgff_29 ashby-application-form-field-entry\"><label class=\"_heading_elimo_53 _required_elimo_92 _label_1dgff_43 ashby-application-form-question-title\" for=\"1427fa04-c319-4ca9-96af-3313a32d9c98\">Can you tell me about a project you worked on using Python and how you approached the design and implementation? Please feel free to discuss any best code practices you followed during the project, such as testing, documentation, and code reusability.</label><textarea class=\"_input_gsl38_29 _input_1dgff_33\" id=\"1427fa04-c319-4ca9-96af-3313a32d9c98\" name=\"1427fa04-c319-4ca9-96af-3313a32d9c98\" placeholder=\"Type here...\" required=\"\" rows=\"4\"></textarea></div></div></div><button class=\"_button_yxgm9_29 _primary_yxgm9_96 _greedy_yxgm9_218 _submitButton_z1j6s_418 ashby-application-form-submit-button\"><span>Submit Application</span><svg fill=\"none\" height=\"1em\" viewbox=\"0 0 512 512\"><path d=\"M498.1 5.6c10.1 7 15.4 19.1 13.5 31.2l-64 416c-1.5 9.7-7.4 18.2-16 23s-18.9 5.4-28 1.6L284 427.7l-68.5 74.1c-8.9 9.7-22.9 12.9-35.2 8.1S160 493.2 160 480V396.4c0-4 1.5-7.8 4.2-10.7L331.8 202.8c5.8-6.3 5.6-16-.4-22s-15.7-6.4-22-.7L106 360.8 17.7 316.6C7.1 311.3 .3 300.7 0 288.9s5.9-22.8 16.1-28.7l448-256c10.7-6.1 23.9-5.5 34 1.4z\"></path></svg></button></div>\n"
     ]
    }
   ],
   "source": [
    "print(parent)"
   ]
  },
  {
   "cell_type": "code",
   "execution_count": 47,
   "metadata": {},
   "outputs": [
    {
     "data": {
      "text/plain": [
       "[<input accept=\".pdf,.doc,.docx,.odt,.rtf,application/pdf,application/msword,application/vnd.openxmlformats-officedocument.wordprocessingml.document,application/vnd.oasis.opendocument.text,application/rtf\" autocomplete=\"off\" style=\"display: none;\" tabindex=\"-1\" type=\"file\"/>,\n",
       " <input class=\"_input_1xsmr_28 _input_1dgff_33\" id=\"_systemfield_name\" name=\"_systemfield_name\" placeholder=\"Type here...\" required=\"\" type=\"text\" value=\"\"/>,\n",
       " <input class=\"_input_1xsmr_28 _input_1dgff_33\" id=\"_systemfield_email\" name=\"_systemfield_email\" placeholder=\"hello@example.com...\" required=\"\" type=\"email\" value=\"\"/>,\n",
       " <input accept=\".pdf,.doc,.docx,.odt,.rtf,image/*,video/*,audio/*,application/pdf,application/msword,application/vnd.openxmlformats-officedocument.wordprocessingml.document,application/vnd.oasis.opendocument.text,application/rtf\" autocomplete=\"off\" id=\"_systemfield_resume\" required=\"\" style=\"display: none;\" tabindex=\"-1\" type=\"file\"/>,\n",
       " <input class=\"_input_y2cw4_79\" name=\"3306ccd6-4a4f-4f03-b11c-86e7bae38ad1\" tabindex=\"-1\" type=\"checkbox\"/>,\n",
       " <input id=\"41e00180-cb86-41f4-851e-77c737c2def9-labeled-radio-0\" name=\"41e00180-cb86-41f4-851e-77c737c2def9\" type=\"radio\"/>,\n",
       " <input id=\"41e00180-cb86-41f4-851e-77c737c2def9-labeled-radio-1\" name=\"41e00180-cb86-41f4-851e-77c737c2def9\" type=\"radio\"/>,\n",
       " <input id=\"41e00180-cb86-41f4-851e-77c737c2def9-labeled-radio-2\" name=\"41e00180-cb86-41f4-851e-77c737c2def9\" type=\"radio\"/>,\n",
       " <input class=\"_input_y2cw4_79\" name=\"ffaf6121-a82b-4cce-9892-2987bb67234c\" tabindex=\"-1\" type=\"checkbox\"/>,\n",
       " <input class=\"_input_y2cw4_79\" name=\"09dd7b21-dbef-4fd5-a835-379a3906a797\" tabindex=\"-1\" type=\"checkbox\"/>,\n",
       " <input class=\"_input_y2cw4_79\" name=\"b71ed548-114c-4db8-9c3b-6c1423ae71a0\" tabindex=\"-1\" type=\"checkbox\"/>,\n",
       " <input class=\"_input_y2cw4_79\" name=\"b10af23c-d987-45de-a5f3-c2a453b5896a\" tabindex=\"-1\" type=\"checkbox\"/>,\n",
       " <input class=\"_input_y2cw4_79\" name=\"24621a81-a702-46c8-a090-6468b9b7a898\" tabindex=\"-1\" type=\"checkbox\"/>,\n",
       " <input id=\"474b3d30-879f-49c5-baa1-5cd82afb57e3-labeled-radio-0\" name=\"474b3d30-879f-49c5-baa1-5cd82afb57e3\" type=\"radio\"/>,\n",
       " <input id=\"474b3d30-879f-49c5-baa1-5cd82afb57e3-labeled-radio-1\" name=\"474b3d30-879f-49c5-baa1-5cd82afb57e3\" type=\"radio\"/>,\n",
       " <input id=\"474b3d30-879f-49c5-baa1-5cd82afb57e3-labeled-radio-2\" name=\"474b3d30-879f-49c5-baa1-5cd82afb57e3\" type=\"radio\"/>,\n",
       " <input id=\"b00c9999-6dc6-47dc-8ad8-79c783b78c4b-labeled-radio-0\" name=\"b00c9999-6dc6-47dc-8ad8-79c783b78c4b\" type=\"radio\"/>,\n",
       " <input id=\"b00c9999-6dc6-47dc-8ad8-79c783b78c4b-labeled-radio-1\" name=\"b00c9999-6dc6-47dc-8ad8-79c783b78c4b\" type=\"radio\"/>,\n",
       " <input id=\"b00c9999-6dc6-47dc-8ad8-79c783b78c4b-labeled-radio-2\" name=\"b00c9999-6dc6-47dc-8ad8-79c783b78c4b\" type=\"radio\"/>,\n",
       " <input id=\"b41de1e2-b423-4612-b520-44738779a3ff-labeled-radio-0\" name=\"b41de1e2-b423-4612-b520-44738779a3ff\" type=\"radio\"/>,\n",
       " <input id=\"b41de1e2-b423-4612-b520-44738779a3ff-labeled-radio-1\" name=\"b41de1e2-b423-4612-b520-44738779a3ff\" type=\"radio\"/>,\n",
       " <input id=\"b41de1e2-b423-4612-b520-44738779a3ff-labeled-radio-2\" name=\"b41de1e2-b423-4612-b520-44738779a3ff\" type=\"radio\"/>,\n",
       " <input id=\"b41de1e2-b423-4612-b520-44738779a3ff-labeled-radio-3\" name=\"b41de1e2-b423-4612-b520-44738779a3ff\" type=\"radio\"/>,\n",
       " <input id=\"6a8158d9-de2c-4c4a-95f2-ffbf47f0f1f2-labeled-radio-0\" name=\"6a8158d9-de2c-4c4a-95f2-ffbf47f0f1f2\" type=\"radio\"/>,\n",
       " <input id=\"6a8158d9-de2c-4c4a-95f2-ffbf47f0f1f2-labeled-radio-1\" name=\"6a8158d9-de2c-4c4a-95f2-ffbf47f0f1f2\" type=\"radio\"/>,\n",
       " <input id=\"6a8158d9-de2c-4c4a-95f2-ffbf47f0f1f2-labeled-radio-2\" name=\"6a8158d9-de2c-4c4a-95f2-ffbf47f0f1f2\" type=\"radio\"/>,\n",
       " <input id=\"553c6f4d-54ae-4915-93dc-bf5f821e1375-labeled-radio-0\" name=\"553c6f4d-54ae-4915-93dc-bf5f821e1375\" type=\"radio\"/>,\n",
       " <input id=\"553c6f4d-54ae-4915-93dc-bf5f821e1375-labeled-radio-1\" name=\"553c6f4d-54ae-4915-93dc-bf5f821e1375\" type=\"radio\"/>,\n",
       " <input id=\"553c6f4d-54ae-4915-93dc-bf5f821e1375-labeled-radio-2\" name=\"553c6f4d-54ae-4915-93dc-bf5f821e1375\" type=\"radio\"/>,\n",
       " <input id=\"553c6f4d-54ae-4915-93dc-bf5f821e1375-labeled-radio-3\" name=\"553c6f4d-54ae-4915-93dc-bf5f821e1375\" type=\"radio\"/>]"
      ]
     },
     "execution_count": 47,
     "metadata": {},
     "output_type": "execute_result"
    }
   ],
   "source": [
    "parent.find_all('input')"
   ]
  },
  {
   "cell_type": "code",
   "execution_count": 48,
   "metadata": {},
   "outputs": [
    {
     "data": {
      "text/plain": [
       "30"
      ]
     },
     "execution_count": 48,
     "metadata": {},
     "output_type": "execute_result"
    }
   ],
   "source": [
    "len(parent.find_all('input'))"
   ]
  },
  {
   "cell_type": "code",
   "execution_count": 63,
   "metadata": {},
   "outputs": [
    {
     "name": "stdout",
     "output_type": "stream",
     "text": [
      "<div class=\"_autofillPane_z1j6s_461 ashby-application-form-autofill-pane _container_elimo_29\" data-highlight=\"none\"><div class=\"_root_1vgha_1 ashby-application-form-autofill-input-root\" data-state=\"default\"><input accept=\".pdf,.doc,.docx,.odt,.rtf,application/pdf,application/msword,application/vnd.openxmlformats-officedocument.wordprocessingml.document,application/vnd.oasis.opendocument.text,application/rtf\" autocomplete=\"off\" style=\"display: none;\" tabindex=\"-1\" type=\"file\"/><div class=\"_base_1vgha_31 ashby-application-form-autofill-input-base-layer\"><div class=\"_content_1vgha_36\"><div class=\"_text_1vgha_44\"><div class=\"_iconContainer_1vgha_53\"><svg class=\"_icon_1vgha_53 ashby-application-form-autofill-input-icon\" fill=\"none\" height=\"1em\" viewbox=\"0 0 576 512\"><path d=\"M234.7 42.7L197 56.8c-3 1.1-5 4-5 7.2s2 6.1 5 7.2l37.7 14.1L248.8 123c1.1 3 4 5 7.2 5s6.1-2 7.2-5l14.1-37.7L315 71.2c3-1.1 5-4 5-7.2s-2-6.1-5-7.2L277.3 42.7 263.2 5c-1.1-3-4-5-7.2-5s-6.1 2-7.2 5L234.7 42.7zM461.4 48L496 82.6 386.2 192.3l-34.6-34.6L461.4 48zM80 429.4L317.7 191.7l34.6 34.6L114.6 464 80 429.4zM427.4 14.1L46.1 395.4c-18.7 18.7-18.7 49.1 0 67.9l34.6 34.6c18.7 18.7 49.1 18.7 67.9 0L529.9 116.5c18.7-18.7 18.7-49.1 0-67.9L495.3 14.1c-18.7-18.7-49.1-18.7-67.9 0zM7.5 117.2C3 118.9 0 123.2 0 128s3 9.1 7.5 10.8L64 160l21.2 56.5c1.7 4.5 6 7.5 10.8 7.5s9.1-3 10.8-7.5L128 160l56.5-21.2c4.5-1.7 7.5-6 7.5-10.8s-3-9.1-7.5-10.8L128 96 106.8 39.5C105.1 35 100.8 32 96 32s-9.1 3-10.8 7.5L64 96 7.5 117.2zm352 256c-4.5 1.7-7.5 6-7.5 10.8s3 9.1 7.5 10.8L416 416l21.2 56.5c1.7 4.5 6 7.5 10.8 7.5s9.1-3 10.8-7.5L480 416l56.5-21.2c4.5-1.7 7.5-6 7.5-10.8s-3-9.1-7.5-10.8L480 352l-21.2-56.5c-1.7-4.5-6-7.5-10.8-7.5s-9.1 3-10.8 7.5L416 352l-56.5 21.2z\"></path></svg></div><h3 class=\"_title_1vgha_68 ashby-application-form-autofill-input-title\">Autofill from resume</h3><p class=\"_description_1vgha_80 ashby-application-form-autofill-input-description\">Upload your resume here to autofill key application fields.</p></div><div class=\"_cta_1vgha_90\"><button class=\"_button_yxgm9_29 _secondary_yxgm9_114 _ctaButton_1vgha_94\">Upload file</button></div></div></div><div class=\"_drag_1vgha_106 ashby-application-form-autofill-input-drag-layer\" data-state=\"hidden\"><svg fill=\"none\" height=\"1em\" viewbox=\"0 0 512 512\"><path d=\"M280 360c0 13.3-10.7 24-24 24s-24-10.7-24-24V81.9l-95 95c-9.4 9.4-24.6 9.4-33.9 0s-9.4-24.6 0-33.9L239 7c9.4-9.4 24.6-9.4 33.9 0L409 143c9.4 9.4 9.4 24.6 0 33.9s-24.6 9.4-33.9 0l-95-95V360zm32-8V304H448c35.3 0 64 28.7 64 64v80c0 35.3-28.7 64-64 64H64c-35.3 0-64-28.7-64-64V368c0-35.3 28.7-64 64-64H200v48H64c-8.8 0-16 7.2-16 16v80c0 8.8 7.2 16 16 16H448c8.8 0 16-7.2 16-16V368c0-8.8-7.2-16-16-16H312zm72 56a24 24 0 1 1 48 0 24 24 0 1 1 -48 0z\"></path></svg><span>Drop your resume here!</span></div><div class=\"_pending_1vgha_107 ashby-application-form-autofill-input-pending-layer\" data-state=\"hidden\"><span aria-label=\"Loading...\" class=\"_spinner_8ul1h_9 _spinner-size-md_8ul1h_26 _spinner-speed-normal_8ul1h_42\" role=\"progressbar\"></span><span>Parsing your resume. Autofilling key fields...</span></div></div></div>\n",
      "<div class=\"_root_1vgha_1 ashby-application-form-autofill-input-root\" data-state=\"default\"><input accept=\".pdf,.doc,.docx,.odt,.rtf,application/pdf,application/msword,application/vnd.openxmlformats-officedocument.wordprocessingml.document,application/vnd.oasis.opendocument.text,application/rtf\" autocomplete=\"off\" style=\"display: none;\" tabindex=\"-1\" type=\"file\"/><div class=\"_base_1vgha_31 ashby-application-form-autofill-input-base-layer\"><div class=\"_content_1vgha_36\"><div class=\"_text_1vgha_44\"><div class=\"_iconContainer_1vgha_53\"><svg class=\"_icon_1vgha_53 ashby-application-form-autofill-input-icon\" fill=\"none\" height=\"1em\" viewbox=\"0 0 576 512\"><path d=\"M234.7 42.7L197 56.8c-3 1.1-5 4-5 7.2s2 6.1 5 7.2l37.7 14.1L248.8 123c1.1 3 4 5 7.2 5s6.1-2 7.2-5l14.1-37.7L315 71.2c3-1.1 5-4 5-7.2s-2-6.1-5-7.2L277.3 42.7 263.2 5c-1.1-3-4-5-7.2-5s-6.1 2-7.2 5L234.7 42.7zM461.4 48L496 82.6 386.2 192.3l-34.6-34.6L461.4 48zM80 429.4L317.7 191.7l34.6 34.6L114.6 464 80 429.4zM427.4 14.1L46.1 395.4c-18.7 18.7-18.7 49.1 0 67.9l34.6 34.6c18.7 18.7 49.1 18.7 67.9 0L529.9 116.5c18.7-18.7 18.7-49.1 0-67.9L495.3 14.1c-18.7-18.7-49.1-18.7-67.9 0zM7.5 117.2C3 118.9 0 123.2 0 128s3 9.1 7.5 10.8L64 160l21.2 56.5c1.7 4.5 6 7.5 10.8 7.5s9.1-3 10.8-7.5L128 160l56.5-21.2c4.5-1.7 7.5-6 7.5-10.8s-3-9.1-7.5-10.8L128 96 106.8 39.5C105.1 35 100.8 32 96 32s-9.1 3-10.8 7.5L64 96 7.5 117.2zm352 256c-4.5 1.7-7.5 6-7.5 10.8s3 9.1 7.5 10.8L416 416l21.2 56.5c1.7 4.5 6 7.5 10.8 7.5s9.1-3 10.8-7.5L480 416l56.5-21.2c4.5-1.7 7.5-6 7.5-10.8s-3-9.1-7.5-10.8L480 352l-21.2-56.5c-1.7-4.5-6-7.5-10.8-7.5s-9.1 3-10.8 7.5L416 352l-56.5 21.2z\"></path></svg></div><h3 class=\"_title_1vgha_68 ashby-application-form-autofill-input-title\">Autofill from resume</h3><p class=\"_description_1vgha_80 ashby-application-form-autofill-input-description\">Upload your resume here to autofill key application fields.</p></div><div class=\"_cta_1vgha_90\"><button class=\"_button_yxgm9_29 _secondary_yxgm9_114 _ctaButton_1vgha_94\">Upload file</button></div></div></div><div class=\"_drag_1vgha_106 ashby-application-form-autofill-input-drag-layer\" data-state=\"hidden\"><svg fill=\"none\" height=\"1em\" viewbox=\"0 0 512 512\"><path d=\"M280 360c0 13.3-10.7 24-24 24s-24-10.7-24-24V81.9l-95 95c-9.4 9.4-24.6 9.4-33.9 0s-9.4-24.6 0-33.9L239 7c9.4-9.4 24.6-9.4 33.9 0L409 143c9.4 9.4 9.4 24.6 0 33.9s-24.6 9.4-33.9 0l-95-95V360zm32-8V304H448c35.3 0 64 28.7 64 64v80c0 35.3-28.7 64-64 64H64c-35.3 0-64-28.7-64-64V368c0-35.3 28.7-64 64-64H200v48H64c-8.8 0-16 7.2-16 16v80c0 8.8 7.2 16 16 16H448c8.8 0 16-7.2 16-16V368c0-8.8-7.2-16-16-16H312zm72 56a24 24 0 1 1 48 0 24 24 0 1 1 -48 0z\"></path></svg><span>Drop your resume here!</span></div><div class=\"_pending_1vgha_107 ashby-application-form-autofill-input-pending-layer\" data-state=\"hidden\"><span aria-label=\"Loading...\" class=\"_spinner_8ul1h_9 _spinner-size-md_8ul1h_26 _spinner-speed-normal_8ul1h_42\" role=\"progressbar\"></span><span>Parsing your resume. Autofilling key fields...</span></div></div>\n",
      "<input accept=\".pdf,.doc,.docx,.odt,.rtf,application/pdf,application/msword,application/vnd.openxmlformats-officedocument.wordprocessingml.document,application/vnd.oasis.opendocument.text,application/rtf\" autocomplete=\"off\" style=\"display: none;\" tabindex=\"-1\" type=\"file\"/>\n",
      "<div class=\"_base_1vgha_31 ashby-application-form-autofill-input-base-layer\"><div class=\"_content_1vgha_36\"><div class=\"_text_1vgha_44\"><div class=\"_iconContainer_1vgha_53\"><svg class=\"_icon_1vgha_53 ashby-application-form-autofill-input-icon\" fill=\"none\" height=\"1em\" viewbox=\"0 0 576 512\"><path d=\"M234.7 42.7L197 56.8c-3 1.1-5 4-5 7.2s2 6.1 5 7.2l37.7 14.1L248.8 123c1.1 3 4 5 7.2 5s6.1-2 7.2-5l14.1-37.7L315 71.2c3-1.1 5-4 5-7.2s-2-6.1-5-7.2L277.3 42.7 263.2 5c-1.1-3-4-5-7.2-5s-6.1 2-7.2 5L234.7 42.7zM461.4 48L496 82.6 386.2 192.3l-34.6-34.6L461.4 48zM80 429.4L317.7 191.7l34.6 34.6L114.6 464 80 429.4zM427.4 14.1L46.1 395.4c-18.7 18.7-18.7 49.1 0 67.9l34.6 34.6c18.7 18.7 49.1 18.7 67.9 0L529.9 116.5c18.7-18.7 18.7-49.1 0-67.9L495.3 14.1c-18.7-18.7-49.1-18.7-67.9 0zM7.5 117.2C3 118.9 0 123.2 0 128s3 9.1 7.5 10.8L64 160l21.2 56.5c1.7 4.5 6 7.5 10.8 7.5s9.1-3 10.8-7.5L128 160l56.5-21.2c4.5-1.7 7.5-6 7.5-10.8s-3-9.1-7.5-10.8L128 96 106.8 39.5C105.1 35 100.8 32 96 32s-9.1 3-10.8 7.5L64 96 7.5 117.2zm352 256c-4.5 1.7-7.5 6-7.5 10.8s3 9.1 7.5 10.8L416 416l21.2 56.5c1.7 4.5 6 7.5 10.8 7.5s9.1-3 10.8-7.5L480 416l56.5-21.2c4.5-1.7 7.5-6 7.5-10.8s-3-9.1-7.5-10.8L480 352l-21.2-56.5c-1.7-4.5-6-7.5-10.8-7.5s-9.1 3-10.8 7.5L416 352l-56.5 21.2z\"></path></svg></div><h3 class=\"_title_1vgha_68 ashby-application-form-autofill-input-title\">Autofill from resume</h3><p class=\"_description_1vgha_80 ashby-application-form-autofill-input-description\">Upload your resume here to autofill key application fields.</p></div><div class=\"_cta_1vgha_90\"><button class=\"_button_yxgm9_29 _secondary_yxgm9_114 _ctaButton_1vgha_94\">Upload file</button></div></div></div>\n",
      "<div class=\"_drag_1vgha_106 ashby-application-form-autofill-input-drag-layer\" data-state=\"hidden\"><svg fill=\"none\" height=\"1em\" viewbox=\"0 0 512 512\"><path d=\"M280 360c0 13.3-10.7 24-24 24s-24-10.7-24-24V81.9l-95 95c-9.4 9.4-24.6 9.4-33.9 0s-9.4-24.6 0-33.9L239 7c9.4-9.4 24.6-9.4 33.9 0L409 143c9.4 9.4 9.4 24.6 0 33.9s-24.6 9.4-33.9 0l-95-95V360zm32-8V304H448c35.3 0 64 28.7 64 64v80c0 35.3-28.7 64-64 64H64c-35.3 0-64-28.7-64-64V368c0-35.3 28.7-64 64-64H200v48H64c-8.8 0-16 7.2-16 16v80c0 8.8 7.2 16 16 16H448c8.8 0 16-7.2 16-16V368c0-8.8-7.2-16-16-16H312zm72 56a24 24 0 1 1 48 0 24 24 0 1 1 -48 0z\"></path></svg><span>Drop your resume here!</span></div>\n",
      "<div class=\"_pending_1vgha_107 ashby-application-form-autofill-input-pending-layer\" data-state=\"hidden\"><span aria-label=\"Loading...\" class=\"_spinner_8ul1h_9 _spinner-size-md_8ul1h_26 _spinner-speed-normal_8ul1h_42\" role=\"progressbar\"></span><span>Parsing your resume. Autofilling key fields...</span></div>\n",
      "<div class=\"_jobPostingForm_z1j6s_407 ashby-application-form-container _container_elimo_29\" data-highlight=\"none\"><div class=\"_section_z1j6s_90 ashby-application-form-section-container\"><div class=\"_fieldEntry_1dgff_29 ashby-application-form-field-entry\"><label class=\"_heading_elimo_53 _required_elimo_92 _label_1dgff_43 ashby-application-form-question-title\" for=\"_systemfield_name\">Name</label><input class=\"_input_1xsmr_28 _input_1dgff_33\" id=\"_systemfield_name\" name=\"_systemfield_name\" placeholder=\"Type here...\" required=\"\" type=\"text\" value=\"\"/></div><div class=\"_fieldEntry_1dgff_29 ashby-application-form-field-entry\"><label class=\"_heading_elimo_53 _required_elimo_92 _label_1dgff_43 ashby-application-form-question-title\" for=\"_systemfield_email\">Email</label><input class=\"_input_1xsmr_28 _input_1dgff_33\" id=\"_systemfield_email\" name=\"_systemfield_email\" placeholder=\"hello@example.com...\" required=\"\" type=\"email\" value=\"\"/></div><div class=\"_fieldEntry_1dgff_29 ashby-application-form-field-entry\"><label class=\"_heading_elimo_53 _required_elimo_92 _label_1dgff_43 ashby-application-form-question-title\" for=\"_systemfield_resume\">Resume</label><div class=\"_container_izfez_71\"><input accept=\".pdf,.doc,.docx,.odt,.rtf,image/*,video/*,audio/*,application/pdf,application/msword,application/vnd.openxmlformats-officedocument.wordprocessingml.document,application/vnd.oasis.opendocument.text,application/rtf\" autocomplete=\"off\" id=\"_systemfield_resume\" required=\"\" style=\"display: none;\" tabindex=\"-1\" type=\"file\"/><div class=\"_instructions_izfez_34\"><button class=\"_button_yxgm9_29 _secondary_yxgm9_114 _button_izfez_111\"><svg fill=\"none\" height=\"1em\" viewbox=\"0 0 448 512\"><path d=\"M375 73c-26-26-68.1-26-94.1 0L89 265C45.3 308.6 45.3 379.4 89 423s114.4 43.6 158.1 0L399 271c9.4-9.4 24.6-9.4 33.9 0s9.4 24.6 0 33.9L281 457c-62.4 62.4-163.5 62.4-225.9 0S-7.4 293.4 55 231L247 39C291.7-5.7 364.2-5.7 409 39s44.7 117.2 0 161.9L225.2 384.7c-31.6 31.6-83.6 28.7-111.5-6.2c-23.8-29.8-21.5-72.8 5.5-99.8L271 127c9.4-9.4 24.6-9.4 33.9 0s9.4 24.6 0 33.9L153.2 312.7c-9.7 9.7-10.6 25.1-2 35.8c10 12.5 28.7 13.6 40 2.2L375 167c26-26 26-68.1 0-94.1z\"></path></svg><span><span>Upload File</span></span></button><p class=\"_dragInstructions_izfez_29\">or drag and drop here</p></div></div></div><div class=\"_fieldEntry_1dgff_29 ashby-application-form-field-entry\"><label class=\"_heading_elimo_53 _required_elimo_92 _label_1dgff_43 ashby-application-form-question-title\" for=\"1bc0127d-4b81-4264-90da-6bfb4d39ef21\">Why do you want to join Eight Sleep?</label><textarea class=\"_input_gsl38_29 _input_1dgff_33\" id=\"1bc0127d-4b81-4264-90da-6bfb4d39ef21\" name=\"1bc0127d-4b81-4264-90da-6bfb4d39ef21\" placeholder=\"Type here...\" required=\"\" rows=\"4\"></textarea></div><div class=\"_fieldEntry_1dgff_29 ashby-application-form-field-entry\"><label class=\"_heading_elimo_53 _required_elimo_92 _label_1dgff_43 ashby-application-form-question-title\" for=\"3306ccd6-4a4f-4f03-b11c-86e7bae38ad1\">Are you legally authorized to work in the United States?</label><div class=\"_container_y2cw4_29 _yesno_1dgff_136\"><button class=\"_container_pjyt6_1 _option_y2cw4_33\">Yes</button><button class=\"_container_pjyt6_1 _option_y2cw4_33\">No</button><input class=\"_input_y2cw4_79\" name=\"3306ccd6-4a4f-4f03-b11c-86e7bae38ad1\" tabindex=\"-1\" type=\"checkbox\"/></div></div><fieldset class=\"_container_1v5e2_29 _fieldEntry_1dgff_29\"><label class=\"_heading_elimo_53 _required_elimo_92 _label_1dgff_43 ashby-application-form-question-title\" for=\"cefd7ab1-7698-4151-9870-e9876684992e\">What degree are you currently pursuing?</label><div class=\"_option_1v5e2_35 false\"><span class=\"_container_ruukg_29\" data-disabled=\"false\"><span class=\"_circle_ruukg_74\"></span><input id=\"41e00180-cb86-41f4-851e-77c737c2def9-labeled-radio-0\" name=\"41e00180-cb86-41f4-851e-77c737c2def9\" type=\"radio\"/></span><label class=\"_label_1v5e2_43\" for=\"41e00180-cb86-41f4-851e-77c737c2def9-labeled-radio-0\">Undergraduate degree</label></div><div class=\"_option_1v5e2_35 false\"><span class=\"_container_ruukg_29\" data-disabled=\"false\"><span class=\"_circle_ruukg_74\"></span><input id=\"41e00180-cb86-41f4-851e-77c737c2def9-labeled-radio-1\" name=\"41e00180-cb86-41f4-851e-77c737c2def9\" type=\"radio\"/></span><label class=\"_label_1v5e2_43\" for=\"41e00180-cb86-41f4-851e-77c737c2def9-labeled-radio-1\">Masters degree</label></div><div class=\"_option_1v5e2_35 false\"><span class=\"_container_ruukg_29\" data-disabled=\"false\"><span class=\"_circle_ruukg_74\"></span><input id=\"41e00180-cb86-41f4-851e-77c737c2def9-labeled-radio-2\" name=\"41e00180-cb86-41f4-851e-77c737c2def9\" type=\"radio\"/></span><label class=\"_label_1v5e2_43\" for=\"41e00180-cb86-41f4-851e-77c737c2def9-labeled-radio-2\">Other</label></div></fieldset><div class=\"_fieldEntry_1dgff_29 ashby-application-form-field-entry\"><label class=\"_heading_elimo_53 _required_elimo_92 _label_1dgff_43 ashby-application-form-question-title\" for=\"ffaf6121-a82b-4cce-9892-2987bb67234c\">Are you currently located in Boston area or willing to relocate on your own?</label><div class=\"_container_y2cw4_29 _yesno_1dgff_136\"><button class=\"_container_pjyt6_1 _option_y2cw4_33\">Yes</button><button class=\"_container_pjyt6_1 _option_y2cw4_33\">No</button><input class=\"_input_y2cw4_79\" name=\"ffaf6121-a82b-4cce-9892-2987bb67234c\" tabindex=\"-1\" type=\"checkbox\"/></div></div><div class=\"_fieldEntry_1dgff_29 ashby-application-form-field-entry\"><label class=\"_heading_elimo_53 _required_elimo_92 _label_1dgff_43 ashby-application-form-question-title\" for=\"09dd7b21-dbef-4fd5-a835-379a3906a797\">Are you willing to work onsite at our Boston office (located in Newton Centre) at least 3 days a week?</label><div class=\"_container_y2cw4_29 _yesno_1dgff_136\"><button class=\"_container_pjyt6_1 _option_y2cw4_33\">Yes</button><button class=\"_container_pjyt6_1 _option_y2cw4_33\">No</button><input class=\"_input_y2cw4_79\" name=\"09dd7b21-dbef-4fd5-a835-379a3906a797\" tabindex=\"-1\" type=\"checkbox\"/></div></div><div class=\"_fieldEntry_1dgff_29 ashby-application-form-field-entry\"><label class=\"_heading_elimo_53 _required_elimo_92 _label_1dgff_43 ashby-application-form-question-title\" for=\"b71ed548-114c-4db8-9c3b-6c1423ae71a0\">Are you able to work a normal 9-5 schedule for 40 hours per week, with occasional weekend work (monitoring study data for a couple hours on the weekend)?</label><div class=\"_container_y2cw4_29 _yesno_1dgff_136\"><button class=\"_container_pjyt6_1 _option_y2cw4_33\">Yes</button><button class=\"_container_pjyt6_1 _option_y2cw4_33\">No</button><input class=\"_input_y2cw4_79\" name=\"b71ed548-114c-4db8-9c3b-6c1423ae71a0\" tabindex=\"-1\" type=\"checkbox\"/></div></div><div class=\"_fieldEntry_1dgff_29 ashby-application-form-field-entry\"><label class=\"_heading_elimo_53 _required_elimo_92 _label_1dgff_43 ashby-application-form-question-title\" for=\"b10af23c-d987-45de-a5f3-c2a453b5896a\">Are you available from January 2nd - June 30th 2024 for 40 hours per week?</label><div class=\"_container_y2cw4_29 _yesno_1dgff_136\"><button class=\"_container_pjyt6_1 _option_y2cw4_33\">Yes</button><button class=\"_container_pjyt6_1 _option_y2cw4_33\">No</button><input class=\"_input_y2cw4_79\" name=\"b10af23c-d987-45de-a5f3-c2a453b5896a\" tabindex=\"-1\" type=\"checkbox\"/></div></div><div class=\"_fieldEntry_1dgff_29 ashby-application-form-field-entry\"><label class=\"_heading_elimo_53 _required_elimo_92 _label_1dgff_43 ashby-application-form-question-title\" for=\"24621a81-a702-46c8-a090-6468b9b7a898\">Are you aware this position is a Data Engineering co-op, not Machine Learning? The main tasks will include: 1. Manipulating, cleaning, and transforming raw data into a usable format for analysis 2. Enhancing our existing data quality scripts to ensure that data are accurate, complete, and consistent throughout the data collection period of a study 3. Developing and maintaining tools and processes to improve efficiency and consistency across projects</label><div class=\"_container_y2cw4_29 _yesno_1dgff_136\"><button class=\"_container_pjyt6_1 _option_y2cw4_33\">Yes</button><button class=\"_container_pjyt6_1 _option_y2cw4_33\">No</button><input class=\"_input_y2cw4_79\" name=\"24621a81-a702-46c8-a090-6468b9b7a898\" tabindex=\"-1\" type=\"checkbox\"/></div></div><fieldset class=\"_container_1v5e2_29 _fieldEntry_1dgff_29\"><label class=\"_heading_elimo_53 _required_elimo_92 _label_1dgff_43 ashby-application-form-question-title\" for=\"4dd9e9a0-79c2-4fe6-bd83-e482b064f2db\">How many years of python coding experience do you have?</label><div class=\"_option_1v5e2_35 false\"><span class=\"_container_ruukg_29\" data-disabled=\"false\"><span class=\"_circle_ruukg_74\"></span><input id=\"474b3d30-879f-49c5-baa1-5cd82afb57e3-labeled-radio-0\" name=\"474b3d30-879f-49c5-baa1-5cd82afb57e3\" type=\"radio\"/></span><label class=\"_label_1v5e2_43\" for=\"474b3d30-879f-49c5-baa1-5cd82afb57e3-labeled-radio-0\">Less than 1 year</label></div><div class=\"_option_1v5e2_35 false\"><span class=\"_container_ruukg_29\" data-disabled=\"false\"><span class=\"_circle_ruukg_74\"></span><input id=\"474b3d30-879f-49c5-baa1-5cd82afb57e3-labeled-radio-1\" name=\"474b3d30-879f-49c5-baa1-5cd82afb57e3\" type=\"radio\"/></span><label class=\"_label_1v5e2_43\" for=\"474b3d30-879f-49c5-baa1-5cd82afb57e3-labeled-radio-1\">1-2 years</label></div><div class=\"_option_1v5e2_35 false\"><span class=\"_container_ruukg_29\" data-disabled=\"false\"><span class=\"_circle_ruukg_74\"></span><input id=\"474b3d30-879f-49c5-baa1-5cd82afb57e3-labeled-radio-2\" name=\"474b3d30-879f-49c5-baa1-5cd82afb57e3\" type=\"radio\"/></span><label class=\"_label_1v5e2_43\" for=\"474b3d30-879f-49c5-baa1-5cd82afb57e3-labeled-radio-2\">2+ years</label></div></fieldset><div class=\"_fieldEntry_1dgff_29 ashby-application-form-field-entry\"><label class=\"_heading_elimo_53 _required_elimo_92 _label_1dgff_43 ashby-application-form-question-title\" for=\"3e7aa525-01be-4b61-99f1-c3dd7ecea150\">How many years of work experience do you have as a data engineer, data scientist, or software engineer? Feel free to include time spent working as an intern, co-op, etc.</label><textarea class=\"_input_gsl38_29 _input_1dgff_33\" id=\"3e7aa525-01be-4b61-99f1-c3dd7ecea150\" name=\"3e7aa525-01be-4b61-99f1-c3dd7ecea150\" placeholder=\"Type here...\" required=\"\" rows=\"4\"></textarea></div><fieldset class=\"_container_1v5e2_29 _fieldEntry_1dgff_29\"><label class=\"_heading_elimo_53 _required_elimo_92 _label_1dgff_43 ashby-application-form-question-title\" for=\"00ea5595-b66a-44d6-bd0d-e8e432bde76c\">How many years of experience do you have using Github in your workflow?</label><div class=\"_option_1v5e2_35 false\"><span class=\"_container_ruukg_29\" data-disabled=\"false\"><span class=\"_circle_ruukg_74\"></span><input id=\"b00c9999-6dc6-47dc-8ad8-79c783b78c4b-labeled-radio-0\" name=\"b00c9999-6dc6-47dc-8ad8-79c783b78c4b\" type=\"radio\"/></span><label class=\"_label_1v5e2_43\" for=\"b00c9999-6dc6-47dc-8ad8-79c783b78c4b-labeled-radio-0\">Less than 1 year</label></div><div class=\"_option_1v5e2_35 false\"><span class=\"_container_ruukg_29\" data-disabled=\"false\"><span class=\"_circle_ruukg_74\"></span><input id=\"b00c9999-6dc6-47dc-8ad8-79c783b78c4b-labeled-radio-1\" name=\"b00c9999-6dc6-47dc-8ad8-79c783b78c4b\" type=\"radio\"/></span><label class=\"_label_1v5e2_43\" for=\"b00c9999-6dc6-47dc-8ad8-79c783b78c4b-labeled-radio-1\">1-2 years</label></div><div class=\"_option_1v5e2_35 false\"><span class=\"_container_ruukg_29\" data-disabled=\"false\"><span class=\"_circle_ruukg_74\"></span><input id=\"b00c9999-6dc6-47dc-8ad8-79c783b78c4b-labeled-radio-2\" name=\"b00c9999-6dc6-47dc-8ad8-79c783b78c4b\" type=\"radio\"/></span><label class=\"_label_1v5e2_43\" for=\"b00c9999-6dc6-47dc-8ad8-79c783b78c4b-labeled-radio-2\">2+ years</label></div></fieldset><fieldset class=\"_container_1v5e2_29 _fieldEntry_1dgff_29\"><label class=\"_heading_elimo_53 _required_elimo_92 _label_1dgff_43 ashby-application-form-question-title\" for=\"b4c6a61c-4485-49c3-b81d-e49e5ad10c77\">What is your experience level with parsing &amp; time aligning data using pandas, numpy, pendulum, etc? (Note that you will be sent a coding challenge that will further test these skills)</label><div class=\"_option_1v5e2_35 false\"><span class=\"_container_ruukg_29\" data-disabled=\"false\"><span class=\"_circle_ruukg_74\"></span><input id=\"b41de1e2-b423-4612-b520-44738779a3ff-labeled-radio-0\" name=\"b41de1e2-b423-4612-b520-44738779a3ff\" type=\"radio\"/></span><label class=\"_label_1v5e2_43\" for=\"b41de1e2-b423-4612-b520-44738779a3ff-labeled-radio-0\">Beginner: I've worked with small datasets from a single source (&lt;100 rows, no time alignment required)</label></div><div class=\"_option_1v5e2_35 false\"><span class=\"_container_ruukg_29\" data-disabled=\"false\"><span class=\"_circle_ruukg_74\"></span><input id=\"b41de1e2-b423-4612-b520-44738779a3ff-labeled-radio-1\" name=\"b41de1e2-b423-4612-b520-44738779a3ff\" type=\"radio\"/></span><label class=\"_label_1v5e2_43\" for=\"b41de1e2-b423-4612-b520-44738779a3ff-labeled-radio-1\">Intermediate: I've worked with aligning moderately-sized datasets with data from multiple sources</label></div><div class=\"_option_1v5e2_35 false\"><span class=\"_container_ruukg_29\" data-disabled=\"false\"><span class=\"_circle_ruukg_74\"></span><input id=\"b41de1e2-b423-4612-b520-44738779a3ff-labeled-radio-2\" name=\"b41de1e2-b423-4612-b520-44738779a3ff\" type=\"radio\"/></span><label class=\"_label_1v5e2_43\" for=\"b41de1e2-b423-4612-b520-44738779a3ff-labeled-radio-2\">Advanced: I do this on a daily basis &amp; have worked with very large datasets with multiple types of file sources (i.e. json, csv, api, etc</label></div><div class=\"_option_1v5e2_35 false\"><span class=\"_container_ruukg_29\" data-disabled=\"false\"><span class=\"_circle_ruukg_74\"></span><input id=\"b41de1e2-b423-4612-b520-44738779a3ff-labeled-radio-3\" name=\"b41de1e2-b423-4612-b520-44738779a3ff\" type=\"radio\"/></span><label class=\"_label_1v5e2_43\" for=\"b41de1e2-b423-4612-b520-44738779a3ff-labeled-radio-3\">Not applicable: I do not have any experience parsing &amp; time aligning data</label></div></fieldset><fieldset class=\"_container_1v5e2_29 _fieldEntry_1dgff_29\"><label class=\"_heading_elimo_53 _required_elimo_92 _label_1dgff_43 ashby-application-form-question-title\" for=\"57183933-fa50-4aa5-bb20-6755567c26e6\">How would you rate your experience with object-oriented design in Python and your familiarity with best code practices, such as testing, documentation, and code reusability? Please use the following definitions to guide your answer:</label><div class=\"_option_1v5e2_35 false\"><span class=\"_container_ruukg_29\" data-disabled=\"false\"><span class=\"_circle_ruukg_74\"></span><input id=\"6a8158d9-de2c-4c4a-95f2-ffbf47f0f1f2-labeled-radio-0\" name=\"6a8158d9-de2c-4c4a-95f2-ffbf47f0f1f2\" type=\"radio\"/></span><label class=\"_label_1v5e2_43\" for=\"6a8158d9-de2c-4c4a-95f2-ffbf47f0f1f2-labeled-radio-0\">Beginner: I have a basic understanding of object-oriented design in Python and I am familiar with basic best code practices, such as writing comments and using meaningful variable names.</label></div><div class=\"_option_1v5e2_35 false\"><span class=\"_container_ruukg_29\" data-disabled=\"false\"><span class=\"_circle_ruukg_74\"></span><input id=\"6a8158d9-de2c-4c4a-95f2-ffbf47f0f1f2-labeled-radio-1\" name=\"6a8158d9-de2c-4c4a-95f2-ffbf47f0f1f2\" type=\"radio\"/></span><label class=\"_label_1v5e2_43\" for=\"6a8158d9-de2c-4c4a-95f2-ffbf47f0f1f2-labeled-radio-1\">Intermediate: I have a good understanding of object-oriented design in Python and I regularly use best code practices, such as writing automated tests, documenting my code, and creating reusable code modules.</label></div><div class=\"_option_1v5e2_35 false\"><span class=\"_container_ruukg_29\" data-disabled=\"false\"><span class=\"_circle_ruukg_74\"></span><input id=\"6a8158d9-de2c-4c4a-95f2-ffbf47f0f1f2-labeled-radio-2\" name=\"6a8158d9-de2c-4c4a-95f2-ffbf47f0f1f2\" type=\"radio\"/></span><label class=\"_label_1v5e2_43\" for=\"6a8158d9-de2c-4c4a-95f2-ffbf47f0f1f2-labeled-radio-2\">Advanced: I have extensive knowledge of object-oriented design in Python and I consistently implement best code practices, such as unit testing, API documentation, and modular design, in my projects.</label></div></fieldset><fieldset class=\"_container_1v5e2_29 _fieldEntry_1dgff_29\"><label class=\"_heading_elimo_53 _required_elimo_92 _label_1dgff_43 ashby-application-form-question-title\" for=\"34b4abe4-0486-4ae2-b970-e67c6251e54c\">Please rate your experience level working with SQL. (Note that you will also be further tested on your SQL skills)</label><div class=\"_option_1v5e2_35 false\"><span class=\"_container_ruukg_29\" data-disabled=\"false\"><span class=\"_circle_ruukg_74\"></span><input id=\"553c6f4d-54ae-4915-93dc-bf5f821e1375-labeled-radio-0\" name=\"553c6f4d-54ae-4915-93dc-bf5f821e1375\" type=\"radio\"/></span><label class=\"_label_1v5e2_43\" for=\"553c6f4d-54ae-4915-93dc-bf5f821e1375-labeled-radio-0\">Beginner: Have basic knowledge of SQL and can write simple queries.</label></div><div class=\"_option_1v5e2_35 false\"><span class=\"_container_ruukg_29\" data-disabled=\"false\"><span class=\"_circle_ruukg_74\"></span><input id=\"553c6f4d-54ae-4915-93dc-bf5f821e1375-labeled-radio-1\" name=\"553c6f4d-54ae-4915-93dc-bf5f821e1375\" type=\"radio\"/></span><label class=\"_label_1v5e2_43\" for=\"553c6f4d-54ae-4915-93dc-bf5f821e1375-labeled-radio-1\">Intermediate: Have a good understanding of SQL concepts and can write complex queries.</label></div><div class=\"_option_1v5e2_35 false\"><span class=\"_container_ruukg_29\" data-disabled=\"false\"><span class=\"_circle_ruukg_74\"></span><input id=\"553c6f4d-54ae-4915-93dc-bf5f821e1375-labeled-radio-2\" name=\"553c6f4d-54ae-4915-93dc-bf5f821e1375\" type=\"radio\"/></span><label class=\"_label_1v5e2_43\" for=\"553c6f4d-54ae-4915-93dc-bf5f821e1375-labeled-radio-2\">Advanced: Have extensive knowledge of SQL and can design and optimize complex databases.</label></div><div class=\"_option_1v5e2_35 false\"><span class=\"_container_ruukg_29\" data-disabled=\"false\"><span class=\"_circle_ruukg_74\"></span><input id=\"553c6f4d-54ae-4915-93dc-bf5f821e1375-labeled-radio-3\" name=\"553c6f4d-54ae-4915-93dc-bf5f821e1375\" type=\"radio\"/></span><label class=\"_label_1v5e2_43\" for=\"553c6f4d-54ae-4915-93dc-bf5f821e1375-labeled-radio-3\">Not applicable: I have not used SQL previously.</label></div></fieldset><div class=\"_fieldEntry_1dgff_29 ashby-application-form-field-entry\"><label class=\"_heading_elimo_53 _required_elimo_92 _label_1dgff_43 ashby-application-form-question-title\" for=\"461a1c51-b0ce-4d16-a812-d5ce079f6f0b\">Please describe your experience with data visualization tools.</label><textarea class=\"_input_gsl38_29 _input_1dgff_33\" id=\"461a1c51-b0ce-4d16-a812-d5ce079f6f0b\" name=\"461a1c51-b0ce-4d16-a812-d5ce079f6f0b\" placeholder=\"Type here...\" required=\"\" rows=\"4\"></textarea></div><div class=\"_fieldEntry_1dgff_29 ashby-application-form-field-entry\"><label class=\"_heading_elimo_53 _required_elimo_92 _label_1dgff_43 ashby-application-form-question-title\" for=\"1427fa04-c319-4ca9-96af-3313a32d9c98\">Can you tell me about a project you worked on using Python and how you approached the design and implementation? Please feel free to discuss any best code practices you followed during the project, such as testing, documentation, and code reusability.</label><textarea class=\"_input_gsl38_29 _input_1dgff_33\" id=\"1427fa04-c319-4ca9-96af-3313a32d9c98\" name=\"1427fa04-c319-4ca9-96af-3313a32d9c98\" placeholder=\"Type here...\" required=\"\" rows=\"4\"></textarea></div></div></div>\n",
      "<div class=\"_section_z1j6s_90 ashby-application-form-section-container\"><div class=\"_fieldEntry_1dgff_29 ashby-application-form-field-entry\"><label class=\"_heading_elimo_53 _required_elimo_92 _label_1dgff_43 ashby-application-form-question-title\" for=\"_systemfield_name\">Name</label><input class=\"_input_1xsmr_28 _input_1dgff_33\" id=\"_systemfield_name\" name=\"_systemfield_name\" placeholder=\"Type here...\" required=\"\" type=\"text\" value=\"\"/></div><div class=\"_fieldEntry_1dgff_29 ashby-application-form-field-entry\"><label class=\"_heading_elimo_53 _required_elimo_92 _label_1dgff_43 ashby-application-form-question-title\" for=\"_systemfield_email\">Email</label><input class=\"_input_1xsmr_28 _input_1dgff_33\" id=\"_systemfield_email\" name=\"_systemfield_email\" placeholder=\"hello@example.com...\" required=\"\" type=\"email\" value=\"\"/></div><div class=\"_fieldEntry_1dgff_29 ashby-application-form-field-entry\"><label class=\"_heading_elimo_53 _required_elimo_92 _label_1dgff_43 ashby-application-form-question-title\" for=\"_systemfield_resume\">Resume</label><div class=\"_container_izfez_71\"><input accept=\".pdf,.doc,.docx,.odt,.rtf,image/*,video/*,audio/*,application/pdf,application/msword,application/vnd.openxmlformats-officedocument.wordprocessingml.document,application/vnd.oasis.opendocument.text,application/rtf\" autocomplete=\"off\" id=\"_systemfield_resume\" required=\"\" style=\"display: none;\" tabindex=\"-1\" type=\"file\"/><div class=\"_instructions_izfez_34\"><button class=\"_button_yxgm9_29 _secondary_yxgm9_114 _button_izfez_111\"><svg fill=\"none\" height=\"1em\" viewbox=\"0 0 448 512\"><path d=\"M375 73c-26-26-68.1-26-94.1 0L89 265C45.3 308.6 45.3 379.4 89 423s114.4 43.6 158.1 0L399 271c9.4-9.4 24.6-9.4 33.9 0s9.4 24.6 0 33.9L281 457c-62.4 62.4-163.5 62.4-225.9 0S-7.4 293.4 55 231L247 39C291.7-5.7 364.2-5.7 409 39s44.7 117.2 0 161.9L225.2 384.7c-31.6 31.6-83.6 28.7-111.5-6.2c-23.8-29.8-21.5-72.8 5.5-99.8L271 127c9.4-9.4 24.6-9.4 33.9 0s9.4 24.6 0 33.9L153.2 312.7c-9.7 9.7-10.6 25.1-2 35.8c10 12.5 28.7 13.6 40 2.2L375 167c26-26 26-68.1 0-94.1z\"></path></svg><span><span>Upload File</span></span></button><p class=\"_dragInstructions_izfez_29\">or drag and drop here</p></div></div></div><div class=\"_fieldEntry_1dgff_29 ashby-application-form-field-entry\"><label class=\"_heading_elimo_53 _required_elimo_92 _label_1dgff_43 ashby-application-form-question-title\" for=\"1bc0127d-4b81-4264-90da-6bfb4d39ef21\">Why do you want to join Eight Sleep?</label><textarea class=\"_input_gsl38_29 _input_1dgff_33\" id=\"1bc0127d-4b81-4264-90da-6bfb4d39ef21\" name=\"1bc0127d-4b81-4264-90da-6bfb4d39ef21\" placeholder=\"Type here...\" required=\"\" rows=\"4\"></textarea></div><div class=\"_fieldEntry_1dgff_29 ashby-application-form-field-entry\"><label class=\"_heading_elimo_53 _required_elimo_92 _label_1dgff_43 ashby-application-form-question-title\" for=\"3306ccd6-4a4f-4f03-b11c-86e7bae38ad1\">Are you legally authorized to work in the United States?</label><div class=\"_container_y2cw4_29 _yesno_1dgff_136\"><button class=\"_container_pjyt6_1 _option_y2cw4_33\">Yes</button><button class=\"_container_pjyt6_1 _option_y2cw4_33\">No</button><input class=\"_input_y2cw4_79\" name=\"3306ccd6-4a4f-4f03-b11c-86e7bae38ad1\" tabindex=\"-1\" type=\"checkbox\"/></div></div><fieldset class=\"_container_1v5e2_29 _fieldEntry_1dgff_29\"><label class=\"_heading_elimo_53 _required_elimo_92 _label_1dgff_43 ashby-application-form-question-title\" for=\"cefd7ab1-7698-4151-9870-e9876684992e\">What degree are you currently pursuing?</label><div class=\"_option_1v5e2_35 false\"><span class=\"_container_ruukg_29\" data-disabled=\"false\"><span class=\"_circle_ruukg_74\"></span><input id=\"41e00180-cb86-41f4-851e-77c737c2def9-labeled-radio-0\" name=\"41e00180-cb86-41f4-851e-77c737c2def9\" type=\"radio\"/></span><label class=\"_label_1v5e2_43\" for=\"41e00180-cb86-41f4-851e-77c737c2def9-labeled-radio-0\">Undergraduate degree</label></div><div class=\"_option_1v5e2_35 false\"><span class=\"_container_ruukg_29\" data-disabled=\"false\"><span class=\"_circle_ruukg_74\"></span><input id=\"41e00180-cb86-41f4-851e-77c737c2def9-labeled-radio-1\" name=\"41e00180-cb86-41f4-851e-77c737c2def9\" type=\"radio\"/></span><label class=\"_label_1v5e2_43\" for=\"41e00180-cb86-41f4-851e-77c737c2def9-labeled-radio-1\">Masters degree</label></div><div class=\"_option_1v5e2_35 false\"><span class=\"_container_ruukg_29\" data-disabled=\"false\"><span class=\"_circle_ruukg_74\"></span><input id=\"41e00180-cb86-41f4-851e-77c737c2def9-labeled-radio-2\" name=\"41e00180-cb86-41f4-851e-77c737c2def9\" type=\"radio\"/></span><label class=\"_label_1v5e2_43\" for=\"41e00180-cb86-41f4-851e-77c737c2def9-labeled-radio-2\">Other</label></div></fieldset><div class=\"_fieldEntry_1dgff_29 ashby-application-form-field-entry\"><label class=\"_heading_elimo_53 _required_elimo_92 _label_1dgff_43 ashby-application-form-question-title\" for=\"ffaf6121-a82b-4cce-9892-2987bb67234c\">Are you currently located in Boston area or willing to relocate on your own?</label><div class=\"_container_y2cw4_29 _yesno_1dgff_136\"><button class=\"_container_pjyt6_1 _option_y2cw4_33\">Yes</button><button class=\"_container_pjyt6_1 _option_y2cw4_33\">No</button><input class=\"_input_y2cw4_79\" name=\"ffaf6121-a82b-4cce-9892-2987bb67234c\" tabindex=\"-1\" type=\"checkbox\"/></div></div><div class=\"_fieldEntry_1dgff_29 ashby-application-form-field-entry\"><label class=\"_heading_elimo_53 _required_elimo_92 _label_1dgff_43 ashby-application-form-question-title\" for=\"09dd7b21-dbef-4fd5-a835-379a3906a797\">Are you willing to work onsite at our Boston office (located in Newton Centre) at least 3 days a week?</label><div class=\"_container_y2cw4_29 _yesno_1dgff_136\"><button class=\"_container_pjyt6_1 _option_y2cw4_33\">Yes</button><button class=\"_container_pjyt6_1 _option_y2cw4_33\">No</button><input class=\"_input_y2cw4_79\" name=\"09dd7b21-dbef-4fd5-a835-379a3906a797\" tabindex=\"-1\" type=\"checkbox\"/></div></div><div class=\"_fieldEntry_1dgff_29 ashby-application-form-field-entry\"><label class=\"_heading_elimo_53 _required_elimo_92 _label_1dgff_43 ashby-application-form-question-title\" for=\"b71ed548-114c-4db8-9c3b-6c1423ae71a0\">Are you able to work a normal 9-5 schedule for 40 hours per week, with occasional weekend work (monitoring study data for a couple hours on the weekend)?</label><div class=\"_container_y2cw4_29 _yesno_1dgff_136\"><button class=\"_container_pjyt6_1 _option_y2cw4_33\">Yes</button><button class=\"_container_pjyt6_1 _option_y2cw4_33\">No</button><input class=\"_input_y2cw4_79\" name=\"b71ed548-114c-4db8-9c3b-6c1423ae71a0\" tabindex=\"-1\" type=\"checkbox\"/></div></div><div class=\"_fieldEntry_1dgff_29 ashby-application-form-field-entry\"><label class=\"_heading_elimo_53 _required_elimo_92 _label_1dgff_43 ashby-application-form-question-title\" for=\"b10af23c-d987-45de-a5f3-c2a453b5896a\">Are you available from January 2nd - June 30th 2024 for 40 hours per week?</label><div class=\"_container_y2cw4_29 _yesno_1dgff_136\"><button class=\"_container_pjyt6_1 _option_y2cw4_33\">Yes</button><button class=\"_container_pjyt6_1 _option_y2cw4_33\">No</button><input class=\"_input_y2cw4_79\" name=\"b10af23c-d987-45de-a5f3-c2a453b5896a\" tabindex=\"-1\" type=\"checkbox\"/></div></div><div class=\"_fieldEntry_1dgff_29 ashby-application-form-field-entry\"><label class=\"_heading_elimo_53 _required_elimo_92 _label_1dgff_43 ashby-application-form-question-title\" for=\"24621a81-a702-46c8-a090-6468b9b7a898\">Are you aware this position is a Data Engineering co-op, not Machine Learning? The main tasks will include: 1. Manipulating, cleaning, and transforming raw data into a usable format for analysis 2. Enhancing our existing data quality scripts to ensure that data are accurate, complete, and consistent throughout the data collection period of a study 3. Developing and maintaining tools and processes to improve efficiency and consistency across projects</label><div class=\"_container_y2cw4_29 _yesno_1dgff_136\"><button class=\"_container_pjyt6_1 _option_y2cw4_33\">Yes</button><button class=\"_container_pjyt6_1 _option_y2cw4_33\">No</button><input class=\"_input_y2cw4_79\" name=\"24621a81-a702-46c8-a090-6468b9b7a898\" tabindex=\"-1\" type=\"checkbox\"/></div></div><fieldset class=\"_container_1v5e2_29 _fieldEntry_1dgff_29\"><label class=\"_heading_elimo_53 _required_elimo_92 _label_1dgff_43 ashby-application-form-question-title\" for=\"4dd9e9a0-79c2-4fe6-bd83-e482b064f2db\">How many years of python coding experience do you have?</label><div class=\"_option_1v5e2_35 false\"><span class=\"_container_ruukg_29\" data-disabled=\"false\"><span class=\"_circle_ruukg_74\"></span><input id=\"474b3d30-879f-49c5-baa1-5cd82afb57e3-labeled-radio-0\" name=\"474b3d30-879f-49c5-baa1-5cd82afb57e3\" type=\"radio\"/></span><label class=\"_label_1v5e2_43\" for=\"474b3d30-879f-49c5-baa1-5cd82afb57e3-labeled-radio-0\">Less than 1 year</label></div><div class=\"_option_1v5e2_35 false\"><span class=\"_container_ruukg_29\" data-disabled=\"false\"><span class=\"_circle_ruukg_74\"></span><input id=\"474b3d30-879f-49c5-baa1-5cd82afb57e3-labeled-radio-1\" name=\"474b3d30-879f-49c5-baa1-5cd82afb57e3\" type=\"radio\"/></span><label class=\"_label_1v5e2_43\" for=\"474b3d30-879f-49c5-baa1-5cd82afb57e3-labeled-radio-1\">1-2 years</label></div><div class=\"_option_1v5e2_35 false\"><span class=\"_container_ruukg_29\" data-disabled=\"false\"><span class=\"_circle_ruukg_74\"></span><input id=\"474b3d30-879f-49c5-baa1-5cd82afb57e3-labeled-radio-2\" name=\"474b3d30-879f-49c5-baa1-5cd82afb57e3\" type=\"radio\"/></span><label class=\"_label_1v5e2_43\" for=\"474b3d30-879f-49c5-baa1-5cd82afb57e3-labeled-radio-2\">2+ years</label></div></fieldset><div class=\"_fieldEntry_1dgff_29 ashby-application-form-field-entry\"><label class=\"_heading_elimo_53 _required_elimo_92 _label_1dgff_43 ashby-application-form-question-title\" for=\"3e7aa525-01be-4b61-99f1-c3dd7ecea150\">How many years of work experience do you have as a data engineer, data scientist, or software engineer? Feel free to include time spent working as an intern, co-op, etc.</label><textarea class=\"_input_gsl38_29 _input_1dgff_33\" id=\"3e7aa525-01be-4b61-99f1-c3dd7ecea150\" name=\"3e7aa525-01be-4b61-99f1-c3dd7ecea150\" placeholder=\"Type here...\" required=\"\" rows=\"4\"></textarea></div><fieldset class=\"_container_1v5e2_29 _fieldEntry_1dgff_29\"><label class=\"_heading_elimo_53 _required_elimo_92 _label_1dgff_43 ashby-application-form-question-title\" for=\"00ea5595-b66a-44d6-bd0d-e8e432bde76c\">How many years of experience do you have using Github in your workflow?</label><div class=\"_option_1v5e2_35 false\"><span class=\"_container_ruukg_29\" data-disabled=\"false\"><span class=\"_circle_ruukg_74\"></span><input id=\"b00c9999-6dc6-47dc-8ad8-79c783b78c4b-labeled-radio-0\" name=\"b00c9999-6dc6-47dc-8ad8-79c783b78c4b\" type=\"radio\"/></span><label class=\"_label_1v5e2_43\" for=\"b00c9999-6dc6-47dc-8ad8-79c783b78c4b-labeled-radio-0\">Less than 1 year</label></div><div class=\"_option_1v5e2_35 false\"><span class=\"_container_ruukg_29\" data-disabled=\"false\"><span class=\"_circle_ruukg_74\"></span><input id=\"b00c9999-6dc6-47dc-8ad8-79c783b78c4b-labeled-radio-1\" name=\"b00c9999-6dc6-47dc-8ad8-79c783b78c4b\" type=\"radio\"/></span><label class=\"_label_1v5e2_43\" for=\"b00c9999-6dc6-47dc-8ad8-79c783b78c4b-labeled-radio-1\">1-2 years</label></div><div class=\"_option_1v5e2_35 false\"><span class=\"_container_ruukg_29\" data-disabled=\"false\"><span class=\"_circle_ruukg_74\"></span><input id=\"b00c9999-6dc6-47dc-8ad8-79c783b78c4b-labeled-radio-2\" name=\"b00c9999-6dc6-47dc-8ad8-79c783b78c4b\" type=\"radio\"/></span><label class=\"_label_1v5e2_43\" for=\"b00c9999-6dc6-47dc-8ad8-79c783b78c4b-labeled-radio-2\">2+ years</label></div></fieldset><fieldset class=\"_container_1v5e2_29 _fieldEntry_1dgff_29\"><label class=\"_heading_elimo_53 _required_elimo_92 _label_1dgff_43 ashby-application-form-question-title\" for=\"b4c6a61c-4485-49c3-b81d-e49e5ad10c77\">What is your experience level with parsing &amp; time aligning data using pandas, numpy, pendulum, etc? (Note that you will be sent a coding challenge that will further test these skills)</label><div class=\"_option_1v5e2_35 false\"><span class=\"_container_ruukg_29\" data-disabled=\"false\"><span class=\"_circle_ruukg_74\"></span><input id=\"b41de1e2-b423-4612-b520-44738779a3ff-labeled-radio-0\" name=\"b41de1e2-b423-4612-b520-44738779a3ff\" type=\"radio\"/></span><label class=\"_label_1v5e2_43\" for=\"b41de1e2-b423-4612-b520-44738779a3ff-labeled-radio-0\">Beginner: I've worked with small datasets from a single source (&lt;100 rows, no time alignment required)</label></div><div class=\"_option_1v5e2_35 false\"><span class=\"_container_ruukg_29\" data-disabled=\"false\"><span class=\"_circle_ruukg_74\"></span><input id=\"b41de1e2-b423-4612-b520-44738779a3ff-labeled-radio-1\" name=\"b41de1e2-b423-4612-b520-44738779a3ff\" type=\"radio\"/></span><label class=\"_label_1v5e2_43\" for=\"b41de1e2-b423-4612-b520-44738779a3ff-labeled-radio-1\">Intermediate: I've worked with aligning moderately-sized datasets with data from multiple sources</label></div><div class=\"_option_1v5e2_35 false\"><span class=\"_container_ruukg_29\" data-disabled=\"false\"><span class=\"_circle_ruukg_74\"></span><input id=\"b41de1e2-b423-4612-b520-44738779a3ff-labeled-radio-2\" name=\"b41de1e2-b423-4612-b520-44738779a3ff\" type=\"radio\"/></span><label class=\"_label_1v5e2_43\" for=\"b41de1e2-b423-4612-b520-44738779a3ff-labeled-radio-2\">Advanced: I do this on a daily basis &amp; have worked with very large datasets with multiple types of file sources (i.e. json, csv, api, etc</label></div><div class=\"_option_1v5e2_35 false\"><span class=\"_container_ruukg_29\" data-disabled=\"false\"><span class=\"_circle_ruukg_74\"></span><input id=\"b41de1e2-b423-4612-b520-44738779a3ff-labeled-radio-3\" name=\"b41de1e2-b423-4612-b520-44738779a3ff\" type=\"radio\"/></span><label class=\"_label_1v5e2_43\" for=\"b41de1e2-b423-4612-b520-44738779a3ff-labeled-radio-3\">Not applicable: I do not have any experience parsing &amp; time aligning data</label></div></fieldset><fieldset class=\"_container_1v5e2_29 _fieldEntry_1dgff_29\"><label class=\"_heading_elimo_53 _required_elimo_92 _label_1dgff_43 ashby-application-form-question-title\" for=\"57183933-fa50-4aa5-bb20-6755567c26e6\">How would you rate your experience with object-oriented design in Python and your familiarity with best code practices, such as testing, documentation, and code reusability? Please use the following definitions to guide your answer:</label><div class=\"_option_1v5e2_35 false\"><span class=\"_container_ruukg_29\" data-disabled=\"false\"><span class=\"_circle_ruukg_74\"></span><input id=\"6a8158d9-de2c-4c4a-95f2-ffbf47f0f1f2-labeled-radio-0\" name=\"6a8158d9-de2c-4c4a-95f2-ffbf47f0f1f2\" type=\"radio\"/></span><label class=\"_label_1v5e2_43\" for=\"6a8158d9-de2c-4c4a-95f2-ffbf47f0f1f2-labeled-radio-0\">Beginner: I have a basic understanding of object-oriented design in Python and I am familiar with basic best code practices, such as writing comments and using meaningful variable names.</label></div><div class=\"_option_1v5e2_35 false\"><span class=\"_container_ruukg_29\" data-disabled=\"false\"><span class=\"_circle_ruukg_74\"></span><input id=\"6a8158d9-de2c-4c4a-95f2-ffbf47f0f1f2-labeled-radio-1\" name=\"6a8158d9-de2c-4c4a-95f2-ffbf47f0f1f2\" type=\"radio\"/></span><label class=\"_label_1v5e2_43\" for=\"6a8158d9-de2c-4c4a-95f2-ffbf47f0f1f2-labeled-radio-1\">Intermediate: I have a good understanding of object-oriented design in Python and I regularly use best code practices, such as writing automated tests, documenting my code, and creating reusable code modules.</label></div><div class=\"_option_1v5e2_35 false\"><span class=\"_container_ruukg_29\" data-disabled=\"false\"><span class=\"_circle_ruukg_74\"></span><input id=\"6a8158d9-de2c-4c4a-95f2-ffbf47f0f1f2-labeled-radio-2\" name=\"6a8158d9-de2c-4c4a-95f2-ffbf47f0f1f2\" type=\"radio\"/></span><label class=\"_label_1v5e2_43\" for=\"6a8158d9-de2c-4c4a-95f2-ffbf47f0f1f2-labeled-radio-2\">Advanced: I have extensive knowledge of object-oriented design in Python and I consistently implement best code practices, such as unit testing, API documentation, and modular design, in my projects.</label></div></fieldset><fieldset class=\"_container_1v5e2_29 _fieldEntry_1dgff_29\"><label class=\"_heading_elimo_53 _required_elimo_92 _label_1dgff_43 ashby-application-form-question-title\" for=\"34b4abe4-0486-4ae2-b970-e67c6251e54c\">Please rate your experience level working with SQL. (Note that you will also be further tested on your SQL skills)</label><div class=\"_option_1v5e2_35 false\"><span class=\"_container_ruukg_29\" data-disabled=\"false\"><span class=\"_circle_ruukg_74\"></span><input id=\"553c6f4d-54ae-4915-93dc-bf5f821e1375-labeled-radio-0\" name=\"553c6f4d-54ae-4915-93dc-bf5f821e1375\" type=\"radio\"/></span><label class=\"_label_1v5e2_43\" for=\"553c6f4d-54ae-4915-93dc-bf5f821e1375-labeled-radio-0\">Beginner: Have basic knowledge of SQL and can write simple queries.</label></div><div class=\"_option_1v5e2_35 false\"><span class=\"_container_ruukg_29\" data-disabled=\"false\"><span class=\"_circle_ruukg_74\"></span><input id=\"553c6f4d-54ae-4915-93dc-bf5f821e1375-labeled-radio-1\" name=\"553c6f4d-54ae-4915-93dc-bf5f821e1375\" type=\"radio\"/></span><label class=\"_label_1v5e2_43\" for=\"553c6f4d-54ae-4915-93dc-bf5f821e1375-labeled-radio-1\">Intermediate: Have a good understanding of SQL concepts and can write complex queries.</label></div><div class=\"_option_1v5e2_35 false\"><span class=\"_container_ruukg_29\" data-disabled=\"false\"><span class=\"_circle_ruukg_74\"></span><input id=\"553c6f4d-54ae-4915-93dc-bf5f821e1375-labeled-radio-2\" name=\"553c6f4d-54ae-4915-93dc-bf5f821e1375\" type=\"radio\"/></span><label class=\"_label_1v5e2_43\" for=\"553c6f4d-54ae-4915-93dc-bf5f821e1375-labeled-radio-2\">Advanced: Have extensive knowledge of SQL and can design and optimize complex databases.</label></div><div class=\"_option_1v5e2_35 false\"><span class=\"_container_ruukg_29\" data-disabled=\"false\"><span class=\"_circle_ruukg_74\"></span><input id=\"553c6f4d-54ae-4915-93dc-bf5f821e1375-labeled-radio-3\" name=\"553c6f4d-54ae-4915-93dc-bf5f821e1375\" type=\"radio\"/></span><label class=\"_label_1v5e2_43\" for=\"553c6f4d-54ae-4915-93dc-bf5f821e1375-labeled-radio-3\">Not applicable: I have not used SQL previously.</label></div></fieldset><div class=\"_fieldEntry_1dgff_29 ashby-application-form-field-entry\"><label class=\"_heading_elimo_53 _required_elimo_92 _label_1dgff_43 ashby-application-form-question-title\" for=\"461a1c51-b0ce-4d16-a812-d5ce079f6f0b\">Please describe your experience with data visualization tools.</label><textarea class=\"_input_gsl38_29 _input_1dgff_33\" id=\"461a1c51-b0ce-4d16-a812-d5ce079f6f0b\" name=\"461a1c51-b0ce-4d16-a812-d5ce079f6f0b\" placeholder=\"Type here...\" required=\"\" rows=\"4\"></textarea></div><div class=\"_fieldEntry_1dgff_29 ashby-application-form-field-entry\"><label class=\"_heading_elimo_53 _required_elimo_92 _label_1dgff_43 ashby-application-form-question-title\" for=\"1427fa04-c319-4ca9-96af-3313a32d9c98\">Can you tell me about a project you worked on using Python and how you approached the design and implementation? Please feel free to discuss any best code practices you followed during the project, such as testing, documentation, and code reusability.</label><textarea class=\"_input_gsl38_29 _input_1dgff_33\" id=\"1427fa04-c319-4ca9-96af-3313a32d9c98\" name=\"1427fa04-c319-4ca9-96af-3313a32d9c98\" placeholder=\"Type here...\" required=\"\" rows=\"4\"></textarea></div></div>\n",
      "<div class=\"_fieldEntry_1dgff_29 ashby-application-form-field-entry\"><label class=\"_heading_elimo_53 _required_elimo_92 _label_1dgff_43 ashby-application-form-question-title\" for=\"_systemfield_name\">Name</label><input class=\"_input_1xsmr_28 _input_1dgff_33\" id=\"_systemfield_name\" name=\"_systemfield_name\" placeholder=\"Type here...\" required=\"\" type=\"text\" value=\"\"/></div>\n",
      "<div class=\"_fieldEntry_1dgff_29 ashby-application-form-field-entry\"><label class=\"_heading_elimo_53 _required_elimo_92 _label_1dgff_43 ashby-application-form-question-title\" for=\"_systemfield_email\">Email</label><input class=\"_input_1xsmr_28 _input_1dgff_33\" id=\"_systemfield_email\" name=\"_systemfield_email\" placeholder=\"hello@example.com...\" required=\"\" type=\"email\" value=\"\"/></div>\n",
      "<div class=\"_fieldEntry_1dgff_29 ashby-application-form-field-entry\"><label class=\"_heading_elimo_53 _required_elimo_92 _label_1dgff_43 ashby-application-form-question-title\" for=\"_systemfield_resume\">Resume</label><div class=\"_container_izfez_71\"><input accept=\".pdf,.doc,.docx,.odt,.rtf,image/*,video/*,audio/*,application/pdf,application/msword,application/vnd.openxmlformats-officedocument.wordprocessingml.document,application/vnd.oasis.opendocument.text,application/rtf\" autocomplete=\"off\" id=\"_systemfield_resume\" required=\"\" style=\"display: none;\" tabindex=\"-1\" type=\"file\"/><div class=\"_instructions_izfez_34\"><button class=\"_button_yxgm9_29 _secondary_yxgm9_114 _button_izfez_111\"><svg fill=\"none\" height=\"1em\" viewbox=\"0 0 448 512\"><path d=\"M375 73c-26-26-68.1-26-94.1 0L89 265C45.3 308.6 45.3 379.4 89 423s114.4 43.6 158.1 0L399 271c9.4-9.4 24.6-9.4 33.9 0s9.4 24.6 0 33.9L281 457c-62.4 62.4-163.5 62.4-225.9 0S-7.4 293.4 55 231L247 39C291.7-5.7 364.2-5.7 409 39s44.7 117.2 0 161.9L225.2 384.7c-31.6 31.6-83.6 28.7-111.5-6.2c-23.8-29.8-21.5-72.8 5.5-99.8L271 127c9.4-9.4 24.6-9.4 33.9 0s9.4 24.6 0 33.9L153.2 312.7c-9.7 9.7-10.6 25.1-2 35.8c10 12.5 28.7 13.6 40 2.2L375 167c26-26 26-68.1 0-94.1z\"></path></svg><span><span>Upload File</span></span></button><p class=\"_dragInstructions_izfez_29\">or drag and drop here</p></div></div></div>\n",
      "<div class=\"_fieldEntry_1dgff_29 ashby-application-form-field-entry\"><label class=\"_heading_elimo_53 _required_elimo_92 _label_1dgff_43 ashby-application-form-question-title\" for=\"1bc0127d-4b81-4264-90da-6bfb4d39ef21\">Why do you want to join Eight Sleep?</label><textarea class=\"_input_gsl38_29 _input_1dgff_33\" id=\"1bc0127d-4b81-4264-90da-6bfb4d39ef21\" name=\"1bc0127d-4b81-4264-90da-6bfb4d39ef21\" placeholder=\"Type here...\" required=\"\" rows=\"4\"></textarea></div>\n",
      "<div class=\"_fieldEntry_1dgff_29 ashby-application-form-field-entry\"><label class=\"_heading_elimo_53 _required_elimo_92 _label_1dgff_43 ashby-application-form-question-title\" for=\"3306ccd6-4a4f-4f03-b11c-86e7bae38ad1\">Are you legally authorized to work in the United States?</label><div class=\"_container_y2cw4_29 _yesno_1dgff_136\"><button class=\"_container_pjyt6_1 _option_y2cw4_33\">Yes</button><button class=\"_container_pjyt6_1 _option_y2cw4_33\">No</button><input class=\"_input_y2cw4_79\" name=\"3306ccd6-4a4f-4f03-b11c-86e7bae38ad1\" tabindex=\"-1\" type=\"checkbox\"/></div></div>\n",
      "<fieldset class=\"_container_1v5e2_29 _fieldEntry_1dgff_29\"><label class=\"_heading_elimo_53 _required_elimo_92 _label_1dgff_43 ashby-application-form-question-title\" for=\"cefd7ab1-7698-4151-9870-e9876684992e\">What degree are you currently pursuing?</label><div class=\"_option_1v5e2_35 false\"><span class=\"_container_ruukg_29\" data-disabled=\"false\"><span class=\"_circle_ruukg_74\"></span><input id=\"41e00180-cb86-41f4-851e-77c737c2def9-labeled-radio-0\" name=\"41e00180-cb86-41f4-851e-77c737c2def9\" type=\"radio\"/></span><label class=\"_label_1v5e2_43\" for=\"41e00180-cb86-41f4-851e-77c737c2def9-labeled-radio-0\">Undergraduate degree</label></div><div class=\"_option_1v5e2_35 false\"><span class=\"_container_ruukg_29\" data-disabled=\"false\"><span class=\"_circle_ruukg_74\"></span><input id=\"41e00180-cb86-41f4-851e-77c737c2def9-labeled-radio-1\" name=\"41e00180-cb86-41f4-851e-77c737c2def9\" type=\"radio\"/></span><label class=\"_label_1v5e2_43\" for=\"41e00180-cb86-41f4-851e-77c737c2def9-labeled-radio-1\">Masters degree</label></div><div class=\"_option_1v5e2_35 false\"><span class=\"_container_ruukg_29\" data-disabled=\"false\"><span class=\"_circle_ruukg_74\"></span><input id=\"41e00180-cb86-41f4-851e-77c737c2def9-labeled-radio-2\" name=\"41e00180-cb86-41f4-851e-77c737c2def9\" type=\"radio\"/></span><label class=\"_label_1v5e2_43\" for=\"41e00180-cb86-41f4-851e-77c737c2def9-labeled-radio-2\">Other</label></div></fieldset>\n",
      "<div class=\"_fieldEntry_1dgff_29 ashby-application-form-field-entry\"><label class=\"_heading_elimo_53 _required_elimo_92 _label_1dgff_43 ashby-application-form-question-title\" for=\"ffaf6121-a82b-4cce-9892-2987bb67234c\">Are you currently located in Boston area or willing to relocate on your own?</label><div class=\"_container_y2cw4_29 _yesno_1dgff_136\"><button class=\"_container_pjyt6_1 _option_y2cw4_33\">Yes</button><button class=\"_container_pjyt6_1 _option_y2cw4_33\">No</button><input class=\"_input_y2cw4_79\" name=\"ffaf6121-a82b-4cce-9892-2987bb67234c\" tabindex=\"-1\" type=\"checkbox\"/></div></div>\n",
      "<div class=\"_fieldEntry_1dgff_29 ashby-application-form-field-entry\"><label class=\"_heading_elimo_53 _required_elimo_92 _label_1dgff_43 ashby-application-form-question-title\" for=\"09dd7b21-dbef-4fd5-a835-379a3906a797\">Are you willing to work onsite at our Boston office (located in Newton Centre) at least 3 days a week?</label><div class=\"_container_y2cw4_29 _yesno_1dgff_136\"><button class=\"_container_pjyt6_1 _option_y2cw4_33\">Yes</button><button class=\"_container_pjyt6_1 _option_y2cw4_33\">No</button><input class=\"_input_y2cw4_79\" name=\"09dd7b21-dbef-4fd5-a835-379a3906a797\" tabindex=\"-1\" type=\"checkbox\"/></div></div>\n",
      "<div class=\"_fieldEntry_1dgff_29 ashby-application-form-field-entry\"><label class=\"_heading_elimo_53 _required_elimo_92 _label_1dgff_43 ashby-application-form-question-title\" for=\"b71ed548-114c-4db8-9c3b-6c1423ae71a0\">Are you able to work a normal 9-5 schedule for 40 hours per week, with occasional weekend work (monitoring study data for a couple hours on the weekend)?</label><div class=\"_container_y2cw4_29 _yesno_1dgff_136\"><button class=\"_container_pjyt6_1 _option_y2cw4_33\">Yes</button><button class=\"_container_pjyt6_1 _option_y2cw4_33\">No</button><input class=\"_input_y2cw4_79\" name=\"b71ed548-114c-4db8-9c3b-6c1423ae71a0\" tabindex=\"-1\" type=\"checkbox\"/></div></div>\n",
      "<div class=\"_fieldEntry_1dgff_29 ashby-application-form-field-entry\"><label class=\"_heading_elimo_53 _required_elimo_92 _label_1dgff_43 ashby-application-form-question-title\" for=\"b10af23c-d987-45de-a5f3-c2a453b5896a\">Are you available from January 2nd - June 30th 2024 for 40 hours per week?</label><div class=\"_container_y2cw4_29 _yesno_1dgff_136\"><button class=\"_container_pjyt6_1 _option_y2cw4_33\">Yes</button><button class=\"_container_pjyt6_1 _option_y2cw4_33\">No</button><input class=\"_input_y2cw4_79\" name=\"b10af23c-d987-45de-a5f3-c2a453b5896a\" tabindex=\"-1\" type=\"checkbox\"/></div></div>\n",
      "<div class=\"_fieldEntry_1dgff_29 ashby-application-form-field-entry\"><label class=\"_heading_elimo_53 _required_elimo_92 _label_1dgff_43 ashby-application-form-question-title\" for=\"24621a81-a702-46c8-a090-6468b9b7a898\">Are you aware this position is a Data Engineering co-op, not Machine Learning? The main tasks will include: 1. Manipulating, cleaning, and transforming raw data into a usable format for analysis 2. Enhancing our existing data quality scripts to ensure that data are accurate, complete, and consistent throughout the data collection period of a study 3. Developing and maintaining tools and processes to improve efficiency and consistency across projects</label><div class=\"_container_y2cw4_29 _yesno_1dgff_136\"><button class=\"_container_pjyt6_1 _option_y2cw4_33\">Yes</button><button class=\"_container_pjyt6_1 _option_y2cw4_33\">No</button><input class=\"_input_y2cw4_79\" name=\"24621a81-a702-46c8-a090-6468b9b7a898\" tabindex=\"-1\" type=\"checkbox\"/></div></div>\n",
      "<fieldset class=\"_container_1v5e2_29 _fieldEntry_1dgff_29\"><label class=\"_heading_elimo_53 _required_elimo_92 _label_1dgff_43 ashby-application-form-question-title\" for=\"4dd9e9a0-79c2-4fe6-bd83-e482b064f2db\">How many years of python coding experience do you have?</label><div class=\"_option_1v5e2_35 false\"><span class=\"_container_ruukg_29\" data-disabled=\"false\"><span class=\"_circle_ruukg_74\"></span><input id=\"474b3d30-879f-49c5-baa1-5cd82afb57e3-labeled-radio-0\" name=\"474b3d30-879f-49c5-baa1-5cd82afb57e3\" type=\"radio\"/></span><label class=\"_label_1v5e2_43\" for=\"474b3d30-879f-49c5-baa1-5cd82afb57e3-labeled-radio-0\">Less than 1 year</label></div><div class=\"_option_1v5e2_35 false\"><span class=\"_container_ruukg_29\" data-disabled=\"false\"><span class=\"_circle_ruukg_74\"></span><input id=\"474b3d30-879f-49c5-baa1-5cd82afb57e3-labeled-radio-1\" name=\"474b3d30-879f-49c5-baa1-5cd82afb57e3\" type=\"radio\"/></span><label class=\"_label_1v5e2_43\" for=\"474b3d30-879f-49c5-baa1-5cd82afb57e3-labeled-radio-1\">1-2 years</label></div><div class=\"_option_1v5e2_35 false\"><span class=\"_container_ruukg_29\" data-disabled=\"false\"><span class=\"_circle_ruukg_74\"></span><input id=\"474b3d30-879f-49c5-baa1-5cd82afb57e3-labeled-radio-2\" name=\"474b3d30-879f-49c5-baa1-5cd82afb57e3\" type=\"radio\"/></span><label class=\"_label_1v5e2_43\" for=\"474b3d30-879f-49c5-baa1-5cd82afb57e3-labeled-radio-2\">2+ years</label></div></fieldset>\n",
      "<div class=\"_fieldEntry_1dgff_29 ashby-application-form-field-entry\"><label class=\"_heading_elimo_53 _required_elimo_92 _label_1dgff_43 ashby-application-form-question-title\" for=\"3e7aa525-01be-4b61-99f1-c3dd7ecea150\">How many years of work experience do you have as a data engineer, data scientist, or software engineer? Feel free to include time spent working as an intern, co-op, etc.</label><textarea class=\"_input_gsl38_29 _input_1dgff_33\" id=\"3e7aa525-01be-4b61-99f1-c3dd7ecea150\" name=\"3e7aa525-01be-4b61-99f1-c3dd7ecea150\" placeholder=\"Type here...\" required=\"\" rows=\"4\"></textarea></div>\n",
      "<fieldset class=\"_container_1v5e2_29 _fieldEntry_1dgff_29\"><label class=\"_heading_elimo_53 _required_elimo_92 _label_1dgff_43 ashby-application-form-question-title\" for=\"00ea5595-b66a-44d6-bd0d-e8e432bde76c\">How many years of experience do you have using Github in your workflow?</label><div class=\"_option_1v5e2_35 false\"><span class=\"_container_ruukg_29\" data-disabled=\"false\"><span class=\"_circle_ruukg_74\"></span><input id=\"b00c9999-6dc6-47dc-8ad8-79c783b78c4b-labeled-radio-0\" name=\"b00c9999-6dc6-47dc-8ad8-79c783b78c4b\" type=\"radio\"/></span><label class=\"_label_1v5e2_43\" for=\"b00c9999-6dc6-47dc-8ad8-79c783b78c4b-labeled-radio-0\">Less than 1 year</label></div><div class=\"_option_1v5e2_35 false\"><span class=\"_container_ruukg_29\" data-disabled=\"false\"><span class=\"_circle_ruukg_74\"></span><input id=\"b00c9999-6dc6-47dc-8ad8-79c783b78c4b-labeled-radio-1\" name=\"b00c9999-6dc6-47dc-8ad8-79c783b78c4b\" type=\"radio\"/></span><label class=\"_label_1v5e2_43\" for=\"b00c9999-6dc6-47dc-8ad8-79c783b78c4b-labeled-radio-1\">1-2 years</label></div><div class=\"_option_1v5e2_35 false\"><span class=\"_container_ruukg_29\" data-disabled=\"false\"><span class=\"_circle_ruukg_74\"></span><input id=\"b00c9999-6dc6-47dc-8ad8-79c783b78c4b-labeled-radio-2\" name=\"b00c9999-6dc6-47dc-8ad8-79c783b78c4b\" type=\"radio\"/></span><label class=\"_label_1v5e2_43\" for=\"b00c9999-6dc6-47dc-8ad8-79c783b78c4b-labeled-radio-2\">2+ years</label></div></fieldset>\n",
      "<fieldset class=\"_container_1v5e2_29 _fieldEntry_1dgff_29\"><label class=\"_heading_elimo_53 _required_elimo_92 _label_1dgff_43 ashby-application-form-question-title\" for=\"b4c6a61c-4485-49c3-b81d-e49e5ad10c77\">What is your experience level with parsing &amp; time aligning data using pandas, numpy, pendulum, etc? (Note that you will be sent a coding challenge that will further test these skills)</label><div class=\"_option_1v5e2_35 false\"><span class=\"_container_ruukg_29\" data-disabled=\"false\"><span class=\"_circle_ruukg_74\"></span><input id=\"b41de1e2-b423-4612-b520-44738779a3ff-labeled-radio-0\" name=\"b41de1e2-b423-4612-b520-44738779a3ff\" type=\"radio\"/></span><label class=\"_label_1v5e2_43\" for=\"b41de1e2-b423-4612-b520-44738779a3ff-labeled-radio-0\">Beginner: I've worked with small datasets from a single source (&lt;100 rows, no time alignment required)</label></div><div class=\"_option_1v5e2_35 false\"><span class=\"_container_ruukg_29\" data-disabled=\"false\"><span class=\"_circle_ruukg_74\"></span><input id=\"b41de1e2-b423-4612-b520-44738779a3ff-labeled-radio-1\" name=\"b41de1e2-b423-4612-b520-44738779a3ff\" type=\"radio\"/></span><label class=\"_label_1v5e2_43\" for=\"b41de1e2-b423-4612-b520-44738779a3ff-labeled-radio-1\">Intermediate: I've worked with aligning moderately-sized datasets with data from multiple sources</label></div><div class=\"_option_1v5e2_35 false\"><span class=\"_container_ruukg_29\" data-disabled=\"false\"><span class=\"_circle_ruukg_74\"></span><input id=\"b41de1e2-b423-4612-b520-44738779a3ff-labeled-radio-2\" name=\"b41de1e2-b423-4612-b520-44738779a3ff\" type=\"radio\"/></span><label class=\"_label_1v5e2_43\" for=\"b41de1e2-b423-4612-b520-44738779a3ff-labeled-radio-2\">Advanced: I do this on a daily basis &amp; have worked with very large datasets with multiple types of file sources (i.e. json, csv, api, etc</label></div><div class=\"_option_1v5e2_35 false\"><span class=\"_container_ruukg_29\" data-disabled=\"false\"><span class=\"_circle_ruukg_74\"></span><input id=\"b41de1e2-b423-4612-b520-44738779a3ff-labeled-radio-3\" name=\"b41de1e2-b423-4612-b520-44738779a3ff\" type=\"radio\"/></span><label class=\"_label_1v5e2_43\" for=\"b41de1e2-b423-4612-b520-44738779a3ff-labeled-radio-3\">Not applicable: I do not have any experience parsing &amp; time aligning data</label></div></fieldset>\n",
      "<fieldset class=\"_container_1v5e2_29 _fieldEntry_1dgff_29\"><label class=\"_heading_elimo_53 _required_elimo_92 _label_1dgff_43 ashby-application-form-question-title\" for=\"57183933-fa50-4aa5-bb20-6755567c26e6\">How would you rate your experience with object-oriented design in Python and your familiarity with best code practices, such as testing, documentation, and code reusability? Please use the following definitions to guide your answer:</label><div class=\"_option_1v5e2_35 false\"><span class=\"_container_ruukg_29\" data-disabled=\"false\"><span class=\"_circle_ruukg_74\"></span><input id=\"6a8158d9-de2c-4c4a-95f2-ffbf47f0f1f2-labeled-radio-0\" name=\"6a8158d9-de2c-4c4a-95f2-ffbf47f0f1f2\" type=\"radio\"/></span><label class=\"_label_1v5e2_43\" for=\"6a8158d9-de2c-4c4a-95f2-ffbf47f0f1f2-labeled-radio-0\">Beginner: I have a basic understanding of object-oriented design in Python and I am familiar with basic best code practices, such as writing comments and using meaningful variable names.</label></div><div class=\"_option_1v5e2_35 false\"><span class=\"_container_ruukg_29\" data-disabled=\"false\"><span class=\"_circle_ruukg_74\"></span><input id=\"6a8158d9-de2c-4c4a-95f2-ffbf47f0f1f2-labeled-radio-1\" name=\"6a8158d9-de2c-4c4a-95f2-ffbf47f0f1f2\" type=\"radio\"/></span><label class=\"_label_1v5e2_43\" for=\"6a8158d9-de2c-4c4a-95f2-ffbf47f0f1f2-labeled-radio-1\">Intermediate: I have a good understanding of object-oriented design in Python and I regularly use best code practices, such as writing automated tests, documenting my code, and creating reusable code modules.</label></div><div class=\"_option_1v5e2_35 false\"><span class=\"_container_ruukg_29\" data-disabled=\"false\"><span class=\"_circle_ruukg_74\"></span><input id=\"6a8158d9-de2c-4c4a-95f2-ffbf47f0f1f2-labeled-radio-2\" name=\"6a8158d9-de2c-4c4a-95f2-ffbf47f0f1f2\" type=\"radio\"/></span><label class=\"_label_1v5e2_43\" for=\"6a8158d9-de2c-4c4a-95f2-ffbf47f0f1f2-labeled-radio-2\">Advanced: I have extensive knowledge of object-oriented design in Python and I consistently implement best code practices, such as unit testing, API documentation, and modular design, in my projects.</label></div></fieldset>\n",
      "<fieldset class=\"_container_1v5e2_29 _fieldEntry_1dgff_29\"><label class=\"_heading_elimo_53 _required_elimo_92 _label_1dgff_43 ashby-application-form-question-title\" for=\"34b4abe4-0486-4ae2-b970-e67c6251e54c\">Please rate your experience level working with SQL. (Note that you will also be further tested on your SQL skills)</label><div class=\"_option_1v5e2_35 false\"><span class=\"_container_ruukg_29\" data-disabled=\"false\"><span class=\"_circle_ruukg_74\"></span><input id=\"553c6f4d-54ae-4915-93dc-bf5f821e1375-labeled-radio-0\" name=\"553c6f4d-54ae-4915-93dc-bf5f821e1375\" type=\"radio\"/></span><label class=\"_label_1v5e2_43\" for=\"553c6f4d-54ae-4915-93dc-bf5f821e1375-labeled-radio-0\">Beginner: Have basic knowledge of SQL and can write simple queries.</label></div><div class=\"_option_1v5e2_35 false\"><span class=\"_container_ruukg_29\" data-disabled=\"false\"><span class=\"_circle_ruukg_74\"></span><input id=\"553c6f4d-54ae-4915-93dc-bf5f821e1375-labeled-radio-1\" name=\"553c6f4d-54ae-4915-93dc-bf5f821e1375\" type=\"radio\"/></span><label class=\"_label_1v5e2_43\" for=\"553c6f4d-54ae-4915-93dc-bf5f821e1375-labeled-radio-1\">Intermediate: Have a good understanding of SQL concepts and can write complex queries.</label></div><div class=\"_option_1v5e2_35 false\"><span class=\"_container_ruukg_29\" data-disabled=\"false\"><span class=\"_circle_ruukg_74\"></span><input id=\"553c6f4d-54ae-4915-93dc-bf5f821e1375-labeled-radio-2\" name=\"553c6f4d-54ae-4915-93dc-bf5f821e1375\" type=\"radio\"/></span><label class=\"_label_1v5e2_43\" for=\"553c6f4d-54ae-4915-93dc-bf5f821e1375-labeled-radio-2\">Advanced: Have extensive knowledge of SQL and can design and optimize complex databases.</label></div><div class=\"_option_1v5e2_35 false\"><span class=\"_container_ruukg_29\" data-disabled=\"false\"><span class=\"_circle_ruukg_74\"></span><input id=\"553c6f4d-54ae-4915-93dc-bf5f821e1375-labeled-radio-3\" name=\"553c6f4d-54ae-4915-93dc-bf5f821e1375\" type=\"radio\"/></span><label class=\"_label_1v5e2_43\" for=\"553c6f4d-54ae-4915-93dc-bf5f821e1375-labeled-radio-3\">Not applicable: I have not used SQL previously.</label></div></fieldset>\n",
      "<div class=\"_fieldEntry_1dgff_29 ashby-application-form-field-entry\"><label class=\"_heading_elimo_53 _required_elimo_92 _label_1dgff_43 ashby-application-form-question-title\" for=\"461a1c51-b0ce-4d16-a812-d5ce079f6f0b\">Please describe your experience with data visualization tools.</label><textarea class=\"_input_gsl38_29 _input_1dgff_33\" id=\"461a1c51-b0ce-4d16-a812-d5ce079f6f0b\" name=\"461a1c51-b0ce-4d16-a812-d5ce079f6f0b\" placeholder=\"Type here...\" required=\"\" rows=\"4\"></textarea></div>\n",
      "<div class=\"_fieldEntry_1dgff_29 ashby-application-form-field-entry\"><label class=\"_heading_elimo_53 _required_elimo_92 _label_1dgff_43 ashby-application-form-question-title\" for=\"1427fa04-c319-4ca9-96af-3313a32d9c98\">Can you tell me about a project you worked on using Python and how you approached the design and implementation? Please feel free to discuss any best code practices you followed during the project, such as testing, documentation, and code reusability.</label><textarea class=\"_input_gsl38_29 _input_1dgff_33\" id=\"1427fa04-c319-4ca9-96af-3313a32d9c98\" name=\"1427fa04-c319-4ca9-96af-3313a32d9c98\" placeholder=\"Type here...\" required=\"\" rows=\"4\"></textarea></div>\n",
      "<button class=\"_button_yxgm9_29 _primary_yxgm9_96 _greedy_yxgm9_218 _submitButton_z1j6s_418 ashby-application-form-submit-button\"><span>Submit Application</span><svg fill=\"none\" height=\"1em\" viewbox=\"0 0 512 512\"><path d=\"M498.1 5.6c10.1 7 15.4 19.1 13.5 31.2l-64 416c-1.5 9.7-7.4 18.2-16 23s-18.9 5.4-28 1.6L284 427.7l-68.5 74.1c-8.9 9.7-22.9 12.9-35.2 8.1S160 493.2 160 480V396.4c0-4 1.5-7.8 4.2-10.7L331.8 202.8c5.8-6.3 5.6-16-.4-22s-15.7-6.4-22-.7L106 360.8 17.7 316.6C7.1 311.3 .3 300.7 0 288.9s5.9-22.8 16.1-28.7l448-256c10.7-6.1 23.9-5.5 34 1.4z\"></path></svg></button>\n",
      "<span>Submit Application</span>\n",
      "Submit Application\n",
      "<svg fill=\"none\" height=\"1em\" viewbox=\"0 0 512 512\"><path d=\"M498.1 5.6c10.1 7 15.4 19.1 13.5 31.2l-64 416c-1.5 9.7-7.4 18.2-16 23s-18.9 5.4-28 1.6L284 427.7l-68.5 74.1c-8.9 9.7-22.9 12.9-35.2 8.1S160 493.2 160 480V396.4c0-4 1.5-7.8 4.2-10.7L331.8 202.8c5.8-6.3 5.6-16-.4-22s-15.7-6.4-22-.7L106 360.8 17.7 316.6C7.1 311.3 .3 300.7 0 288.9s5.9-22.8 16.1-28.7l448-256c10.7-6.1 23.9-5.5 34 1.4z\"></path></svg>\n",
      "<path d=\"M498.1 5.6c10.1 7 15.4 19.1 13.5 31.2l-64 416c-1.5 9.7-7.4 18.2-16 23s-18.9 5.4-28 1.6L284 427.7l-68.5 74.1c-8.9 9.7-22.9 12.9-35.2 8.1S160 493.2 160 480V396.4c0-4 1.5-7.8 4.2-10.7L331.8 202.8c5.8-6.3 5.6-16-.4-22s-15.7-6.4-22-.7L106 360.8 17.7 316.6C7.1 311.3 .3 300.7 0 288.9s5.9-22.8 16.1-28.7l448-256c10.7-6.1 23.9-5.5 34 1.4z\"></path>\n"
     ]
    }
   ],
   "source": [
    "# parent.find_all('div')\n",
    "cs = []; gcs = []; ggcs = []\n",
    "c_c = 0; c_gc = 0; c_ggc = 0\n",
    "for c in iter(parent.children):\n",
    "    print(c)\n",
    "    cs.append(c); c_c += 1\n",
    "    for gc in iter(c.children):\n",
    "        print(gc)\n",
    "        gcs.append(gc); c_gc = +1\n",
    "        for ggc in iter(gc.children):\n",
    "            print(ggc)\n",
    "            ggcs.append(ggc); c_ggc += 1"
   ]
  },
  {
   "cell_type": "code",
   "execution_count": 64,
   "metadata": {},
   "outputs": [
    {
     "name": "stdout",
     "output_type": "stream",
     "text": [
      "3 1 25\n"
     ]
    }
   ],
   "source": [
    "print(c_c, c_gc, c_ggc)"
   ]
  },
  {
   "cell_type": "code",
   "execution_count": 66,
   "metadata": {},
   "outputs": [
    {
     "data": {
      "text/plain": [
       "[<input accept=\".pdf,.doc,.docx,.odt,.rtf,application/pdf,application/msword,application/vnd.openxmlformats-officedocument.wordprocessingml.document,application/vnd.oasis.opendocument.text,application/rtf\" autocomplete=\"off\" style=\"display: none;\" tabindex=\"-1\" type=\"file\"/>,\n",
       " <div class=\"_base_1vgha_31 ashby-application-form-autofill-input-base-layer\"><div class=\"_content_1vgha_36\"><div class=\"_text_1vgha_44\"><div class=\"_iconContainer_1vgha_53\"><svg class=\"_icon_1vgha_53 ashby-application-form-autofill-input-icon\" fill=\"none\" height=\"1em\" viewbox=\"0 0 576 512\"><path d=\"M234.7 42.7L197 56.8c-3 1.1-5 4-5 7.2s2 6.1 5 7.2l37.7 14.1L248.8 123c1.1 3 4 5 7.2 5s6.1-2 7.2-5l14.1-37.7L315 71.2c3-1.1 5-4 5-7.2s-2-6.1-5-7.2L277.3 42.7 263.2 5c-1.1-3-4-5-7.2-5s-6.1 2-7.2 5L234.7 42.7zM461.4 48L496 82.6 386.2 192.3l-34.6-34.6L461.4 48zM80 429.4L317.7 191.7l34.6 34.6L114.6 464 80 429.4zM427.4 14.1L46.1 395.4c-18.7 18.7-18.7 49.1 0 67.9l34.6 34.6c18.7 18.7 49.1 18.7 67.9 0L529.9 116.5c18.7-18.7 18.7-49.1 0-67.9L495.3 14.1c-18.7-18.7-49.1-18.7-67.9 0zM7.5 117.2C3 118.9 0 123.2 0 128s3 9.1 7.5 10.8L64 160l21.2 56.5c1.7 4.5 6 7.5 10.8 7.5s9.1-3 10.8-7.5L128 160l56.5-21.2c4.5-1.7 7.5-6 7.5-10.8s-3-9.1-7.5-10.8L128 96 106.8 39.5C105.1 35 100.8 32 96 32s-9.1 3-10.8 7.5L64 96 7.5 117.2zm352 256c-4.5 1.7-7.5 6-7.5 10.8s3 9.1 7.5 10.8L416 416l21.2 56.5c1.7 4.5 6 7.5 10.8 7.5s9.1-3 10.8-7.5L480 416l56.5-21.2c4.5-1.7 7.5-6 7.5-10.8s-3-9.1-7.5-10.8L480 352l-21.2-56.5c-1.7-4.5-6-7.5-10.8-7.5s-9.1 3-10.8 7.5L416 352l-56.5 21.2z\"></path></svg></div><h3 class=\"_title_1vgha_68 ashby-application-form-autofill-input-title\">Autofill from resume</h3><p class=\"_description_1vgha_80 ashby-application-form-autofill-input-description\">Upload your resume here to autofill key application fields.</p></div><div class=\"_cta_1vgha_90\"><button class=\"_button_yxgm9_29 _secondary_yxgm9_114 _ctaButton_1vgha_94\">Upload file</button></div></div></div>,\n",
       " <div class=\"_drag_1vgha_106 ashby-application-form-autofill-input-drag-layer\" data-state=\"hidden\"><svg fill=\"none\" height=\"1em\" viewbox=\"0 0 512 512\"><path d=\"M280 360c0 13.3-10.7 24-24 24s-24-10.7-24-24V81.9l-95 95c-9.4 9.4-24.6 9.4-33.9 0s-9.4-24.6 0-33.9L239 7c9.4-9.4 24.6-9.4 33.9 0L409 143c9.4 9.4 9.4 24.6 0 33.9s-24.6 9.4-33.9 0l-95-95V360zm32-8V304H448c35.3 0 64 28.7 64 64v80c0 35.3-28.7 64-64 64H64c-35.3 0-64-28.7-64-64V368c0-35.3 28.7-64 64-64H200v48H64c-8.8 0-16 7.2-16 16v80c0 8.8 7.2 16 16 16H448c8.8 0 16-7.2 16-16V368c0-8.8-7.2-16-16-16H312zm72 56a24 24 0 1 1 48 0 24 24 0 1 1 -48 0z\"></path></svg><span>Drop your resume here!</span></div>,\n",
       " <div class=\"_pending_1vgha_107 ashby-application-form-autofill-input-pending-layer\" data-state=\"hidden\"><span aria-label=\"Loading...\" class=\"_spinner_8ul1h_9 _spinner-size-md_8ul1h_26 _spinner-speed-normal_8ul1h_42\" role=\"progressbar\"></span><span>Parsing your resume. Autofilling key fields...</span></div>,\n",
       " <div class=\"_fieldEntry_1dgff_29 ashby-application-form-field-entry\"><label class=\"_heading_elimo_53 _required_elimo_92 _label_1dgff_43 ashby-application-form-question-title\" for=\"_systemfield_name\">Name</label><input class=\"_input_1xsmr_28 _input_1dgff_33\" id=\"_systemfield_name\" name=\"_systemfield_name\" placeholder=\"Type here...\" required=\"\" type=\"text\" value=\"\"/></div>,\n",
       " <div class=\"_fieldEntry_1dgff_29 ashby-application-form-field-entry\"><label class=\"_heading_elimo_53 _required_elimo_92 _label_1dgff_43 ashby-application-form-question-title\" for=\"_systemfield_email\">Email</label><input class=\"_input_1xsmr_28 _input_1dgff_33\" id=\"_systemfield_email\" name=\"_systemfield_email\" placeholder=\"hello@example.com...\" required=\"\" type=\"email\" value=\"\"/></div>,\n",
       " <div class=\"_fieldEntry_1dgff_29 ashby-application-form-field-entry\"><label class=\"_heading_elimo_53 _required_elimo_92 _label_1dgff_43 ashby-application-form-question-title\" for=\"_systemfield_resume\">Resume</label><div class=\"_container_izfez_71\"><input accept=\".pdf,.doc,.docx,.odt,.rtf,image/*,video/*,audio/*,application/pdf,application/msword,application/vnd.openxmlformats-officedocument.wordprocessingml.document,application/vnd.oasis.opendocument.text,application/rtf\" autocomplete=\"off\" id=\"_systemfield_resume\" required=\"\" style=\"display: none;\" tabindex=\"-1\" type=\"file\"/><div class=\"_instructions_izfez_34\"><button class=\"_button_yxgm9_29 _secondary_yxgm9_114 _button_izfez_111\"><svg fill=\"none\" height=\"1em\" viewbox=\"0 0 448 512\"><path d=\"M375 73c-26-26-68.1-26-94.1 0L89 265C45.3 308.6 45.3 379.4 89 423s114.4 43.6 158.1 0L399 271c9.4-9.4 24.6-9.4 33.9 0s9.4 24.6 0 33.9L281 457c-62.4 62.4-163.5 62.4-225.9 0S-7.4 293.4 55 231L247 39C291.7-5.7 364.2-5.7 409 39s44.7 117.2 0 161.9L225.2 384.7c-31.6 31.6-83.6 28.7-111.5-6.2c-23.8-29.8-21.5-72.8 5.5-99.8L271 127c9.4-9.4 24.6-9.4 33.9 0s9.4 24.6 0 33.9L153.2 312.7c-9.7 9.7-10.6 25.1-2 35.8c10 12.5 28.7 13.6 40 2.2L375 167c26-26 26-68.1 0-94.1z\"></path></svg><span><span>Upload File</span></span></button><p class=\"_dragInstructions_izfez_29\">or drag and drop here</p></div></div></div>,\n",
       " <div class=\"_fieldEntry_1dgff_29 ashby-application-form-field-entry\"><label class=\"_heading_elimo_53 _required_elimo_92 _label_1dgff_43 ashby-application-form-question-title\" for=\"1bc0127d-4b81-4264-90da-6bfb4d39ef21\">Why do you want to join Eight Sleep?</label><textarea class=\"_input_gsl38_29 _input_1dgff_33\" id=\"1bc0127d-4b81-4264-90da-6bfb4d39ef21\" name=\"1bc0127d-4b81-4264-90da-6bfb4d39ef21\" placeholder=\"Type here...\" required=\"\" rows=\"4\"></textarea></div>,\n",
       " <div class=\"_fieldEntry_1dgff_29 ashby-application-form-field-entry\"><label class=\"_heading_elimo_53 _required_elimo_92 _label_1dgff_43 ashby-application-form-question-title\" for=\"3306ccd6-4a4f-4f03-b11c-86e7bae38ad1\">Are you legally authorized to work in the United States?</label><div class=\"_container_y2cw4_29 _yesno_1dgff_136\"><button class=\"_container_pjyt6_1 _option_y2cw4_33\">Yes</button><button class=\"_container_pjyt6_1 _option_y2cw4_33\">No</button><input class=\"_input_y2cw4_79\" name=\"3306ccd6-4a4f-4f03-b11c-86e7bae38ad1\" tabindex=\"-1\" type=\"checkbox\"/></div></div>,\n",
       " <fieldset class=\"_container_1v5e2_29 _fieldEntry_1dgff_29\"><label class=\"_heading_elimo_53 _required_elimo_92 _label_1dgff_43 ashby-application-form-question-title\" for=\"cefd7ab1-7698-4151-9870-e9876684992e\">What degree are you currently pursuing?</label><div class=\"_option_1v5e2_35 false\"><span class=\"_container_ruukg_29\" data-disabled=\"false\"><span class=\"_circle_ruukg_74\"></span><input id=\"41e00180-cb86-41f4-851e-77c737c2def9-labeled-radio-0\" name=\"41e00180-cb86-41f4-851e-77c737c2def9\" type=\"radio\"/></span><label class=\"_label_1v5e2_43\" for=\"41e00180-cb86-41f4-851e-77c737c2def9-labeled-radio-0\">Undergraduate degree</label></div><div class=\"_option_1v5e2_35 false\"><span class=\"_container_ruukg_29\" data-disabled=\"false\"><span class=\"_circle_ruukg_74\"></span><input id=\"41e00180-cb86-41f4-851e-77c737c2def9-labeled-radio-1\" name=\"41e00180-cb86-41f4-851e-77c737c2def9\" type=\"radio\"/></span><label class=\"_label_1v5e2_43\" for=\"41e00180-cb86-41f4-851e-77c737c2def9-labeled-radio-1\">Masters degree</label></div><div class=\"_option_1v5e2_35 false\"><span class=\"_container_ruukg_29\" data-disabled=\"false\"><span class=\"_circle_ruukg_74\"></span><input id=\"41e00180-cb86-41f4-851e-77c737c2def9-labeled-radio-2\" name=\"41e00180-cb86-41f4-851e-77c737c2def9\" type=\"radio\"/></span><label class=\"_label_1v5e2_43\" for=\"41e00180-cb86-41f4-851e-77c737c2def9-labeled-radio-2\">Other</label></div></fieldset>,\n",
       " <div class=\"_fieldEntry_1dgff_29 ashby-application-form-field-entry\"><label class=\"_heading_elimo_53 _required_elimo_92 _label_1dgff_43 ashby-application-form-question-title\" for=\"ffaf6121-a82b-4cce-9892-2987bb67234c\">Are you currently located in Boston area or willing to relocate on your own?</label><div class=\"_container_y2cw4_29 _yesno_1dgff_136\"><button class=\"_container_pjyt6_1 _option_y2cw4_33\">Yes</button><button class=\"_container_pjyt6_1 _option_y2cw4_33\">No</button><input class=\"_input_y2cw4_79\" name=\"ffaf6121-a82b-4cce-9892-2987bb67234c\" tabindex=\"-1\" type=\"checkbox\"/></div></div>,\n",
       " <div class=\"_fieldEntry_1dgff_29 ashby-application-form-field-entry\"><label class=\"_heading_elimo_53 _required_elimo_92 _label_1dgff_43 ashby-application-form-question-title\" for=\"09dd7b21-dbef-4fd5-a835-379a3906a797\">Are you willing to work onsite at our Boston office (located in Newton Centre) at least 3 days a week?</label><div class=\"_container_y2cw4_29 _yesno_1dgff_136\"><button class=\"_container_pjyt6_1 _option_y2cw4_33\">Yes</button><button class=\"_container_pjyt6_1 _option_y2cw4_33\">No</button><input class=\"_input_y2cw4_79\" name=\"09dd7b21-dbef-4fd5-a835-379a3906a797\" tabindex=\"-1\" type=\"checkbox\"/></div></div>,\n",
       " <div class=\"_fieldEntry_1dgff_29 ashby-application-form-field-entry\"><label class=\"_heading_elimo_53 _required_elimo_92 _label_1dgff_43 ashby-application-form-question-title\" for=\"b71ed548-114c-4db8-9c3b-6c1423ae71a0\">Are you able to work a normal 9-5 schedule for 40 hours per week, with occasional weekend work (monitoring study data for a couple hours on the weekend)?</label><div class=\"_container_y2cw4_29 _yesno_1dgff_136\"><button class=\"_container_pjyt6_1 _option_y2cw4_33\">Yes</button><button class=\"_container_pjyt6_1 _option_y2cw4_33\">No</button><input class=\"_input_y2cw4_79\" name=\"b71ed548-114c-4db8-9c3b-6c1423ae71a0\" tabindex=\"-1\" type=\"checkbox\"/></div></div>,\n",
       " <div class=\"_fieldEntry_1dgff_29 ashby-application-form-field-entry\"><label class=\"_heading_elimo_53 _required_elimo_92 _label_1dgff_43 ashby-application-form-question-title\" for=\"b10af23c-d987-45de-a5f3-c2a453b5896a\">Are you available from January 2nd - June 30th 2024 for 40 hours per week?</label><div class=\"_container_y2cw4_29 _yesno_1dgff_136\"><button class=\"_container_pjyt6_1 _option_y2cw4_33\">Yes</button><button class=\"_container_pjyt6_1 _option_y2cw4_33\">No</button><input class=\"_input_y2cw4_79\" name=\"b10af23c-d987-45de-a5f3-c2a453b5896a\" tabindex=\"-1\" type=\"checkbox\"/></div></div>,\n",
       " <div class=\"_fieldEntry_1dgff_29 ashby-application-form-field-entry\"><label class=\"_heading_elimo_53 _required_elimo_92 _label_1dgff_43 ashby-application-form-question-title\" for=\"24621a81-a702-46c8-a090-6468b9b7a898\">Are you aware this position is a Data Engineering co-op, not Machine Learning? The main tasks will include: 1. Manipulating, cleaning, and transforming raw data into a usable format for analysis 2. Enhancing our existing data quality scripts to ensure that data are accurate, complete, and consistent throughout the data collection period of a study 3. Developing and maintaining tools and processes to improve efficiency and consistency across projects</label><div class=\"_container_y2cw4_29 _yesno_1dgff_136\"><button class=\"_container_pjyt6_1 _option_y2cw4_33\">Yes</button><button class=\"_container_pjyt6_1 _option_y2cw4_33\">No</button><input class=\"_input_y2cw4_79\" name=\"24621a81-a702-46c8-a090-6468b9b7a898\" tabindex=\"-1\" type=\"checkbox\"/></div></div>,\n",
       " <fieldset class=\"_container_1v5e2_29 _fieldEntry_1dgff_29\"><label class=\"_heading_elimo_53 _required_elimo_92 _label_1dgff_43 ashby-application-form-question-title\" for=\"4dd9e9a0-79c2-4fe6-bd83-e482b064f2db\">How many years of python coding experience do you have?</label><div class=\"_option_1v5e2_35 false\"><span class=\"_container_ruukg_29\" data-disabled=\"false\"><span class=\"_circle_ruukg_74\"></span><input id=\"474b3d30-879f-49c5-baa1-5cd82afb57e3-labeled-radio-0\" name=\"474b3d30-879f-49c5-baa1-5cd82afb57e3\" type=\"radio\"/></span><label class=\"_label_1v5e2_43\" for=\"474b3d30-879f-49c5-baa1-5cd82afb57e3-labeled-radio-0\">Less than 1 year</label></div><div class=\"_option_1v5e2_35 false\"><span class=\"_container_ruukg_29\" data-disabled=\"false\"><span class=\"_circle_ruukg_74\"></span><input id=\"474b3d30-879f-49c5-baa1-5cd82afb57e3-labeled-radio-1\" name=\"474b3d30-879f-49c5-baa1-5cd82afb57e3\" type=\"radio\"/></span><label class=\"_label_1v5e2_43\" for=\"474b3d30-879f-49c5-baa1-5cd82afb57e3-labeled-radio-1\">1-2 years</label></div><div class=\"_option_1v5e2_35 false\"><span class=\"_container_ruukg_29\" data-disabled=\"false\"><span class=\"_circle_ruukg_74\"></span><input id=\"474b3d30-879f-49c5-baa1-5cd82afb57e3-labeled-radio-2\" name=\"474b3d30-879f-49c5-baa1-5cd82afb57e3\" type=\"radio\"/></span><label class=\"_label_1v5e2_43\" for=\"474b3d30-879f-49c5-baa1-5cd82afb57e3-labeled-radio-2\">2+ years</label></div></fieldset>,\n",
       " <div class=\"_fieldEntry_1dgff_29 ashby-application-form-field-entry\"><label class=\"_heading_elimo_53 _required_elimo_92 _label_1dgff_43 ashby-application-form-question-title\" for=\"3e7aa525-01be-4b61-99f1-c3dd7ecea150\">How many years of work experience do you have as a data engineer, data scientist, or software engineer? Feel free to include time spent working as an intern, co-op, etc.</label><textarea class=\"_input_gsl38_29 _input_1dgff_33\" id=\"3e7aa525-01be-4b61-99f1-c3dd7ecea150\" name=\"3e7aa525-01be-4b61-99f1-c3dd7ecea150\" placeholder=\"Type here...\" required=\"\" rows=\"4\"></textarea></div>,\n",
       " <fieldset class=\"_container_1v5e2_29 _fieldEntry_1dgff_29\"><label class=\"_heading_elimo_53 _required_elimo_92 _label_1dgff_43 ashby-application-form-question-title\" for=\"00ea5595-b66a-44d6-bd0d-e8e432bde76c\">How many years of experience do you have using Github in your workflow?</label><div class=\"_option_1v5e2_35 false\"><span class=\"_container_ruukg_29\" data-disabled=\"false\"><span class=\"_circle_ruukg_74\"></span><input id=\"b00c9999-6dc6-47dc-8ad8-79c783b78c4b-labeled-radio-0\" name=\"b00c9999-6dc6-47dc-8ad8-79c783b78c4b\" type=\"radio\"/></span><label class=\"_label_1v5e2_43\" for=\"b00c9999-6dc6-47dc-8ad8-79c783b78c4b-labeled-radio-0\">Less than 1 year</label></div><div class=\"_option_1v5e2_35 false\"><span class=\"_container_ruukg_29\" data-disabled=\"false\"><span class=\"_circle_ruukg_74\"></span><input id=\"b00c9999-6dc6-47dc-8ad8-79c783b78c4b-labeled-radio-1\" name=\"b00c9999-6dc6-47dc-8ad8-79c783b78c4b\" type=\"radio\"/></span><label class=\"_label_1v5e2_43\" for=\"b00c9999-6dc6-47dc-8ad8-79c783b78c4b-labeled-radio-1\">1-2 years</label></div><div class=\"_option_1v5e2_35 false\"><span class=\"_container_ruukg_29\" data-disabled=\"false\"><span class=\"_circle_ruukg_74\"></span><input id=\"b00c9999-6dc6-47dc-8ad8-79c783b78c4b-labeled-radio-2\" name=\"b00c9999-6dc6-47dc-8ad8-79c783b78c4b\" type=\"radio\"/></span><label class=\"_label_1v5e2_43\" for=\"b00c9999-6dc6-47dc-8ad8-79c783b78c4b-labeled-radio-2\">2+ years</label></div></fieldset>,\n",
       " <fieldset class=\"_container_1v5e2_29 _fieldEntry_1dgff_29\"><label class=\"_heading_elimo_53 _required_elimo_92 _label_1dgff_43 ashby-application-form-question-title\" for=\"b4c6a61c-4485-49c3-b81d-e49e5ad10c77\">What is your experience level with parsing &amp; time aligning data using pandas, numpy, pendulum, etc? (Note that you will be sent a coding challenge that will further test these skills)</label><div class=\"_option_1v5e2_35 false\"><span class=\"_container_ruukg_29\" data-disabled=\"false\"><span class=\"_circle_ruukg_74\"></span><input id=\"b41de1e2-b423-4612-b520-44738779a3ff-labeled-radio-0\" name=\"b41de1e2-b423-4612-b520-44738779a3ff\" type=\"radio\"/></span><label class=\"_label_1v5e2_43\" for=\"b41de1e2-b423-4612-b520-44738779a3ff-labeled-radio-0\">Beginner: I've worked with small datasets from a single source (&lt;100 rows, no time alignment required)</label></div><div class=\"_option_1v5e2_35 false\"><span class=\"_container_ruukg_29\" data-disabled=\"false\"><span class=\"_circle_ruukg_74\"></span><input id=\"b41de1e2-b423-4612-b520-44738779a3ff-labeled-radio-1\" name=\"b41de1e2-b423-4612-b520-44738779a3ff\" type=\"radio\"/></span><label class=\"_label_1v5e2_43\" for=\"b41de1e2-b423-4612-b520-44738779a3ff-labeled-radio-1\">Intermediate: I've worked with aligning moderately-sized datasets with data from multiple sources</label></div><div class=\"_option_1v5e2_35 false\"><span class=\"_container_ruukg_29\" data-disabled=\"false\"><span class=\"_circle_ruukg_74\"></span><input id=\"b41de1e2-b423-4612-b520-44738779a3ff-labeled-radio-2\" name=\"b41de1e2-b423-4612-b520-44738779a3ff\" type=\"radio\"/></span><label class=\"_label_1v5e2_43\" for=\"b41de1e2-b423-4612-b520-44738779a3ff-labeled-radio-2\">Advanced: I do this on a daily basis &amp; have worked with very large datasets with multiple types of file sources (i.e. json, csv, api, etc</label></div><div class=\"_option_1v5e2_35 false\"><span class=\"_container_ruukg_29\" data-disabled=\"false\"><span class=\"_circle_ruukg_74\"></span><input id=\"b41de1e2-b423-4612-b520-44738779a3ff-labeled-radio-3\" name=\"b41de1e2-b423-4612-b520-44738779a3ff\" type=\"radio\"/></span><label class=\"_label_1v5e2_43\" for=\"b41de1e2-b423-4612-b520-44738779a3ff-labeled-radio-3\">Not applicable: I do not have any experience parsing &amp; time aligning data</label></div></fieldset>,\n",
       " <fieldset class=\"_container_1v5e2_29 _fieldEntry_1dgff_29\"><label class=\"_heading_elimo_53 _required_elimo_92 _label_1dgff_43 ashby-application-form-question-title\" for=\"57183933-fa50-4aa5-bb20-6755567c26e6\">How would you rate your experience with object-oriented design in Python and your familiarity with best code practices, such as testing, documentation, and code reusability? Please use the following definitions to guide your answer:</label><div class=\"_option_1v5e2_35 false\"><span class=\"_container_ruukg_29\" data-disabled=\"false\"><span class=\"_circle_ruukg_74\"></span><input id=\"6a8158d9-de2c-4c4a-95f2-ffbf47f0f1f2-labeled-radio-0\" name=\"6a8158d9-de2c-4c4a-95f2-ffbf47f0f1f2\" type=\"radio\"/></span><label class=\"_label_1v5e2_43\" for=\"6a8158d9-de2c-4c4a-95f2-ffbf47f0f1f2-labeled-radio-0\">Beginner: I have a basic understanding of object-oriented design in Python and I am familiar with basic best code practices, such as writing comments and using meaningful variable names.</label></div><div class=\"_option_1v5e2_35 false\"><span class=\"_container_ruukg_29\" data-disabled=\"false\"><span class=\"_circle_ruukg_74\"></span><input id=\"6a8158d9-de2c-4c4a-95f2-ffbf47f0f1f2-labeled-radio-1\" name=\"6a8158d9-de2c-4c4a-95f2-ffbf47f0f1f2\" type=\"radio\"/></span><label class=\"_label_1v5e2_43\" for=\"6a8158d9-de2c-4c4a-95f2-ffbf47f0f1f2-labeled-radio-1\">Intermediate: I have a good understanding of object-oriented design in Python and I regularly use best code practices, such as writing automated tests, documenting my code, and creating reusable code modules.</label></div><div class=\"_option_1v5e2_35 false\"><span class=\"_container_ruukg_29\" data-disabled=\"false\"><span class=\"_circle_ruukg_74\"></span><input id=\"6a8158d9-de2c-4c4a-95f2-ffbf47f0f1f2-labeled-radio-2\" name=\"6a8158d9-de2c-4c4a-95f2-ffbf47f0f1f2\" type=\"radio\"/></span><label class=\"_label_1v5e2_43\" for=\"6a8158d9-de2c-4c4a-95f2-ffbf47f0f1f2-labeled-radio-2\">Advanced: I have extensive knowledge of object-oriented design in Python and I consistently implement best code practices, such as unit testing, API documentation, and modular design, in my projects.</label></div></fieldset>,\n",
       " <fieldset class=\"_container_1v5e2_29 _fieldEntry_1dgff_29\"><label class=\"_heading_elimo_53 _required_elimo_92 _label_1dgff_43 ashby-application-form-question-title\" for=\"34b4abe4-0486-4ae2-b970-e67c6251e54c\">Please rate your experience level working with SQL. (Note that you will also be further tested on your SQL skills)</label><div class=\"_option_1v5e2_35 false\"><span class=\"_container_ruukg_29\" data-disabled=\"false\"><span class=\"_circle_ruukg_74\"></span><input id=\"553c6f4d-54ae-4915-93dc-bf5f821e1375-labeled-radio-0\" name=\"553c6f4d-54ae-4915-93dc-bf5f821e1375\" type=\"radio\"/></span><label class=\"_label_1v5e2_43\" for=\"553c6f4d-54ae-4915-93dc-bf5f821e1375-labeled-radio-0\">Beginner: Have basic knowledge of SQL and can write simple queries.</label></div><div class=\"_option_1v5e2_35 false\"><span class=\"_container_ruukg_29\" data-disabled=\"false\"><span class=\"_circle_ruukg_74\"></span><input id=\"553c6f4d-54ae-4915-93dc-bf5f821e1375-labeled-radio-1\" name=\"553c6f4d-54ae-4915-93dc-bf5f821e1375\" type=\"radio\"/></span><label class=\"_label_1v5e2_43\" for=\"553c6f4d-54ae-4915-93dc-bf5f821e1375-labeled-radio-1\">Intermediate: Have a good understanding of SQL concepts and can write complex queries.</label></div><div class=\"_option_1v5e2_35 false\"><span class=\"_container_ruukg_29\" data-disabled=\"false\"><span class=\"_circle_ruukg_74\"></span><input id=\"553c6f4d-54ae-4915-93dc-bf5f821e1375-labeled-radio-2\" name=\"553c6f4d-54ae-4915-93dc-bf5f821e1375\" type=\"radio\"/></span><label class=\"_label_1v5e2_43\" for=\"553c6f4d-54ae-4915-93dc-bf5f821e1375-labeled-radio-2\">Advanced: Have extensive knowledge of SQL and can design and optimize complex databases.</label></div><div class=\"_option_1v5e2_35 false\"><span class=\"_container_ruukg_29\" data-disabled=\"false\"><span class=\"_circle_ruukg_74\"></span><input id=\"553c6f4d-54ae-4915-93dc-bf5f821e1375-labeled-radio-3\" name=\"553c6f4d-54ae-4915-93dc-bf5f821e1375\" type=\"radio\"/></span><label class=\"_label_1v5e2_43\" for=\"553c6f4d-54ae-4915-93dc-bf5f821e1375-labeled-radio-3\">Not applicable: I have not used SQL previously.</label></div></fieldset>,\n",
       " <div class=\"_fieldEntry_1dgff_29 ashby-application-form-field-entry\"><label class=\"_heading_elimo_53 _required_elimo_92 _label_1dgff_43 ashby-application-form-question-title\" for=\"461a1c51-b0ce-4d16-a812-d5ce079f6f0b\">Please describe your experience with data visualization tools.</label><textarea class=\"_input_gsl38_29 _input_1dgff_33\" id=\"461a1c51-b0ce-4d16-a812-d5ce079f6f0b\" name=\"461a1c51-b0ce-4d16-a812-d5ce079f6f0b\" placeholder=\"Type here...\" required=\"\" rows=\"4\"></textarea></div>,\n",
       " <div class=\"_fieldEntry_1dgff_29 ashby-application-form-field-entry\"><label class=\"_heading_elimo_53 _required_elimo_92 _label_1dgff_43 ashby-application-form-question-title\" for=\"1427fa04-c319-4ca9-96af-3313a32d9c98\">Can you tell me about a project you worked on using Python and how you approached the design and implementation? Please feel free to discuss any best code practices you followed during the project, such as testing, documentation, and code reusability.</label><textarea class=\"_input_gsl38_29 _input_1dgff_33\" id=\"1427fa04-c319-4ca9-96af-3313a32d9c98\" name=\"1427fa04-c319-4ca9-96af-3313a32d9c98\" placeholder=\"Type here...\" required=\"\" rows=\"4\"></textarea></div>,\n",
       " 'Submit Application',\n",
       " <path d=\"M498.1 5.6c10.1 7 15.4 19.1 13.5 31.2l-64 416c-1.5 9.7-7.4 18.2-16 23s-18.9 5.4-28 1.6L284 427.7l-68.5 74.1c-8.9 9.7-22.9 12.9-35.2 8.1S160 493.2 160 480V396.4c0-4 1.5-7.8 4.2-10.7L331.8 202.8c5.8-6.3 5.6-16-.4-22s-15.7-6.4-22-.7L106 360.8 17.7 316.6C7.1 311.3 .3 300.7 0 288.9s5.9-22.8 16.1-28.7l448-256c10.7-6.1 23.9-5.5 34 1.4z\"></path>]"
      ]
     },
     "execution_count": 66,
     "metadata": {},
     "output_type": "execute_result"
    }
   ],
   "source": [
    "ggcs"
   ]
  },
  {
   "cell_type": "code",
   "execution_count": 71,
   "metadata": {},
   "outputs": [
    {
     "name": "stdout",
     "output_type": "stream",
     "text": [
      "\n",
      "Autofill from resumeUpload your resume here to autofill key application fields.Upload file\n",
      "Drop your resume here!\n",
      "Parsing your resume. Autofilling key fields...\n",
      "Name\n",
      "Email\n",
      "ResumeUpload Fileor drag and drop here\n",
      "Why do you want to join Eight Sleep?\n",
      "Are you legally authorized to work in the United States?YesNo\n",
      "What degree are you currently pursuing?Undergraduate degreeMasters degreeOther\n",
      "Are you currently located in Boston area or willing to relocate on your own?YesNo\n",
      "Are you willing to work onsite at our Boston office (located in Newton Centre) at least 3 days a week?YesNo\n",
      "Are you able to work a normal 9-5 schedule for 40 hours per week, with occasional weekend work (monitoring study data for a couple hours on the weekend)?YesNo\n",
      "Are you available from January 2nd - June 30th 2024 for 40 hours per week?YesNo\n",
      "Are you aware this position is a Data Engineering co-op, not Machine Learning? The main tasks will include: 1. Manipulating, cleaning, and transforming raw data into a usable format for analysis 2. Enhancing our existing data quality scripts to ensure that data are accurate, complete, and consistent throughout the data collection period of a study 3. Developing and maintaining tools and processes to improve efficiency and consistency across projectsYesNo\n",
      "How many years of python coding experience do you have?Less than 1 year1-2 years2+ years\n",
      "How many years of work experience do you have as a data engineer, data scientist, or software engineer? Feel free to include time spent working as an intern, co-op, etc.\n",
      "How many years of experience do you have using Github in your workflow?Less than 1 year1-2 years2+ years\n",
      "What is your experience level with parsing & time aligning data using pandas, numpy, pendulum, etc? (Note that you will be sent a coding challenge that will further test these skills)Beginner: I've worked with small datasets from a single source (<100 rows, no time alignment required)Intermediate: I've worked with aligning moderately-sized datasets with data from multiple sourcesAdvanced: I do this on a daily basis & have worked with very large datasets with multiple types of file sources (i.e. json, csv, api, etcNot applicable: I do not have any experience parsing & time aligning data\n",
      "How would you rate your experience with object-oriented design in Python and your familiarity with best code practices, such as testing, documentation, and code reusability? Please use the following definitions to guide your answer:Beginner: I have a basic understanding of object-oriented design in Python and I am familiar with basic best code practices, such as writing comments and using meaningful variable names.Intermediate: I have a good understanding of object-oriented design in Python and I regularly use best code practices, such as writing automated tests, documenting my code, and creating reusable code modules.Advanced: I have extensive knowledge of object-oriented design in Python and I consistently implement best code practices, such as unit testing, API documentation, and modular design, in my projects.\n",
      "Please rate your experience level working with SQL. (Note that you will also be further tested on your SQL skills)Beginner: Have basic knowledge of SQL and can write simple queries.Intermediate: Have a good understanding of SQL concepts and can write complex queries.Advanced: Have extensive knowledge of SQL and can design and optimize complex databases.Not applicable: I have not used SQL previously.\n",
      "Please describe your experience with data visualization tools.\n",
      "Can you tell me about a project you worked on using Python and how you approached the design and implementation? Please feel free to discuss any best code practices you followed during the project, such as testing, documentation, and code reusability.\n",
      "Submit Application\n",
      "\n"
     ]
    }
   ],
   "source": [
    "for ggc in ggcs:\n",
    "    print(ggc.text)"
   ]
  },
  {
   "cell_type": "markdown",
   "metadata": {},
   "source": [
    "Shit ain't that simple. Need some sort of holisticism—a heuristic—in traversing into just the right level; the right depth. Using ChatGPT w/ templating as a question-unit (vs. redundant / multi-question)  classifier seems like the best approach. Also need to classify into short answer, file upload, open-ended (multiline), yes/no, selector, and tags."
   ]
  },
  {
   "cell_type": "markdown",
   "metadata": {},
   "source": [
    "Also... I think the right way to do this, in order to not lose out on crucial information in the case of complex forms where prompts are introduced at 2-3 levels of nesting, is:\n",
    "- go through all the children/grandchildren\n",
    "- recursively remove information that are present within grandgrandchildren\n",
    "- so, upper levels will have information. but only unique information. which means, information redundancy or leaking will be avoided to an extent. \n",
    "- reckon we can hardcode nesting depths w/ reasonable effectiveness. this need to be validated w/ testing. in downstream LLM-augmented classification stage, we can ask if it thinks the question (or some parts of the question) is accidentally omitted. in this case, we can go up the nesting levels until it is satisfied with the information. thanks to hierarchical deduplication earlier, information from totally unrelated questions/forms will not leak into the instantaneous question-unit (QU). if anything, it will only contain tangentially related stuff (since all the sibling-level contents have been removed already!) in addition, if it thinks that it accidentally ended up with multiple questions, we can help it go down a level to answer."
   ]
  },
  {
   "cell_type": "code",
   "execution_count": null,
   "metadata": {},
   "outputs": [],
   "source": []
  },
  {
   "cell_type": "markdown",
   "metadata": {},
   "source": [
    "쒸바 테스트를 해봐야 이게 충분한가, 안 충분한가 한번 재어볼 수가 있는데, 테스트 없이 블랙박스로 짜니까 계속 고민만 하게 되고 아무런 성과가 없네. 일단 최대한 간단한 테스트 케이스부터 작성해놓고 어떻게 더 진행할까, 말까 마지막으로 결정해보자. "
   ]
  },
  {
   "cell_type": "code",
   "execution_count": null,
   "metadata": {},
   "outputs": [],
   "source": []
  },
  {
   "cell_type": "markdown",
   "metadata": {},
   "source": [
    "---"
   ]
  },
  {
   "cell_type": "markdown",
   "metadata": {},
   "source": [
    "### Questions for ChatGPT"
   ]
  },
  {
   "cell_type": "markdown",
   "metadata": {},
   "source": [
    "Thank you! This is my current algorithm that you suggested. I would like it to traverse up not only one but multiple levels, until any of three conditions is met:\n",
    "- the target parent contains an input element that says \"submit\", \"next\", or \"continue\"\n",
    "- the target parent contains over 90% of all input elements in the page\n",
    "- the target parent contains the most inputs (compared to any other parent candidates)"
   ]
  },
  {
   "cell_type": "markdown",
   "metadata": {},
   "source": [
    "Thank you ! Here is the algorithm to find the main application div (\"target parent\")  according to the solution you suggested. There is a problem, though: the elements do not "
   ]
  },
  {
   "cell_type": "code",
   "execution_count": null,
   "metadata": {},
   "outputs": [],
   "source": [
    "\n",
    "# Loop through the immediate children and fill in the inputs\n",
    "for child in target_parent.find_all('div', recursive=False):\n",
    "    input_elem = child.find('input')\n",
    "    if input_elem:\n",
    "        input_name = input_elem.get('name', '')\n",
    "        input_type = input_elem.get('type', '')\n",
    "        \n",
    "        # Use Python's input function to get user input\n",
    "        user_input = input(f\"Enter your {input_name} ({input_type}): \")\n",
    "        \n",
    "        # Fill in the input field using Playwright\n",
    "        await page.fill(f'input[name=\"{input_name}\"]', user_input)\n",
    "\n",
    "# Do something after filling all the inputs, e.g., submit the form\n",
    "# await page.click(\"#submit-button\")\n",
    "\n",
    "# await browser.close()"
   ]
  }
 ],
 "metadata": {
  "kernelspec": {
   "display_name": "Python 3",
   "language": "python",
   "name": "python3"
  },
  "language_info": {
   "codemirror_mode": {
    "name": "ipython",
    "version": 3
   },
   "file_extension": ".py",
   "mimetype": "text/x-python",
   "name": "python",
   "nbconvert_exporter": "python",
   "pygments_lexer": "ipython3",
   "version": "3.11.5"
  },
  "orig_nbformat": 4
 },
 "nbformat": 4,
 "nbformat_minor": 2
}
